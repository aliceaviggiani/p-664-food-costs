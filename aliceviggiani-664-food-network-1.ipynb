{
 "cells": [
  {
   "cell_type": "code",
   "execution_count": 1,
   "id": "df8703be-553c-428d-b29d-4f2f267118ba",
   "metadata": {},
   "outputs": [],
   "source": [
    "# 664 food and costs\n",
    "# May 7\n",
    "# Charts with plotly\n",
    "# Network chart"
   ]
  },
  {
   "cell_type": "code",
   "execution_count": 3,
   "id": "8db26c03-aca8-4575-a20d-61ca472f710b",
   "metadata": {
    "scrolled": true
   },
   "outputs": [
    {
     "data": {
      "text/html": [
       "<div>\n",
       "<style scoped>\n",
       "    .dataframe tbody tr th:only-of-type {\n",
       "        vertical-align: middle;\n",
       "    }\n",
       "\n",
       "    .dataframe tbody tr th {\n",
       "        vertical-align: top;\n",
       "    }\n",
       "\n",
       "    .dataframe thead th {\n",
       "        text-align: right;\n",
       "    }\n",
       "</style>\n",
       "<table border=\"1\" class=\"dataframe\">\n",
       "  <thead>\n",
       "    <tr style=\"text-align: right;\">\n",
       "      <th></th>\n",
       "      <th>source</th>\n",
       "      <th>target</th>\n",
       "      <th>weight</th>\n",
       "      <th>weight_legend</th>\n",
       "      <th>protein_source</th>\n",
       "      <th>protein_target</th>\n",
       "      <th>sum_protein</th>\n",
       "    </tr>\n",
       "  </thead>\n",
       "  <tbody>\n",
       "    <tr>\n",
       "      <th>0</th>\n",
       "      <td>Almonds</td>\n",
       "      <td>Yogurt</td>\n",
       "      <td>1</td>\n",
       "      <td>Acceptable pairing or complementary nutrition</td>\n",
       "      <td>21.4</td>\n",
       "      <td>3.8</td>\n",
       "      <td>25.2</td>\n",
       "    </tr>\n",
       "    <tr>\n",
       "      <th>1</th>\n",
       "      <td>Bacon</td>\n",
       "      <td>Egg</td>\n",
       "      <td>3</td>\n",
       "      <td>Strong classic combination</td>\n",
       "      <td>40.9</td>\n",
       "      <td>12.4</td>\n",
       "      <td>53.3</td>\n",
       "    </tr>\n",
       "    <tr>\n",
       "      <th>2</th>\n",
       "      <td>Beans</td>\n",
       "      <td>Butter</td>\n",
       "      <td>3</td>\n",
       "      <td>Strong classic combination</td>\n",
       "      <td>26.8</td>\n",
       "      <td>1.0</td>\n",
       "      <td>27.8</td>\n",
       "    </tr>\n",
       "    <tr>\n",
       "      <th>3</th>\n",
       "      <td>Beans</td>\n",
       "      <td>Pork sausage</td>\n",
       "      <td>2</td>\n",
       "      <td>Good synergy or common usage</td>\n",
       "      <td>26.8</td>\n",
       "      <td>18.2</td>\n",
       "      <td>45.0</td>\n",
       "    </tr>\n",
       "    <tr>\n",
       "      <th>4</th>\n",
       "      <td>Beans</td>\n",
       "      <td>Chicken wing</td>\n",
       "      <td>1</td>\n",
       "      <td>Acceptable pairing or complementary nutrition</td>\n",
       "      <td>26.8</td>\n",
       "      <td>23.4</td>\n",
       "      <td>50.2</td>\n",
       "    </tr>\n",
       "    <tr>\n",
       "      <th>5</th>\n",
       "      <td>Beef steak</td>\n",
       "      <td>Butter</td>\n",
       "      <td>2</td>\n",
       "      <td>Good synergy or common usage</td>\n",
       "      <td>18.7</td>\n",
       "      <td>1.0</td>\n",
       "      <td>19.7</td>\n",
       "    </tr>\n",
       "    <tr>\n",
       "      <th>6</th>\n",
       "      <td>Blue cheese</td>\n",
       "      <td>Walnuts</td>\n",
       "      <td>3</td>\n",
       "      <td>Strong classic combination</td>\n",
       "      <td>21.4</td>\n",
       "      <td>14.6</td>\n",
       "      <td>36.0</td>\n",
       "    </tr>\n",
       "    <tr>\n",
       "      <th>7</th>\n",
       "      <td>Brie</td>\n",
       "      <td>Walnuts</td>\n",
       "      <td>3</td>\n",
       "      <td>Strong classic combination</td>\n",
       "      <td>20.8</td>\n",
       "      <td>14.6</td>\n",
       "      <td>35.4</td>\n",
       "    </tr>\n",
       "    <tr>\n",
       "      <th>8</th>\n",
       "      <td>Butter</td>\n",
       "      <td>Mushroom</td>\n",
       "      <td>3</td>\n",
       "      <td>Strong classic combination</td>\n",
       "      <td>1.0</td>\n",
       "      <td>2.8</td>\n",
       "      <td>3.8</td>\n",
       "    </tr>\n",
       "    <tr>\n",
       "      <th>9</th>\n",
       "      <td>Camembert</td>\n",
       "      <td>Walnuts</td>\n",
       "      <td>2</td>\n",
       "      <td>Good synergy or common usage</td>\n",
       "      <td>19.8</td>\n",
       "      <td>14.6</td>\n",
       "      <td>34.4</td>\n",
       "    </tr>\n",
       "    <tr>\n",
       "      <th>10</th>\n",
       "      <td>Cashews</td>\n",
       "      <td>Tofu</td>\n",
       "      <td>1</td>\n",
       "      <td>Acceptable pairing or complementary nutrition</td>\n",
       "      <td>17.4</td>\n",
       "      <td>17.3</td>\n",
       "      <td>34.7</td>\n",
       "    </tr>\n",
       "    <tr>\n",
       "      <th>11</th>\n",
       "      <td>Cheddar cheese</td>\n",
       "      <td>Beef burger</td>\n",
       "      <td>3</td>\n",
       "      <td>Strong classic combination</td>\n",
       "      <td>23.3</td>\n",
       "      <td>20.4</td>\n",
       "      <td>43.7</td>\n",
       "    </tr>\n",
       "    <tr>\n",
       "      <th>12</th>\n",
       "      <td>Cheddar cheese</td>\n",
       "      <td>Egg</td>\n",
       "      <td>2</td>\n",
       "      <td>Good synergy or common usage</td>\n",
       "      <td>23.3</td>\n",
       "      <td>12.4</td>\n",
       "      <td>35.7</td>\n",
       "    </tr>\n",
       "    <tr>\n",
       "      <th>13</th>\n",
       "      <td>Chia seeds</td>\n",
       "      <td>Yogurt</td>\n",
       "      <td>1</td>\n",
       "      <td>Acceptable pairing or complementary nutrition</td>\n",
       "      <td>17.0</td>\n",
       "      <td>3.8</td>\n",
       "      <td>20.8</td>\n",
       "    </tr>\n",
       "    <tr>\n",
       "      <th>14</th>\n",
       "      <td>Chicken breast</td>\n",
       "      <td>Mushroom</td>\n",
       "      <td>3</td>\n",
       "      <td>Strong classic combination</td>\n",
       "      <td>22.5</td>\n",
       "      <td>2.8</td>\n",
       "      <td>25.2</td>\n",
       "    </tr>\n",
       "    <tr>\n",
       "      <th>15</th>\n",
       "      <td>Chicken breast</td>\n",
       "      <td>Quinoa</td>\n",
       "      <td>2</td>\n",
       "      <td>Good synergy or common usage</td>\n",
       "      <td>22.5</td>\n",
       "      <td>14.1</td>\n",
       "      <td>36.6</td>\n",
       "    </tr>\n",
       "    <tr>\n",
       "      <th>16</th>\n",
       "      <td>Chicken thigh</td>\n",
       "      <td>Yogurt</td>\n",
       "      <td>3</td>\n",
       "      <td>Strong classic combination</td>\n",
       "      <td>18.6</td>\n",
       "      <td>3.8</td>\n",
       "      <td>22.4</td>\n",
       "    </tr>\n",
       "    <tr>\n",
       "      <th>17</th>\n",
       "      <td>Chicken thigh</td>\n",
       "      <td>Butter</td>\n",
       "      <td>2</td>\n",
       "      <td>Good synergy or common usage</td>\n",
       "      <td>18.6</td>\n",
       "      <td>1.0</td>\n",
       "      <td>19.6</td>\n",
       "    </tr>\n",
       "    <tr>\n",
       "      <th>18</th>\n",
       "      <td>Cod</td>\n",
       "      <td>Butter</td>\n",
       "      <td>2</td>\n",
       "      <td>Good synergy or common usage</td>\n",
       "      <td>16.1</td>\n",
       "      <td>1.0</td>\n",
       "      <td>17.1</td>\n",
       "    </tr>\n",
       "    <tr>\n",
       "      <th>19</th>\n",
       "      <td>Cottage cheese</td>\n",
       "      <td>Popcorn</td>\n",
       "      <td>3</td>\n",
       "      <td>Strong classic combination</td>\n",
       "      <td>11.6</td>\n",
       "      <td>12.9</td>\n",
       "      <td>24.5</td>\n",
       "    </tr>\n",
       "    <tr>\n",
       "      <th>20</th>\n",
       "      <td>Cottage cheese</td>\n",
       "      <td>Yogurt</td>\n",
       "      <td>2</td>\n",
       "      <td>Good synergy or common usage</td>\n",
       "      <td>11.6</td>\n",
       "      <td>3.8</td>\n",
       "      <td>15.4</td>\n",
       "    </tr>\n",
       "    <tr>\n",
       "      <th>21</th>\n",
       "      <td>Feta cheese</td>\n",
       "      <td>Kale</td>\n",
       "      <td>3</td>\n",
       "      <td>Strong classic combination</td>\n",
       "      <td>19.7</td>\n",
       "      <td>2.9</td>\n",
       "      <td>22.6</td>\n",
       "    </tr>\n",
       "    <tr>\n",
       "      <th>22</th>\n",
       "      <td>Garden peas</td>\n",
       "      <td>Butter</td>\n",
       "      <td>1</td>\n",
       "      <td>Acceptable pairing or complementary nutrition</td>\n",
       "      <td>4.7</td>\n",
       "      <td>1.0</td>\n",
       "      <td>5.7</td>\n",
       "    </tr>\n",
       "    <tr>\n",
       "      <th>23</th>\n",
       "      <td>Goat's cheese</td>\n",
       "      <td>Walnuts</td>\n",
       "      <td>2</td>\n",
       "      <td>Good synergy or common usage</td>\n",
       "      <td>21.6</td>\n",
       "      <td>14.6</td>\n",
       "      <td>36.2</td>\n",
       "    </tr>\n",
       "    <tr>\n",
       "      <th>24</th>\n",
       "      <td>Mozzarella cheese</td>\n",
       "      <td>Egg</td>\n",
       "      <td>2</td>\n",
       "      <td>Good synergy or common usage</td>\n",
       "      <td>23.7</td>\n",
       "      <td>12.4</td>\n",
       "      <td>36.1</td>\n",
       "    </tr>\n",
       "    <tr>\n",
       "      <th>25</th>\n",
       "      <td>Parmesan cheese</td>\n",
       "      <td>Butter</td>\n",
       "      <td>3</td>\n",
       "      <td>Strong classic combination</td>\n",
       "      <td>29.6</td>\n",
       "      <td>1.0</td>\n",
       "      <td>30.6</td>\n",
       "    </tr>\n",
       "    <tr>\n",
       "      <th>26</th>\n",
       "      <td>Parmesan cheese</td>\n",
       "      <td>Ricotta cheese</td>\n",
       "      <td>2</td>\n",
       "      <td>Good synergy or common usage</td>\n",
       "      <td>29.6</td>\n",
       "      <td>7.8</td>\n",
       "      <td>37.4</td>\n",
       "    </tr>\n",
       "    <tr>\n",
       "      <th>27</th>\n",
       "      <td>Parmesan cheese</td>\n",
       "      <td>Lentils</td>\n",
       "      <td>1</td>\n",
       "      <td>Acceptable pairing or complementary nutrition</td>\n",
       "      <td>29.6</td>\n",
       "      <td>23.6</td>\n",
       "      <td>53.2</td>\n",
       "    </tr>\n",
       "    <tr>\n",
       "      <th>28</th>\n",
       "      <td>Peanuts</td>\n",
       "      <td>Popcorn</td>\n",
       "      <td>3</td>\n",
       "      <td>Strong classic combination</td>\n",
       "      <td>23.2</td>\n",
       "      <td>12.9</td>\n",
       "      <td>36.1</td>\n",
       "    </tr>\n",
       "    <tr>\n",
       "      <th>29</th>\n",
       "      <td>Popcorn</td>\n",
       "      <td>Yogurt</td>\n",
       "      <td>1</td>\n",
       "      <td>Acceptable pairing or complementary nutrition</td>\n",
       "      <td>12.9</td>\n",
       "      <td>3.8</td>\n",
       "      <td>16.7</td>\n",
       "    </tr>\n",
       "    <tr>\n",
       "      <th>30</th>\n",
       "      <td>Pork chop</td>\n",
       "      <td>Mushroom</td>\n",
       "      <td>2</td>\n",
       "      <td>Good synergy or common usage</td>\n",
       "      <td>27.0</td>\n",
       "      <td>2.8</td>\n",
       "      <td>29.7</td>\n",
       "    </tr>\n",
       "    <tr>\n",
       "      <th>31</th>\n",
       "      <td>Pork sausage</td>\n",
       "      <td>Egg</td>\n",
       "      <td>3</td>\n",
       "      <td>Strong classic combination</td>\n",
       "      <td>18.2</td>\n",
       "      <td>12.4</td>\n",
       "      <td>30.6</td>\n",
       "    </tr>\n",
       "    <tr>\n",
       "      <th>32</th>\n",
       "      <td>Prawn</td>\n",
       "      <td>Butter</td>\n",
       "      <td>2</td>\n",
       "      <td>Good synergy or common usage</td>\n",
       "      <td>15.6</td>\n",
       "      <td>1.0</td>\n",
       "      <td>16.6</td>\n",
       "    </tr>\n",
       "    <tr>\n",
       "      <th>33</th>\n",
       "      <td>Pumpkin seeds</td>\n",
       "      <td>Chickpeas</td>\n",
       "      <td>1</td>\n",
       "      <td>Acceptable pairing or complementary nutrition</td>\n",
       "      <td>29.9</td>\n",
       "      <td>21.3</td>\n",
       "      <td>51.2</td>\n",
       "    </tr>\n",
       "    <tr>\n",
       "      <th>34</th>\n",
       "      <td>Pumpkin seeds</td>\n",
       "      <td>Quinoa</td>\n",
       "      <td>1</td>\n",
       "      <td>Acceptable pairing or complementary nutrition</td>\n",
       "      <td>29.9</td>\n",
       "      <td>14.1</td>\n",
       "      <td>44.0</td>\n",
       "    </tr>\n",
       "    <tr>\n",
       "      <th>35</th>\n",
       "      <td>Quinoa</td>\n",
       "      <td>Kale</td>\n",
       "      <td>1</td>\n",
       "      <td>Acceptable pairing or complementary nutrition</td>\n",
       "      <td>14.1</td>\n",
       "      <td>2.9</td>\n",
       "      <td>17.0</td>\n",
       "    </tr>\n",
       "    <tr>\n",
       "      <th>36</th>\n",
       "      <td>Salmon</td>\n",
       "      <td>Butter</td>\n",
       "      <td>3</td>\n",
       "      <td>Strong classic combination</td>\n",
       "      <td>20.3</td>\n",
       "      <td>1.0</td>\n",
       "      <td>21.3</td>\n",
       "    </tr>\n",
       "    <tr>\n",
       "      <th>37</th>\n",
       "      <td>Salmon</td>\n",
       "      <td>Quinoa</td>\n",
       "      <td>2</td>\n",
       "      <td>Good synergy or common usage</td>\n",
       "      <td>20.3</td>\n",
       "      <td>14.1</td>\n",
       "      <td>34.4</td>\n",
       "    </tr>\n",
       "    <tr>\n",
       "      <th>38</th>\n",
       "      <td>Sunflower seeds</td>\n",
       "      <td>Popcorn</td>\n",
       "      <td>1</td>\n",
       "      <td>Acceptable pairing or complementary nutrition</td>\n",
       "      <td>18.9</td>\n",
       "      <td>12.9</td>\n",
       "      <td>31.8</td>\n",
       "    </tr>\n",
       "    <tr>\n",
       "      <th>39</th>\n",
       "      <td>Tofu</td>\n",
       "      <td>Mushroom</td>\n",
       "      <td>3</td>\n",
       "      <td>Strong classic combination</td>\n",
       "      <td>17.3</td>\n",
       "      <td>2.8</td>\n",
       "      <td>20.0</td>\n",
       "    </tr>\n",
       "    <tr>\n",
       "      <th>40</th>\n",
       "      <td>Tofu</td>\n",
       "      <td>Kale</td>\n",
       "      <td>2</td>\n",
       "      <td>Good synergy or common usage</td>\n",
       "      <td>17.3</td>\n",
       "      <td>2.9</td>\n",
       "      <td>20.2</td>\n",
       "    </tr>\n",
       "    <tr>\n",
       "      <th>41</th>\n",
       "      <td>Tofu</td>\n",
       "      <td>Egg</td>\n",
       "      <td>1</td>\n",
       "      <td>Acceptable pairing or complementary nutrition</td>\n",
       "      <td>17.3</td>\n",
       "      <td>12.4</td>\n",
       "      <td>29.7</td>\n",
       "    </tr>\n",
       "  </tbody>\n",
       "</table>\n",
       "</div>"
      ],
      "text/plain": [
       "               source          target  weight  \\\n",
       "0             Almonds          Yogurt       1   \n",
       "1               Bacon             Egg       3   \n",
       "2               Beans          Butter       3   \n",
       "3               Beans    Pork sausage       2   \n",
       "4               Beans    Chicken wing       1   \n",
       "5          Beef steak          Butter       2   \n",
       "6         Blue cheese         Walnuts       3   \n",
       "7                Brie         Walnuts       3   \n",
       "8              Butter        Mushroom       3   \n",
       "9           Camembert         Walnuts       2   \n",
       "10            Cashews            Tofu       1   \n",
       "11     Cheddar cheese     Beef burger       3   \n",
       "12     Cheddar cheese             Egg       2   \n",
       "13         Chia seeds          Yogurt       1   \n",
       "14     Chicken breast        Mushroom       3   \n",
       "15     Chicken breast          Quinoa       2   \n",
       "16      Chicken thigh          Yogurt       3   \n",
       "17      Chicken thigh          Butter       2   \n",
       "18                Cod          Butter       2   \n",
       "19     Cottage cheese         Popcorn       3   \n",
       "20     Cottage cheese          Yogurt       2   \n",
       "21        Feta cheese            Kale       3   \n",
       "22        Garden peas          Butter       1   \n",
       "23      Goat's cheese         Walnuts       2   \n",
       "24  Mozzarella cheese             Egg       2   \n",
       "25    Parmesan cheese          Butter       3   \n",
       "26    Parmesan cheese  Ricotta cheese       2   \n",
       "27    Parmesan cheese         Lentils       1   \n",
       "28            Peanuts         Popcorn       3   \n",
       "29            Popcorn          Yogurt       1   \n",
       "30          Pork chop        Mushroom       2   \n",
       "31       Pork sausage             Egg       3   \n",
       "32              Prawn          Butter       2   \n",
       "33      Pumpkin seeds       Chickpeas       1   \n",
       "34      Pumpkin seeds          Quinoa       1   \n",
       "35             Quinoa            Kale       1   \n",
       "36             Salmon          Butter       3   \n",
       "37             Salmon          Quinoa       2   \n",
       "38    Sunflower seeds         Popcorn       1   \n",
       "39               Tofu        Mushroom       3   \n",
       "40               Tofu            Kale       2   \n",
       "41               Tofu             Egg       1   \n",
       "\n",
       "                                    weight_legend  protein_source  \\\n",
       "0   Acceptable pairing or complementary nutrition            21.4   \n",
       "1                      Strong classic combination            40.9   \n",
       "2                      Strong classic combination            26.8   \n",
       "3                    Good synergy or common usage            26.8   \n",
       "4   Acceptable pairing or complementary nutrition            26.8   \n",
       "5                    Good synergy or common usage            18.7   \n",
       "6                      Strong classic combination            21.4   \n",
       "7                      Strong classic combination            20.8   \n",
       "8                      Strong classic combination             1.0   \n",
       "9                    Good synergy or common usage            19.8   \n",
       "10  Acceptable pairing or complementary nutrition            17.4   \n",
       "11                     Strong classic combination            23.3   \n",
       "12                   Good synergy or common usage            23.3   \n",
       "13  Acceptable pairing or complementary nutrition            17.0   \n",
       "14                     Strong classic combination            22.5   \n",
       "15                   Good synergy or common usage            22.5   \n",
       "16                     Strong classic combination            18.6   \n",
       "17                   Good synergy or common usage            18.6   \n",
       "18                   Good synergy or common usage            16.1   \n",
       "19                     Strong classic combination            11.6   \n",
       "20                   Good synergy or common usage            11.6   \n",
       "21                     Strong classic combination            19.7   \n",
       "22  Acceptable pairing or complementary nutrition             4.7   \n",
       "23                   Good synergy or common usage            21.6   \n",
       "24                   Good synergy or common usage            23.7   \n",
       "25                     Strong classic combination            29.6   \n",
       "26                   Good synergy or common usage            29.6   \n",
       "27  Acceptable pairing or complementary nutrition            29.6   \n",
       "28                     Strong classic combination            23.2   \n",
       "29  Acceptable pairing or complementary nutrition            12.9   \n",
       "30                   Good synergy or common usage            27.0   \n",
       "31                     Strong classic combination            18.2   \n",
       "32                   Good synergy or common usage            15.6   \n",
       "33  Acceptable pairing or complementary nutrition            29.9   \n",
       "34  Acceptable pairing or complementary nutrition            29.9   \n",
       "35  Acceptable pairing or complementary nutrition            14.1   \n",
       "36                     Strong classic combination            20.3   \n",
       "37                   Good synergy or common usage            20.3   \n",
       "38  Acceptable pairing or complementary nutrition            18.9   \n",
       "39                     Strong classic combination            17.3   \n",
       "40                   Good synergy or common usage            17.3   \n",
       "41  Acceptable pairing or complementary nutrition            17.3   \n",
       "\n",
       "    protein_target  sum_protein  \n",
       "0              3.8         25.2  \n",
       "1             12.4         53.3  \n",
       "2              1.0         27.8  \n",
       "3             18.2         45.0  \n",
       "4             23.4         50.2  \n",
       "5              1.0         19.7  \n",
       "6             14.6         36.0  \n",
       "7             14.6         35.4  \n",
       "8              2.8          3.8  \n",
       "9             14.6         34.4  \n",
       "10            17.3         34.7  \n",
       "11            20.4         43.7  \n",
       "12            12.4         35.7  \n",
       "13             3.8         20.8  \n",
       "14             2.8         25.2  \n",
       "15            14.1         36.6  \n",
       "16             3.8         22.4  \n",
       "17             1.0         19.6  \n",
       "18             1.0         17.1  \n",
       "19            12.9         24.5  \n",
       "20             3.8         15.4  \n",
       "21             2.9         22.6  \n",
       "22             1.0          5.7  \n",
       "23            14.6         36.2  \n",
       "24            12.4         36.1  \n",
       "25             1.0         30.6  \n",
       "26             7.8         37.4  \n",
       "27            23.6         53.2  \n",
       "28            12.9         36.1  \n",
       "29             3.8         16.7  \n",
       "30             2.8         29.7  \n",
       "31            12.4         30.6  \n",
       "32             1.0         16.6  \n",
       "33            21.3         51.2  \n",
       "34            14.1         44.0  \n",
       "35             2.9         17.0  \n",
       "36             1.0         21.3  \n",
       "37            14.1         34.4  \n",
       "38            12.9         31.8  \n",
       "39             2.8         20.0  \n",
       "40             2.9         20.2  \n",
       "41            12.4         29.7  "
      ]
     },
     "execution_count": 3,
     "metadata": {},
     "output_type": "execute_result"
    }
   ],
   "source": [
    "import pandas as pd\n",
    "import plotly.express as px\n",
    "import plotly.graph_objects as go\n",
    "import networkx as nx\n",
    "\n",
    "#dataset previously used in Info658 to work with Gephi\n",
    "df_nodes = pd.read_csv('/Users/aliceviggiani/Dropbox/1 estudos/5 data viz/0 master/pratt/2 2025 spring/658-infovis/0 assignments/5 gephi report/0 raw/658-nutrition-emssion-nodes-7.csv')\n",
    "df_edges = pd.read_csv('/Users/aliceviggiani/Dropbox/1 estudos/5 data viz/0 master/pratt/2 2025 spring/658-infovis/0 assignments/5 gephi report/0 raw/658-nutrition-emssion-edges-9.csv')\n",
    "\n",
    "df_edges"
   ]
  },
  {
   "cell_type": "code",
   "execution_count": 5,
   "id": "e05088e2-cddf-4299-8d90-4cfadd55537e",
   "metadata": {
    "scrolled": true
   },
   "outputs": [
    {
     "data": {
      "text/html": [
       "<div>\n",
       "<style scoped>\n",
       "    .dataframe tbody tr th:only-of-type {\n",
       "        vertical-align: middle;\n",
       "    }\n",
       "\n",
       "    .dataframe tbody tr th {\n",
       "        vertical-align: top;\n",
       "    }\n",
       "\n",
       "    .dataframe thead th {\n",
       "        text-align: right;\n",
       "    }\n",
       "</style>\n",
       "<table border=\"1\" class=\"dataframe\">\n",
       "  <thead>\n",
       "    <tr style=\"text-align: right;\">\n",
       "      <th></th>\n",
       "      <th>source</th>\n",
       "      <th>target</th>\n",
       "      <th>weight</th>\n",
       "      <th>weight_legend</th>\n",
       "      <th>protein_source</th>\n",
       "      <th>protein_target</th>\n",
       "      <th>sum_protein</th>\n",
       "      <th>x_source</th>\n",
       "      <th>y_source</th>\n",
       "      <th>Category_source</th>\n",
       "      <th>x_target</th>\n",
       "      <th>y_target</th>\n",
       "      <th>Category_target</th>\n",
       "    </tr>\n",
       "  </thead>\n",
       "  <tbody>\n",
       "    <tr>\n",
       "      <th>0</th>\n",
       "      <td>Almonds</td>\n",
       "      <td>Yogurt</td>\n",
       "      <td>1</td>\n",
       "      <td>Acceptable pairing or complementary nutrition</td>\n",
       "      <td>21.4</td>\n",
       "      <td>3.8</td>\n",
       "      <td>25.2</td>\n",
       "      <td>240</td>\n",
       "      <td>-100</td>\n",
       "      <td>Plant-based</td>\n",
       "      <td>170</td>\n",
       "      <td>-290</td>\n",
       "      <td>Dairy</td>\n",
       "    </tr>\n",
       "    <tr>\n",
       "      <th>1</th>\n",
       "      <td>Bacon</td>\n",
       "      <td>Egg</td>\n",
       "      <td>3</td>\n",
       "      <td>Strong classic combination</td>\n",
       "      <td>40.9</td>\n",
       "      <td>12.4</td>\n",
       "      <td>53.3</td>\n",
       "      <td>140</td>\n",
       "      <td>-140</td>\n",
       "      <td>Animal</td>\n",
       "      <td>170</td>\n",
       "      <td>-260</td>\n",
       "      <td>Dairy</td>\n",
       "    </tr>\n",
       "    <tr>\n",
       "      <th>2</th>\n",
       "      <td>Beans</td>\n",
       "      <td>Butter</td>\n",
       "      <td>3</td>\n",
       "      <td>Strong classic combination</td>\n",
       "      <td>26.8</td>\n",
       "      <td>1.0</td>\n",
       "      <td>27.8</td>\n",
       "      <td>210</td>\n",
       "      <td>-130</td>\n",
       "      <td>Plant-based</td>\n",
       "      <td>170</td>\n",
       "      <td>-310</td>\n",
       "      <td>Dairy</td>\n",
       "    </tr>\n",
       "    <tr>\n",
       "      <th>3</th>\n",
       "      <td>Beans</td>\n",
       "      <td>Pork sausage</td>\n",
       "      <td>2</td>\n",
       "      <td>Good synergy or common usage</td>\n",
       "      <td>26.8</td>\n",
       "      <td>18.2</td>\n",
       "      <td>45.0</td>\n",
       "      <td>210</td>\n",
       "      <td>-130</td>\n",
       "      <td>Plant-based</td>\n",
       "      <td>20</td>\n",
       "      <td>-20</td>\n",
       "      <td>Animal</td>\n",
       "    </tr>\n",
       "    <tr>\n",
       "      <th>4</th>\n",
       "      <td>Beans</td>\n",
       "      <td>Chicken wing</td>\n",
       "      <td>1</td>\n",
       "      <td>Acceptable pairing or complementary nutrition</td>\n",
       "      <td>26.8</td>\n",
       "      <td>23.4</td>\n",
       "      <td>50.2</td>\n",
       "      <td>210</td>\n",
       "      <td>-130</td>\n",
       "      <td>Plant-based</td>\n",
       "      <td>110</td>\n",
       "      <td>-110</td>\n",
       "      <td>Animal</td>\n",
       "    </tr>\n",
       "    <tr>\n",
       "      <th>5</th>\n",
       "      <td>Beef steak</td>\n",
       "      <td>Butter</td>\n",
       "      <td>2</td>\n",
       "      <td>Good synergy or common usage</td>\n",
       "      <td>18.7</td>\n",
       "      <td>1.0</td>\n",
       "      <td>19.7</td>\n",
       "      <td>50</td>\n",
       "      <td>-50</td>\n",
       "      <td>Animal</td>\n",
       "      <td>170</td>\n",
       "      <td>-310</td>\n",
       "      <td>Dairy</td>\n",
       "    </tr>\n",
       "    <tr>\n",
       "      <th>6</th>\n",
       "      <td>Blue cheese</td>\n",
       "      <td>Walnuts</td>\n",
       "      <td>3</td>\n",
       "      <td>Strong classic combination</td>\n",
       "      <td>21.4</td>\n",
       "      <td>14.6</td>\n",
       "      <td>36.0</td>\n",
       "      <td>170</td>\n",
       "      <td>-220</td>\n",
       "      <td>Dairy</td>\n",
       "      <td>300</td>\n",
       "      <td>-40</td>\n",
       "      <td>Plant-based</td>\n",
       "    </tr>\n",
       "    <tr>\n",
       "      <th>7</th>\n",
       "      <td>Brie</td>\n",
       "      <td>Walnuts</td>\n",
       "      <td>3</td>\n",
       "      <td>Strong classic combination</td>\n",
       "      <td>20.8</td>\n",
       "      <td>14.6</td>\n",
       "      <td>35.4</td>\n",
       "      <td>170</td>\n",
       "      <td>-230</td>\n",
       "      <td>Dairy</td>\n",
       "      <td>300</td>\n",
       "      <td>-40</td>\n",
       "      <td>Plant-based</td>\n",
       "    </tr>\n",
       "    <tr>\n",
       "      <th>8</th>\n",
       "      <td>Butter</td>\n",
       "      <td>Mushroom</td>\n",
       "      <td>3</td>\n",
       "      <td>Strong classic combination</td>\n",
       "      <td>1.0</td>\n",
       "      <td>2.8</td>\n",
       "      <td>3.8</td>\n",
       "      <td>170</td>\n",
       "      <td>-310</td>\n",
       "      <td>Dairy</td>\n",
       "      <td>350</td>\n",
       "      <td>10</td>\n",
       "      <td>Plant-based</td>\n",
       "    </tr>\n",
       "    <tr>\n",
       "      <th>9</th>\n",
       "      <td>Camembert</td>\n",
       "      <td>Walnuts</td>\n",
       "      <td>2</td>\n",
       "      <td>Good synergy or common usage</td>\n",
       "      <td>19.8</td>\n",
       "      <td>14.6</td>\n",
       "      <td>34.4</td>\n",
       "      <td>170</td>\n",
       "      <td>-240</td>\n",
       "      <td>Dairy</td>\n",
       "      <td>300</td>\n",
       "      <td>-40</td>\n",
       "      <td>Plant-based</td>\n",
       "    </tr>\n",
       "    <tr>\n",
       "      <th>10</th>\n",
       "      <td>Cashews</td>\n",
       "      <td>Tofu</td>\n",
       "      <td>1</td>\n",
       "      <td>Acceptable pairing or complementary nutrition</td>\n",
       "      <td>17.4</td>\n",
       "      <td>17.3</td>\n",
       "      <td>34.7</td>\n",
       "      <td>270</td>\n",
       "      <td>-70</td>\n",
       "      <td>Plant-based</td>\n",
       "      <td>280</td>\n",
       "      <td>-60</td>\n",
       "      <td>Plant-based</td>\n",
       "    </tr>\n",
       "    <tr>\n",
       "      <th>11</th>\n",
       "      <td>Cheddar cheese</td>\n",
       "      <td>Beef burger</td>\n",
       "      <td>3</td>\n",
       "      <td>Strong classic combination</td>\n",
       "      <td>23.3</td>\n",
       "      <td>20.4</td>\n",
       "      <td>43.7</td>\n",
       "      <td>170</td>\n",
       "      <td>-200</td>\n",
       "      <td>Dairy</td>\n",
       "      <td>80</td>\n",
       "      <td>-80</td>\n",
       "      <td>Animal</td>\n",
       "    </tr>\n",
       "    <tr>\n",
       "      <th>12</th>\n",
       "      <td>Cheddar cheese</td>\n",
       "      <td>Egg</td>\n",
       "      <td>2</td>\n",
       "      <td>Good synergy or common usage</td>\n",
       "      <td>23.3</td>\n",
       "      <td>12.4</td>\n",
       "      <td>35.7</td>\n",
       "      <td>170</td>\n",
       "      <td>-200</td>\n",
       "      <td>Dairy</td>\n",
       "      <td>170</td>\n",
       "      <td>-260</td>\n",
       "      <td>Dairy</td>\n",
       "    </tr>\n",
       "    <tr>\n",
       "      <th>13</th>\n",
       "      <td>Chia seeds</td>\n",
       "      <td>Yogurt</td>\n",
       "      <td>1</td>\n",
       "      <td>Acceptable pairing or complementary nutrition</td>\n",
       "      <td>17.0</td>\n",
       "      <td>3.8</td>\n",
       "      <td>20.8</td>\n",
       "      <td>290</td>\n",
       "      <td>-50</td>\n",
       "      <td>Plant-based</td>\n",
       "      <td>170</td>\n",
       "      <td>-290</td>\n",
       "      <td>Dairy</td>\n",
       "    </tr>\n",
       "    <tr>\n",
       "      <th>14</th>\n",
       "      <td>Chicken breast</td>\n",
       "      <td>Mushroom</td>\n",
       "      <td>3</td>\n",
       "      <td>Strong classic combination</td>\n",
       "      <td>22.5</td>\n",
       "      <td>2.8</td>\n",
       "      <td>25.2</td>\n",
       "      <td>100</td>\n",
       "      <td>-100</td>\n",
       "      <td>Animal</td>\n",
       "      <td>350</td>\n",
       "      <td>10</td>\n",
       "      <td>Plant-based</td>\n",
       "    </tr>\n",
       "    <tr>\n",
       "      <th>15</th>\n",
       "      <td>Chicken breast</td>\n",
       "      <td>Quinoa</td>\n",
       "      <td>2</td>\n",
       "      <td>Good synergy or common usage</td>\n",
       "      <td>22.5</td>\n",
       "      <td>14.1</td>\n",
       "      <td>36.6</td>\n",
       "      <td>100</td>\n",
       "      <td>-100</td>\n",
       "      <td>Animal</td>\n",
       "      <td>310</td>\n",
       "      <td>-30</td>\n",
       "      <td>Plant-based</td>\n",
       "    </tr>\n",
       "    <tr>\n",
       "      <th>16</th>\n",
       "      <td>Chicken thigh</td>\n",
       "      <td>Yogurt</td>\n",
       "      <td>3</td>\n",
       "      <td>Strong classic combination</td>\n",
       "      <td>18.6</td>\n",
       "      <td>3.8</td>\n",
       "      <td>22.4</td>\n",
       "      <td>30</td>\n",
       "      <td>-30</td>\n",
       "      <td>Animal</td>\n",
       "      <td>170</td>\n",
       "      <td>-290</td>\n",
       "      <td>Dairy</td>\n",
       "    </tr>\n",
       "    <tr>\n",
       "      <th>17</th>\n",
       "      <td>Chicken thigh</td>\n",
       "      <td>Butter</td>\n",
       "      <td>2</td>\n",
       "      <td>Good synergy or common usage</td>\n",
       "      <td>18.6</td>\n",
       "      <td>1.0</td>\n",
       "      <td>19.6</td>\n",
       "      <td>30</td>\n",
       "      <td>-30</td>\n",
       "      <td>Animal</td>\n",
       "      <td>170</td>\n",
       "      <td>-310</td>\n",
       "      <td>Dairy</td>\n",
       "    </tr>\n",
       "    <tr>\n",
       "      <th>18</th>\n",
       "      <td>Cod</td>\n",
       "      <td>Butter</td>\n",
       "      <td>2</td>\n",
       "      <td>Good synergy or common usage</td>\n",
       "      <td>16.1</td>\n",
       "      <td>1.0</td>\n",
       "      <td>17.1</td>\n",
       "      <td>10</td>\n",
       "      <td>-10</td>\n",
       "      <td>Animal</td>\n",
       "      <td>170</td>\n",
       "      <td>-310</td>\n",
       "      <td>Dairy</td>\n",
       "    </tr>\n",
       "    <tr>\n",
       "      <th>19</th>\n",
       "      <td>Cottage cheese</td>\n",
       "      <td>Popcorn</td>\n",
       "      <td>3</td>\n",
       "      <td>Strong classic combination</td>\n",
       "      <td>11.6</td>\n",
       "      <td>12.9</td>\n",
       "      <td>24.5</td>\n",
       "      <td>170</td>\n",
       "      <td>-270</td>\n",
       "      <td>Dairy</td>\n",
       "      <td>320</td>\n",
       "      <td>-20</td>\n",
       "      <td>Plant-based</td>\n",
       "    </tr>\n",
       "    <tr>\n",
       "      <th>20</th>\n",
       "      <td>Cottage cheese</td>\n",
       "      <td>Yogurt</td>\n",
       "      <td>2</td>\n",
       "      <td>Good synergy or common usage</td>\n",
       "      <td>11.6</td>\n",
       "      <td>3.8</td>\n",
       "      <td>15.4</td>\n",
       "      <td>170</td>\n",
       "      <td>-270</td>\n",
       "      <td>Dairy</td>\n",
       "      <td>170</td>\n",
       "      <td>-290</td>\n",
       "      <td>Dairy</td>\n",
       "    </tr>\n",
       "    <tr>\n",
       "      <th>21</th>\n",
       "      <td>Feta cheese</td>\n",
       "      <td>Kale</td>\n",
       "      <td>3</td>\n",
       "      <td>Strong classic combination</td>\n",
       "      <td>19.7</td>\n",
       "      <td>2.9</td>\n",
       "      <td>22.6</td>\n",
       "      <td>170</td>\n",
       "      <td>-250</td>\n",
       "      <td>Dairy</td>\n",
       "      <td>340</td>\n",
       "      <td>0</td>\n",
       "      <td>Plant-based</td>\n",
       "    </tr>\n",
       "    <tr>\n",
       "      <th>22</th>\n",
       "      <td>Garden peas</td>\n",
       "      <td>Butter</td>\n",
       "      <td>1</td>\n",
       "      <td>Acceptable pairing or complementary nutrition</td>\n",
       "      <td>4.7</td>\n",
       "      <td>1.0</td>\n",
       "      <td>5.7</td>\n",
       "      <td>330</td>\n",
       "      <td>-10</td>\n",
       "      <td>Plant-based</td>\n",
       "      <td>170</td>\n",
       "      <td>-310</td>\n",
       "      <td>Dairy</td>\n",
       "    </tr>\n",
       "    <tr>\n",
       "      <th>23</th>\n",
       "      <td>Goat's cheese</td>\n",
       "      <td>Walnuts</td>\n",
       "      <td>2</td>\n",
       "      <td>Good synergy or common usage</td>\n",
       "      <td>21.6</td>\n",
       "      <td>14.6</td>\n",
       "      <td>36.2</td>\n",
       "      <td>170</td>\n",
       "      <td>-210</td>\n",
       "      <td>Dairy</td>\n",
       "      <td>300</td>\n",
       "      <td>-40</td>\n",
       "      <td>Plant-based</td>\n",
       "    </tr>\n",
       "    <tr>\n",
       "      <th>24</th>\n",
       "      <td>Mozzarella cheese</td>\n",
       "      <td>Egg</td>\n",
       "      <td>2</td>\n",
       "      <td>Good synergy or common usage</td>\n",
       "      <td>23.7</td>\n",
       "      <td>12.4</td>\n",
       "      <td>36.1</td>\n",
       "      <td>170</td>\n",
       "      <td>-190</td>\n",
       "      <td>Dairy</td>\n",
       "      <td>170</td>\n",
       "      <td>-260</td>\n",
       "      <td>Dairy</td>\n",
       "    </tr>\n",
       "    <tr>\n",
       "      <th>25</th>\n",
       "      <td>Parmesan cheese</td>\n",
       "      <td>Butter</td>\n",
       "      <td>3</td>\n",
       "      <td>Strong classic combination</td>\n",
       "      <td>29.6</td>\n",
       "      <td>1.0</td>\n",
       "      <td>30.6</td>\n",
       "      <td>170</td>\n",
       "      <td>-170</td>\n",
       "      <td>Dairy</td>\n",
       "      <td>170</td>\n",
       "      <td>-310</td>\n",
       "      <td>Dairy</td>\n",
       "    </tr>\n",
       "    <tr>\n",
       "      <th>26</th>\n",
       "      <td>Parmesan cheese</td>\n",
       "      <td>Ricotta cheese</td>\n",
       "      <td>2</td>\n",
       "      <td>Good synergy or common usage</td>\n",
       "      <td>29.6</td>\n",
       "      <td>7.8</td>\n",
       "      <td>37.4</td>\n",
       "      <td>170</td>\n",
       "      <td>-170</td>\n",
       "      <td>Dairy</td>\n",
       "      <td>170</td>\n",
       "      <td>-280</td>\n",
       "      <td>Dairy</td>\n",
       "    </tr>\n",
       "    <tr>\n",
       "      <th>27</th>\n",
       "      <td>Parmesan cheese</td>\n",
       "      <td>Lentils</td>\n",
       "      <td>1</td>\n",
       "      <td>Acceptable pairing or complementary nutrition</td>\n",
       "      <td>29.6</td>\n",
       "      <td>23.6</td>\n",
       "      <td>53.2</td>\n",
       "      <td>170</td>\n",
       "      <td>-170</td>\n",
       "      <td>Dairy</td>\n",
       "      <td>220</td>\n",
       "      <td>-120</td>\n",
       "      <td>Plant-based</td>\n",
       "    </tr>\n",
       "    <tr>\n",
       "      <th>28</th>\n",
       "      <td>Peanuts</td>\n",
       "      <td>Popcorn</td>\n",
       "      <td>3</td>\n",
       "      <td>Strong classic combination</td>\n",
       "      <td>23.2</td>\n",
       "      <td>12.9</td>\n",
       "      <td>36.1</td>\n",
       "      <td>230</td>\n",
       "      <td>-110</td>\n",
       "      <td>Plant-based</td>\n",
       "      <td>320</td>\n",
       "      <td>-20</td>\n",
       "      <td>Plant-based</td>\n",
       "    </tr>\n",
       "    <tr>\n",
       "      <th>29</th>\n",
       "      <td>Popcorn</td>\n",
       "      <td>Yogurt</td>\n",
       "      <td>1</td>\n",
       "      <td>Acceptable pairing or complementary nutrition</td>\n",
       "      <td>12.9</td>\n",
       "      <td>3.8</td>\n",
       "      <td>16.7</td>\n",
       "      <td>320</td>\n",
       "      <td>-20</td>\n",
       "      <td>Plant-based</td>\n",
       "      <td>170</td>\n",
       "      <td>-290</td>\n",
       "      <td>Dairy</td>\n",
       "    </tr>\n",
       "    <tr>\n",
       "      <th>30</th>\n",
       "      <td>Pork chop</td>\n",
       "      <td>Mushroom</td>\n",
       "      <td>2</td>\n",
       "      <td>Good synergy or common usage</td>\n",
       "      <td>27.0</td>\n",
       "      <td>2.8</td>\n",
       "      <td>29.7</td>\n",
       "      <td>120</td>\n",
       "      <td>-120</td>\n",
       "      <td>Animal</td>\n",
       "      <td>350</td>\n",
       "      <td>10</td>\n",
       "      <td>Plant-based</td>\n",
       "    </tr>\n",
       "    <tr>\n",
       "      <th>31</th>\n",
       "      <td>Pork sausage</td>\n",
       "      <td>Egg</td>\n",
       "      <td>3</td>\n",
       "      <td>Strong classic combination</td>\n",
       "      <td>18.2</td>\n",
       "      <td>12.4</td>\n",
       "      <td>30.6</td>\n",
       "      <td>20</td>\n",
       "      <td>-20</td>\n",
       "      <td>Animal</td>\n",
       "      <td>170</td>\n",
       "      <td>-260</td>\n",
       "      <td>Dairy</td>\n",
       "    </tr>\n",
       "    <tr>\n",
       "      <th>32</th>\n",
       "      <td>Prawn</td>\n",
       "      <td>Butter</td>\n",
       "      <td>2</td>\n",
       "      <td>Good synergy or common usage</td>\n",
       "      <td>15.6</td>\n",
       "      <td>1.0</td>\n",
       "      <td>16.6</td>\n",
       "      <td>0</td>\n",
       "      <td>0</td>\n",
       "      <td>Animal</td>\n",
       "      <td>170</td>\n",
       "      <td>-310</td>\n",
       "      <td>Dairy</td>\n",
       "    </tr>\n",
       "    <tr>\n",
       "      <th>33</th>\n",
       "      <td>Pumpkin seeds</td>\n",
       "      <td>Chickpeas</td>\n",
       "      <td>1</td>\n",
       "      <td>Acceptable pairing or complementary nutrition</td>\n",
       "      <td>29.9</td>\n",
       "      <td>21.3</td>\n",
       "      <td>51.2</td>\n",
       "      <td>200</td>\n",
       "      <td>-140</td>\n",
       "      <td>Plant-based</td>\n",
       "      <td>250</td>\n",
       "      <td>-90</td>\n",
       "      <td>Plant-based</td>\n",
       "    </tr>\n",
       "    <tr>\n",
       "      <th>34</th>\n",
       "      <td>Pumpkin seeds</td>\n",
       "      <td>Quinoa</td>\n",
       "      <td>1</td>\n",
       "      <td>Acceptable pairing or complementary nutrition</td>\n",
       "      <td>29.9</td>\n",
       "      <td>14.1</td>\n",
       "      <td>44.0</td>\n",
       "      <td>200</td>\n",
       "      <td>-140</td>\n",
       "      <td>Plant-based</td>\n",
       "      <td>310</td>\n",
       "      <td>-30</td>\n",
       "      <td>Plant-based</td>\n",
       "    </tr>\n",
       "    <tr>\n",
       "      <th>35</th>\n",
       "      <td>Quinoa</td>\n",
       "      <td>Kale</td>\n",
       "      <td>1</td>\n",
       "      <td>Acceptable pairing or complementary nutrition</td>\n",
       "      <td>14.1</td>\n",
       "      <td>2.9</td>\n",
       "      <td>17.0</td>\n",
       "      <td>310</td>\n",
       "      <td>-30</td>\n",
       "      <td>Plant-based</td>\n",
       "      <td>340</td>\n",
       "      <td>0</td>\n",
       "      <td>Plant-based</td>\n",
       "    </tr>\n",
       "    <tr>\n",
       "      <th>36</th>\n",
       "      <td>Salmon</td>\n",
       "      <td>Butter</td>\n",
       "      <td>3</td>\n",
       "      <td>Strong classic combination</td>\n",
       "      <td>20.3</td>\n",
       "      <td>1.0</td>\n",
       "      <td>21.3</td>\n",
       "      <td>70</td>\n",
       "      <td>-70</td>\n",
       "      <td>Animal</td>\n",
       "      <td>170</td>\n",
       "      <td>-310</td>\n",
       "      <td>Dairy</td>\n",
       "    </tr>\n",
       "    <tr>\n",
       "      <th>37</th>\n",
       "      <td>Salmon</td>\n",
       "      <td>Quinoa</td>\n",
       "      <td>2</td>\n",
       "      <td>Good synergy or common usage</td>\n",
       "      <td>20.3</td>\n",
       "      <td>14.1</td>\n",
       "      <td>34.4</td>\n",
       "      <td>70</td>\n",
       "      <td>-70</td>\n",
       "      <td>Animal</td>\n",
       "      <td>310</td>\n",
       "      <td>-30</td>\n",
       "      <td>Plant-based</td>\n",
       "    </tr>\n",
       "    <tr>\n",
       "      <th>38</th>\n",
       "      <td>Sunflower seeds</td>\n",
       "      <td>Popcorn</td>\n",
       "      <td>1</td>\n",
       "      <td>Acceptable pairing or complementary nutrition</td>\n",
       "      <td>18.9</td>\n",
       "      <td>12.9</td>\n",
       "      <td>31.8</td>\n",
       "      <td>260</td>\n",
       "      <td>-80</td>\n",
       "      <td>Plant-based</td>\n",
       "      <td>320</td>\n",
       "      <td>-20</td>\n",
       "      <td>Plant-based</td>\n",
       "    </tr>\n",
       "    <tr>\n",
       "      <th>39</th>\n",
       "      <td>Tofu</td>\n",
       "      <td>Mushroom</td>\n",
       "      <td>3</td>\n",
       "      <td>Strong classic combination</td>\n",
       "      <td>17.3</td>\n",
       "      <td>2.8</td>\n",
       "      <td>20.0</td>\n",
       "      <td>280</td>\n",
       "      <td>-60</td>\n",
       "      <td>Plant-based</td>\n",
       "      <td>350</td>\n",
       "      <td>10</td>\n",
       "      <td>Plant-based</td>\n",
       "    </tr>\n",
       "    <tr>\n",
       "      <th>40</th>\n",
       "      <td>Tofu</td>\n",
       "      <td>Kale</td>\n",
       "      <td>2</td>\n",
       "      <td>Good synergy or common usage</td>\n",
       "      <td>17.3</td>\n",
       "      <td>2.9</td>\n",
       "      <td>20.2</td>\n",
       "      <td>280</td>\n",
       "      <td>-60</td>\n",
       "      <td>Plant-based</td>\n",
       "      <td>340</td>\n",
       "      <td>0</td>\n",
       "      <td>Plant-based</td>\n",
       "    </tr>\n",
       "    <tr>\n",
       "      <th>41</th>\n",
       "      <td>Tofu</td>\n",
       "      <td>Egg</td>\n",
       "      <td>1</td>\n",
       "      <td>Acceptable pairing or complementary nutrition</td>\n",
       "      <td>17.3</td>\n",
       "      <td>12.4</td>\n",
       "      <td>29.7</td>\n",
       "      <td>280</td>\n",
       "      <td>-60</td>\n",
       "      <td>Plant-based</td>\n",
       "      <td>170</td>\n",
       "      <td>-260</td>\n",
       "      <td>Dairy</td>\n",
       "    </tr>\n",
       "  </tbody>\n",
       "</table>\n",
       "</div>"
      ],
      "text/plain": [
       "               source          target  weight  \\\n",
       "0             Almonds          Yogurt       1   \n",
       "1               Bacon             Egg       3   \n",
       "2               Beans          Butter       3   \n",
       "3               Beans    Pork sausage       2   \n",
       "4               Beans    Chicken wing       1   \n",
       "5          Beef steak          Butter       2   \n",
       "6         Blue cheese         Walnuts       3   \n",
       "7                Brie         Walnuts       3   \n",
       "8              Butter        Mushroom       3   \n",
       "9           Camembert         Walnuts       2   \n",
       "10            Cashews            Tofu       1   \n",
       "11     Cheddar cheese     Beef burger       3   \n",
       "12     Cheddar cheese             Egg       2   \n",
       "13         Chia seeds          Yogurt       1   \n",
       "14     Chicken breast        Mushroom       3   \n",
       "15     Chicken breast          Quinoa       2   \n",
       "16      Chicken thigh          Yogurt       3   \n",
       "17      Chicken thigh          Butter       2   \n",
       "18                Cod          Butter       2   \n",
       "19     Cottage cheese         Popcorn       3   \n",
       "20     Cottage cheese          Yogurt       2   \n",
       "21        Feta cheese            Kale       3   \n",
       "22        Garden peas          Butter       1   \n",
       "23      Goat's cheese         Walnuts       2   \n",
       "24  Mozzarella cheese             Egg       2   \n",
       "25    Parmesan cheese          Butter       3   \n",
       "26    Parmesan cheese  Ricotta cheese       2   \n",
       "27    Parmesan cheese         Lentils       1   \n",
       "28            Peanuts         Popcorn       3   \n",
       "29            Popcorn          Yogurt       1   \n",
       "30          Pork chop        Mushroom       2   \n",
       "31       Pork sausage             Egg       3   \n",
       "32              Prawn          Butter       2   \n",
       "33      Pumpkin seeds       Chickpeas       1   \n",
       "34      Pumpkin seeds          Quinoa       1   \n",
       "35             Quinoa            Kale       1   \n",
       "36             Salmon          Butter       3   \n",
       "37             Salmon          Quinoa       2   \n",
       "38    Sunflower seeds         Popcorn       1   \n",
       "39               Tofu        Mushroom       3   \n",
       "40               Tofu            Kale       2   \n",
       "41               Tofu             Egg       1   \n",
       "\n",
       "                                    weight_legend  protein_source  \\\n",
       "0   Acceptable pairing or complementary nutrition            21.4   \n",
       "1                      Strong classic combination            40.9   \n",
       "2                      Strong classic combination            26.8   \n",
       "3                    Good synergy or common usage            26.8   \n",
       "4   Acceptable pairing or complementary nutrition            26.8   \n",
       "5                    Good synergy or common usage            18.7   \n",
       "6                      Strong classic combination            21.4   \n",
       "7                      Strong classic combination            20.8   \n",
       "8                      Strong classic combination             1.0   \n",
       "9                    Good synergy or common usage            19.8   \n",
       "10  Acceptable pairing or complementary nutrition            17.4   \n",
       "11                     Strong classic combination            23.3   \n",
       "12                   Good synergy or common usage            23.3   \n",
       "13  Acceptable pairing or complementary nutrition            17.0   \n",
       "14                     Strong classic combination            22.5   \n",
       "15                   Good synergy or common usage            22.5   \n",
       "16                     Strong classic combination            18.6   \n",
       "17                   Good synergy or common usage            18.6   \n",
       "18                   Good synergy or common usage            16.1   \n",
       "19                     Strong classic combination            11.6   \n",
       "20                   Good synergy or common usage            11.6   \n",
       "21                     Strong classic combination            19.7   \n",
       "22  Acceptable pairing or complementary nutrition             4.7   \n",
       "23                   Good synergy or common usage            21.6   \n",
       "24                   Good synergy or common usage            23.7   \n",
       "25                     Strong classic combination            29.6   \n",
       "26                   Good synergy or common usage            29.6   \n",
       "27  Acceptable pairing or complementary nutrition            29.6   \n",
       "28                     Strong classic combination            23.2   \n",
       "29  Acceptable pairing or complementary nutrition            12.9   \n",
       "30                   Good synergy or common usage            27.0   \n",
       "31                     Strong classic combination            18.2   \n",
       "32                   Good synergy or common usage            15.6   \n",
       "33  Acceptable pairing or complementary nutrition            29.9   \n",
       "34  Acceptable pairing or complementary nutrition            29.9   \n",
       "35  Acceptable pairing or complementary nutrition            14.1   \n",
       "36                     Strong classic combination            20.3   \n",
       "37                   Good synergy or common usage            20.3   \n",
       "38  Acceptable pairing or complementary nutrition            18.9   \n",
       "39                     Strong classic combination            17.3   \n",
       "40                   Good synergy or common usage            17.3   \n",
       "41  Acceptable pairing or complementary nutrition            17.3   \n",
       "\n",
       "    protein_target  sum_protein  x_source  y_source Category_source  x_target  \\\n",
       "0              3.8         25.2       240      -100     Plant-based       170   \n",
       "1             12.4         53.3       140      -140          Animal       170   \n",
       "2              1.0         27.8       210      -130     Plant-based       170   \n",
       "3             18.2         45.0       210      -130     Plant-based        20   \n",
       "4             23.4         50.2       210      -130     Plant-based       110   \n",
       "5              1.0         19.7        50       -50          Animal       170   \n",
       "6             14.6         36.0       170      -220           Dairy       300   \n",
       "7             14.6         35.4       170      -230           Dairy       300   \n",
       "8              2.8          3.8       170      -310           Dairy       350   \n",
       "9             14.6         34.4       170      -240           Dairy       300   \n",
       "10            17.3         34.7       270       -70     Plant-based       280   \n",
       "11            20.4         43.7       170      -200           Dairy        80   \n",
       "12            12.4         35.7       170      -200           Dairy       170   \n",
       "13             3.8         20.8       290       -50     Plant-based       170   \n",
       "14             2.8         25.2       100      -100          Animal       350   \n",
       "15            14.1         36.6       100      -100          Animal       310   \n",
       "16             3.8         22.4        30       -30          Animal       170   \n",
       "17             1.0         19.6        30       -30          Animal       170   \n",
       "18             1.0         17.1        10       -10          Animal       170   \n",
       "19            12.9         24.5       170      -270           Dairy       320   \n",
       "20             3.8         15.4       170      -270           Dairy       170   \n",
       "21             2.9         22.6       170      -250           Dairy       340   \n",
       "22             1.0          5.7       330       -10     Plant-based       170   \n",
       "23            14.6         36.2       170      -210           Dairy       300   \n",
       "24            12.4         36.1       170      -190           Dairy       170   \n",
       "25             1.0         30.6       170      -170           Dairy       170   \n",
       "26             7.8         37.4       170      -170           Dairy       170   \n",
       "27            23.6         53.2       170      -170           Dairy       220   \n",
       "28            12.9         36.1       230      -110     Plant-based       320   \n",
       "29             3.8         16.7       320       -20     Plant-based       170   \n",
       "30             2.8         29.7       120      -120          Animal       350   \n",
       "31            12.4         30.6        20       -20          Animal       170   \n",
       "32             1.0         16.6         0         0          Animal       170   \n",
       "33            21.3         51.2       200      -140     Plant-based       250   \n",
       "34            14.1         44.0       200      -140     Plant-based       310   \n",
       "35             2.9         17.0       310       -30     Plant-based       340   \n",
       "36             1.0         21.3        70       -70          Animal       170   \n",
       "37            14.1         34.4        70       -70          Animal       310   \n",
       "38            12.9         31.8       260       -80     Plant-based       320   \n",
       "39             2.8         20.0       280       -60     Plant-based       350   \n",
       "40             2.9         20.2       280       -60     Plant-based       340   \n",
       "41            12.4         29.7       280       -60     Plant-based       170   \n",
       "\n",
       "    y_target Category_target  \n",
       "0       -290           Dairy  \n",
       "1       -260           Dairy  \n",
       "2       -310           Dairy  \n",
       "3        -20          Animal  \n",
       "4       -110          Animal  \n",
       "5       -310           Dairy  \n",
       "6        -40     Plant-based  \n",
       "7        -40     Plant-based  \n",
       "8         10     Plant-based  \n",
       "9        -40     Plant-based  \n",
       "10       -60     Plant-based  \n",
       "11       -80          Animal  \n",
       "12      -260           Dairy  \n",
       "13      -290           Dairy  \n",
       "14        10     Plant-based  \n",
       "15       -30     Plant-based  \n",
       "16      -290           Dairy  \n",
       "17      -310           Dairy  \n",
       "18      -310           Dairy  \n",
       "19       -20     Plant-based  \n",
       "20      -290           Dairy  \n",
       "21         0     Plant-based  \n",
       "22      -310           Dairy  \n",
       "23       -40     Plant-based  \n",
       "24      -260           Dairy  \n",
       "25      -310           Dairy  \n",
       "26      -280           Dairy  \n",
       "27      -120     Plant-based  \n",
       "28       -20     Plant-based  \n",
       "29      -290           Dairy  \n",
       "30        10     Plant-based  \n",
       "31      -260           Dairy  \n",
       "32      -310           Dairy  \n",
       "33       -90     Plant-based  \n",
       "34       -30     Plant-based  \n",
       "35         0     Plant-based  \n",
       "36      -310           Dairy  \n",
       "37       -30     Plant-based  \n",
       "38       -20     Plant-based  \n",
       "39        10     Plant-based  \n",
       "40         0     Plant-based  \n",
       "41      -260           Dairy  "
      ]
     },
     "execution_count": 5,
     "metadata": {},
     "output_type": "execute_result"
    }
   ],
   "source": [
    "# merging the datasets to create the edges\n",
    "\n",
    "df_nodes = df_nodes.rename(\n",
    "    columns={'x-d': 'x', 'y-d': 'y'}\n",
    ")\n",
    "\n",
    "df = df_edges.merge(\n",
    "    df_nodes[['Id', 'x', 'y', 'Category']], #category is only to create the mixed color edges\n",
    "    left_on='source', \n",
    "    right_on='Id'\n",
    ")\n",
    "\n",
    "df = df.merge(\n",
    "    df_nodes[['Id', 'x', 'y', 'Category']], \n",
    "    left_on='target', \n",
    "    right_on='Id', \n",
    "    suffixes=('_source', '_target') #to avoid columns with the same name\n",
    ")\n",
    "\n",
    "df = df.drop(['Id_source', 'Id_target'], axis=1)\n",
    "\n",
    "df"
   ]
  },
  {
   "cell_type": "code",
   "execution_count": 7,
   "id": "d89d427f-859e-4b95-b443-504e79bbe30e",
   "metadata": {
    "scrolled": true
   },
   "outputs": [
    {
     "data": {
      "text/plain": [
       "0       rgba(0, 151, 120, 0.4)\n",
       "1      rgba(127, 70, 228, 0.4)\n",
       "2       rgba(0, 151, 120, 0.4)\n",
       "3     rgba(127, 166, 139, 0.4)\n",
       "4     rgba(127, 166, 139, 0.4)\n",
       "5      rgba(127, 70, 228, 0.4)\n",
       "6       rgba(0, 151, 120, 0.4)\n",
       "7       rgba(0, 151, 120, 0.4)\n",
       "8       rgba(0, 151, 120, 0.4)\n",
       "9       rgba(0, 151, 120, 0.4)\n",
       "10        rgba(2, 230, 2, 0.4)\n",
       "11     rgba(127, 70, 228, 0.4)\n",
       "12       rgba(0, 44, 255, 0.4)\n",
       "13      rgba(0, 151, 120, 0.4)\n",
       "14    rgba(127, 166, 139, 0.4)\n",
       "15    rgba(127, 166, 139, 0.4)\n",
       "16     rgba(127, 70, 228, 0.4)\n",
       "17     rgba(127, 70, 228, 0.4)\n",
       "18     rgba(127, 70, 228, 0.4)\n",
       "19      rgba(0, 151, 120, 0.4)\n",
       "20       rgba(0, 44, 255, 0.4)\n",
       "21      rgba(0, 151, 120, 0.4)\n",
       "22      rgba(0, 151, 120, 0.4)\n",
       "23      rgba(0, 151, 120, 0.4)\n",
       "24       rgba(0, 44, 255, 0.4)\n",
       "25       rgba(0, 44, 255, 0.4)\n",
       "26       rgba(0, 44, 255, 0.4)\n",
       "27      rgba(0, 151, 120, 0.4)\n",
       "28        rgba(2, 230, 2, 0.4)\n",
       "29      rgba(0, 151, 120, 0.4)\n",
       "30    rgba(127, 166, 139, 0.4)\n",
       "31     rgba(127, 70, 228, 0.4)\n",
       "32     rgba(127, 70, 228, 0.4)\n",
       "33        rgba(2, 230, 2, 0.4)\n",
       "34        rgba(2, 230, 2, 0.4)\n",
       "35        rgba(2, 230, 2, 0.4)\n",
       "36     rgba(127, 70, 228, 0.4)\n",
       "37    rgba(127, 166, 139, 0.4)\n",
       "38        rgba(2, 230, 2, 0.4)\n",
       "39        rgba(2, 230, 2, 0.4)\n",
       "40        rgba(2, 230, 2, 0.4)\n",
       "41      rgba(0, 151, 120, 0.4)\n",
       "Name: colors_edge, dtype: object"
      ]
     },
     "execution_count": 7,
     "metadata": {},
     "output_type": "execute_result"
    }
   ],
   "source": [
    "# creating a column with the sum of categories (source and target)\n",
    "# to create the mixed color edges\n",
    "\n",
    "df['category_sum'] = df['Category_source'] + '-' + df['Category_target']\n",
    "\n",
    "# specifyng edges colors\n",
    "color_edge = {\n",
    "    'Animal-Dairy': 'rgba(127, 70, 228, 0.4)',\n",
    "    'Dairy-Animal': 'rgba(127, 70, 228, 0.4)',\n",
    "    'Animal-Plant-based': 'rgba(127, 166, 139, 0.4)',\n",
    "    'Plant-based-Animal': 'rgba(127, 166, 139, 0.4)',\n",
    "    'Animal-Animal': 'rgba(255, 0, 128, 0.4)',\n",
    "    'Dairy-Plant-based': 'rgba(0, 151, 120, 0.4)',\n",
    "    'Plant-based-Dairy': 'rgba(0, 151, 120, 0.4)',\n",
    "    'Dairy-Dairy': 'rgba(0, 44, 255, 0.4)',\n",
    "    'Plant-based-Plant-based': 'rgba(2, 230, 2, 0.4)'\n",
    "}\n",
    "\n",
    "df['colors_edge'] = df['category_sum'].map(color_edge)\n",
    "\n",
    "df['colors_edge']"
   ]
  },
  {
   "cell_type": "code",
   "execution_count": 9,
   "id": "6a5d2887-5d2b-44d6-b7da-2f1d24e1ea3d",
   "metadata": {
    "scrolled": true
   },
   "outputs": [
    {
     "data": {
      "text/plain": [
       "[Scatter({\n",
       "     'hovertemplate': ('<b></b> <br>  <b>Almonds + Yog' ... 'br><b></b> <br><extra></extra>'),\n",
       "     'marker': {'color': 'rgba(0, 151, 120, 0.4)', 'opacity': 1, 'size': 3},\n",
       "     'mode': 'markers',\n",
       "     'showlegend': False,\n",
       "     'x': [233.1502935045133],\n",
       "     'y': [-205.3711607648207]\n",
       " }),\n",
       " Scatter({\n",
       "     'hovertemplate': ('<b></b> <br>  <b>Bacon + Egg  ' ... 'br><b></b> <br><extra></extra>'),\n",
       "     'marker': {'color': 'rgba(127, 70, 228, 0.4)', 'opacity': 1, 'size': 3},\n",
       "     'mode': 'markers',\n",
       "     'showlegend': False,\n",
       "     'x': [184.10427500435995],\n",
       "     'y': [-192.72393124891002]\n",
       " }),\n",
       " Scatter({\n",
       "     'hovertemplate': ('<b></b> <br>  <b>Beans + Butte' ... 'br><b></b> <br><extra></extra>'),\n",
       "     'marker': {'color': 'rgba(0, 151, 120, 0.4)', 'opacity': 1, 'size': 3},\n",
       "     'mode': 'markers',\n",
       "     'showlegend': False,\n",
       "     'x': [219.28561180551858],\n",
       "     'y': [-226.50791373455968]\n",
       " }),\n",
       " Scatter({\n",
       "     'hovertemplate': ('<b></b> <br>  <b>Beans + Pork ' ... 'br><b></b> <br><extra></extra>'),\n",
       "     'marker': {'color': 'rgba(127, 166, 139, 0.4)', 'opacity': 1, 'size': 3},\n",
       "     'mode': 'markers',\n",
       "     'showlegend': False,\n",
       "     'x': [99.96891188374886],\n",
       "     'y': [-100.9627885644338]\n",
       " }),\n",
       " Scatter({\n",
       "     'hovertemplate': ('<b></b> <br>  <b>Beans + Chick' ... 'br><b></b> <br><extra></extra>'),\n",
       "     'marker': {'color': 'rgba(127, 166, 139, 0.4)', 'opacity': 1, 'size': 3},\n",
       "     'mode': 'markers',\n",
       "     'showlegend': False,\n",
       "     'x': [154.11651594585447],\n",
       "     'y': [-149.4174202707276]\n",
       " }),\n",
       " Scatter({\n",
       "     'hovertemplate': ('<b></b> <br>  <b>Beef steak + ' ... 'br><b></b> <br><extra></extra>'),\n",
       "     'marker': {'color': 'rgba(127, 70, 228, 0.4)', 'opacity': 1, 'size': 3},\n",
       "     'mode': 'markers',\n",
       "     'showlegend': False,\n",
       "     'x': [137.23878153501354],\n",
       "     'y': [-167.4282546761476]\n",
       " }),\n",
       " Scatter({\n",
       "     'hovertemplate': ('<b></b> <br>  <b>Blue cheese +' ... 'br><b></b> <br><extra></extra>'),\n",
       "     'marker': {'color': 'rgba(0, 151, 120, 0.4)', 'opacity': 1, 'size': 3},\n",
       "     'mode': 'markers',\n",
       "     'showlegend': False,\n",
       "     'x': [210.67962314800357],\n",
       "     'y': [-112.43528338466925]\n",
       " }),\n",
       " Scatter({\n",
       "     'hovertemplate': ('<b></b> <br>  <b>Brie + Walnut' ... 'br><b></b> <br><extra></extra>'),\n",
       "     'marker': {'color': 'rgba(0, 151, 120, 0.4)', 'opacity': 1, 'size': 3},\n",
       "     'mode': 'markers',\n",
       "     'showlegend': False,\n",
       "     'x': [210.24078216250504],\n",
       "     'y': [-118.0594825322403]\n",
       " }),\n",
       " Scatter({\n",
       "     'hovertemplate': ('<b></b> <br>  <b>Butter + Mush' ... 'br><b></b> <br><extra></extra>'),\n",
       "     'marker': {'color': 'rgba(0, 151, 120, 0.4)', 'opacity': 1, 'size': 3},\n",
       "     'mode': 'markers',\n",
       "     'showlegend': False,\n",
       "     'x': [233.85273388626354],\n",
       "     'y': [-135.29216281102322]\n",
       " }),\n",
       " Scatter({\n",
       "     'hovertemplate': ('<b></b> <br>  <b>Camembert + W' ... 'br><b></b> <br><extra></extra>'),\n",
       "     'marker': {'color': 'rgba(0, 151, 120, 0.4)', 'opacity': 1, 'size': 3},\n",
       "     'mode': 'markers',\n",
       "     'showlegend': False,\n",
       "     'x': [209.8466915109809],\n",
       "     'y': [-123.65034948213759]\n",
       " }),\n",
       " Scatter({\n",
       "     'hovertemplate': ('<b></b> <br>  <b>Cashews + Tof' ... 'br><b></b> <br><extra></extra>'),\n",
       "     'marker': {'color': 'rgba(2, 230, 2, 0.4)', 'opacity': 1, 'size': 3},\n",
       "     'mode': 'markers',\n",
       "     'showlegend': False,\n",
       "     'x': [253.78679656440357],\n",
       "     'y': [-43.78679656440357]\n",
       " }),\n",
       " Scatter({\n",
       "     'hovertemplate': ('<b></b> <br>  <b>Cheddar chees' ... 'br><b></b> <br><extra></extra>'),\n",
       "     'marker': {'color': 'rgba(127, 70, 228, 0.4)', 'opacity': 1, 'size': 3},\n",
       "     'mode': 'markers',\n",
       "     'showlegend': False,\n",
       "     'x': [101.0],\n",
       "     'y': [-158.0]\n",
       " }),\n",
       " Scatter({\n",
       "     'hovertemplate': ('<b></b> <br>  <b>Cheddar chees' ... 'br><b></b> <br><extra></extra>'),\n",
       "     'marker': {'color': 'rgba(0, 44, 255, 0.4)', 'opacity': 1, 'size': 3},\n",
       "     'mode': 'markers',\n",
       "     'showlegend': False,\n",
       "     'x': [200.0],\n",
       "     'y': [-230.0]\n",
       " }),\n",
       " Scatter({\n",
       "     'hovertemplate': ('<b></b> <br>  <b>Chia seeds + ' ... 'br><b></b> <br><extra></extra>'),\n",
       "     'marker': {'color': 'rgba(0, 151, 120, 0.4)', 'opacity': 1, 'size': 3},\n",
       "     'mode': 'markers',\n",
       "     'showlegend': False,\n",
       "     'x': [256.8328157299975],\n",
       "     'y': [-183.41640786499875]\n",
       " }),\n",
       " Scatter({\n",
       "     'hovertemplate': ('<b></b> <br>  <b>Chicken breas' ... 'br><b></b> <br><extra></extra>'),\n",
       "     'marker': {'color': 'rgba(127, 166, 139, 0.4)', 'opacity': 1, 'size': 3},\n",
       "     'mode': 'markers',\n",
       "     'showlegend': False,\n",
       "     'x': [212.91784157201948],\n",
       "     'y': [-17.540549027317034]\n",
       " }),\n",
       " Scatter({\n",
       "     'hovertemplate': ('<b></b> <br>  <b>Chicken breas' ... 'br><b></b> <br><extra></extra>'),\n",
       "     'marker': {'color': 'rgba(127, 166, 139, 0.4)', 'opacity': 1, 'size': 3},\n",
       "     'mode': 'markers',\n",
       "     'showlegend': False,\n",
       "     'x': [195.51316701949486],\n",
       "     'y': [-36.53950105848458]\n",
       " }),\n",
       " Scatter({\n",
       "     'hovertemplate': ('<b></b> <br>  <b>Chicken thigh' ... 'br><b></b> <br><extra></extra>'),\n",
       "     'marker': {'color': 'rgba(127, 70, 228, 0.4)', 'opacity': 1, 'size': 3},\n",
       "     'mode': 'markers',\n",
       "     'showlegend': False,\n",
       "     'x': [126.41413299766526],\n",
       "     'y': [-145.77700530894947]\n",
       " }),\n",
       " Scatter({\n",
       "     'hovertemplate': ('<b></b> <br>  <b>Chicken thigh' ... 'br><b></b> <br><extra></extra>'),\n",
       "     'marker': {'color': 'rgba(127, 70, 228, 0.4)', 'opacity': 1, 'size': 3},\n",
       "     'mode': 'markers',\n",
       "     'showlegend': False,\n",
       "     'x': [126.83281572999748],\n",
       "     'y': [-156.58359213500125]\n",
       " }),\n",
       " Scatter({\n",
       "     'hovertemplate': ('<b></b> <br>  <b>Cod + Butter ' ... 'br><b></b> <br><extra></extra>'),\n",
       "     'marker': {'color': 'rgba(127, 70, 228, 0.4)', 'opacity': 1, 'size': 3},\n",
       "     'mode': 'markers',\n",
       "     'showlegend': False,\n",
       "     'x': [116.47058823529412],\n",
       "     'y': [-145.88235294117646]\n",
       " }),\n",
       " Scatter({\n",
       "     'hovertemplate': ('<b></b> <br>  <b>Cottage chees' ... 'br><b></b> <br><extra></extra>'),\n",
       "     'marker': {'color': 'rgba(0, 151, 120, 0.4)', 'opacity': 1, 'size': 3},\n",
       "     'mode': 'markers',\n",
       "     'showlegend': False,\n",
       "     'x': [219.27521222862367],\n",
       "     'y': [-129.5651273371742]\n",
       " }),\n",
       " Scatter({\n",
       "     'hovertemplate': ('<b></b> <br>  <b>Cottage chees' ... 'br><b></b> <br><extra></extra>'),\n",
       "     'marker': {'color': 'rgba(0, 44, 255, 0.4)', 'opacity': 1, 'size': 3},\n",
       "     'mode': 'markers',\n",
       "     'showlegend': False,\n",
       "     'x': [200.0],\n",
       "     'y': [-280.0]\n",
       " }),\n",
       " Scatter({\n",
       "     'hovertemplate': ('<b></b> <br>  <b>Feta cheese +' ... 'br><b></b> <br><extra></extra>'),\n",
       "     'marker': {'color': 'rgba(0, 151, 120, 0.4)', 'opacity': 1, 'size': 3},\n",
       "     'mode': 'markers',\n",
       "     'showlegend': False,\n",
       "     'x': [230.19220493791414],\n",
       "     'y': [-108.13069935778162]\n",
       " }),\n",
       " Scatter({\n",
       "     'hovertemplate': ('<b></b> <br>  <b>Garden peas +' ... 'br><b></b> <br><extra></extra>'),\n",
       "     'marker': {'color': 'rgba(0, 151, 120, 0.4)', 'opacity': 1, 'size': 3},\n",
       "     'mode': 'markers',\n",
       "     'showlegend': False,\n",
       "     'x': [276.47058823529414],\n",
       "     'y': [-174.11764705882354]\n",
       " }),\n",
       " Scatter({\n",
       "     'hovertemplate': (\"<b></b> <br>  <b>Goat's cheese\" ... 'br><b></b> <br><extra></extra>'),\n",
       "     'marker': {'color': 'rgba(0, 151, 120, 0.4)', 'opacity': 1, 'size': 3},\n",
       "     'mode': 'markers',\n",
       "     'showlegend': False,\n",
       "     'x': [211.16926501068411],\n",
       "     'y': [-106.77649677287609]\n",
       " }),\n",
       " Scatter({\n",
       "     'hovertemplate': ('<b></b> <br>  <b>Mozzarella ch' ... 'br><b></b> <br><extra></extra>'),\n",
       "     'marker': {'color': 'rgba(0, 44, 255, 0.4)', 'opacity': 1, 'size': 3},\n",
       "     'mode': 'markers',\n",
       "     'showlegend': False,\n",
       "     'x': [200.0],\n",
       "     'y': [-225.0]\n",
       " }),\n",
       " Scatter({\n",
       "     'hovertemplate': ('<b></b> <br>  <b>Parmesan chee' ... 'br><b></b> <br><extra></extra>'),\n",
       "     'marker': {'color': 'rgba(0, 44, 255, 0.4)', 'opacity': 1, 'size': 3},\n",
       "     'mode': 'markers',\n",
       "     'showlegend': False,\n",
       "     'x': [200.0],\n",
       "     'y': [-240.0]\n",
       " }),\n",
       " Scatter({\n",
       "     'hovertemplate': ('<b></b> <br>  <b>Parmesan chee' ... 'br><b></b> <br><extra></extra>'),\n",
       "     'marker': {'color': 'rgba(0, 44, 255, 0.4)', 'opacity': 1, 'size': 3},\n",
       "     'mode': 'markers',\n",
       "     'showlegend': False,\n",
       "     'x': [200.0],\n",
       "     'y': [-225.0]\n",
       " }),\n",
       " Scatter({\n",
       "     'hovertemplate': ('<b></b> <br>  <b>Parmesan chee' ... 'br><b></b> <br><extra></extra>'),\n",
       "     'marker': {'color': 'rgba(0, 151, 120, 0.4)', 'opacity': 1, 'size': 3},\n",
       "     'mode': 'markers',\n",
       "     'showlegend': False,\n",
       "     'x': [173.78679656440357],\n",
       "     'y': [-123.78679656440357]\n",
       " }),\n",
       " Scatter({\n",
       "     'hovertemplate': ('<b></b> <br>  <b>Peanuts + Pop' ... 'br><b></b> <br><extra></extra>'),\n",
       "     'marker': {'color': 'rgba(2, 230, 2, 0.4)', 'opacity': 1, 'size': 3},\n",
       "     'mode': 'markers',\n",
       "     'showlegend': False,\n",
       "     'x': [253.78679656440357],\n",
       "     'y': [-43.78679656440357]\n",
       " }),\n",
       " Scatter({\n",
       "     'hovertemplate': ('<b></b> <br>  <b>Popcorn + Yog' ... 'br><b></b> <br><extra></extra>'),\n",
       "     'marker': {'color': 'rgba(0, 151, 120, 0.4)', 'opacity': 1, 'size': 3},\n",
       "     'mode': 'markers',\n",
       "     'showlegend': False,\n",
       "     'x': [271.22471828364615],\n",
       "     'y': [-169.56928793535897]\n",
       " }),\n",
       " Scatter({\n",
       "     'hovertemplate': ('<b></b> <br>  <b>Pork chop + M' ... 'br><b></b> <br><extra></extra>'),\n",
       "     'marker': {'color': 'rgba(127, 166, 139, 0.4)', 'opacity': 1, 'size': 3},\n",
       "     'mode': 'markers',\n",
       "     'showlegend': False,\n",
       "     'x': [220.23828229996295],\n",
       "     'y': [-28.883114838395972]\n",
       " }),\n",
       " Scatter({\n",
       "     'hovertemplate': ('<b></b> <br>  <b>Pork sausage ' ... 'br><b></b> <br><extra></extra>'),\n",
       "     'marker': {'color': 'rgba(127, 70, 228, 0.4)', 'opacity': 1, 'size': 3},\n",
       "     'mode': 'markers',\n",
       "     'showlegend': False,\n",
       "     'x': [120.43994912015265],\n",
       "     'y': [-124.1000317999046]\n",
       " }),\n",
       " Scatter({\n",
       "     'hovertemplate': ('<b></b> <br>  <b>Prawn + Butte' ... 'br><b></b> <br><extra></extra>'),\n",
       "     'marker': {'color': 'rgba(127, 70, 228, 0.4)', 'opacity': 1, 'size': 3},\n",
       "     'mode': 'markers',\n",
       "     'showlegend': False,\n",
       "     'x': [111.30437226013957],\n",
       "     'y': [-140.57502166379444]\n",
       " }),\n",
       " Scatter({\n",
       "     'hovertemplate': ('<b></b> <br>  <b>Pumpkin seeds' ... 'br><b></b> <br><extra></extra>'),\n",
       "     'marker': {'color': 'rgba(2, 230, 2, 0.4)', 'opacity': 1, 'size': 3},\n",
       "     'mode': 'markers',\n",
       "     'showlegend': False,\n",
       "     'x': [203.78679656440357],\n",
       "     'y': [-93.78679656440357]\n",
       " }),\n",
       " Scatter({\n",
       "     'hovertemplate': ('<b></b> <br>  <b>Pumpkin seeds' ... 'br><b></b> <br><extra></extra>'),\n",
       "     'marker': {'color': 'rgba(2, 230, 2, 0.4)', 'opacity': 1, 'size': 3},\n",
       "     'mode': 'markers',\n",
       "     'showlegend': False,\n",
       "     'x': [233.78679656440357],\n",
       "     'y': [-63.78679656440357]\n",
       " }),\n",
       " Scatter({\n",
       "     'hovertemplate': ('<b></b> <br>  <b>Quinoa + Kale' ... 'br><b></b> <br><extra></extra>'),\n",
       "     'marker': {'color': 'rgba(2, 230, 2, 0.4)', 'opacity': 1, 'size': 3},\n",
       "     'mode': 'markers',\n",
       "     'showlegend': False,\n",
       "     'x': [303.7867965644036],\n",
       "     'y': [6.213203435596423]\n",
       " }),\n",
       " Scatter({\n",
       "     'hovertemplate': ('<b></b> <br>  <b>Salmon + Butt' ... 'br><b></b> <br><extra></extra>'),\n",
       "     'marker': {'color': 'rgba(127, 70, 228, 0.4)', 'opacity': 1, 'size': 3},\n",
       "     'mode': 'markers',\n",
       "     'showlegend': False,\n",
       "     'x': [147.69230769230768],\n",
       "     'y': [-178.46153846153845]\n",
       " }),\n",
       " Scatter({\n",
       "     'hovertemplate': ('<b></b> <br>  <b>Salmon + Quin' ... 'br><b></b> <br><extra></extra>'),\n",
       "     'marker': {'color': 'rgba(127, 166, 139, 0.4)', 'opacity': 1, 'size': 3},\n",
       "     'mode': 'markers',\n",
       "     'showlegend': False,\n",
       "     'x': [185.06803038083928],\n",
       "     'y': [-20.408182285035686]\n",
       " }),\n",
       " Scatter({\n",
       "     'hovertemplate': ('<b></b> <br>  <b>Sunflower see' ... 'br><b></b> <br><extra></extra>'),\n",
       "     'marker': {'color': 'rgba(2, 230, 2, 0.4)', 'opacity': 1, 'size': 3},\n",
       "     'mode': 'markers',\n",
       "     'showlegend': False,\n",
       "     'x': [268.7867965644036],\n",
       "     'y': [-28.786796564403577]\n",
       " }),\n",
       " Scatter({\n",
       "     'hovertemplate': ('<b></b> <br>  <b>Tofu + Mushro' ... 'br><b></b> <br><extra></extra>'),\n",
       "     'marker': {'color': 'rgba(2, 230, 2, 0.4)', 'opacity': 1, 'size': 3},\n",
       "     'mode': 'markers',\n",
       "     'showlegend': False,\n",
       "     'x': [293.7867965644036],\n",
       "     'y': [-3.786796564403577]\n",
       " }),\n",
       " Scatter({\n",
       "     'hovertemplate': ('<b></b> <br>  <b>Tofu + Kale  ' ... 'br><b></b> <br><extra></extra>'),\n",
       "     'marker': {'color': 'rgba(2, 230, 2, 0.4)', 'opacity': 1, 'size': 3},\n",
       "     'mode': 'markers',\n",
       "     'showlegend': False,\n",
       "     'x': [288.7867965644036],\n",
       "     'y': [-8.786796564403577]\n",
       " }),\n",
       " Scatter({\n",
       "     'hovertemplate': ('<b></b> <br>  <b>Tofu + Egg  <' ... 'br><b></b> <br><extra></extra>'),\n",
       "     'marker': {'color': 'rgba(0, 151, 120, 0.4)', 'opacity': 1, 'size': 3},\n",
       "     'mode': 'markers',\n",
       "     'showlegend': False,\n",
       "     'x': [251.28647726029942],\n",
       "     'y': [-174.4575624931647]\n",
       " })]"
      ]
     },
     "execution_count": 9,
     "metadata": {},
     "output_type": "execute_result"
    }
   ],
   "source": [
    "# creating the edges\n",
    "# curving the lines\n",
    "\n",
    "# function that i copied to create middle points\n",
    "def curved_edge(x0, y0, x1, y1, bend_strength=30):\n",
    "    mx, my = (x0 + x1) / 2, (y0 + y1) / 2\n",
    "    dx, dy = x1 - x0, y1 - y0\n",
    "    px, py = -dy, dx\n",
    "    length = (px**2 + py**2)**0.5\n",
    "    if length == 0:\n",
    "        return [x0, x1], [y0, y1], (mx, my)\n",
    "    px, py = px / length * bend_strength, py / length * bend_strength\n",
    "    cx, cy = mx + px, my + py\n",
    "    return [x0, cx, x1], [y0, cy, y1], (cx, cy)\n",
    "\n",
    "\n",
    "# creating the edges\n",
    "edge_lines = []\n",
    "edge_labels = []\n",
    "\n",
    "for _, row in df.iterrows():\n",
    "    x_curve, y_curve, (cx, cy) = curved_edge( \n",
    "    row['x_source'], row['y_source'],\n",
    "    row['x_target'], row['y_target']\n",
    "    )\n",
    "    edge_lines.append(  #creating the lines\n",
    "        go.Scatter(\n",
    "            x=x_curve,\n",
    "            y=y_curve,\n",
    "            mode='lines',\n",
    "            line=dict(\n",
    "                width={1: 1, 2: 4, 3: 8}[row['weight']],\n",
    "                shape='spline',\n",
    "                smoothing=1.3,\n",
    "                color=row['colors_edge']\n",
    "            ),\n",
    "            hoverinfo='none',\n",
    "            showlegend=False\n",
    "        )\n",
    "    )\n",
    "\n",
    "    mid_x = (row['x_source'] + row['x_target']) / 2  #creating the middle point\n",
    "    mid_y = (row['y_source'] + row['y_target']) / 2\n",
    "\n",
    "    edge_labels.append(  #creating the hover\n",
    "        go.Scatter(\n",
    "            x=[cx],\n",
    "            y=[cy],\n",
    "            mode='markers',\n",
    "            marker=dict(size=3, color=row['colors_edge'], opacity=1),\n",
    "            hovertemplate=(\n",
    "                '<b></b> <br>'\n",
    "                f\"  <b>{row['source']} + {row['target']}  </b><br>\"\n",
    "                f\"  Total protein: {row['sum_protein']}g  <br>\"\n",
    "                f\"  {row['weight_legend']}  <br>\"\n",
    "                '<b></b> <br>'\n",
    "                '<extra></extra>'\n",
    "            ),\n",
    "            showlegend=False\n",
    "        )\n",
    "     )\n",
    "\n",
    "edge_labels"
   ]
  },
  {
   "cell_type": "code",
   "execution_count": 10,
   "id": "1eec3696-e857-4298-81ee-d61a0be6e2b2",
   "metadata": {
    "scrolled": true
   },
   "outputs": [
    {
     "data": {
      "text/plain": [
       "Scatter({\n",
       "    'customdata': array([['Prawn', 'Seafood', 15.55],\n",
       "                         ['Cod', 'Seafood', 16.1],\n",
       "                         ['Pork sausage', 'Red', 18.2],\n",
       "                         ['Chicken thigh', 'White', 18.6],\n",
       "                         ['Lamb leg', 'Red', 18.6],\n",
       "                         ['Beef steak', 'Red', 18.7],\n",
       "                         ['Tuna', 'Seafood', 19.0],\n",
       "                         ['Salmon', 'Seafood', 20.3],\n",
       "                         ['Beef burger', 'Red', 20.4],\n",
       "                         ['Pork loin', 'Red', 21.1],\n",
       "                         ['Chicken breast', 'White', 22.5],\n",
       "                         ['Chicken wing', 'White', 23.4],\n",
       "                         ['Pork chop', 'Red', 26.97],\n",
       "                         ['Lamb chop', 'Red', 27.36],\n",
       "                         ['Bacon', 'Red', 40.9],\n",
       "                         ['Butter', 'Cow', 1.0],\n",
       "                         [\"Cow's milk\", 'Cow', 3.27],\n",
       "                         ['Yogurt', 'Cow', 3.82],\n",
       "                         ['Ricotta cheese', 'Cheese', 7.81],\n",
       "                         ['Cottage cheese', 'Cheese', 11.6],\n",
       "                         ['Egg', 'Egg', 12.4],\n",
       "                         ['Feta cheese', 'Cheese', 19.7],\n",
       "                         ['Camembert', 'Cheese', 19.8],\n",
       "                         ['Brie', 'Cheese', 20.8],\n",
       "                         ['Blue cheese', 'Cheese', 21.4],\n",
       "                         [\"Goat's cheese\", 'Cheese', 21.58],\n",
       "                         ['Cheddar cheese', 'Cheese', 23.3],\n",
       "                         ['Mozzarella cheese', 'Cheese', 23.7],\n",
       "                         ['Halloumi cheese', 'Cheese', 24.0],\n",
       "                         ['Parmesan cheese', 'Cheese', 29.6],\n",
       "                         ['Mushroom', 'Vegetable', 2.75],\n",
       "                         ['Kale', 'Vegetable', 2.92],\n",
       "                         ['Garden peas', 'Vegetable', 4.71],\n",
       "                         ['Popcorn', 'Grain', 12.9],\n",
       "                         ['Quinoa', 'Grain', 14.1],\n",
       "                         ['Walnuts', 'Nut', 14.6],\n",
       "                         ['Chia seeds', 'Seed', 17.0],\n",
       "                         ['Tofu', 'Grain', 17.3],\n",
       "                         ['Cashews', 'Nut', 17.4],\n",
       "                         ['Sunflower seeds', 'Seed', 18.9],\n",
       "                         ['Chickpeas', 'Legumes', 21.3],\n",
       "                         ['Almonds', 'Nut', 21.4],\n",
       "                         ['Peanuts', 'Nut', 23.2],\n",
       "                         ['Lentils', 'Legumes', 23.6],\n",
       "                         ['Beans', 'Legumes', 26.8],\n",
       "                         ['Pumpkin seeds', 'Seed', 29.9]], dtype=object),\n",
       "    'hovertemplate': ('  <b></b> <br>  <b>%{customdat' ... ']}g  <br>  <br><extra></extra>'),\n",
       "    'marker': {'color': array(['rgb(255, 0, 128)', 'rgb(255, 0, 128)', 'rgb(255, 0, 128)',\n",
       "                               'rgb(255, 0, 128)', 'rgb(255, 0, 128)', 'rgb(255, 0, 128)',\n",
       "                               'rgb(255, 0, 128)', 'rgb(255, 0, 128)', 'rgb(255, 0, 128)',\n",
       "                               'rgb(255, 0, 128)', 'rgb(255, 0, 128)', 'rgb(255, 0, 128)',\n",
       "                               'rgb(255, 0, 128)', 'rgb(255, 0, 128)', 'rgb(255, 0, 128)',\n",
       "                               'rgb(0, 44, 255)', 'rgb(0, 44, 255)', 'rgb(0, 44, 255)',\n",
       "                               'rgb(0, 44, 255)', 'rgb(0, 44, 255)', 'rgb(0, 44, 255)',\n",
       "                               'rgb(0, 44, 255)', 'rgb(0, 44, 255)', 'rgb(0, 44, 255)',\n",
       "                               'rgb(0, 44, 255)', 'rgb(0, 44, 255)', 'rgb(0, 44, 255)',\n",
       "                               'rgb(0, 44, 255)', 'rgb(0, 44, 255)', 'rgb(0, 44, 255)',\n",
       "                               'rgb(2, 230, 2)', 'rgb(2, 230, 2)', 'rgb(2, 230, 2)', 'rgb(2, 230, 2)',\n",
       "                               'rgb(2, 230, 2)', 'rgb(2, 230, 2)', 'rgb(2, 230, 2)', 'rgb(2, 230, 2)',\n",
       "                               'rgb(2, 230, 2)', 'rgb(2, 230, 2)', 'rgb(2, 230, 2)', 'rgb(2, 230, 2)',\n",
       "                               'rgb(2, 230, 2)', 'rgb(2, 230, 2)', 'rgb(2, 230, 2)', 'rgb(2, 230, 2)'],\n",
       "                              dtype=object),\n",
       "               'line': {'color': array(['rgb(255, 0, 128)', 'rgb(255, 0, 128)', 'rgb(255, 0, 128)',\n",
       "                                        'rgb(255, 0, 128)', 'rgb(255, 0, 128)', 'rgb(255, 0, 128)',\n",
       "                                        'rgb(255, 0, 128)', 'rgb(255, 0, 128)', 'rgb(255, 0, 128)',\n",
       "                                        'rgb(255, 0, 128)', 'rgb(255, 0, 128)', 'rgb(255, 0, 128)',\n",
       "                                        'rgb(255, 0, 128)', 'rgb(255, 0, 128)', 'rgb(255, 0, 128)',\n",
       "                                        'rgb(0, 44, 255)', 'rgb(0, 44, 255)', 'rgb(0, 44, 255)',\n",
       "                                        'rgb(0, 44, 255)', 'rgb(0, 44, 255)', 'rgb(0, 44, 255)',\n",
       "                                        'rgb(0, 44, 255)', 'rgb(0, 44, 255)', 'rgb(0, 44, 255)',\n",
       "                                        'rgb(0, 44, 255)', 'rgb(0, 44, 255)', 'rgb(0, 44, 255)',\n",
       "                                        'rgb(0, 44, 255)', 'rgb(0, 44, 255)', 'rgb(0, 44, 255)',\n",
       "                                        'rgb(2, 230, 2)', 'rgb(2, 230, 2)', 'rgb(2, 230, 2)', 'rgb(2, 230, 2)',\n",
       "                                        'rgb(2, 230, 2)', 'rgb(2, 230, 2)', 'rgb(2, 230, 2)', 'rgb(2, 230, 2)',\n",
       "                                        'rgb(2, 230, 2)', 'rgb(2, 230, 2)', 'rgb(2, 230, 2)', 'rgb(2, 230, 2)',\n",
       "                                        'rgb(2, 230, 2)', 'rgb(2, 230, 2)', 'rgb(2, 230, 2)', 'rgb(2, 230, 2)'],\n",
       "                                       dtype=object),\n",
       "                        'width': 0},\n",
       "               'size': 0},\n",
       "    'mode': 'text+markers',\n",
       "    'text': [<br><br><b>Prawn</b>, <br><br><b>Cod</b>, <br><br><b>Pork\n",
       "             sausage</b>, <br><br><b>Chicken thigh</b>, <br><br><b>Lamb leg</b>,\n",
       "             <br><br><b>Beef steak</b>, <br><br><b>Tuna</b>, <br><br><b>Salmon</b>,\n",
       "             <br><br><b>Beef burger</b>, <br><br><b>Pork loin</b>,\n",
       "             <br><br><b>Chicken breast</b>, <br><br><b>Chicken wing</b>,\n",
       "             <br><br><b>Pork chop</b>, <br><br><b>Lamb chop</b>,\n",
       "             <br><br><b>Bacon</b>, <br><br><b>Butter</b>, <br><br><b>Cow's\n",
       "             milk</b>, <br><br><b>Yogurt</b>, <br><br><b>Ricotta cheese</b>,\n",
       "             <br><br><b>Cottage cheese</b>, <br><br><b>Egg</b>, <br><br><b>Feta\n",
       "             cheese</b>, <br><br><b>Camembert</b>, <br><br><b>Brie</b>,\n",
       "             <br><br><b>Blue cheese</b>, <br><br><b>Goat's cheese</b>,\n",
       "             <br><br><b>Cheddar cheese</b>, <br><br><b>Mozzarella cheese</b>,\n",
       "             <br><br><b>Halloumi cheese</b>, <br><br><b>Parmesan cheese</b>,\n",
       "             <br><br><b>Mushroom</b>, <br><br><b>Kale</b>, <br><br><b>Garden\n",
       "             peas</b>, <br><br><b>Popcorn</b>, <br><br><b>Quinoa</b>,\n",
       "             <br><br><b>Walnuts</b>, <br><br><b>Chia seeds</b>,\n",
       "             <br><br><b>Tofu</b>, <br><br><b>Cashews</b>, <br><br><b>Sunflower\n",
       "             seeds</b>, <br><br><b>Chickpeas</b>, <br><br><b>Almonds</b>,\n",
       "             <br><br><b>Peanuts</b>, <br><br><b>Lentils</b>, <br><br><b>Beans</b>,\n",
       "             <br><br><b>Pumpkin seeds</b>],\n",
       "    'textfont': {'color': 'black', 'family': 'Courier New', 'size': 14},\n",
       "    'textposition': array(['top right', 'top right', 'top right', 'top right', 'top right',\n",
       "                           'top right', 'top right', 'top right', 'top right', 'top right',\n",
       "                           'top right', 'top right', 'top right', 'top right', 'top right',\n",
       "                           'top right', 'top right', 'top right', 'top right', 'top right',\n",
       "                           'top right', 'top right', 'top right', 'top right', 'top right',\n",
       "                           'top right', 'top right', 'top right', 'top right', 'top right',\n",
       "                           'middle right', 'middle right', 'middle right', 'middle right',\n",
       "                           'middle right', 'middle right', 'middle right', 'middle right',\n",
       "                           'middle right', 'middle right', 'middle right', 'middle right',\n",
       "                           'middle right', 'middle right', 'middle right', 'middle right'],\n",
       "                          dtype=object),\n",
       "    'x': array([  3,  13,  23,  33,  43,  53,  63,  73,  83,  93, 103, 113, 123, 133,\n",
       "                143, 173, 173, 173, 173, 173, 173, 173, 173, 173, 173, 173, 173, 173,\n",
       "                173, 173, 353, 343, 333, 323, 313, 303, 293, 283, 273, 263, 253, 243,\n",
       "                233, 223, 213, 203]),\n",
       "    'y': array([   0,  -10,  -20,  -30,  -40,  -50,  -60,  -70,  -80,  -90, -100, -110,\n",
       "                -120, -130, -140, -310, -300, -290, -280, -270, -260, -250, -240, -230,\n",
       "                -220, -210, -200, -190, -180, -170,   10,    0,  -10,  -20,  -30,  -40,\n",
       "                 -50,  -60,  -70,  -80,  -90, -100, -110, -120, -130, -140])\n",
       "})"
      ]
     },
     "execution_count": 10,
     "metadata": {},
     "output_type": "execute_result"
    }
   ],
   "source": [
    "# creating the nodes dataset\n",
    "\n",
    "color_cat = {\n",
    "    'Animal': 'rgb(255, 0, 128)', # #FF0080\n",
    "    'Dairy': 'rgb(0, 44, 255)', # #002CFF\n",
    "    'Plant-based': 'rgb(2, 230, 2)' # #02E602\n",
    "}\n",
    "df_nodes['color'] = df_nodes['Category'].map(color_cat)\n",
    "\n",
    "\n",
    "df_nodes['textposition'] = 'top right'\n",
    "df_nodes.loc[df_nodes['Category'] == 'Animal', 'textposition'] = 'top right'\n",
    "df_nodes.loc[df_nodes['Category'] == 'Dairy', 'textposition'] = 'top right'\n",
    "df_nodes.loc[df_nodes['Category'] == 'Plant-based', 'textposition'] = 'middle right'\n",
    "\n",
    "\n",
    "node_trace = go.Scatter(\n",
    "    x=df_nodes['x'] + 3,\n",
    "    y=df_nodes['y'],\n",
    "    mode='text+markers',\n",
    "    text=[\"<br><br><b>\" + label + \"</b>\" for label in df_nodes['Label']], #bold\n",
    "    textposition=df_nodes['textposition'],\n",
    "    marker=dict(\n",
    "        size=0,\n",
    "        color=df_nodes['color'],\n",
    "        line=dict(color=df_nodes['color'], width=0)\n",
    "    ),\n",
    "    textfont=dict(\n",
    "        family='Courier New',\n",
    "        size=14,\n",
    "        color='black'\n",
    "    ),\n",
    "    customdata=df_nodes[['Label', 'Sub-category', 'Protein per 100g serving, g']],\n",
    "    hovertemplate=(\n",
    "        '  <b></b> <br>'\n",
    "        '  <b>%{customdata[0]}</b>  <br>'\n",
    "        '  %{customdata[1]}<br>'\n",
    "        '  Protein %{customdata[2]}g  <br>'\n",
    "        '  <br>'\n",
    "        '<extra></extra>'\n",
    "    )\n",
    ")\n",
    "\n",
    "node_trace"
   ]
  },
  {
   "cell_type": "code",
   "execution_count": 100,
   "id": "e21ff517-78c9-4e37-85a6-8d31fe66ebe8",
   "metadata": {
    "scrolled": true
   },
   "outputs": [
    {
     "data": {
      "text/html": [
       "<div>\n",
       "<style scoped>\n",
       "    .dataframe tbody tr th:only-of-type {\n",
       "        vertical-align: middle;\n",
       "    }\n",
       "\n",
       "    .dataframe tbody tr th {\n",
       "        vertical-align: top;\n",
       "    }\n",
       "\n",
       "    .dataframe thead th {\n",
       "        text-align: right;\n",
       "    }\n",
       "</style>\n",
       "<table border=\"1\" class=\"dataframe\">\n",
       "  <thead>\n",
       "    <tr style=\"text-align: right;\">\n",
       "      <th></th>\n",
       "      <th>Id</th>\n",
       "      <th>Label</th>\n",
       "      <th>size</th>\n",
       "      <th>x-o</th>\n",
       "      <th>y-o</th>\n",
       "      <th>x</th>\n",
       "      <th>y</th>\n",
       "      <th>Category</th>\n",
       "      <th>Sub-category</th>\n",
       "      <th>Protein per 100g serving, g</th>\n",
       "      <th>color</th>\n",
       "      <th>textposition</th>\n",
       "      <th>image_url</th>\n",
       "    </tr>\n",
       "  </thead>\n",
       "  <tbody>\n",
       "    <tr>\n",
       "      <th>0</th>\n",
       "      <td>Prawn</td>\n",
       "      <td>Prawn</td>\n",
       "      <td>10</td>\n",
       "      <td>0</td>\n",
       "      <td>-140</td>\n",
       "      <td>0</td>\n",
       "      <td>0</td>\n",
       "      <td>Animal</td>\n",
       "      <td>Seafood</td>\n",
       "      <td>15.55</td>\n",
       "      <td>rgb(255, 0, 128)</td>\n",
       "      <td>top right</td>\n",
       "      <td>https://cdn.prod.website-files.com/6636e256dbc...</td>\n",
       "    </tr>\n",
       "    <tr>\n",
       "      <th>1</th>\n",
       "      <td>Cod</td>\n",
       "      <td>Cod</td>\n",
       "      <td>10</td>\n",
       "      <td>0</td>\n",
       "      <td>-130</td>\n",
       "      <td>10</td>\n",
       "      <td>-10</td>\n",
       "      <td>Animal</td>\n",
       "      <td>Seafood</td>\n",
       "      <td>16.10</td>\n",
       "      <td>rgb(255, 0, 128)</td>\n",
       "      <td>top right</td>\n",
       "      <td>https://cdn.prod.website-files.com/6636e256dbc...</td>\n",
       "    </tr>\n",
       "    <tr>\n",
       "      <th>2</th>\n",
       "      <td>Pork sausage</td>\n",
       "      <td>Pork sausage</td>\n",
       "      <td>10</td>\n",
       "      <td>0</td>\n",
       "      <td>-120</td>\n",
       "      <td>20</td>\n",
       "      <td>-20</td>\n",
       "      <td>Animal</td>\n",
       "      <td>Red</td>\n",
       "      <td>18.20</td>\n",
       "      <td>rgb(255, 0, 128)</td>\n",
       "      <td>top right</td>\n",
       "      <td>https://cdn.prod.website-files.com/6636e256dbc...</td>\n",
       "    </tr>\n",
       "    <tr>\n",
       "      <th>3</th>\n",
       "      <td>Chicken thigh</td>\n",
       "      <td>Chicken thigh</td>\n",
       "      <td>10</td>\n",
       "      <td>0</td>\n",
       "      <td>-100</td>\n",
       "      <td>30</td>\n",
       "      <td>-30</td>\n",
       "      <td>Animal</td>\n",
       "      <td>White</td>\n",
       "      <td>18.60</td>\n",
       "      <td>rgb(255, 0, 128)</td>\n",
       "      <td>top right</td>\n",
       "      <td>https://cdn.prod.website-files.com/6636e256dbc...</td>\n",
       "    </tr>\n",
       "    <tr>\n",
       "      <th>4</th>\n",
       "      <td>Lamb leg</td>\n",
       "      <td>Lamb leg</td>\n",
       "      <td>10</td>\n",
       "      <td>0</td>\n",
       "      <td>-110</td>\n",
       "      <td>40</td>\n",
       "      <td>-40</td>\n",
       "      <td>Animal</td>\n",
       "      <td>Red</td>\n",
       "      <td>18.60</td>\n",
       "      <td>rgb(255, 0, 128)</td>\n",
       "      <td>top right</td>\n",
       "      <td>https://cdn.prod.website-files.com/6636e256dbc...</td>\n",
       "    </tr>\n",
       "    <tr>\n",
       "      <th>5</th>\n",
       "      <td>Beef steak</td>\n",
       "      <td>Beef steak</td>\n",
       "      <td>10</td>\n",
       "      <td>0</td>\n",
       "      <td>-90</td>\n",
       "      <td>50</td>\n",
       "      <td>-50</td>\n",
       "      <td>Animal</td>\n",
       "      <td>Red</td>\n",
       "      <td>18.70</td>\n",
       "      <td>rgb(255, 0, 128)</td>\n",
       "      <td>top right</td>\n",
       "      <td>https://cdn.prod.website-files.com/6636e256dbc...</td>\n",
       "    </tr>\n",
       "    <tr>\n",
       "      <th>6</th>\n",
       "      <td>Tuna</td>\n",
       "      <td>Tuna</td>\n",
       "      <td>10</td>\n",
       "      <td>0</td>\n",
       "      <td>-80</td>\n",
       "      <td>60</td>\n",
       "      <td>-60</td>\n",
       "      <td>Animal</td>\n",
       "      <td>Seafood</td>\n",
       "      <td>19.00</td>\n",
       "      <td>rgb(255, 0, 128)</td>\n",
       "      <td>top right</td>\n",
       "      <td>https://cdn.prod.website-files.com/6636e256dbc...</td>\n",
       "    </tr>\n",
       "    <tr>\n",
       "      <th>7</th>\n",
       "      <td>Salmon</td>\n",
       "      <td>Salmon</td>\n",
       "      <td>10</td>\n",
       "      <td>0</td>\n",
       "      <td>-70</td>\n",
       "      <td>70</td>\n",
       "      <td>-70</td>\n",
       "      <td>Animal</td>\n",
       "      <td>Seafood</td>\n",
       "      <td>20.30</td>\n",
       "      <td>rgb(255, 0, 128)</td>\n",
       "      <td>top right</td>\n",
       "      <td>https://cdn.prod.website-files.com/6636e256dbc...</td>\n",
       "    </tr>\n",
       "    <tr>\n",
       "      <th>8</th>\n",
       "      <td>Beef burger</td>\n",
       "      <td>Beef burger</td>\n",
       "      <td>10</td>\n",
       "      <td>0</td>\n",
       "      <td>-60</td>\n",
       "      <td>80</td>\n",
       "      <td>-80</td>\n",
       "      <td>Animal</td>\n",
       "      <td>Red</td>\n",
       "      <td>20.40</td>\n",
       "      <td>rgb(255, 0, 128)</td>\n",
       "      <td>top right</td>\n",
       "      <td>https://cdn.prod.website-files.com/6636e256dbc...</td>\n",
       "    </tr>\n",
       "    <tr>\n",
       "      <th>9</th>\n",
       "      <td>Pork loin</td>\n",
       "      <td>Pork loin</td>\n",
       "      <td>10</td>\n",
       "      <td>0</td>\n",
       "      <td>-50</td>\n",
       "      <td>90</td>\n",
       "      <td>-90</td>\n",
       "      <td>Animal</td>\n",
       "      <td>Red</td>\n",
       "      <td>21.10</td>\n",
       "      <td>rgb(255, 0, 128)</td>\n",
       "      <td>top right</td>\n",
       "      <td>https://cdn.prod.website-files.com/6636e256dbc...</td>\n",
       "    </tr>\n",
       "    <tr>\n",
       "      <th>10</th>\n",
       "      <td>Chicken breast</td>\n",
       "      <td>Chicken breast</td>\n",
       "      <td>10</td>\n",
       "      <td>0</td>\n",
       "      <td>-40</td>\n",
       "      <td>100</td>\n",
       "      <td>-100</td>\n",
       "      <td>Animal</td>\n",
       "      <td>White</td>\n",
       "      <td>22.50</td>\n",
       "      <td>rgb(255, 0, 128)</td>\n",
       "      <td>top right</td>\n",
       "      <td>https://cdn.prod.website-files.com/6636e256dbc...</td>\n",
       "    </tr>\n",
       "    <tr>\n",
       "      <th>11</th>\n",
       "      <td>Chicken wing</td>\n",
       "      <td>Chicken wing</td>\n",
       "      <td>10</td>\n",
       "      <td>0</td>\n",
       "      <td>-30</td>\n",
       "      <td>110</td>\n",
       "      <td>-110</td>\n",
       "      <td>Animal</td>\n",
       "      <td>White</td>\n",
       "      <td>23.40</td>\n",
       "      <td>rgb(255, 0, 128)</td>\n",
       "      <td>top right</td>\n",
       "      <td>https://cdn.prod.website-files.com/6636e256dbc...</td>\n",
       "    </tr>\n",
       "    <tr>\n",
       "      <th>12</th>\n",
       "      <td>Pork chop</td>\n",
       "      <td>Pork chop</td>\n",
       "      <td>10</td>\n",
       "      <td>0</td>\n",
       "      <td>-20</td>\n",
       "      <td>120</td>\n",
       "      <td>-120</td>\n",
       "      <td>Animal</td>\n",
       "      <td>Red</td>\n",
       "      <td>26.97</td>\n",
       "      <td>rgb(255, 0, 128)</td>\n",
       "      <td>top right</td>\n",
       "      <td>https://cdn.prod.website-files.com/6636e256dbc...</td>\n",
       "    </tr>\n",
       "    <tr>\n",
       "      <th>13</th>\n",
       "      <td>Lamb chop</td>\n",
       "      <td>Lamb chop</td>\n",
       "      <td>10</td>\n",
       "      <td>0</td>\n",
       "      <td>-10</td>\n",
       "      <td>130</td>\n",
       "      <td>-130</td>\n",
       "      <td>Animal</td>\n",
       "      <td>Red</td>\n",
       "      <td>27.36</td>\n",
       "      <td>rgb(255, 0, 128)</td>\n",
       "      <td>top right</td>\n",
       "      <td>https://cdn.prod.website-files.com/6636e256dbc...</td>\n",
       "    </tr>\n",
       "    <tr>\n",
       "      <th>14</th>\n",
       "      <td>Bacon</td>\n",
       "      <td>Bacon</td>\n",
       "      <td>10</td>\n",
       "      <td>0</td>\n",
       "      <td>0</td>\n",
       "      <td>140</td>\n",
       "      <td>-140</td>\n",
       "      <td>Animal</td>\n",
       "      <td>Red</td>\n",
       "      <td>40.90</td>\n",
       "      <td>rgb(255, 0, 128)</td>\n",
       "      <td>top right</td>\n",
       "      <td>https://cdn.prod.website-files.com/6636e256dbc...</td>\n",
       "    </tr>\n",
       "    <tr>\n",
       "      <th>15</th>\n",
       "      <td>Butter</td>\n",
       "      <td>Butter</td>\n",
       "      <td>10</td>\n",
       "      <td>100</td>\n",
       "      <td>-80</td>\n",
       "      <td>170</td>\n",
       "      <td>-310</td>\n",
       "      <td>Dairy</td>\n",
       "      <td>Cow</td>\n",
       "      <td>1.00</td>\n",
       "      <td>rgb(0, 44, 255)</td>\n",
       "      <td>top right</td>\n",
       "      <td>https://cdn.prod.website-files.com/6636e256dbc...</td>\n",
       "    </tr>\n",
       "    <tr>\n",
       "      <th>16</th>\n",
       "      <td>Cow's milk</td>\n",
       "      <td>Cow's milk</td>\n",
       "      <td>10</td>\n",
       "      <td>100</td>\n",
       "      <td>-90</td>\n",
       "      <td>170</td>\n",
       "      <td>-300</td>\n",
       "      <td>Dairy</td>\n",
       "      <td>Cow</td>\n",
       "      <td>3.27</td>\n",
       "      <td>rgb(0, 44, 255)</td>\n",
       "      <td>top right</td>\n",
       "      <td>https://cdn.prod.website-files.com/6636e256dbc...</td>\n",
       "    </tr>\n",
       "    <tr>\n",
       "      <th>17</th>\n",
       "      <td>Yogurt</td>\n",
       "      <td>Yogurt</td>\n",
       "      <td>10</td>\n",
       "      <td>100</td>\n",
       "      <td>-100</td>\n",
       "      <td>170</td>\n",
       "      <td>-290</td>\n",
       "      <td>Dairy</td>\n",
       "      <td>Cow</td>\n",
       "      <td>3.82</td>\n",
       "      <td>rgb(0, 44, 255)</td>\n",
       "      <td>top right</td>\n",
       "      <td>https://cdn.prod.website-files.com/6636e256dbc...</td>\n",
       "    </tr>\n",
       "    <tr>\n",
       "      <th>18</th>\n",
       "      <td>Ricotta cheese</td>\n",
       "      <td>Ricotta cheese</td>\n",
       "      <td>10</td>\n",
       "      <td>100</td>\n",
       "      <td>-110</td>\n",
       "      <td>170</td>\n",
       "      <td>-280</td>\n",
       "      <td>Dairy</td>\n",
       "      <td>Cheese</td>\n",
       "      <td>7.81</td>\n",
       "      <td>rgb(0, 44, 255)</td>\n",
       "      <td>top right</td>\n",
       "      <td>https://cdn.prod.website-files.com/6636e256dbc...</td>\n",
       "    </tr>\n",
       "    <tr>\n",
       "      <th>19</th>\n",
       "      <td>Cottage cheese</td>\n",
       "      <td>Cottage cheese</td>\n",
       "      <td>10</td>\n",
       "      <td>100</td>\n",
       "      <td>-120</td>\n",
       "      <td>170</td>\n",
       "      <td>-270</td>\n",
       "      <td>Dairy</td>\n",
       "      <td>Cheese</td>\n",
       "      <td>11.60</td>\n",
       "      <td>rgb(0, 44, 255)</td>\n",
       "      <td>top right</td>\n",
       "      <td>https://cdn.prod.website-files.com/6636e256dbc...</td>\n",
       "    </tr>\n",
       "    <tr>\n",
       "      <th>20</th>\n",
       "      <td>Egg</td>\n",
       "      <td>Egg</td>\n",
       "      <td>10</td>\n",
       "      <td>100</td>\n",
       "      <td>-130</td>\n",
       "      <td>170</td>\n",
       "      <td>-260</td>\n",
       "      <td>Dairy</td>\n",
       "      <td>Egg</td>\n",
       "      <td>12.40</td>\n",
       "      <td>rgb(0, 44, 255)</td>\n",
       "      <td>top right</td>\n",
       "      <td>https://cdn.prod.website-files.com/6636e256dbc...</td>\n",
       "    </tr>\n",
       "    <tr>\n",
       "      <th>21</th>\n",
       "      <td>Feta cheese</td>\n",
       "      <td>Feta cheese</td>\n",
       "      <td>10</td>\n",
       "      <td>100</td>\n",
       "      <td>-140</td>\n",
       "      <td>170</td>\n",
       "      <td>-250</td>\n",
       "      <td>Dairy</td>\n",
       "      <td>Cheese</td>\n",
       "      <td>19.70</td>\n",
       "      <td>rgb(0, 44, 255)</td>\n",
       "      <td>top right</td>\n",
       "      <td>https://cdn.prod.website-files.com/6636e256dbc...</td>\n",
       "    </tr>\n",
       "    <tr>\n",
       "      <th>22</th>\n",
       "      <td>Camembert</td>\n",
       "      <td>Camembert</td>\n",
       "      <td>10</td>\n",
       "      <td>100</td>\n",
       "      <td>-150</td>\n",
       "      <td>170</td>\n",
       "      <td>-240</td>\n",
       "      <td>Dairy</td>\n",
       "      <td>Cheese</td>\n",
       "      <td>19.80</td>\n",
       "      <td>rgb(0, 44, 255)</td>\n",
       "      <td>top right</td>\n",
       "      <td>https://cdn.prod.website-files.com/6636e256dbc...</td>\n",
       "    </tr>\n",
       "    <tr>\n",
       "      <th>23</th>\n",
       "      <td>Brie</td>\n",
       "      <td>Brie</td>\n",
       "      <td>10</td>\n",
       "      <td>100</td>\n",
       "      <td>-160</td>\n",
       "      <td>170</td>\n",
       "      <td>-230</td>\n",
       "      <td>Dairy</td>\n",
       "      <td>Cheese</td>\n",
       "      <td>20.80</td>\n",
       "      <td>rgb(0, 44, 255)</td>\n",
       "      <td>top right</td>\n",
       "      <td>https://cdn.prod.website-files.com/6636e256dbc...</td>\n",
       "    </tr>\n",
       "    <tr>\n",
       "      <th>24</th>\n",
       "      <td>Blue cheese</td>\n",
       "      <td>Blue cheese</td>\n",
       "      <td>10</td>\n",
       "      <td>100</td>\n",
       "      <td>-170</td>\n",
       "      <td>170</td>\n",
       "      <td>-220</td>\n",
       "      <td>Dairy</td>\n",
       "      <td>Cheese</td>\n",
       "      <td>21.40</td>\n",
       "      <td>rgb(0, 44, 255)</td>\n",
       "      <td>top right</td>\n",
       "      <td>https://cdn.prod.website-files.com/6636e256dbc...</td>\n",
       "    </tr>\n",
       "    <tr>\n",
       "      <th>25</th>\n",
       "      <td>Goat's cheese</td>\n",
       "      <td>Goat's cheese</td>\n",
       "      <td>10</td>\n",
       "      <td>100</td>\n",
       "      <td>-180</td>\n",
       "      <td>170</td>\n",
       "      <td>-210</td>\n",
       "      <td>Dairy</td>\n",
       "      <td>Cheese</td>\n",
       "      <td>21.58</td>\n",
       "      <td>rgb(0, 44, 255)</td>\n",
       "      <td>top right</td>\n",
       "      <td>https://cdn.prod.website-files.com/6636e256dbc...</td>\n",
       "    </tr>\n",
       "    <tr>\n",
       "      <th>26</th>\n",
       "      <td>Cheddar cheese</td>\n",
       "      <td>Cheddar cheese</td>\n",
       "      <td>10</td>\n",
       "      <td>100</td>\n",
       "      <td>-190</td>\n",
       "      <td>170</td>\n",
       "      <td>-200</td>\n",
       "      <td>Dairy</td>\n",
       "      <td>Cheese</td>\n",
       "      <td>23.30</td>\n",
       "      <td>rgb(0, 44, 255)</td>\n",
       "      <td>top right</td>\n",
       "      <td>https://cdn.prod.website-files.com/6636e256dbc...</td>\n",
       "    </tr>\n",
       "    <tr>\n",
       "      <th>27</th>\n",
       "      <td>Mozzarella cheese</td>\n",
       "      <td>Mozzarella cheese</td>\n",
       "      <td>10</td>\n",
       "      <td>100</td>\n",
       "      <td>-200</td>\n",
       "      <td>170</td>\n",
       "      <td>-190</td>\n",
       "      <td>Dairy</td>\n",
       "      <td>Cheese</td>\n",
       "      <td>23.70</td>\n",
       "      <td>rgb(0, 44, 255)</td>\n",
       "      <td>top right</td>\n",
       "      <td>https://cdn.prod.website-files.com/6636e256dbc...</td>\n",
       "    </tr>\n",
       "    <tr>\n",
       "      <th>28</th>\n",
       "      <td>Halloumi cheese</td>\n",
       "      <td>Halloumi cheese</td>\n",
       "      <td>10</td>\n",
       "      <td>100</td>\n",
       "      <td>-210</td>\n",
       "      <td>170</td>\n",
       "      <td>-180</td>\n",
       "      <td>Dairy</td>\n",
       "      <td>Cheese</td>\n",
       "      <td>24.00</td>\n",
       "      <td>rgb(0, 44, 255)</td>\n",
       "      <td>top right</td>\n",
       "      <td>https://cdn.prod.website-files.com/6636e256dbc...</td>\n",
       "    </tr>\n",
       "    <tr>\n",
       "      <th>29</th>\n",
       "      <td>Parmesan cheese</td>\n",
       "      <td>Parmesan cheese</td>\n",
       "      <td>10</td>\n",
       "      <td>100</td>\n",
       "      <td>-220</td>\n",
       "      <td>170</td>\n",
       "      <td>-170</td>\n",
       "      <td>Dairy</td>\n",
       "      <td>Cheese</td>\n",
       "      <td>29.60</td>\n",
       "      <td>rgb(0, 44, 255)</td>\n",
       "      <td>top right</td>\n",
       "      <td>https://cdn.prod.website-files.com/6636e256dbc...</td>\n",
       "    </tr>\n",
       "    <tr>\n",
       "      <th>30</th>\n",
       "      <td>Mushroom</td>\n",
       "      <td>Mushroom</td>\n",
       "      <td>10</td>\n",
       "      <td>200</td>\n",
       "      <td>-150</td>\n",
       "      <td>350</td>\n",
       "      <td>10</td>\n",
       "      <td>Plant-based</td>\n",
       "      <td>Vegetable</td>\n",
       "      <td>2.75</td>\n",
       "      <td>rgb(2, 230, 2)</td>\n",
       "      <td>middle right</td>\n",
       "      <td>https://cdn.prod.website-files.com/6636e256dbc...</td>\n",
       "    </tr>\n",
       "    <tr>\n",
       "      <th>31</th>\n",
       "      <td>Kale</td>\n",
       "      <td>Kale</td>\n",
       "      <td>10</td>\n",
       "      <td>200</td>\n",
       "      <td>-140</td>\n",
       "      <td>340</td>\n",
       "      <td>0</td>\n",
       "      <td>Plant-based</td>\n",
       "      <td>Vegetable</td>\n",
       "      <td>2.92</td>\n",
       "      <td>rgb(2, 230, 2)</td>\n",
       "      <td>middle right</td>\n",
       "      <td>https://cdn.prod.website-files.com/6636e256dbc...</td>\n",
       "    </tr>\n",
       "    <tr>\n",
       "      <th>32</th>\n",
       "      <td>Garden peas</td>\n",
       "      <td>Garden peas</td>\n",
       "      <td>10</td>\n",
       "      <td>200</td>\n",
       "      <td>-130</td>\n",
       "      <td>330</td>\n",
       "      <td>-10</td>\n",
       "      <td>Plant-based</td>\n",
       "      <td>Vegetable</td>\n",
       "      <td>4.71</td>\n",
       "      <td>rgb(2, 230, 2)</td>\n",
       "      <td>middle right</td>\n",
       "      <td>https://cdn.prod.website-files.com/6636e256dbc...</td>\n",
       "    </tr>\n",
       "    <tr>\n",
       "      <th>33</th>\n",
       "      <td>Popcorn</td>\n",
       "      <td>Popcorn</td>\n",
       "      <td>10</td>\n",
       "      <td>200</td>\n",
       "      <td>-120</td>\n",
       "      <td>320</td>\n",
       "      <td>-20</td>\n",
       "      <td>Plant-based</td>\n",
       "      <td>Grain</td>\n",
       "      <td>12.90</td>\n",
       "      <td>rgb(2, 230, 2)</td>\n",
       "      <td>middle right</td>\n",
       "      <td>https://cdn.prod.website-files.com/6636e256dbc...</td>\n",
       "    </tr>\n",
       "    <tr>\n",
       "      <th>34</th>\n",
       "      <td>Quinoa</td>\n",
       "      <td>Quinoa</td>\n",
       "      <td>10</td>\n",
       "      <td>200</td>\n",
       "      <td>-110</td>\n",
       "      <td>310</td>\n",
       "      <td>-30</td>\n",
       "      <td>Plant-based</td>\n",
       "      <td>Grain</td>\n",
       "      <td>14.10</td>\n",
       "      <td>rgb(2, 230, 2)</td>\n",
       "      <td>middle right</td>\n",
       "      <td>https://cdn.prod.website-files.com/6636e256dbc...</td>\n",
       "    </tr>\n",
       "    <tr>\n",
       "      <th>35</th>\n",
       "      <td>Walnuts</td>\n",
       "      <td>Walnuts</td>\n",
       "      <td>10</td>\n",
       "      <td>200</td>\n",
       "      <td>-100</td>\n",
       "      <td>300</td>\n",
       "      <td>-40</td>\n",
       "      <td>Plant-based</td>\n",
       "      <td>Nut</td>\n",
       "      <td>14.60</td>\n",
       "      <td>rgb(2, 230, 2)</td>\n",
       "      <td>middle right</td>\n",
       "      <td>https://cdn.prod.website-files.com/6636e256dbc...</td>\n",
       "    </tr>\n",
       "    <tr>\n",
       "      <th>36</th>\n",
       "      <td>Chia seeds</td>\n",
       "      <td>Chia seeds</td>\n",
       "      <td>10</td>\n",
       "      <td>200</td>\n",
       "      <td>-90</td>\n",
       "      <td>290</td>\n",
       "      <td>-50</td>\n",
       "      <td>Plant-based</td>\n",
       "      <td>Seed</td>\n",
       "      <td>17.00</td>\n",
       "      <td>rgb(2, 230, 2)</td>\n",
       "      <td>middle right</td>\n",
       "      <td>https://cdn.prod.website-files.com/6636e256dbc...</td>\n",
       "    </tr>\n",
       "    <tr>\n",
       "      <th>37</th>\n",
       "      <td>Tofu</td>\n",
       "      <td>Tofu</td>\n",
       "      <td>10</td>\n",
       "      <td>200</td>\n",
       "      <td>-80</td>\n",
       "      <td>280</td>\n",
       "      <td>-60</td>\n",
       "      <td>Plant-based</td>\n",
       "      <td>Grain</td>\n",
       "      <td>17.30</td>\n",
       "      <td>rgb(2, 230, 2)</td>\n",
       "      <td>middle right</td>\n",
       "      <td>https://cdn.prod.website-files.com/6636e256dbc...</td>\n",
       "    </tr>\n",
       "    <tr>\n",
       "      <th>38</th>\n",
       "      <td>Cashews</td>\n",
       "      <td>Cashews</td>\n",
       "      <td>10</td>\n",
       "      <td>200</td>\n",
       "      <td>-70</td>\n",
       "      <td>270</td>\n",
       "      <td>-70</td>\n",
       "      <td>Plant-based</td>\n",
       "      <td>Nut</td>\n",
       "      <td>17.40</td>\n",
       "      <td>rgb(2, 230, 2)</td>\n",
       "      <td>middle right</td>\n",
       "      <td>https://cdn.prod.website-files.com/6636e256dbc...</td>\n",
       "    </tr>\n",
       "    <tr>\n",
       "      <th>39</th>\n",
       "      <td>Sunflower seeds</td>\n",
       "      <td>Sunflower seeds</td>\n",
       "      <td>10</td>\n",
       "      <td>200</td>\n",
       "      <td>-60</td>\n",
       "      <td>260</td>\n",
       "      <td>-80</td>\n",
       "      <td>Plant-based</td>\n",
       "      <td>Seed</td>\n",
       "      <td>18.90</td>\n",
       "      <td>rgb(2, 230, 2)</td>\n",
       "      <td>middle right</td>\n",
       "      <td>https://cdn.prod.website-files.com/6636e256dbc...</td>\n",
       "    </tr>\n",
       "    <tr>\n",
       "      <th>40</th>\n",
       "      <td>Chickpeas</td>\n",
       "      <td>Chickpeas</td>\n",
       "      <td>10</td>\n",
       "      <td>200</td>\n",
       "      <td>-50</td>\n",
       "      <td>250</td>\n",
       "      <td>-90</td>\n",
       "      <td>Plant-based</td>\n",
       "      <td>Legumes</td>\n",
       "      <td>21.30</td>\n",
       "      <td>rgb(2, 230, 2)</td>\n",
       "      <td>middle right</td>\n",
       "      <td>https://cdn.prod.website-files.com/6636e256dbc...</td>\n",
       "    </tr>\n",
       "    <tr>\n",
       "      <th>41</th>\n",
       "      <td>Almonds</td>\n",
       "      <td>Almonds</td>\n",
       "      <td>10</td>\n",
       "      <td>200</td>\n",
       "      <td>-40</td>\n",
       "      <td>240</td>\n",
       "      <td>-100</td>\n",
       "      <td>Plant-based</td>\n",
       "      <td>Nut</td>\n",
       "      <td>21.40</td>\n",
       "      <td>rgb(2, 230, 2)</td>\n",
       "      <td>middle right</td>\n",
       "      <td>https://cdn.prod.website-files.com/6636e256dbc...</td>\n",
       "    </tr>\n",
       "    <tr>\n",
       "      <th>42</th>\n",
       "      <td>Peanuts</td>\n",
       "      <td>Peanuts</td>\n",
       "      <td>10</td>\n",
       "      <td>200</td>\n",
       "      <td>-30</td>\n",
       "      <td>230</td>\n",
       "      <td>-110</td>\n",
       "      <td>Plant-based</td>\n",
       "      <td>Nut</td>\n",
       "      <td>23.20</td>\n",
       "      <td>rgb(2, 230, 2)</td>\n",
       "      <td>middle right</td>\n",
       "      <td>https://cdn.prod.website-files.com/6636e256dbc...</td>\n",
       "    </tr>\n",
       "    <tr>\n",
       "      <th>43</th>\n",
       "      <td>Lentils</td>\n",
       "      <td>Lentils</td>\n",
       "      <td>10</td>\n",
       "      <td>200</td>\n",
       "      <td>-20</td>\n",
       "      <td>220</td>\n",
       "      <td>-120</td>\n",
       "      <td>Plant-based</td>\n",
       "      <td>Legumes</td>\n",
       "      <td>23.60</td>\n",
       "      <td>rgb(2, 230, 2)</td>\n",
       "      <td>middle right</td>\n",
       "      <td>https://cdn.prod.website-files.com/6636e256dbc...</td>\n",
       "    </tr>\n",
       "    <tr>\n",
       "      <th>44</th>\n",
       "      <td>Beans</td>\n",
       "      <td>Beans</td>\n",
       "      <td>10</td>\n",
       "      <td>200</td>\n",
       "      <td>-10</td>\n",
       "      <td>210</td>\n",
       "      <td>-130</td>\n",
       "      <td>Plant-based</td>\n",
       "      <td>Legumes</td>\n",
       "      <td>26.80</td>\n",
       "      <td>rgb(2, 230, 2)</td>\n",
       "      <td>middle right</td>\n",
       "      <td>https://cdn.prod.website-files.com/6636e256dbc...</td>\n",
       "    </tr>\n",
       "    <tr>\n",
       "      <th>45</th>\n",
       "      <td>Pumpkin seeds</td>\n",
       "      <td>Pumpkin seeds</td>\n",
       "      <td>10</td>\n",
       "      <td>200</td>\n",
       "      <td>0</td>\n",
       "      <td>200</td>\n",
       "      <td>-140</td>\n",
       "      <td>Plant-based</td>\n",
       "      <td>Seed</td>\n",
       "      <td>29.90</td>\n",
       "      <td>rgb(2, 230, 2)</td>\n",
       "      <td>middle right</td>\n",
       "      <td>https://cdn.prod.website-files.com/6636e256dbc...</td>\n",
       "    </tr>\n",
       "  </tbody>\n",
       "</table>\n",
       "</div>"
      ],
      "text/plain": [
       "                   Id              Label  size  x-o  y-o    x    y  \\\n",
       "0               Prawn              Prawn    10    0 -140    0    0   \n",
       "1                 Cod                Cod    10    0 -130   10  -10   \n",
       "2        Pork sausage       Pork sausage    10    0 -120   20  -20   \n",
       "3       Chicken thigh      Chicken thigh    10    0 -100   30  -30   \n",
       "4            Lamb leg           Lamb leg    10    0 -110   40  -40   \n",
       "5          Beef steak         Beef steak    10    0  -90   50  -50   \n",
       "6                Tuna               Tuna    10    0  -80   60  -60   \n",
       "7              Salmon             Salmon    10    0  -70   70  -70   \n",
       "8         Beef burger        Beef burger    10    0  -60   80  -80   \n",
       "9           Pork loin          Pork loin    10    0  -50   90  -90   \n",
       "10     Chicken breast     Chicken breast    10    0  -40  100 -100   \n",
       "11       Chicken wing       Chicken wing    10    0  -30  110 -110   \n",
       "12          Pork chop          Pork chop    10    0  -20  120 -120   \n",
       "13          Lamb chop          Lamb chop    10    0  -10  130 -130   \n",
       "14              Bacon              Bacon    10    0    0  140 -140   \n",
       "15             Butter             Butter    10  100  -80  170 -310   \n",
       "16         Cow's milk         Cow's milk    10  100  -90  170 -300   \n",
       "17             Yogurt             Yogurt    10  100 -100  170 -290   \n",
       "18     Ricotta cheese     Ricotta cheese    10  100 -110  170 -280   \n",
       "19     Cottage cheese     Cottage cheese    10  100 -120  170 -270   \n",
       "20                Egg                Egg    10  100 -130  170 -260   \n",
       "21        Feta cheese        Feta cheese    10  100 -140  170 -250   \n",
       "22          Camembert          Camembert    10  100 -150  170 -240   \n",
       "23               Brie               Brie    10  100 -160  170 -230   \n",
       "24        Blue cheese        Blue cheese    10  100 -170  170 -220   \n",
       "25      Goat's cheese      Goat's cheese    10  100 -180  170 -210   \n",
       "26     Cheddar cheese     Cheddar cheese    10  100 -190  170 -200   \n",
       "27  Mozzarella cheese  Mozzarella cheese    10  100 -200  170 -190   \n",
       "28    Halloumi cheese    Halloumi cheese    10  100 -210  170 -180   \n",
       "29    Parmesan cheese    Parmesan cheese    10  100 -220  170 -170   \n",
       "30           Mushroom           Mushroom    10  200 -150  350   10   \n",
       "31               Kale               Kale    10  200 -140  340    0   \n",
       "32        Garden peas        Garden peas    10  200 -130  330  -10   \n",
       "33            Popcorn            Popcorn    10  200 -120  320  -20   \n",
       "34             Quinoa             Quinoa    10  200 -110  310  -30   \n",
       "35            Walnuts            Walnuts    10  200 -100  300  -40   \n",
       "36         Chia seeds         Chia seeds    10  200  -90  290  -50   \n",
       "37               Tofu               Tofu    10  200  -80  280  -60   \n",
       "38            Cashews            Cashews    10  200  -70  270  -70   \n",
       "39    Sunflower seeds    Sunflower seeds    10  200  -60  260  -80   \n",
       "40          Chickpeas          Chickpeas    10  200  -50  250  -90   \n",
       "41            Almonds            Almonds    10  200  -40  240 -100   \n",
       "42            Peanuts            Peanuts    10  200  -30  230 -110   \n",
       "43            Lentils            Lentils    10  200  -20  220 -120   \n",
       "44              Beans              Beans    10  200  -10  210 -130   \n",
       "45      Pumpkin seeds      Pumpkin seeds    10  200    0  200 -140   \n",
       "\n",
       "       Category Sub-category  Protein per 100g serving, g             color  \\\n",
       "0        Animal      Seafood                        15.55  rgb(255, 0, 128)   \n",
       "1        Animal      Seafood                        16.10  rgb(255, 0, 128)   \n",
       "2        Animal          Red                        18.20  rgb(255, 0, 128)   \n",
       "3        Animal        White                        18.60  rgb(255, 0, 128)   \n",
       "4        Animal          Red                        18.60  rgb(255, 0, 128)   \n",
       "5        Animal          Red                        18.70  rgb(255, 0, 128)   \n",
       "6        Animal      Seafood                        19.00  rgb(255, 0, 128)   \n",
       "7        Animal      Seafood                        20.30  rgb(255, 0, 128)   \n",
       "8        Animal          Red                        20.40  rgb(255, 0, 128)   \n",
       "9        Animal          Red                        21.10  rgb(255, 0, 128)   \n",
       "10       Animal        White                        22.50  rgb(255, 0, 128)   \n",
       "11       Animal        White                        23.40  rgb(255, 0, 128)   \n",
       "12       Animal          Red                        26.97  rgb(255, 0, 128)   \n",
       "13       Animal          Red                        27.36  rgb(255, 0, 128)   \n",
       "14       Animal          Red                        40.90  rgb(255, 0, 128)   \n",
       "15        Dairy          Cow                         1.00   rgb(0, 44, 255)   \n",
       "16        Dairy          Cow                         3.27   rgb(0, 44, 255)   \n",
       "17        Dairy          Cow                         3.82   rgb(0, 44, 255)   \n",
       "18        Dairy       Cheese                         7.81   rgb(0, 44, 255)   \n",
       "19        Dairy       Cheese                        11.60   rgb(0, 44, 255)   \n",
       "20        Dairy          Egg                        12.40   rgb(0, 44, 255)   \n",
       "21        Dairy       Cheese                        19.70   rgb(0, 44, 255)   \n",
       "22        Dairy       Cheese                        19.80   rgb(0, 44, 255)   \n",
       "23        Dairy       Cheese                        20.80   rgb(0, 44, 255)   \n",
       "24        Dairy       Cheese                        21.40   rgb(0, 44, 255)   \n",
       "25        Dairy       Cheese                        21.58   rgb(0, 44, 255)   \n",
       "26        Dairy       Cheese                        23.30   rgb(0, 44, 255)   \n",
       "27        Dairy       Cheese                        23.70   rgb(0, 44, 255)   \n",
       "28        Dairy       Cheese                        24.00   rgb(0, 44, 255)   \n",
       "29        Dairy       Cheese                        29.60   rgb(0, 44, 255)   \n",
       "30  Plant-based    Vegetable                         2.75    rgb(2, 230, 2)   \n",
       "31  Plant-based    Vegetable                         2.92    rgb(2, 230, 2)   \n",
       "32  Plant-based    Vegetable                         4.71    rgb(2, 230, 2)   \n",
       "33  Plant-based        Grain                        12.90    rgb(2, 230, 2)   \n",
       "34  Plant-based        Grain                        14.10    rgb(2, 230, 2)   \n",
       "35  Plant-based          Nut                        14.60    rgb(2, 230, 2)   \n",
       "36  Plant-based         Seed                        17.00    rgb(2, 230, 2)   \n",
       "37  Plant-based        Grain                        17.30    rgb(2, 230, 2)   \n",
       "38  Plant-based          Nut                        17.40    rgb(2, 230, 2)   \n",
       "39  Plant-based         Seed                        18.90    rgb(2, 230, 2)   \n",
       "40  Plant-based      Legumes                        21.30    rgb(2, 230, 2)   \n",
       "41  Plant-based          Nut                        21.40    rgb(2, 230, 2)   \n",
       "42  Plant-based          Nut                        23.20    rgb(2, 230, 2)   \n",
       "43  Plant-based      Legumes                        23.60    rgb(2, 230, 2)   \n",
       "44  Plant-based      Legumes                        26.80    rgb(2, 230, 2)   \n",
       "45  Plant-based         Seed                        29.90    rgb(2, 230, 2)   \n",
       "\n",
       "    textposition                                          image_url  \n",
       "0      top right  https://cdn.prod.website-files.com/6636e256dbc...  \n",
       "1      top right  https://cdn.prod.website-files.com/6636e256dbc...  \n",
       "2      top right  https://cdn.prod.website-files.com/6636e256dbc...  \n",
       "3      top right  https://cdn.prod.website-files.com/6636e256dbc...  \n",
       "4      top right  https://cdn.prod.website-files.com/6636e256dbc...  \n",
       "5      top right  https://cdn.prod.website-files.com/6636e256dbc...  \n",
       "6      top right  https://cdn.prod.website-files.com/6636e256dbc...  \n",
       "7      top right  https://cdn.prod.website-files.com/6636e256dbc...  \n",
       "8      top right  https://cdn.prod.website-files.com/6636e256dbc...  \n",
       "9      top right  https://cdn.prod.website-files.com/6636e256dbc...  \n",
       "10     top right  https://cdn.prod.website-files.com/6636e256dbc...  \n",
       "11     top right  https://cdn.prod.website-files.com/6636e256dbc...  \n",
       "12     top right  https://cdn.prod.website-files.com/6636e256dbc...  \n",
       "13     top right  https://cdn.prod.website-files.com/6636e256dbc...  \n",
       "14     top right  https://cdn.prod.website-files.com/6636e256dbc...  \n",
       "15     top right  https://cdn.prod.website-files.com/6636e256dbc...  \n",
       "16     top right  https://cdn.prod.website-files.com/6636e256dbc...  \n",
       "17     top right  https://cdn.prod.website-files.com/6636e256dbc...  \n",
       "18     top right  https://cdn.prod.website-files.com/6636e256dbc...  \n",
       "19     top right  https://cdn.prod.website-files.com/6636e256dbc...  \n",
       "20     top right  https://cdn.prod.website-files.com/6636e256dbc...  \n",
       "21     top right  https://cdn.prod.website-files.com/6636e256dbc...  \n",
       "22     top right  https://cdn.prod.website-files.com/6636e256dbc...  \n",
       "23     top right  https://cdn.prod.website-files.com/6636e256dbc...  \n",
       "24     top right  https://cdn.prod.website-files.com/6636e256dbc...  \n",
       "25     top right  https://cdn.prod.website-files.com/6636e256dbc...  \n",
       "26     top right  https://cdn.prod.website-files.com/6636e256dbc...  \n",
       "27     top right  https://cdn.prod.website-files.com/6636e256dbc...  \n",
       "28     top right  https://cdn.prod.website-files.com/6636e256dbc...  \n",
       "29     top right  https://cdn.prod.website-files.com/6636e256dbc...  \n",
       "30  middle right  https://cdn.prod.website-files.com/6636e256dbc...  \n",
       "31  middle right  https://cdn.prod.website-files.com/6636e256dbc...  \n",
       "32  middle right  https://cdn.prod.website-files.com/6636e256dbc...  \n",
       "33  middle right  https://cdn.prod.website-files.com/6636e256dbc...  \n",
       "34  middle right  https://cdn.prod.website-files.com/6636e256dbc...  \n",
       "35  middle right  https://cdn.prod.website-files.com/6636e256dbc...  \n",
       "36  middle right  https://cdn.prod.website-files.com/6636e256dbc...  \n",
       "37  middle right  https://cdn.prod.website-files.com/6636e256dbc...  \n",
       "38  middle right  https://cdn.prod.website-files.com/6636e256dbc...  \n",
       "39  middle right  https://cdn.prod.website-files.com/6636e256dbc...  \n",
       "40  middle right  https://cdn.prod.website-files.com/6636e256dbc...  \n",
       "41  middle right  https://cdn.prod.website-files.com/6636e256dbc...  \n",
       "42  middle right  https://cdn.prod.website-files.com/6636e256dbc...  \n",
       "43  middle right  https://cdn.prod.website-files.com/6636e256dbc...  \n",
       "44  middle right  https://cdn.prod.website-files.com/6636e256dbc...  \n",
       "45  middle right  https://cdn.prod.website-files.com/6636e256dbc...  "
      ]
     },
     "execution_count": 100,
     "metadata": {},
     "output_type": "execute_result"
    }
   ],
   "source": [
    "# adding images on top of the nodes\n",
    "\n",
    "img_url = {\n",
    "    'Almonds': 'https://cdn.prod.website-files.com/6636e256dbc082950ae82258/6824a3cab2a7604978254955_almond-2.png',\n",
    "    'Bacon': 'https://cdn.prod.website-files.com/6636e256dbc082950ae82258/6824a3ca986d04530c7adbeb_bacon-2.png',\n",
    "    'Beans': 'https://cdn.prod.website-files.com/6636e256dbc082950ae82258/6824a3ca37401f584e3060e5_beans-3.png',\n",
    "    'Beef burger': 'https://cdn.prod.website-files.com/6636e256dbc082950ae82258/6824a3cbfa6f30981b894cb8_beefburger-1.png',\n",
    "    'Beef steak': 'https://cdn.prod.website-files.com/6636e256dbc082950ae82258/6824a3cacd0fbfa09ab2bf2a_beefsteak-3.png',\n",
    "    'Blue cheese': 'https://cdn.prod.website-files.com/6636e256dbc082950ae82258/6824a3ca777d16ca72210503_bluecheese-2.png',\n",
    "    'Brazilian nuts': 'https://cdn.prod.website-files.com/6636e256dbc082950ae82258/6824a3cb6537c0d356a8bd73_braziliannuts-1.png',\n",
    "    'Brie': 'https://cdn.prod.website-files.com/6636e256dbc082950ae82258/6824a3caa4eb85eea0a8f2ad_brie-2.png',\n",
    "    'Butter': 'https://cdn.prod.website-files.com/6636e256dbc082950ae82258/6824a3ca75d1b1197fc8f09f_butter-2.png',\n",
    "    'Camembert': 'https://cdn.prod.website-files.com/6636e256dbc082950ae82258/6824a3caf74f595cbcf6dc98_camembert_cheese-3.png',\n",
    "    'Cashews': 'https://cdn.prod.website-files.com/6636e256dbc082950ae82258/6824a3ca6899efa875385182_cashew-1.png',\n",
    "    'Cheddar cheese': 'https://cdn.prod.website-files.com/6636e256dbc082950ae82258/6820bc60c822177c9ce0b310_cheddar-2.png',\n",
    "    'Chia seeds': 'https://cdn.prod.website-files.com/6636e256dbc082950ae82258/6824a3cad9dc1598b2ce1600_chia-1.png',\n",
    "    'Chicken breast': 'https://cdn.prod.website-files.com/6636e256dbc082950ae82258/6824a4456899efa87538c087_chicken-breast-3.png',\n",
    "    'Chicken thigh': 'https://cdn.prod.website-files.com/6636e256dbc082950ae82258/6824a3ca8a4466ab959d3865_chicken-thigh-2.png',\n",
    "    'Chicken wing': 'https://cdn.prod.website-files.com/6636e256dbc082950ae82258/6824a4df642775b8957440f0_chicken-wings-1.png',\n",
    "    'Chickpeas': 'https://cdn.prod.website-files.com/6636e256dbc082950ae82258/6824a3caa42a63e22fc626e1_chickpea-1.png',\n",
    "    'Cod': 'https://cdn.prod.website-files.com/6636e256dbc082950ae82258/6824a3cac5bb24e11cb47a0c_cod-raw-2.png',\n",
    "    'Cottage cheese': 'https://cdn.prod.website-files.com/6636e256dbc082950ae82258/6824a49c4b578983475a0527_cottage-1.png',\n",
    "    \"Cow's milk\": 'https://cdn.prod.website-files.com/6636e256dbc082950ae82258/6824a3ca23171a6389267042_cowsmilk-6.png',\n",
    "    'Egg': 'https://cdn.prod.website-files.com/6636e256dbc082950ae82258/6824a3ca818ea18491dd0fd5_egg-2.png',\n",
    "    'Feta cheese': 'https://cdn.prod.website-files.com/6636e256dbc082950ae82258/6824a3cc7744a28169c851a9_feta-1.png',\n",
    "    'Garden peas': 'https://cdn.prod.website-files.com/6636e256dbc082950ae82258/6824a57275d1b1197fca00e6_gardenpeas-1.png',\n",
    "    \"Goat's cheese\": 'https://cdn.prod.website-files.com/6636e256dbc082950ae82258/6824a3cad1b1d283d4cbeb17_goatcheese-2.png',\n",
    "    'Halloumi cheese': 'https://cdn.prod.website-files.com/6636e256dbc082950ae82258/6824a3caa1b4b328bc4a44cd_halloumi-1.png',\n",
    "    'Kale': 'https://cdn.prod.website-files.com/6636e256dbc082950ae82258/6824a3cbb1c7e172fb8a4a2a_kale-2.png!sw800.png',\n",
    "    'Lamb chop': 'https://cdn.prod.website-files.com/6636e256dbc082950ae82258/6824a3ca4f6cd4069a515195_lamb%20chop-grilled-3.png',\n",
    "    'Lamb leg': 'https://cdn.prod.website-files.com/6636e256dbc082950ae82258/6824a3cab1c7e172fb8a49a8_lamb-leg-1.png',\n",
    "    'Lentils': 'https://cdn.prod.website-files.com/6636e256dbc082950ae82258/6824a3cb9a8dbf569d4487d6_lentils-2.png',\n",
    "    'Mozzarella cheese': 'https://cdn.prod.website-files.com/6636e256dbc082950ae82258/6824a3ca24a8cd8416881dca_mozzarella-2.png',\n",
    "    'Mushroom': 'https://cdn.prod.website-files.com/6636e256dbc082950ae82258/6824a49ca65da89d757c39cf_mushroom-1.png',\n",
    "    'Parmesan cheese': 'https://cdn.prod.website-files.com/6636e256dbc082950ae82258/6824a3ca4b57898347596d27_parmesan-5.png',\n",
    "    'Peanuts': 'https://cdn.prod.website-files.com/6636e256dbc082950ae82258/6824a3cc7744a28169c85262_peanuts.png',\n",
    "    'Pecan nuts': 'https://cdn.prod.website-files.com/6636e256dbc082950ae82258/6824a3cada9547664ba71bcb_pecan-1.png',\n",
    "    'Popcorn': 'https://cdn.prod.website-files.com/6636e256dbc082950ae82258/6824a3cbff9a735b7a3a95b5_popcorn-2.png',\n",
    "    'Pork chop': 'https://cdn.prod.website-files.com/6636e256dbc082950ae82258/6824a3ca01111723f463b2cd_pork-chop-3.png',\n",
    "    'Pork loin': 'https://cdn.prod.website-files.com/6636e256dbc082950ae82258/6824a3ca94aa74c6472d509d_pork-loin.png',\n",
    "    'Pork sausage': 'https://cdn.prod.website-files.com/6636e256dbc082950ae82258/6824a3ccdaa433b7f8272375_pork-sausage-2.png',\n",
    "    'Prawn': 'https://cdn.prod.website-files.com/6636e256dbc082950ae82258/6824a3ca524a0580e53a9d44_prawn.png',\n",
    "    'Pumpkin seeds': 'https://cdn.prod.website-files.com/6636e256dbc082950ae82258/6824a3cad57f8ad0f8df249f_pumpikinseed-1.png',\n",
    "    'Quinoa': 'https://cdn.prod.website-files.com/6636e256dbc082950ae82258/6824a49c87ba29961e8ed870_quinoa-1.png',\n",
    "    'Rice': 'https://cdn.prod.website-files.com/6636e256dbc082950ae82258/6824a3cd2f81979b81d188c8_rice-3.png',\n",
    "    'Ricotta cheese': 'https://cdn.prod.website-files.com/6636e256dbc082950ae82258/6824a3cabaa75d0355434df0_ricotta-1.png',\n",
    "    'Salmon': 'https://cdn.prod.website-files.com/6636e256dbc082950ae82258/6824a3ca59ca7d1ee15ca810_salmon-1.png',\n",
    "    'Soy milk': 'https://cdn.prod.website-files.com/6636e256dbc082950ae82258/6824a3ca986d04530c7adda2_soymilk-1.png',\n",
    "    'Sunflower seeds': 'https://cdn.prod.website-files.com/6636e256dbc082950ae82258/6824a3ccdaa433b7f8272386_sunflower-seed-1.png',\n",
    "    'Tofu': 'https://cdn.prod.website-files.com/6636e256dbc082950ae82258/6824a3cad57f8ad0f8df24c2_tofu-1.png',\n",
    "    'Tuna': 'https://cdn.prod.website-files.com/6636e256dbc082950ae82258/6824a3cab41b9f90807d3e1e_tuna-2.png',\n",
    "    'Walnuts': 'https://cdn.prod.website-files.com/6636e256dbc082950ae82258/6824a3ca8314a2a90c24d47f_walnut-1.png',\n",
    "    'Yogurt': 'https://cdn.prod.website-files.com/6636e256dbc082950ae82258/6824a3caf528c76a329ef2e0_yogurt-1.png'\n",
    "}\n",
    "\n",
    "df_nodes['image_url'] = df_nodes['Id'].map(img_url)\n",
    "\n",
    "df_nodes\n"
   ]
  },
  {
   "cell_type": "code",
   "execution_count": 22,
   "id": "b04c8a12-e9d9-4a7e-8d65-b715af24902f",
   "metadata": {},
   "outputs": [
    {
     "data": {
      "text/plain": [
       "'https://cdn.prod.website-files.com/6636e256dbc082950ae82258/6824a3ca986d04530c7adbeb_chicken-thigh-2.png'"
      ]
     },
     "execution_count": 22,
     "metadata": {},
     "output_type": "execute_result"
    }
   ],
   "source": [
    "df_nodes['image_url'][3]"
   ]
  },
  {
   "cell_type": "code",
   "execution_count": 102,
   "id": "ceeeb426-1534-4f74-949e-0f5cb4c1d2a1",
   "metadata": {},
   "outputs": [
    {
     "data": {
      "application/vnd.plotly.v1+json": {
       "config": {
        "plotlyServerURL": "https://plot.ly"
       },
       "data": [
        {
         "hoverinfo": "none",
         "line": {
          "color": "rgba(0, 151, 120, 0.4)",
          "shape": "spline",
          "smoothing": 1.3,
          "width": 1
         },
         "mode": "lines",
         "showlegend": false,
         "type": "scatter",
         "x": [
          240,
          233.1502935045133,
          170
         ],
         "y": [
          -100,
          -205.3711607648207,
          -290
         ]
        },
        {
         "hoverinfo": "none",
         "line": {
          "color": "rgba(127, 70, 228, 0.4)",
          "shape": "spline",
          "smoothing": 1.3,
          "width": 8
         },
         "mode": "lines",
         "showlegend": false,
         "type": "scatter",
         "x": [
          140,
          184.10427500435995,
          170
         ],
         "y": [
          -140,
          -192.72393124891002,
          -260
         ]
        },
        {
         "hoverinfo": "none",
         "line": {
          "color": "rgba(0, 151, 120, 0.4)",
          "shape": "spline",
          "smoothing": 1.3,
          "width": 8
         },
         "mode": "lines",
         "showlegend": false,
         "type": "scatter",
         "x": [
          210,
          219.28561180551858,
          170
         ],
         "y": [
          -130,
          -226.50791373455968,
          -310
         ]
        },
        {
         "hoverinfo": "none",
         "line": {
          "color": "rgba(127, 166, 139, 0.4)",
          "shape": "spline",
          "smoothing": 1.3,
          "width": 4
         },
         "mode": "lines",
         "showlegend": false,
         "type": "scatter",
         "x": [
          210,
          99.96891188374886,
          20
         ],
         "y": [
          -130,
          -100.9627885644338,
          -20
         ]
        },
        {
         "hoverinfo": "none",
         "line": {
          "color": "rgba(127, 166, 139, 0.4)",
          "shape": "spline",
          "smoothing": 1.3,
          "width": 1
         },
         "mode": "lines",
         "showlegend": false,
         "type": "scatter",
         "x": [
          210,
          154.11651594585447,
          110
         ],
         "y": [
          -130,
          -149.4174202707276,
          -110
         ]
        },
        {
         "hoverinfo": "none",
         "line": {
          "color": "rgba(127, 70, 228, 0.4)",
          "shape": "spline",
          "smoothing": 1.3,
          "width": 4
         },
         "mode": "lines",
         "showlegend": false,
         "type": "scatter",
         "x": [
          50,
          137.23878153501354,
          170
         ],
         "y": [
          -50,
          -167.4282546761476,
          -310
         ]
        },
        {
         "hoverinfo": "none",
         "line": {
          "color": "rgba(0, 151, 120, 0.4)",
          "shape": "spline",
          "smoothing": 1.3,
          "width": 8
         },
         "mode": "lines",
         "showlegend": false,
         "type": "scatter",
         "x": [
          170,
          210.67962314800357,
          300
         ],
         "y": [
          -220,
          -112.43528338466925,
          -40
         ]
        },
        {
         "hoverinfo": "none",
         "line": {
          "color": "rgba(0, 151, 120, 0.4)",
          "shape": "spline",
          "smoothing": 1.3,
          "width": 8
         },
         "mode": "lines",
         "showlegend": false,
         "type": "scatter",
         "x": [
          170,
          210.24078216250504,
          300
         ],
         "y": [
          -230,
          -118.0594825322403,
          -40
         ]
        },
        {
         "hoverinfo": "none",
         "line": {
          "color": "rgba(0, 151, 120, 0.4)",
          "shape": "spline",
          "smoothing": 1.3,
          "width": 8
         },
         "mode": "lines",
         "showlegend": false,
         "type": "scatter",
         "x": [
          170,
          233.85273388626354,
          350
         ],
         "y": [
          -310,
          -135.29216281102322,
          10
         ]
        },
        {
         "hoverinfo": "none",
         "line": {
          "color": "rgba(0, 151, 120, 0.4)",
          "shape": "spline",
          "smoothing": 1.3,
          "width": 4
         },
         "mode": "lines",
         "showlegend": false,
         "type": "scatter",
         "x": [
          170,
          209.8466915109809,
          300
         ],
         "y": [
          -240,
          -123.65034948213759,
          -40
         ]
        },
        {
         "hoverinfo": "none",
         "line": {
          "color": "rgba(2, 230, 2, 0.4)",
          "shape": "spline",
          "smoothing": 1.3,
          "width": 1
         },
         "mode": "lines",
         "showlegend": false,
         "type": "scatter",
         "x": [
          270,
          253.78679656440357,
          280
         ],
         "y": [
          -70,
          -43.78679656440357,
          -60
         ]
        },
        {
         "hoverinfo": "none",
         "line": {
          "color": "rgba(127, 70, 228, 0.4)",
          "shape": "spline",
          "smoothing": 1.3,
          "width": 8
         },
         "mode": "lines",
         "showlegend": false,
         "type": "scatter",
         "x": [
          170,
          101,
          80
         ],
         "y": [
          -200,
          -158,
          -80
         ]
        },
        {
         "hoverinfo": "none",
         "line": {
          "color": "rgba(0, 44, 255, 0.4)",
          "shape": "spline",
          "smoothing": 1.3,
          "width": 4
         },
         "mode": "lines",
         "showlegend": false,
         "type": "scatter",
         "x": [
          170,
          200,
          170
         ],
         "y": [
          -200,
          -230,
          -260
         ]
        },
        {
         "hoverinfo": "none",
         "line": {
          "color": "rgba(0, 151, 120, 0.4)",
          "shape": "spline",
          "smoothing": 1.3,
          "width": 1
         },
         "mode": "lines",
         "showlegend": false,
         "type": "scatter",
         "x": [
          290,
          256.8328157299975,
          170
         ],
         "y": [
          -50,
          -183.41640786499875,
          -290
         ]
        },
        {
         "hoverinfo": "none",
         "line": {
          "color": "rgba(127, 166, 139, 0.4)",
          "shape": "spline",
          "smoothing": 1.3,
          "width": 8
         },
         "mode": "lines",
         "showlegend": false,
         "type": "scatter",
         "x": [
          100,
          212.91784157201948,
          350
         ],
         "y": [
          -100,
          -17.540549027317034,
          10
         ]
        },
        {
         "hoverinfo": "none",
         "line": {
          "color": "rgba(127, 166, 139, 0.4)",
          "shape": "spline",
          "smoothing": 1.3,
          "width": 4
         },
         "mode": "lines",
         "showlegend": false,
         "type": "scatter",
         "x": [
          100,
          195.51316701949486,
          310
         ],
         "y": [
          -100,
          -36.53950105848458,
          -30
         ]
        },
        {
         "hoverinfo": "none",
         "line": {
          "color": "rgba(127, 70, 228, 0.4)",
          "shape": "spline",
          "smoothing": 1.3,
          "width": 8
         },
         "mode": "lines",
         "showlegend": false,
         "type": "scatter",
         "x": [
          30,
          126.41413299766526,
          170
         ],
         "y": [
          -30,
          -145.77700530894947,
          -290
         ]
        },
        {
         "hoverinfo": "none",
         "line": {
          "color": "rgba(127, 70, 228, 0.4)",
          "shape": "spline",
          "smoothing": 1.3,
          "width": 4
         },
         "mode": "lines",
         "showlegend": false,
         "type": "scatter",
         "x": [
          30,
          126.83281572999748,
          170
         ],
         "y": [
          -30,
          -156.58359213500125,
          -310
         ]
        },
        {
         "hoverinfo": "none",
         "line": {
          "color": "rgba(127, 70, 228, 0.4)",
          "shape": "spline",
          "smoothing": 1.3,
          "width": 4
         },
         "mode": "lines",
         "showlegend": false,
         "type": "scatter",
         "x": [
          10,
          116.47058823529412,
          170
         ],
         "y": [
          -10,
          -145.88235294117646,
          -310
         ]
        },
        {
         "hoverinfo": "none",
         "line": {
          "color": "rgba(0, 151, 120, 0.4)",
          "shape": "spline",
          "smoothing": 1.3,
          "width": 8
         },
         "mode": "lines",
         "showlegend": false,
         "type": "scatter",
         "x": [
          170,
          219.27521222862367,
          320
         ],
         "y": [
          -270,
          -129.5651273371742,
          -20
         ]
        },
        {
         "hoverinfo": "none",
         "line": {
          "color": "rgba(0, 44, 255, 0.4)",
          "shape": "spline",
          "smoothing": 1.3,
          "width": 4
         },
         "mode": "lines",
         "showlegend": false,
         "type": "scatter",
         "x": [
          170,
          200,
          170
         ],
         "y": [
          -270,
          -280,
          -290
         ]
        },
        {
         "hoverinfo": "none",
         "line": {
          "color": "rgba(0, 151, 120, 0.4)",
          "shape": "spline",
          "smoothing": 1.3,
          "width": 8
         },
         "mode": "lines",
         "showlegend": false,
         "type": "scatter",
         "x": [
          170,
          230.19220493791414,
          340
         ],
         "y": [
          -250,
          -108.13069935778162,
          0
         ]
        },
        {
         "hoverinfo": "none",
         "line": {
          "color": "rgba(0, 151, 120, 0.4)",
          "shape": "spline",
          "smoothing": 1.3,
          "width": 1
         },
         "mode": "lines",
         "showlegend": false,
         "type": "scatter",
         "x": [
          330,
          276.47058823529414,
          170
         ],
         "y": [
          -10,
          -174.11764705882354,
          -310
         ]
        },
        {
         "hoverinfo": "none",
         "line": {
          "color": "rgba(0, 151, 120, 0.4)",
          "shape": "spline",
          "smoothing": 1.3,
          "width": 4
         },
         "mode": "lines",
         "showlegend": false,
         "type": "scatter",
         "x": [
          170,
          211.16926501068411,
          300
         ],
         "y": [
          -210,
          -106.77649677287609,
          -40
         ]
        },
        {
         "hoverinfo": "none",
         "line": {
          "color": "rgba(0, 44, 255, 0.4)",
          "shape": "spline",
          "smoothing": 1.3,
          "width": 4
         },
         "mode": "lines",
         "showlegend": false,
         "type": "scatter",
         "x": [
          170,
          200,
          170
         ],
         "y": [
          -190,
          -225,
          -260
         ]
        },
        {
         "hoverinfo": "none",
         "line": {
          "color": "rgba(0, 44, 255, 0.4)",
          "shape": "spline",
          "smoothing": 1.3,
          "width": 8
         },
         "mode": "lines",
         "showlegend": false,
         "type": "scatter",
         "x": [
          170,
          200,
          170
         ],
         "y": [
          -170,
          -240,
          -310
         ]
        },
        {
         "hoverinfo": "none",
         "line": {
          "color": "rgba(0, 44, 255, 0.4)",
          "shape": "spline",
          "smoothing": 1.3,
          "width": 4
         },
         "mode": "lines",
         "showlegend": false,
         "type": "scatter",
         "x": [
          170,
          200,
          170
         ],
         "y": [
          -170,
          -225,
          -280
         ]
        },
        {
         "hoverinfo": "none",
         "line": {
          "color": "rgba(0, 151, 120, 0.4)",
          "shape": "spline",
          "smoothing": 1.3,
          "width": 1
         },
         "mode": "lines",
         "showlegend": false,
         "type": "scatter",
         "x": [
          170,
          173.78679656440357,
          220
         ],
         "y": [
          -170,
          -123.78679656440357,
          -120
         ]
        },
        {
         "hoverinfo": "none",
         "line": {
          "color": "rgba(2, 230, 2, 0.4)",
          "shape": "spline",
          "smoothing": 1.3,
          "width": 8
         },
         "mode": "lines",
         "showlegend": false,
         "type": "scatter",
         "x": [
          230,
          253.78679656440357,
          320
         ],
         "y": [
          -110,
          -43.78679656440357,
          -20
         ]
        },
        {
         "hoverinfo": "none",
         "line": {
          "color": "rgba(0, 151, 120, 0.4)",
          "shape": "spline",
          "smoothing": 1.3,
          "width": 1
         },
         "mode": "lines",
         "showlegend": false,
         "type": "scatter",
         "x": [
          320,
          271.22471828364615,
          170
         ],
         "y": [
          -20,
          -169.56928793535897,
          -290
         ]
        },
        {
         "hoverinfo": "none",
         "line": {
          "color": "rgba(127, 166, 139, 0.4)",
          "shape": "spline",
          "smoothing": 1.3,
          "width": 4
         },
         "mode": "lines",
         "showlegend": false,
         "type": "scatter",
         "x": [
          120,
          220.23828229996295,
          350
         ],
         "y": [
          -120,
          -28.883114838395972,
          10
         ]
        },
        {
         "hoverinfo": "none",
         "line": {
          "color": "rgba(127, 70, 228, 0.4)",
          "shape": "spline",
          "smoothing": 1.3,
          "width": 8
         },
         "mode": "lines",
         "showlegend": false,
         "type": "scatter",
         "x": [
          20,
          120.43994912015265,
          170
         ],
         "y": [
          -20,
          -124.1000317999046,
          -260
         ]
        },
        {
         "hoverinfo": "none",
         "line": {
          "color": "rgba(127, 70, 228, 0.4)",
          "shape": "spline",
          "smoothing": 1.3,
          "width": 4
         },
         "mode": "lines",
         "showlegend": false,
         "type": "scatter",
         "x": [
          0,
          111.30437226013957,
          170
         ],
         "y": [
          0,
          -140.57502166379444,
          -310
         ]
        },
        {
         "hoverinfo": "none",
         "line": {
          "color": "rgba(2, 230, 2, 0.4)",
          "shape": "spline",
          "smoothing": 1.3,
          "width": 1
         },
         "mode": "lines",
         "showlegend": false,
         "type": "scatter",
         "x": [
          200,
          203.78679656440357,
          250
         ],
         "y": [
          -140,
          -93.78679656440357,
          -90
         ]
        },
        {
         "hoverinfo": "none",
         "line": {
          "color": "rgba(2, 230, 2, 0.4)",
          "shape": "spline",
          "smoothing": 1.3,
          "width": 1
         },
         "mode": "lines",
         "showlegend": false,
         "type": "scatter",
         "x": [
          200,
          233.78679656440357,
          310
         ],
         "y": [
          -140,
          -63.78679656440357,
          -30
         ]
        },
        {
         "hoverinfo": "none",
         "line": {
          "color": "rgba(2, 230, 2, 0.4)",
          "shape": "spline",
          "smoothing": 1.3,
          "width": 1
         },
         "mode": "lines",
         "showlegend": false,
         "type": "scatter",
         "x": [
          310,
          303.7867965644036,
          340
         ],
         "y": [
          -30,
          6.213203435596423,
          0
         ]
        },
        {
         "hoverinfo": "none",
         "line": {
          "color": "rgba(127, 70, 228, 0.4)",
          "shape": "spline",
          "smoothing": 1.3,
          "width": 8
         },
         "mode": "lines",
         "showlegend": false,
         "type": "scatter",
         "x": [
          70,
          147.69230769230768,
          170
         ],
         "y": [
          -70,
          -178.46153846153845,
          -310
         ]
        },
        {
         "hoverinfo": "none",
         "line": {
          "color": "rgba(127, 166, 139, 0.4)",
          "shape": "spline",
          "smoothing": 1.3,
          "width": 4
         },
         "mode": "lines",
         "showlegend": false,
         "type": "scatter",
         "x": [
          70,
          185.06803038083928,
          310
         ],
         "y": [
          -70,
          -20.408182285035686,
          -30
         ]
        },
        {
         "hoverinfo": "none",
         "line": {
          "color": "rgba(2, 230, 2, 0.4)",
          "shape": "spline",
          "smoothing": 1.3,
          "width": 1
         },
         "mode": "lines",
         "showlegend": false,
         "type": "scatter",
         "x": [
          260,
          268.7867965644036,
          320
         ],
         "y": [
          -80,
          -28.786796564403577,
          -20
         ]
        },
        {
         "hoverinfo": "none",
         "line": {
          "color": "rgba(2, 230, 2, 0.4)",
          "shape": "spline",
          "smoothing": 1.3,
          "width": 8
         },
         "mode": "lines",
         "showlegend": false,
         "type": "scatter",
         "x": [
          280,
          293.7867965644036,
          350
         ],
         "y": [
          -60,
          -3.786796564403577,
          10
         ]
        },
        {
         "hoverinfo": "none",
         "line": {
          "color": "rgba(2, 230, 2, 0.4)",
          "shape": "spline",
          "smoothing": 1.3,
          "width": 4
         },
         "mode": "lines",
         "showlegend": false,
         "type": "scatter",
         "x": [
          280,
          288.7867965644036,
          340
         ],
         "y": [
          -60,
          -8.786796564403577,
          0
         ]
        },
        {
         "hoverinfo": "none",
         "line": {
          "color": "rgba(0, 151, 120, 0.4)",
          "shape": "spline",
          "smoothing": 1.3,
          "width": 1
         },
         "mode": "lines",
         "showlegend": false,
         "type": "scatter",
         "x": [
          280,
          251.28647726029942,
          170
         ],
         "y": [
          -60,
          -174.4575624931647,
          -260
         ]
        },
        {
         "hovertemplate": "<b></b> <br>  <b>Almonds + Yogurt  </b><br>  Total protein: 25.2g  <br>  Acceptable pairing or complementary nutrition  <br><b></b> <br><extra></extra>",
         "marker": {
          "color": "rgba(0, 151, 120, 0.4)",
          "opacity": 1,
          "size": 3
         },
         "mode": "markers",
         "showlegend": false,
         "type": "scatter",
         "x": [
          233.1502935045133
         ],
         "y": [
          -205.3711607648207
         ]
        },
        {
         "hovertemplate": "<b></b> <br>  <b>Bacon + Egg  </b><br>  Total protein: 53.3g  <br>  Strong classic combination  <br><b></b> <br><extra></extra>",
         "marker": {
          "color": "rgba(127, 70, 228, 0.4)",
          "opacity": 1,
          "size": 3
         },
         "mode": "markers",
         "showlegend": false,
         "type": "scatter",
         "x": [
          184.10427500435995
         ],
         "y": [
          -192.72393124891002
         ]
        },
        {
         "hovertemplate": "<b></b> <br>  <b>Beans + Butter  </b><br>  Total protein: 27.8g  <br>  Strong classic combination  <br><b></b> <br><extra></extra>",
         "marker": {
          "color": "rgba(0, 151, 120, 0.4)",
          "opacity": 1,
          "size": 3
         },
         "mode": "markers",
         "showlegend": false,
         "type": "scatter",
         "x": [
          219.28561180551858
         ],
         "y": [
          -226.50791373455968
         ]
        },
        {
         "hovertemplate": "<b></b> <br>  <b>Beans + Pork sausage  </b><br>  Total protein: 45.0g  <br>  Good synergy or common usage  <br><b></b> <br><extra></extra>",
         "marker": {
          "color": "rgba(127, 166, 139, 0.4)",
          "opacity": 1,
          "size": 3
         },
         "mode": "markers",
         "showlegend": false,
         "type": "scatter",
         "x": [
          99.96891188374886
         ],
         "y": [
          -100.9627885644338
         ]
        },
        {
         "hovertemplate": "<b></b> <br>  <b>Beans + Chicken wing  </b><br>  Total protein: 50.2g  <br>  Acceptable pairing or complementary nutrition  <br><b></b> <br><extra></extra>",
         "marker": {
          "color": "rgba(127, 166, 139, 0.4)",
          "opacity": 1,
          "size": 3
         },
         "mode": "markers",
         "showlegend": false,
         "type": "scatter",
         "x": [
          154.11651594585447
         ],
         "y": [
          -149.4174202707276
         ]
        },
        {
         "hovertemplate": "<b></b> <br>  <b>Beef steak + Butter  </b><br>  Total protein: 19.7g  <br>  Good synergy or common usage  <br><b></b> <br><extra></extra>",
         "marker": {
          "color": "rgba(127, 70, 228, 0.4)",
          "opacity": 1,
          "size": 3
         },
         "mode": "markers",
         "showlegend": false,
         "type": "scatter",
         "x": [
          137.23878153501354
         ],
         "y": [
          -167.4282546761476
         ]
        },
        {
         "hovertemplate": "<b></b> <br>  <b>Blue cheese + Walnuts  </b><br>  Total protein: 36.0g  <br>  Strong classic combination  <br><b></b> <br><extra></extra>",
         "marker": {
          "color": "rgba(0, 151, 120, 0.4)",
          "opacity": 1,
          "size": 3
         },
         "mode": "markers",
         "showlegend": false,
         "type": "scatter",
         "x": [
          210.67962314800357
         ],
         "y": [
          -112.43528338466925
         ]
        },
        {
         "hovertemplate": "<b></b> <br>  <b>Brie + Walnuts  </b><br>  Total protein: 35.4g  <br>  Strong classic combination  <br><b></b> <br><extra></extra>",
         "marker": {
          "color": "rgba(0, 151, 120, 0.4)",
          "opacity": 1,
          "size": 3
         },
         "mode": "markers",
         "showlegend": false,
         "type": "scatter",
         "x": [
          210.24078216250504
         ],
         "y": [
          -118.0594825322403
         ]
        },
        {
         "hovertemplate": "<b></b> <br>  <b>Butter + Mushroom  </b><br>  Total protein: 3.8g  <br>  Strong classic combination  <br><b></b> <br><extra></extra>",
         "marker": {
          "color": "rgba(0, 151, 120, 0.4)",
          "opacity": 1,
          "size": 3
         },
         "mode": "markers",
         "showlegend": false,
         "type": "scatter",
         "x": [
          233.85273388626354
         ],
         "y": [
          -135.29216281102322
         ]
        },
        {
         "hovertemplate": "<b></b> <br>  <b>Camembert + Walnuts  </b><br>  Total protein: 34.4g  <br>  Good synergy or common usage  <br><b></b> <br><extra></extra>",
         "marker": {
          "color": "rgba(0, 151, 120, 0.4)",
          "opacity": 1,
          "size": 3
         },
         "mode": "markers",
         "showlegend": false,
         "type": "scatter",
         "x": [
          209.8466915109809
         ],
         "y": [
          -123.65034948213759
         ]
        },
        {
         "hovertemplate": "<b></b> <br>  <b>Cashews + Tofu  </b><br>  Total protein: 34.7g  <br>  Acceptable pairing or complementary nutrition  <br><b></b> <br><extra></extra>",
         "marker": {
          "color": "rgba(2, 230, 2, 0.4)",
          "opacity": 1,
          "size": 3
         },
         "mode": "markers",
         "showlegend": false,
         "type": "scatter",
         "x": [
          253.78679656440357
         ],
         "y": [
          -43.78679656440357
         ]
        },
        {
         "hovertemplate": "<b></b> <br>  <b>Cheddar cheese + Beef burger  </b><br>  Total protein: 43.7g  <br>  Strong classic combination  <br><b></b> <br><extra></extra>",
         "marker": {
          "color": "rgba(127, 70, 228, 0.4)",
          "opacity": 1,
          "size": 3
         },
         "mode": "markers",
         "showlegend": false,
         "type": "scatter",
         "x": [
          101
         ],
         "y": [
          -158
         ]
        },
        {
         "hovertemplate": "<b></b> <br>  <b>Cheddar cheese + Egg  </b><br>  Total protein: 35.7g  <br>  Good synergy or common usage  <br><b></b> <br><extra></extra>",
         "marker": {
          "color": "rgba(0, 44, 255, 0.4)",
          "opacity": 1,
          "size": 3
         },
         "mode": "markers",
         "showlegend": false,
         "type": "scatter",
         "x": [
          200
         ],
         "y": [
          -230
         ]
        },
        {
         "hovertemplate": "<b></b> <br>  <b>Chia seeds + Yogurt  </b><br>  Total protein: 20.8g  <br>  Acceptable pairing or complementary nutrition  <br><b></b> <br><extra></extra>",
         "marker": {
          "color": "rgba(0, 151, 120, 0.4)",
          "opacity": 1,
          "size": 3
         },
         "mode": "markers",
         "showlegend": false,
         "type": "scatter",
         "x": [
          256.8328157299975
         ],
         "y": [
          -183.41640786499875
         ]
        },
        {
         "hovertemplate": "<b></b> <br>  <b>Chicken breast + Mushroom  </b><br>  Total protein: 25.2g  <br>  Strong classic combination  <br><b></b> <br><extra></extra>",
         "marker": {
          "color": "rgba(127, 166, 139, 0.4)",
          "opacity": 1,
          "size": 3
         },
         "mode": "markers",
         "showlegend": false,
         "type": "scatter",
         "x": [
          212.91784157201948
         ],
         "y": [
          -17.540549027317034
         ]
        },
        {
         "hovertemplate": "<b></b> <br>  <b>Chicken breast + Quinoa  </b><br>  Total protein: 36.6g  <br>  Good synergy or common usage  <br><b></b> <br><extra></extra>",
         "marker": {
          "color": "rgba(127, 166, 139, 0.4)",
          "opacity": 1,
          "size": 3
         },
         "mode": "markers",
         "showlegend": false,
         "type": "scatter",
         "x": [
          195.51316701949486
         ],
         "y": [
          -36.53950105848458
         ]
        },
        {
         "hovertemplate": "<b></b> <br>  <b>Chicken thigh + Yogurt  </b><br>  Total protein: 22.4g  <br>  Strong classic combination  <br><b></b> <br><extra></extra>",
         "marker": {
          "color": "rgba(127, 70, 228, 0.4)",
          "opacity": 1,
          "size": 3
         },
         "mode": "markers",
         "showlegend": false,
         "type": "scatter",
         "x": [
          126.41413299766526
         ],
         "y": [
          -145.77700530894947
         ]
        },
        {
         "hovertemplate": "<b></b> <br>  <b>Chicken thigh + Butter  </b><br>  Total protein: 19.6g  <br>  Good synergy or common usage  <br><b></b> <br><extra></extra>",
         "marker": {
          "color": "rgba(127, 70, 228, 0.4)",
          "opacity": 1,
          "size": 3
         },
         "mode": "markers",
         "showlegend": false,
         "type": "scatter",
         "x": [
          126.83281572999748
         ],
         "y": [
          -156.58359213500125
         ]
        },
        {
         "hovertemplate": "<b></b> <br>  <b>Cod + Butter  </b><br>  Total protein: 17.1g  <br>  Good synergy or common usage  <br><b></b> <br><extra></extra>",
         "marker": {
          "color": "rgba(127, 70, 228, 0.4)",
          "opacity": 1,
          "size": 3
         },
         "mode": "markers",
         "showlegend": false,
         "type": "scatter",
         "x": [
          116.47058823529412
         ],
         "y": [
          -145.88235294117646
         ]
        },
        {
         "hovertemplate": "<b></b> <br>  <b>Cottage cheese + Popcorn  </b><br>  Total protein: 24.5g  <br>  Strong classic combination  <br><b></b> <br><extra></extra>",
         "marker": {
          "color": "rgba(0, 151, 120, 0.4)",
          "opacity": 1,
          "size": 3
         },
         "mode": "markers",
         "showlegend": false,
         "type": "scatter",
         "x": [
          219.27521222862367
         ],
         "y": [
          -129.5651273371742
         ]
        },
        {
         "hovertemplate": "<b></b> <br>  <b>Cottage cheese + Yogurt  </b><br>  Total protein: 15.4g  <br>  Good synergy or common usage  <br><b></b> <br><extra></extra>",
         "marker": {
          "color": "rgba(0, 44, 255, 0.4)",
          "opacity": 1,
          "size": 3
         },
         "mode": "markers",
         "showlegend": false,
         "type": "scatter",
         "x": [
          200
         ],
         "y": [
          -280
         ]
        },
        {
         "hovertemplate": "<b></b> <br>  <b>Feta cheese + Kale  </b><br>  Total protein: 22.6g  <br>  Strong classic combination  <br><b></b> <br><extra></extra>",
         "marker": {
          "color": "rgba(0, 151, 120, 0.4)",
          "opacity": 1,
          "size": 3
         },
         "mode": "markers",
         "showlegend": false,
         "type": "scatter",
         "x": [
          230.19220493791414
         ],
         "y": [
          -108.13069935778162
         ]
        },
        {
         "hovertemplate": "<b></b> <br>  <b>Garden peas + Butter  </b><br>  Total protein: 5.7g  <br>  Acceptable pairing or complementary nutrition  <br><b></b> <br><extra></extra>",
         "marker": {
          "color": "rgba(0, 151, 120, 0.4)",
          "opacity": 1,
          "size": 3
         },
         "mode": "markers",
         "showlegend": false,
         "type": "scatter",
         "x": [
          276.47058823529414
         ],
         "y": [
          -174.11764705882354
         ]
        },
        {
         "hovertemplate": "<b></b> <br>  <b>Goat's cheese + Walnuts  </b><br>  Total protein: 36.2g  <br>  Good synergy or common usage  <br><b></b> <br><extra></extra>",
         "marker": {
          "color": "rgba(0, 151, 120, 0.4)",
          "opacity": 1,
          "size": 3
         },
         "mode": "markers",
         "showlegend": false,
         "type": "scatter",
         "x": [
          211.16926501068411
         ],
         "y": [
          -106.77649677287609
         ]
        },
        {
         "hovertemplate": "<b></b> <br>  <b>Mozzarella cheese + Egg  </b><br>  Total protein: 36.1g  <br>  Good synergy or common usage  <br><b></b> <br><extra></extra>",
         "marker": {
          "color": "rgba(0, 44, 255, 0.4)",
          "opacity": 1,
          "size": 3
         },
         "mode": "markers",
         "showlegend": false,
         "type": "scatter",
         "x": [
          200
         ],
         "y": [
          -225
         ]
        },
        {
         "hovertemplate": "<b></b> <br>  <b>Parmesan cheese + Butter  </b><br>  Total protein: 30.6g  <br>  Strong classic combination  <br><b></b> <br><extra></extra>",
         "marker": {
          "color": "rgba(0, 44, 255, 0.4)",
          "opacity": 1,
          "size": 3
         },
         "mode": "markers",
         "showlegend": false,
         "type": "scatter",
         "x": [
          200
         ],
         "y": [
          -240
         ]
        },
        {
         "hovertemplate": "<b></b> <br>  <b>Parmesan cheese + Ricotta cheese  </b><br>  Total protein: 37.4g  <br>  Good synergy or common usage  <br><b></b> <br><extra></extra>",
         "marker": {
          "color": "rgba(0, 44, 255, 0.4)",
          "opacity": 1,
          "size": 3
         },
         "mode": "markers",
         "showlegend": false,
         "type": "scatter",
         "x": [
          200
         ],
         "y": [
          -225
         ]
        },
        {
         "hovertemplate": "<b></b> <br>  <b>Parmesan cheese + Lentils  </b><br>  Total protein: 53.2g  <br>  Acceptable pairing or complementary nutrition  <br><b></b> <br><extra></extra>",
         "marker": {
          "color": "rgba(0, 151, 120, 0.4)",
          "opacity": 1,
          "size": 3
         },
         "mode": "markers",
         "showlegend": false,
         "type": "scatter",
         "x": [
          173.78679656440357
         ],
         "y": [
          -123.78679656440357
         ]
        },
        {
         "hovertemplate": "<b></b> <br>  <b>Peanuts + Popcorn  </b><br>  Total protein: 36.1g  <br>  Strong classic combination  <br><b></b> <br><extra></extra>",
         "marker": {
          "color": "rgba(2, 230, 2, 0.4)",
          "opacity": 1,
          "size": 3
         },
         "mode": "markers",
         "showlegend": false,
         "type": "scatter",
         "x": [
          253.78679656440357
         ],
         "y": [
          -43.78679656440357
         ]
        },
        {
         "hovertemplate": "<b></b> <br>  <b>Popcorn + Yogurt  </b><br>  Total protein: 16.7g  <br>  Acceptable pairing or complementary nutrition  <br><b></b> <br><extra></extra>",
         "marker": {
          "color": "rgba(0, 151, 120, 0.4)",
          "opacity": 1,
          "size": 3
         },
         "mode": "markers",
         "showlegend": false,
         "type": "scatter",
         "x": [
          271.22471828364615
         ],
         "y": [
          -169.56928793535897
         ]
        },
        {
         "hovertemplate": "<b></b> <br>  <b>Pork chop + Mushroom  </b><br>  Total protein: 29.7g  <br>  Good synergy or common usage  <br><b></b> <br><extra></extra>",
         "marker": {
          "color": "rgba(127, 166, 139, 0.4)",
          "opacity": 1,
          "size": 3
         },
         "mode": "markers",
         "showlegend": false,
         "type": "scatter",
         "x": [
          220.23828229996295
         ],
         "y": [
          -28.883114838395972
         ]
        },
        {
         "hovertemplate": "<b></b> <br>  <b>Pork sausage + Egg  </b><br>  Total protein: 30.6g  <br>  Strong classic combination  <br><b></b> <br><extra></extra>",
         "marker": {
          "color": "rgba(127, 70, 228, 0.4)",
          "opacity": 1,
          "size": 3
         },
         "mode": "markers",
         "showlegend": false,
         "type": "scatter",
         "x": [
          120.43994912015265
         ],
         "y": [
          -124.1000317999046
         ]
        },
        {
         "hovertemplate": "<b></b> <br>  <b>Prawn + Butter  </b><br>  Total protein: 16.6g  <br>  Good synergy or common usage  <br><b></b> <br><extra></extra>",
         "marker": {
          "color": "rgba(127, 70, 228, 0.4)",
          "opacity": 1,
          "size": 3
         },
         "mode": "markers",
         "showlegend": false,
         "type": "scatter",
         "x": [
          111.30437226013957
         ],
         "y": [
          -140.57502166379444
         ]
        },
        {
         "hovertemplate": "<b></b> <br>  <b>Pumpkin seeds + Chickpeas  </b><br>  Total protein: 51.2g  <br>  Acceptable pairing or complementary nutrition  <br><b></b> <br><extra></extra>",
         "marker": {
          "color": "rgba(2, 230, 2, 0.4)",
          "opacity": 1,
          "size": 3
         },
         "mode": "markers",
         "showlegend": false,
         "type": "scatter",
         "x": [
          203.78679656440357
         ],
         "y": [
          -93.78679656440357
         ]
        },
        {
         "hovertemplate": "<b></b> <br>  <b>Pumpkin seeds + Quinoa  </b><br>  Total protein: 44.0g  <br>  Acceptable pairing or complementary nutrition  <br><b></b> <br><extra></extra>",
         "marker": {
          "color": "rgba(2, 230, 2, 0.4)",
          "opacity": 1,
          "size": 3
         },
         "mode": "markers",
         "showlegend": false,
         "type": "scatter",
         "x": [
          233.78679656440357
         ],
         "y": [
          -63.78679656440357
         ]
        },
        {
         "hovertemplate": "<b></b> <br>  <b>Quinoa + Kale  </b><br>  Total protein: 17.0g  <br>  Acceptable pairing or complementary nutrition  <br><b></b> <br><extra></extra>",
         "marker": {
          "color": "rgba(2, 230, 2, 0.4)",
          "opacity": 1,
          "size": 3
         },
         "mode": "markers",
         "showlegend": false,
         "type": "scatter",
         "x": [
          303.7867965644036
         ],
         "y": [
          6.213203435596423
         ]
        },
        {
         "hovertemplate": "<b></b> <br>  <b>Salmon + Butter  </b><br>  Total protein: 21.3g  <br>  Strong classic combination  <br><b></b> <br><extra></extra>",
         "marker": {
          "color": "rgba(127, 70, 228, 0.4)",
          "opacity": 1,
          "size": 3
         },
         "mode": "markers",
         "showlegend": false,
         "type": "scatter",
         "x": [
          147.69230769230768
         ],
         "y": [
          -178.46153846153845
         ]
        },
        {
         "hovertemplate": "<b></b> <br>  <b>Salmon + Quinoa  </b><br>  Total protein: 34.4g  <br>  Good synergy or common usage  <br><b></b> <br><extra></extra>",
         "marker": {
          "color": "rgba(127, 166, 139, 0.4)",
          "opacity": 1,
          "size": 3
         },
         "mode": "markers",
         "showlegend": false,
         "type": "scatter",
         "x": [
          185.06803038083928
         ],
         "y": [
          -20.408182285035686
         ]
        },
        {
         "hovertemplate": "<b></b> <br>  <b>Sunflower seeds + Popcorn  </b><br>  Total protein: 31.8g  <br>  Acceptable pairing or complementary nutrition  <br><b></b> <br><extra></extra>",
         "marker": {
          "color": "rgba(2, 230, 2, 0.4)",
          "opacity": 1,
          "size": 3
         },
         "mode": "markers",
         "showlegend": false,
         "type": "scatter",
         "x": [
          268.7867965644036
         ],
         "y": [
          -28.786796564403577
         ]
        },
        {
         "hovertemplate": "<b></b> <br>  <b>Tofu + Mushroom  </b><br>  Total protein: 20.0g  <br>  Strong classic combination  <br><b></b> <br><extra></extra>",
         "marker": {
          "color": "rgba(2, 230, 2, 0.4)",
          "opacity": 1,
          "size": 3
         },
         "mode": "markers",
         "showlegend": false,
         "type": "scatter",
         "x": [
          293.7867965644036
         ],
         "y": [
          -3.786796564403577
         ]
        },
        {
         "hovertemplate": "<b></b> <br>  <b>Tofu + Kale  </b><br>  Total protein: 20.2g  <br>  Good synergy or common usage  <br><b></b> <br><extra></extra>",
         "marker": {
          "color": "rgba(2, 230, 2, 0.4)",
          "opacity": 1,
          "size": 3
         },
         "mode": "markers",
         "showlegend": false,
         "type": "scatter",
         "x": [
          288.7867965644036
         ],
         "y": [
          -8.786796564403577
         ]
        },
        {
         "hovertemplate": "<b></b> <br>  <b>Tofu + Egg  </b><br>  Total protein: 29.7g  <br>  Acceptable pairing or complementary nutrition  <br><b></b> <br><extra></extra>",
         "marker": {
          "color": "rgba(0, 151, 120, 0.4)",
          "opacity": 1,
          "size": 3
         },
         "mode": "markers",
         "showlegend": false,
         "type": "scatter",
         "x": [
          251.28647726029942
         ],
         "y": [
          -174.4575624931647
         ]
        },
        {
         "customdata": [
          [
           "Prawn",
           "Seafood",
           15.55
          ],
          [
           "Cod",
           "Seafood",
           16.1
          ],
          [
           "Pork sausage",
           "Red",
           18.2
          ],
          [
           "Chicken thigh",
           "White",
           18.6
          ],
          [
           "Lamb leg",
           "Red",
           18.6
          ],
          [
           "Beef steak",
           "Red",
           18.7
          ],
          [
           "Tuna",
           "Seafood",
           19
          ],
          [
           "Salmon",
           "Seafood",
           20.3
          ],
          [
           "Beef burger",
           "Red",
           20.4
          ],
          [
           "Pork loin",
           "Red",
           21.1
          ],
          [
           "Chicken breast",
           "White",
           22.5
          ],
          [
           "Chicken wing",
           "White",
           23.4
          ],
          [
           "Pork chop",
           "Red",
           26.97
          ],
          [
           "Lamb chop",
           "Red",
           27.36
          ],
          [
           "Bacon",
           "Red",
           40.9
          ],
          [
           "Butter",
           "Cow",
           1
          ],
          [
           "Cow's milk",
           "Cow",
           3.27
          ],
          [
           "Yogurt",
           "Cow",
           3.82
          ],
          [
           "Ricotta cheese",
           "Cheese",
           7.81
          ],
          [
           "Cottage cheese",
           "Cheese",
           11.6
          ],
          [
           "Egg",
           "Egg",
           12.4
          ],
          [
           "Feta cheese",
           "Cheese",
           19.7
          ],
          [
           "Camembert",
           "Cheese",
           19.8
          ],
          [
           "Brie",
           "Cheese",
           20.8
          ],
          [
           "Blue cheese",
           "Cheese",
           21.4
          ],
          [
           "Goat's cheese",
           "Cheese",
           21.58
          ],
          [
           "Cheddar cheese",
           "Cheese",
           23.3
          ],
          [
           "Mozzarella cheese",
           "Cheese",
           23.7
          ],
          [
           "Halloumi cheese",
           "Cheese",
           24
          ],
          [
           "Parmesan cheese",
           "Cheese",
           29.6
          ],
          [
           "Mushroom",
           "Vegetable",
           2.75
          ],
          [
           "Kale",
           "Vegetable",
           2.92
          ],
          [
           "Garden peas",
           "Vegetable",
           4.71
          ],
          [
           "Popcorn",
           "Grain",
           12.9
          ],
          [
           "Quinoa",
           "Grain",
           14.1
          ],
          [
           "Walnuts",
           "Nut",
           14.6
          ],
          [
           "Chia seeds",
           "Seed",
           17
          ],
          [
           "Tofu",
           "Grain",
           17.3
          ],
          [
           "Cashews",
           "Nut",
           17.4
          ],
          [
           "Sunflower seeds",
           "Seed",
           18.9
          ],
          [
           "Chickpeas",
           "Legumes",
           21.3
          ],
          [
           "Almonds",
           "Nut",
           21.4
          ],
          [
           "Peanuts",
           "Nut",
           23.2
          ],
          [
           "Lentils",
           "Legumes",
           23.6
          ],
          [
           "Beans",
           "Legumes",
           26.8
          ],
          [
           "Pumpkin seeds",
           "Seed",
           29.9
          ]
         ],
         "hovertemplate": "  <b></b> <br>  <b>%{customdata[0]}</b>  <br>  %{customdata[1]}<br>  Protein %{customdata[2]}g  <br>  <br><extra></extra>",
         "marker": {
          "color": [
           "rgb(255, 0, 128)",
           "rgb(255, 0, 128)",
           "rgb(255, 0, 128)",
           "rgb(255, 0, 128)",
           "rgb(255, 0, 128)",
           "rgb(255, 0, 128)",
           "rgb(255, 0, 128)",
           "rgb(255, 0, 128)",
           "rgb(255, 0, 128)",
           "rgb(255, 0, 128)",
           "rgb(255, 0, 128)",
           "rgb(255, 0, 128)",
           "rgb(255, 0, 128)",
           "rgb(255, 0, 128)",
           "rgb(255, 0, 128)",
           "rgb(0, 44, 255)",
           "rgb(0, 44, 255)",
           "rgb(0, 44, 255)",
           "rgb(0, 44, 255)",
           "rgb(0, 44, 255)",
           "rgb(0, 44, 255)",
           "rgb(0, 44, 255)",
           "rgb(0, 44, 255)",
           "rgb(0, 44, 255)",
           "rgb(0, 44, 255)",
           "rgb(0, 44, 255)",
           "rgb(0, 44, 255)",
           "rgb(0, 44, 255)",
           "rgb(0, 44, 255)",
           "rgb(0, 44, 255)",
           "rgb(2, 230, 2)",
           "rgb(2, 230, 2)",
           "rgb(2, 230, 2)",
           "rgb(2, 230, 2)",
           "rgb(2, 230, 2)",
           "rgb(2, 230, 2)",
           "rgb(2, 230, 2)",
           "rgb(2, 230, 2)",
           "rgb(2, 230, 2)",
           "rgb(2, 230, 2)",
           "rgb(2, 230, 2)",
           "rgb(2, 230, 2)",
           "rgb(2, 230, 2)",
           "rgb(2, 230, 2)",
           "rgb(2, 230, 2)",
           "rgb(2, 230, 2)"
          ],
          "line": {
           "color": [
            "rgb(255, 0, 128)",
            "rgb(255, 0, 128)",
            "rgb(255, 0, 128)",
            "rgb(255, 0, 128)",
            "rgb(255, 0, 128)",
            "rgb(255, 0, 128)",
            "rgb(255, 0, 128)",
            "rgb(255, 0, 128)",
            "rgb(255, 0, 128)",
            "rgb(255, 0, 128)",
            "rgb(255, 0, 128)",
            "rgb(255, 0, 128)",
            "rgb(255, 0, 128)",
            "rgb(255, 0, 128)",
            "rgb(255, 0, 128)",
            "rgb(0, 44, 255)",
            "rgb(0, 44, 255)",
            "rgb(0, 44, 255)",
            "rgb(0, 44, 255)",
            "rgb(0, 44, 255)",
            "rgb(0, 44, 255)",
            "rgb(0, 44, 255)",
            "rgb(0, 44, 255)",
            "rgb(0, 44, 255)",
            "rgb(0, 44, 255)",
            "rgb(0, 44, 255)",
            "rgb(0, 44, 255)",
            "rgb(0, 44, 255)",
            "rgb(0, 44, 255)",
            "rgb(0, 44, 255)",
            "rgb(2, 230, 2)",
            "rgb(2, 230, 2)",
            "rgb(2, 230, 2)",
            "rgb(2, 230, 2)",
            "rgb(2, 230, 2)",
            "rgb(2, 230, 2)",
            "rgb(2, 230, 2)",
            "rgb(2, 230, 2)",
            "rgb(2, 230, 2)",
            "rgb(2, 230, 2)",
            "rgb(2, 230, 2)",
            "rgb(2, 230, 2)",
            "rgb(2, 230, 2)",
            "rgb(2, 230, 2)",
            "rgb(2, 230, 2)",
            "rgb(2, 230, 2)"
           ],
           "width": 0
          },
          "size": 0
         },
         "mode": "text+markers",
         "text": [
          "<br><br><b>Prawn</b>",
          "<br><br><b>Cod</b>",
          "<br><br><b>Pork sausage</b>",
          "<br><br><b>Chicken thigh</b>",
          "<br><br><b>Lamb leg</b>",
          "<br><br><b>Beef steak</b>",
          "<br><br><b>Tuna</b>",
          "<br><br><b>Salmon</b>",
          "<br><br><b>Beef burger</b>",
          "<br><br><b>Pork loin</b>",
          "<br><br><b>Chicken breast</b>",
          "<br><br><b>Chicken wing</b>",
          "<br><br><b>Pork chop</b>",
          "<br><br><b>Lamb chop</b>",
          "<br><br><b>Bacon</b>",
          "<br><br><b>Butter</b>",
          "<br><br><b>Cow's milk</b>",
          "<br><br><b>Yogurt</b>",
          "<br><br><b>Ricotta cheese</b>",
          "<br><br><b>Cottage cheese</b>",
          "<br><br><b>Egg</b>",
          "<br><br><b>Feta cheese</b>",
          "<br><br><b>Camembert</b>",
          "<br><br><b>Brie</b>",
          "<br><br><b>Blue cheese</b>",
          "<br><br><b>Goat's cheese</b>",
          "<br><br><b>Cheddar cheese</b>",
          "<br><br><b>Mozzarella cheese</b>",
          "<br><br><b>Halloumi cheese</b>",
          "<br><br><b>Parmesan cheese</b>",
          "<br><br><b>Mushroom</b>",
          "<br><br><b>Kale</b>",
          "<br><br><b>Garden peas</b>",
          "<br><br><b>Popcorn</b>",
          "<br><br><b>Quinoa</b>",
          "<br><br><b>Walnuts</b>",
          "<br><br><b>Chia seeds</b>",
          "<br><br><b>Tofu</b>",
          "<br><br><b>Cashews</b>",
          "<br><br><b>Sunflower seeds</b>",
          "<br><br><b>Chickpeas</b>",
          "<br><br><b>Almonds</b>",
          "<br><br><b>Peanuts</b>",
          "<br><br><b>Lentils</b>",
          "<br><br><b>Beans</b>",
          "<br><br><b>Pumpkin seeds</b>"
         ],
         "textfont": {
          "color": "black",
          "family": "Courier New",
          "size": 14
         },
         "textposition": [
          "top right",
          "top right",
          "top right",
          "top right",
          "top right",
          "top right",
          "top right",
          "top right",
          "top right",
          "top right",
          "top right",
          "top right",
          "top right",
          "top right",
          "top right",
          "top right",
          "top right",
          "top right",
          "top right",
          "top right",
          "top right",
          "top right",
          "top right",
          "top right",
          "top right",
          "top right",
          "top right",
          "top right",
          "top right",
          "top right",
          "middle right",
          "middle right",
          "middle right",
          "middle right",
          "middle right",
          "middle right",
          "middle right",
          "middle right",
          "middle right",
          "middle right",
          "middle right",
          "middle right",
          "middle right",
          "middle right",
          "middle right",
          "middle right"
         ],
         "type": "scatter",
         "x": [
          3,
          13,
          23,
          33,
          43,
          53,
          63,
          73,
          83,
          93,
          103,
          113,
          123,
          133,
          143,
          173,
          173,
          173,
          173,
          173,
          173,
          173,
          173,
          173,
          173,
          173,
          173,
          173,
          173,
          173,
          353,
          343,
          333,
          323,
          313,
          303,
          293,
          283,
          273,
          263,
          253,
          243,
          233,
          223,
          213,
          203
         ],
         "y": [
          0,
          -10,
          -20,
          -30,
          -40,
          -50,
          -60,
          -70,
          -80,
          -90,
          -100,
          -110,
          -120,
          -130,
          -140,
          -310,
          -300,
          -290,
          -280,
          -270,
          -260,
          -250,
          -240,
          -230,
          -220,
          -210,
          -200,
          -190,
          -180,
          -170,
          10,
          0,
          -10,
          -20,
          -30,
          -40,
          -50,
          -60,
          -70,
          -80,
          -90,
          -100,
          -110,
          -120,
          -130,
          -140
         ]
        }
       ],
       "layout": {
        "autosize": true,
        "hovermode": "closest",
        "images": [
         {
          "layer": "above",
          "sizex": 10,
          "sizey": 30,
          "source": "https://cdn.prod.website-files.com/6636e256dbc082950ae82258/6824a3ca524a0580e53a9d44_prawn.png",
          "x": 0,
          "xanchor": "center",
          "xref": "x",
          "y": 0,
          "yanchor": "middle",
          "yref": "y"
         },
         {
          "layer": "above",
          "sizex": 10,
          "sizey": 30,
          "source": "https://cdn.prod.website-files.com/6636e256dbc082950ae82258/6824a3cac5bb24e11cb47a0c_cod-raw-2.png",
          "x": 10,
          "xanchor": "center",
          "xref": "x",
          "y": -10,
          "yanchor": "middle",
          "yref": "y"
         },
         {
          "layer": "above",
          "sizex": 10,
          "sizey": 30,
          "source": "https://cdn.prod.website-files.com/6636e256dbc082950ae82258/6824a3ccdaa433b7f8272375_pork-sausage-2.png",
          "x": 20,
          "xanchor": "center",
          "xref": "x",
          "y": -20,
          "yanchor": "middle",
          "yref": "y"
         },
         {
          "layer": "above",
          "sizex": 10,
          "sizey": 30,
          "source": "https://cdn.prod.website-files.com/6636e256dbc082950ae82258/6824a3ca8a4466ab959d3865_chicken-thigh-2.png",
          "x": 30,
          "xanchor": "center",
          "xref": "x",
          "y": -30,
          "yanchor": "middle",
          "yref": "y"
         },
         {
          "layer": "above",
          "sizex": 10,
          "sizey": 30,
          "source": "https://cdn.prod.website-files.com/6636e256dbc082950ae82258/6824a3cab1c7e172fb8a49a8_lamb-leg-1.png",
          "x": 40,
          "xanchor": "center",
          "xref": "x",
          "y": -40,
          "yanchor": "middle",
          "yref": "y"
         },
         {
          "layer": "above",
          "sizex": 10,
          "sizey": 30,
          "source": "https://cdn.prod.website-files.com/6636e256dbc082950ae82258/6824a3cacd0fbfa09ab2bf2a_beefsteak-3.png",
          "x": 50,
          "xanchor": "center",
          "xref": "x",
          "y": -50,
          "yanchor": "middle",
          "yref": "y"
         },
         {
          "layer": "above",
          "sizex": 10,
          "sizey": 30,
          "source": "https://cdn.prod.website-files.com/6636e256dbc082950ae82258/6824a3cab41b9f90807d3e1e_tuna-2.png",
          "x": 60,
          "xanchor": "center",
          "xref": "x",
          "y": -60,
          "yanchor": "middle",
          "yref": "y"
         },
         {
          "layer": "above",
          "sizex": 10,
          "sizey": 30,
          "source": "https://cdn.prod.website-files.com/6636e256dbc082950ae82258/6824a3ca59ca7d1ee15ca810_salmon-1.png",
          "x": 70,
          "xanchor": "center",
          "xref": "x",
          "y": -70,
          "yanchor": "middle",
          "yref": "y"
         },
         {
          "layer": "above",
          "sizex": 10,
          "sizey": 30,
          "source": "https://cdn.prod.website-files.com/6636e256dbc082950ae82258/6824a3cbfa6f30981b894cb8_beefburger-1.png",
          "x": 80,
          "xanchor": "center",
          "xref": "x",
          "y": -80,
          "yanchor": "middle",
          "yref": "y"
         },
         {
          "layer": "above",
          "sizex": 10,
          "sizey": 30,
          "source": "https://cdn.prod.website-files.com/6636e256dbc082950ae82258/6824a3ca94aa74c6472d509d_pork-loin.png",
          "x": 90,
          "xanchor": "center",
          "xref": "x",
          "y": -90,
          "yanchor": "middle",
          "yref": "y"
         },
         {
          "layer": "above",
          "sizex": 10,
          "sizey": 30,
          "source": "https://cdn.prod.website-files.com/6636e256dbc082950ae82258/6824a4456899efa87538c087_chicken-breast-3.png",
          "x": 100,
          "xanchor": "center",
          "xref": "x",
          "y": -100,
          "yanchor": "middle",
          "yref": "y"
         },
         {
          "layer": "above",
          "sizex": 10,
          "sizey": 30,
          "source": "https://cdn.prod.website-files.com/6636e256dbc082950ae82258/6824a4df642775b8957440f0_chicken-wings-1.png",
          "x": 110,
          "xanchor": "center",
          "xref": "x",
          "y": -110,
          "yanchor": "middle",
          "yref": "y"
         },
         {
          "layer": "above",
          "sizex": 10,
          "sizey": 30,
          "source": "https://cdn.prod.website-files.com/6636e256dbc082950ae82258/6824a3ca01111723f463b2cd_pork-chop-3.png",
          "x": 120,
          "xanchor": "center",
          "xref": "x",
          "y": -120,
          "yanchor": "middle",
          "yref": "y"
         },
         {
          "layer": "above",
          "sizex": 10,
          "sizey": 30,
          "source": "https://cdn.prod.website-files.com/6636e256dbc082950ae82258/6824a3ca4f6cd4069a515195_lamb%20chop-grilled-3.png",
          "x": 130,
          "xanchor": "center",
          "xref": "x",
          "y": -130,
          "yanchor": "middle",
          "yref": "y"
         },
         {
          "layer": "above",
          "sizex": 10,
          "sizey": 30,
          "source": "https://cdn.prod.website-files.com/6636e256dbc082950ae82258/6824a3ca986d04530c7adbeb_bacon-2.png",
          "x": 140,
          "xanchor": "center",
          "xref": "x",
          "y": -140,
          "yanchor": "middle",
          "yref": "y"
         },
         {
          "layer": "above",
          "sizex": 10,
          "sizey": 30,
          "source": "https://cdn.prod.website-files.com/6636e256dbc082950ae82258/6824a3ca75d1b1197fc8f09f_butter-2.png",
          "x": 170,
          "xanchor": "center",
          "xref": "x",
          "y": -310,
          "yanchor": "middle",
          "yref": "y"
         },
         {
          "layer": "above",
          "sizex": 10,
          "sizey": 30,
          "source": "https://cdn.prod.website-files.com/6636e256dbc082950ae82258/6824a3ca23171a6389267042_cowsmilk-6.png",
          "x": 170,
          "xanchor": "center",
          "xref": "x",
          "y": -300,
          "yanchor": "middle",
          "yref": "y"
         },
         {
          "layer": "above",
          "sizex": 10,
          "sizey": 30,
          "source": "https://cdn.prod.website-files.com/6636e256dbc082950ae82258/6824a3caf528c76a329ef2e0_yogurt-1.png",
          "x": 170,
          "xanchor": "center",
          "xref": "x",
          "y": -290,
          "yanchor": "middle",
          "yref": "y"
         },
         {
          "layer": "above",
          "sizex": 10,
          "sizey": 30,
          "source": "https://cdn.prod.website-files.com/6636e256dbc082950ae82258/6824a3cabaa75d0355434df0_ricotta-1.png",
          "x": 170,
          "xanchor": "center",
          "xref": "x",
          "y": -280,
          "yanchor": "middle",
          "yref": "y"
         },
         {
          "layer": "above",
          "sizex": 10,
          "sizey": 30,
          "source": "https://cdn.prod.website-files.com/6636e256dbc082950ae82258/6824a49c4b578983475a0527_cottage-1.png",
          "x": 170,
          "xanchor": "center",
          "xref": "x",
          "y": -270,
          "yanchor": "middle",
          "yref": "y"
         },
         {
          "layer": "above",
          "sizex": 10,
          "sizey": 30,
          "source": "https://cdn.prod.website-files.com/6636e256dbc082950ae82258/6824a3ca818ea18491dd0fd5_egg-2.png",
          "x": 170,
          "xanchor": "center",
          "xref": "x",
          "y": -260,
          "yanchor": "middle",
          "yref": "y"
         },
         {
          "layer": "above",
          "sizex": 10,
          "sizey": 30,
          "source": "https://cdn.prod.website-files.com/6636e256dbc082950ae82258/6824a3cc7744a28169c851a9_feta-1.png",
          "x": 170,
          "xanchor": "center",
          "xref": "x",
          "y": -250,
          "yanchor": "middle",
          "yref": "y"
         },
         {
          "layer": "above",
          "sizex": 10,
          "sizey": 30,
          "source": "https://cdn.prod.website-files.com/6636e256dbc082950ae82258/6824a3caf74f595cbcf6dc98_camembert_cheese-3.png",
          "x": 170,
          "xanchor": "center",
          "xref": "x",
          "y": -240,
          "yanchor": "middle",
          "yref": "y"
         },
         {
          "layer": "above",
          "sizex": 10,
          "sizey": 30,
          "source": "https://cdn.prod.website-files.com/6636e256dbc082950ae82258/6824a3caa4eb85eea0a8f2ad_brie-2.png",
          "x": 170,
          "xanchor": "center",
          "xref": "x",
          "y": -230,
          "yanchor": "middle",
          "yref": "y"
         },
         {
          "layer": "above",
          "sizex": 10,
          "sizey": 30,
          "source": "https://cdn.prod.website-files.com/6636e256dbc082950ae82258/6824a3ca777d16ca72210503_bluecheese-2.png",
          "x": 170,
          "xanchor": "center",
          "xref": "x",
          "y": -220,
          "yanchor": "middle",
          "yref": "y"
         },
         {
          "layer": "above",
          "sizex": 10,
          "sizey": 30,
          "source": "https://cdn.prod.website-files.com/6636e256dbc082950ae82258/6824a3cad1b1d283d4cbeb17_goatcheese-2.png",
          "x": 170,
          "xanchor": "center",
          "xref": "x",
          "y": -210,
          "yanchor": "middle",
          "yref": "y"
         },
         {
          "layer": "above",
          "sizex": 10,
          "sizey": 30,
          "source": "https://cdn.prod.website-files.com/6636e256dbc082950ae82258/6820bc60c822177c9ce0b310_cheddar-2.png",
          "x": 170,
          "xanchor": "center",
          "xref": "x",
          "y": -200,
          "yanchor": "middle",
          "yref": "y"
         },
         {
          "layer": "above",
          "sizex": 10,
          "sizey": 30,
          "source": "https://cdn.prod.website-files.com/6636e256dbc082950ae82258/6824a3ca24a8cd8416881dca_mozzarella-2.png",
          "x": 170,
          "xanchor": "center",
          "xref": "x",
          "y": -190,
          "yanchor": "middle",
          "yref": "y"
         },
         {
          "layer": "above",
          "sizex": 10,
          "sizey": 30,
          "source": "https://cdn.prod.website-files.com/6636e256dbc082950ae82258/6824a3caa1b4b328bc4a44cd_halloumi-1.png",
          "x": 170,
          "xanchor": "center",
          "xref": "x",
          "y": -180,
          "yanchor": "middle",
          "yref": "y"
         },
         {
          "layer": "above",
          "sizex": 10,
          "sizey": 30,
          "source": "https://cdn.prod.website-files.com/6636e256dbc082950ae82258/6824a3ca4b57898347596d27_parmesan-5.png",
          "x": 170,
          "xanchor": "center",
          "xref": "x",
          "y": -170,
          "yanchor": "middle",
          "yref": "y"
         },
         {
          "layer": "above",
          "sizex": 10,
          "sizey": 30,
          "source": "https://cdn.prod.website-files.com/6636e256dbc082950ae82258/6824a49ca65da89d757c39cf_mushroom-1.png",
          "x": 350,
          "xanchor": "center",
          "xref": "x",
          "y": 10,
          "yanchor": "middle",
          "yref": "y"
         },
         {
          "layer": "above",
          "sizex": 10,
          "sizey": 30,
          "source": "https://cdn.prod.website-files.com/6636e256dbc082950ae82258/6824a3cbb1c7e172fb8a4a2a_kale-2.png!sw800.png",
          "x": 340,
          "xanchor": "center",
          "xref": "x",
          "y": 0,
          "yanchor": "middle",
          "yref": "y"
         },
         {
          "layer": "above",
          "sizex": 10,
          "sizey": 30,
          "source": "https://cdn.prod.website-files.com/6636e256dbc082950ae82258/6824a57275d1b1197fca00e6_gardenpeas-1.png",
          "x": 330,
          "xanchor": "center",
          "xref": "x",
          "y": -10,
          "yanchor": "middle",
          "yref": "y"
         },
         {
          "layer": "above",
          "sizex": 10,
          "sizey": 30,
          "source": "https://cdn.prod.website-files.com/6636e256dbc082950ae82258/6824a3cbff9a735b7a3a95b5_popcorn-2.png",
          "x": 320,
          "xanchor": "center",
          "xref": "x",
          "y": -20,
          "yanchor": "middle",
          "yref": "y"
         },
         {
          "layer": "above",
          "sizex": 10,
          "sizey": 30,
          "source": "https://cdn.prod.website-files.com/6636e256dbc082950ae82258/6824a49c87ba29961e8ed870_quinoa-1.png",
          "x": 310,
          "xanchor": "center",
          "xref": "x",
          "y": -30,
          "yanchor": "middle",
          "yref": "y"
         },
         {
          "layer": "above",
          "sizex": 10,
          "sizey": 30,
          "source": "https://cdn.prod.website-files.com/6636e256dbc082950ae82258/6824a3ca8314a2a90c24d47f_walnut-1.png",
          "x": 300,
          "xanchor": "center",
          "xref": "x",
          "y": -40,
          "yanchor": "middle",
          "yref": "y"
         },
         {
          "layer": "above",
          "sizex": 10,
          "sizey": 30,
          "source": "https://cdn.prod.website-files.com/6636e256dbc082950ae82258/6824a3cad9dc1598b2ce1600_chia-1.png",
          "x": 290,
          "xanchor": "center",
          "xref": "x",
          "y": -50,
          "yanchor": "middle",
          "yref": "y"
         },
         {
          "layer": "above",
          "sizex": 10,
          "sizey": 30,
          "source": "https://cdn.prod.website-files.com/6636e256dbc082950ae82258/6824a3cad57f8ad0f8df24c2_tofu-1.png",
          "x": 280,
          "xanchor": "center",
          "xref": "x",
          "y": -60,
          "yanchor": "middle",
          "yref": "y"
         },
         {
          "layer": "above",
          "sizex": 10,
          "sizey": 30,
          "source": "https://cdn.prod.website-files.com/6636e256dbc082950ae82258/6824a3ca6899efa875385182_cashew-1.png",
          "x": 270,
          "xanchor": "center",
          "xref": "x",
          "y": -70,
          "yanchor": "middle",
          "yref": "y"
         },
         {
          "layer": "above",
          "sizex": 10,
          "sizey": 30,
          "source": "https://cdn.prod.website-files.com/6636e256dbc082950ae82258/6824a3ccdaa433b7f8272386_sunflower-seed-1.png",
          "x": 260,
          "xanchor": "center",
          "xref": "x",
          "y": -80,
          "yanchor": "middle",
          "yref": "y"
         },
         {
          "layer": "above",
          "sizex": 10,
          "sizey": 30,
          "source": "https://cdn.prod.website-files.com/6636e256dbc082950ae82258/6824a3caa42a63e22fc626e1_chickpea-1.png",
          "x": 250,
          "xanchor": "center",
          "xref": "x",
          "y": -90,
          "yanchor": "middle",
          "yref": "y"
         },
         {
          "layer": "above",
          "sizex": 10,
          "sizey": 30,
          "source": "https://cdn.prod.website-files.com/6636e256dbc082950ae82258/6824a3cab2a7604978254955_almond-2.png",
          "x": 240,
          "xanchor": "center",
          "xref": "x",
          "y": -100,
          "yanchor": "middle",
          "yref": "y"
         },
         {
          "layer": "above",
          "sizex": 10,
          "sizey": 30,
          "source": "https://cdn.prod.website-files.com/6636e256dbc082950ae82258/6824a3cc7744a28169c85262_peanuts.png",
          "x": 230,
          "xanchor": "center",
          "xref": "x",
          "y": -110,
          "yanchor": "middle",
          "yref": "y"
         },
         {
          "layer": "above",
          "sizex": 10,
          "sizey": 30,
          "source": "https://cdn.prod.website-files.com/6636e256dbc082950ae82258/6824a3cb9a8dbf569d4487d6_lentils-2.png",
          "x": 220,
          "xanchor": "center",
          "xref": "x",
          "y": -120,
          "yanchor": "middle",
          "yref": "y"
         },
         {
          "layer": "above",
          "sizex": 10,
          "sizey": 30,
          "source": "https://cdn.prod.website-files.com/6636e256dbc082950ae82258/6824a3ca37401f584e3060e5_beans-3.png",
          "x": 210,
          "xanchor": "center",
          "xref": "x",
          "y": -130,
          "yanchor": "middle",
          "yref": "y"
         },
         {
          "layer": "above",
          "sizex": 10,
          "sizey": 30,
          "source": "https://cdn.prod.website-files.com/6636e256dbc082950ae82258/6824a3cad57f8ad0f8df249f_pumpikinseed-1.png",
          "x": 200,
          "xanchor": "center",
          "xref": "x",
          "y": -140,
          "yanchor": "middle",
          "yref": "y"
         }
        ],
        "margin": {
         "b": 60,
         "l": 30,
         "r": 60,
         "t": 30
        },
        "plot_bgcolor": "white",
        "showlegend": false,
        "template": {
         "data": {
          "bar": [
           {
            "error_x": {
             "color": "#2a3f5f"
            },
            "error_y": {
             "color": "#2a3f5f"
            },
            "marker": {
             "line": {
              "color": "#E5ECF6",
              "width": 0.5
             },
             "pattern": {
              "fillmode": "overlay",
              "size": 10,
              "solidity": 0.2
             }
            },
            "type": "bar"
           }
          ],
          "barpolar": [
           {
            "marker": {
             "line": {
              "color": "#E5ECF6",
              "width": 0.5
             },
             "pattern": {
              "fillmode": "overlay",
              "size": 10,
              "solidity": 0.2
             }
            },
            "type": "barpolar"
           }
          ],
          "carpet": [
           {
            "aaxis": {
             "endlinecolor": "#2a3f5f",
             "gridcolor": "white",
             "linecolor": "white",
             "minorgridcolor": "white",
             "startlinecolor": "#2a3f5f"
            },
            "baxis": {
             "endlinecolor": "#2a3f5f",
             "gridcolor": "white",
             "linecolor": "white",
             "minorgridcolor": "white",
             "startlinecolor": "#2a3f5f"
            },
            "type": "carpet"
           }
          ],
          "choropleth": [
           {
            "colorbar": {
             "outlinewidth": 0,
             "ticks": ""
            },
            "type": "choropleth"
           }
          ],
          "contour": [
           {
            "colorbar": {
             "outlinewidth": 0,
             "ticks": ""
            },
            "colorscale": [
             [
              0,
              "#0d0887"
             ],
             [
              0.1111111111111111,
              "#46039f"
             ],
             [
              0.2222222222222222,
              "#7201a8"
             ],
             [
              0.3333333333333333,
              "#9c179e"
             ],
             [
              0.4444444444444444,
              "#bd3786"
             ],
             [
              0.5555555555555556,
              "#d8576b"
             ],
             [
              0.6666666666666666,
              "#ed7953"
             ],
             [
              0.7777777777777778,
              "#fb9f3a"
             ],
             [
              0.8888888888888888,
              "#fdca26"
             ],
             [
              1,
              "#f0f921"
             ]
            ],
            "type": "contour"
           }
          ],
          "contourcarpet": [
           {
            "colorbar": {
             "outlinewidth": 0,
             "ticks": ""
            },
            "type": "contourcarpet"
           }
          ],
          "heatmap": [
           {
            "colorbar": {
             "outlinewidth": 0,
             "ticks": ""
            },
            "colorscale": [
             [
              0,
              "#0d0887"
             ],
             [
              0.1111111111111111,
              "#46039f"
             ],
             [
              0.2222222222222222,
              "#7201a8"
             ],
             [
              0.3333333333333333,
              "#9c179e"
             ],
             [
              0.4444444444444444,
              "#bd3786"
             ],
             [
              0.5555555555555556,
              "#d8576b"
             ],
             [
              0.6666666666666666,
              "#ed7953"
             ],
             [
              0.7777777777777778,
              "#fb9f3a"
             ],
             [
              0.8888888888888888,
              "#fdca26"
             ],
             [
              1,
              "#f0f921"
             ]
            ],
            "type": "heatmap"
           }
          ],
          "heatmapgl": [
           {
            "colorbar": {
             "outlinewidth": 0,
             "ticks": ""
            },
            "colorscale": [
             [
              0,
              "#0d0887"
             ],
             [
              0.1111111111111111,
              "#46039f"
             ],
             [
              0.2222222222222222,
              "#7201a8"
             ],
             [
              0.3333333333333333,
              "#9c179e"
             ],
             [
              0.4444444444444444,
              "#bd3786"
             ],
             [
              0.5555555555555556,
              "#d8576b"
             ],
             [
              0.6666666666666666,
              "#ed7953"
             ],
             [
              0.7777777777777778,
              "#fb9f3a"
             ],
             [
              0.8888888888888888,
              "#fdca26"
             ],
             [
              1,
              "#f0f921"
             ]
            ],
            "type": "heatmapgl"
           }
          ],
          "histogram": [
           {
            "marker": {
             "pattern": {
              "fillmode": "overlay",
              "size": 10,
              "solidity": 0.2
             }
            },
            "type": "histogram"
           }
          ],
          "histogram2d": [
           {
            "colorbar": {
             "outlinewidth": 0,
             "ticks": ""
            },
            "colorscale": [
             [
              0,
              "#0d0887"
             ],
             [
              0.1111111111111111,
              "#46039f"
             ],
             [
              0.2222222222222222,
              "#7201a8"
             ],
             [
              0.3333333333333333,
              "#9c179e"
             ],
             [
              0.4444444444444444,
              "#bd3786"
             ],
             [
              0.5555555555555556,
              "#d8576b"
             ],
             [
              0.6666666666666666,
              "#ed7953"
             ],
             [
              0.7777777777777778,
              "#fb9f3a"
             ],
             [
              0.8888888888888888,
              "#fdca26"
             ],
             [
              1,
              "#f0f921"
             ]
            ],
            "type": "histogram2d"
           }
          ],
          "histogram2dcontour": [
           {
            "colorbar": {
             "outlinewidth": 0,
             "ticks": ""
            },
            "colorscale": [
             [
              0,
              "#0d0887"
             ],
             [
              0.1111111111111111,
              "#46039f"
             ],
             [
              0.2222222222222222,
              "#7201a8"
             ],
             [
              0.3333333333333333,
              "#9c179e"
             ],
             [
              0.4444444444444444,
              "#bd3786"
             ],
             [
              0.5555555555555556,
              "#d8576b"
             ],
             [
              0.6666666666666666,
              "#ed7953"
             ],
             [
              0.7777777777777778,
              "#fb9f3a"
             ],
             [
              0.8888888888888888,
              "#fdca26"
             ],
             [
              1,
              "#f0f921"
             ]
            ],
            "type": "histogram2dcontour"
           }
          ],
          "mesh3d": [
           {
            "colorbar": {
             "outlinewidth": 0,
             "ticks": ""
            },
            "type": "mesh3d"
           }
          ],
          "parcoords": [
           {
            "line": {
             "colorbar": {
              "outlinewidth": 0,
              "ticks": ""
             }
            },
            "type": "parcoords"
           }
          ],
          "pie": [
           {
            "automargin": true,
            "type": "pie"
           }
          ],
          "scatter": [
           {
            "fillpattern": {
             "fillmode": "overlay",
             "size": 10,
             "solidity": 0.2
            },
            "type": "scatter"
           }
          ],
          "scatter3d": [
           {
            "line": {
             "colorbar": {
              "outlinewidth": 0,
              "ticks": ""
             }
            },
            "marker": {
             "colorbar": {
              "outlinewidth": 0,
              "ticks": ""
             }
            },
            "type": "scatter3d"
           }
          ],
          "scattercarpet": [
           {
            "marker": {
             "colorbar": {
              "outlinewidth": 0,
              "ticks": ""
             }
            },
            "type": "scattercarpet"
           }
          ],
          "scattergeo": [
           {
            "marker": {
             "colorbar": {
              "outlinewidth": 0,
              "ticks": ""
             }
            },
            "type": "scattergeo"
           }
          ],
          "scattergl": [
           {
            "marker": {
             "colorbar": {
              "outlinewidth": 0,
              "ticks": ""
             }
            },
            "type": "scattergl"
           }
          ],
          "scattermapbox": [
           {
            "marker": {
             "colorbar": {
              "outlinewidth": 0,
              "ticks": ""
             }
            },
            "type": "scattermapbox"
           }
          ],
          "scatterpolar": [
           {
            "marker": {
             "colorbar": {
              "outlinewidth": 0,
              "ticks": ""
             }
            },
            "type": "scatterpolar"
           }
          ],
          "scatterpolargl": [
           {
            "marker": {
             "colorbar": {
              "outlinewidth": 0,
              "ticks": ""
             }
            },
            "type": "scatterpolargl"
           }
          ],
          "scatterternary": [
           {
            "marker": {
             "colorbar": {
              "outlinewidth": 0,
              "ticks": ""
             }
            },
            "type": "scatterternary"
           }
          ],
          "surface": [
           {
            "colorbar": {
             "outlinewidth": 0,
             "ticks": ""
            },
            "colorscale": [
             [
              0,
              "#0d0887"
             ],
             [
              0.1111111111111111,
              "#46039f"
             ],
             [
              0.2222222222222222,
              "#7201a8"
             ],
             [
              0.3333333333333333,
              "#9c179e"
             ],
             [
              0.4444444444444444,
              "#bd3786"
             ],
             [
              0.5555555555555556,
              "#d8576b"
             ],
             [
              0.6666666666666666,
              "#ed7953"
             ],
             [
              0.7777777777777778,
              "#fb9f3a"
             ],
             [
              0.8888888888888888,
              "#fdca26"
             ],
             [
              1,
              "#f0f921"
             ]
            ],
            "type": "surface"
           }
          ],
          "table": [
           {
            "cells": {
             "fill": {
              "color": "#EBF0F8"
             },
             "line": {
              "color": "white"
             }
            },
            "header": {
             "fill": {
              "color": "#C8D4E3"
             },
             "line": {
              "color": "white"
             }
            },
            "type": "table"
           }
          ]
         },
         "layout": {
          "annotationdefaults": {
           "arrowcolor": "#2a3f5f",
           "arrowhead": 0,
           "arrowwidth": 1
          },
          "autotypenumbers": "strict",
          "coloraxis": {
           "colorbar": {
            "outlinewidth": 0,
            "ticks": ""
           }
          },
          "colorscale": {
           "diverging": [
            [
             0,
             "#8e0152"
            ],
            [
             0.1,
             "#c51b7d"
            ],
            [
             0.2,
             "#de77ae"
            ],
            [
             0.3,
             "#f1b6da"
            ],
            [
             0.4,
             "#fde0ef"
            ],
            [
             0.5,
             "#f7f7f7"
            ],
            [
             0.6,
             "#e6f5d0"
            ],
            [
             0.7,
             "#b8e186"
            ],
            [
             0.8,
             "#7fbc41"
            ],
            [
             0.9,
             "#4d9221"
            ],
            [
             1,
             "#276419"
            ]
           ],
           "sequential": [
            [
             0,
             "#0d0887"
            ],
            [
             0.1111111111111111,
             "#46039f"
            ],
            [
             0.2222222222222222,
             "#7201a8"
            ],
            [
             0.3333333333333333,
             "#9c179e"
            ],
            [
             0.4444444444444444,
             "#bd3786"
            ],
            [
             0.5555555555555556,
             "#d8576b"
            ],
            [
             0.6666666666666666,
             "#ed7953"
            ],
            [
             0.7777777777777778,
             "#fb9f3a"
            ],
            [
             0.8888888888888888,
             "#fdca26"
            ],
            [
             1,
             "#f0f921"
            ]
           ],
           "sequentialminus": [
            [
             0,
             "#0d0887"
            ],
            [
             0.1111111111111111,
             "#46039f"
            ],
            [
             0.2222222222222222,
             "#7201a8"
            ],
            [
             0.3333333333333333,
             "#9c179e"
            ],
            [
             0.4444444444444444,
             "#bd3786"
            ],
            [
             0.5555555555555556,
             "#d8576b"
            ],
            [
             0.6666666666666666,
             "#ed7953"
            ],
            [
             0.7777777777777778,
             "#fb9f3a"
            ],
            [
             0.8888888888888888,
             "#fdca26"
            ],
            [
             1,
             "#f0f921"
            ]
           ]
          },
          "colorway": [
           "#636efa",
           "#EF553B",
           "#00cc96",
           "#ab63fa",
           "#FFA15A",
           "#19d3f3",
           "#FF6692",
           "#B6E880",
           "#FF97FF",
           "#FECB52"
          ],
          "font": {
           "color": "#2a3f5f"
          },
          "geo": {
           "bgcolor": "white",
           "lakecolor": "white",
           "landcolor": "#E5ECF6",
           "showlakes": true,
           "showland": true,
           "subunitcolor": "white"
          },
          "hoverlabel": {
           "align": "left"
          },
          "hovermode": "closest",
          "mapbox": {
           "style": "light"
          },
          "paper_bgcolor": "white",
          "plot_bgcolor": "#E5ECF6",
          "polar": {
           "angularaxis": {
            "gridcolor": "white",
            "linecolor": "white",
            "ticks": ""
           },
           "bgcolor": "#E5ECF6",
           "radialaxis": {
            "gridcolor": "white",
            "linecolor": "white",
            "ticks": ""
           }
          },
          "scene": {
           "xaxis": {
            "backgroundcolor": "#E5ECF6",
            "gridcolor": "white",
            "gridwidth": 2,
            "linecolor": "white",
            "showbackground": true,
            "ticks": "",
            "zerolinecolor": "white"
           },
           "yaxis": {
            "backgroundcolor": "#E5ECF6",
            "gridcolor": "white",
            "gridwidth": 2,
            "linecolor": "white",
            "showbackground": true,
            "ticks": "",
            "zerolinecolor": "white"
           },
           "zaxis": {
            "backgroundcolor": "#E5ECF6",
            "gridcolor": "white",
            "gridwidth": 2,
            "linecolor": "white",
            "showbackground": true,
            "ticks": "",
            "zerolinecolor": "white"
           }
          },
          "shapedefaults": {
           "line": {
            "color": "#2a3f5f"
           }
          },
          "ternary": {
           "aaxis": {
            "gridcolor": "white",
            "linecolor": "white",
            "ticks": ""
           },
           "baxis": {
            "gridcolor": "white",
            "linecolor": "white",
            "ticks": ""
           },
           "bgcolor": "#E5ECF6",
           "caxis": {
            "gridcolor": "white",
            "linecolor": "white",
            "ticks": ""
           }
          },
          "title": {
           "x": 0.05
          },
          "xaxis": {
           "automargin": true,
           "gridcolor": "white",
           "linecolor": "white",
           "ticks": "",
           "title": {
            "standoff": 15
           },
           "zerolinecolor": "white",
           "zerolinewidth": 2
          },
          "yaxis": {
           "automargin": true,
           "gridcolor": "white",
           "linecolor": "white",
           "ticks": "",
           "title": {
            "standoff": 15
           },
           "zerolinecolor": "white",
           "zerolinewidth": 2
          }
         }
        },
        "title": {
         "text": ""
        },
        "xaxis": {
         "autorange": true,
         "range": [
          -17.71366405570061,
          373.71366405570063
         ],
         "showgrid": false,
         "showticklabels": false,
         "type": "linear",
         "zeroline": false
        },
        "yaxis": {
         "autorange": true,
         "range": [
          -332.27848101265823,
          32.278481012658226
         ],
         "showgrid": false,
         "showticklabels": false,
         "type": "linear",
         "zeroline": false
        }
       }
      },
      "image/png": "[encoded data removed]",
      "text/html": [
       "<div>                            <div id=\"8108f47b-e21e-4d56-b9cc-e2985d9d8f82\" class=\"plotly-graph-div\" style=\"height:525px; width:100%;\"></div>            <script type=\"text/javascript\">                require([\"plotly\"], function(Plotly) {                    window.PLOTLYENV=window.PLOTLYENV || {};                                    if (document.getElementById(\"8108f47b-e21e-4d56-b9cc-e2985d9d8f82\")) {                    Plotly.newPlot(                        \"8108f47b-e21e-4d56-b9cc-e2985d9d8f82\",                        [{\"hoverinfo\":\"none\",\"line\":{\"color\":\"rgba(0, 151, 120, 0.4)\",\"shape\":\"spline\",\"smoothing\":1.3,\"width\":1},\"mode\":\"lines\",\"showlegend\":false,\"x\":[240,233.1502935045133,170],\"y\":[-100,-205.3711607648207,-290],\"type\":\"scatter\"},{\"hoverinfo\":\"none\",\"line\":{\"color\":\"rgba(127, 70, 228, 0.4)\",\"shape\":\"spline\",\"smoothing\":1.3,\"width\":8},\"mode\":\"lines\",\"showlegend\":false,\"x\":[140,184.10427500435995,170],\"y\":[-140,-192.72393124891002,-260],\"type\":\"scatter\"},{\"hoverinfo\":\"none\",\"line\":{\"color\":\"rgba(0, 151, 120, 0.4)\",\"shape\":\"spline\",\"smoothing\":1.3,\"width\":8},\"mode\":\"lines\",\"showlegend\":false,\"x\":[210,219.28561180551858,170],\"y\":[-130,-226.50791373455968,-310],\"type\":\"scatter\"},{\"hoverinfo\":\"none\",\"line\":{\"color\":\"rgba(127, 166, 139, 0.4)\",\"shape\":\"spline\",\"smoothing\":1.3,\"width\":4},\"mode\":\"lines\",\"showlegend\":false,\"x\":[210,99.96891188374886,20],\"y\":[-130,-100.9627885644338,-20],\"type\":\"scatter\"},{\"hoverinfo\":\"none\",\"line\":{\"color\":\"rgba(127, 166, 139, 0.4)\",\"shape\":\"spline\",\"smoothing\":1.3,\"width\":1},\"mode\":\"lines\",\"showlegend\":false,\"x\":[210,154.11651594585447,110],\"y\":[-130,-149.4174202707276,-110],\"type\":\"scatter\"},{\"hoverinfo\":\"none\",\"line\":{\"color\":\"rgba(127, 70, 228, 0.4)\",\"shape\":\"spline\",\"smoothing\":1.3,\"width\":4},\"mode\":\"lines\",\"showlegend\":false,\"x\":[50,137.23878153501354,170],\"y\":[-50,-167.4282546761476,-310],\"type\":\"scatter\"},{\"hoverinfo\":\"none\",\"line\":{\"color\":\"rgba(0, 151, 120, 0.4)\",\"shape\":\"spline\",\"smoothing\":1.3,\"width\":8},\"mode\":\"lines\",\"showlegend\":false,\"x\":[170,210.67962314800357,300],\"y\":[-220,-112.43528338466925,-40],\"type\":\"scatter\"},{\"hoverinfo\":\"none\",\"line\":{\"color\":\"rgba(0, 151, 120, 0.4)\",\"shape\":\"spline\",\"smoothing\":1.3,\"width\":8},\"mode\":\"lines\",\"showlegend\":false,\"x\":[170,210.24078216250504,300],\"y\":[-230,-118.0594825322403,-40],\"type\":\"scatter\"},{\"hoverinfo\":\"none\",\"line\":{\"color\":\"rgba(0, 151, 120, 0.4)\",\"shape\":\"spline\",\"smoothing\":1.3,\"width\":8},\"mode\":\"lines\",\"showlegend\":false,\"x\":[170,233.85273388626354,350],\"y\":[-310,-135.29216281102322,10],\"type\":\"scatter\"},{\"hoverinfo\":\"none\",\"line\":{\"color\":\"rgba(0, 151, 120, 0.4)\",\"shape\":\"spline\",\"smoothing\":1.3,\"width\":4},\"mode\":\"lines\",\"showlegend\":false,\"x\":[170,209.8466915109809,300],\"y\":[-240,-123.65034948213759,-40],\"type\":\"scatter\"},{\"hoverinfo\":\"none\",\"line\":{\"color\":\"rgba(2, 230, 2, 0.4)\",\"shape\":\"spline\",\"smoothing\":1.3,\"width\":1},\"mode\":\"lines\",\"showlegend\":false,\"x\":[270,253.78679656440357,280],\"y\":[-70,-43.78679656440357,-60],\"type\":\"scatter\"},{\"hoverinfo\":\"none\",\"line\":{\"color\":\"rgba(127, 70, 228, 0.4)\",\"shape\":\"spline\",\"smoothing\":1.3,\"width\":8},\"mode\":\"lines\",\"showlegend\":false,\"x\":[170,101.0,80],\"y\":[-200,-158.0,-80],\"type\":\"scatter\"},{\"hoverinfo\":\"none\",\"line\":{\"color\":\"rgba(0, 44, 255, 0.4)\",\"shape\":\"spline\",\"smoothing\":1.3,\"width\":4},\"mode\":\"lines\",\"showlegend\":false,\"x\":[170,200.0,170],\"y\":[-200,-230.0,-260],\"type\":\"scatter\"},{\"hoverinfo\":\"none\",\"line\":{\"color\":\"rgba(0, 151, 120, 0.4)\",\"shape\":\"spline\",\"smoothing\":1.3,\"width\":1},\"mode\":\"lines\",\"showlegend\":false,\"x\":[290,256.8328157299975,170],\"y\":[-50,-183.41640786499875,-290],\"type\":\"scatter\"},{\"hoverinfo\":\"none\",\"line\":{\"color\":\"rgba(127, 166, 139, 0.4)\",\"shape\":\"spline\",\"smoothing\":1.3,\"width\":8},\"mode\":\"lines\",\"showlegend\":false,\"x\":[100,212.91784157201948,350],\"y\":[-100,-17.540549027317034,10],\"type\":\"scatter\"},{\"hoverinfo\":\"none\",\"line\":{\"color\":\"rgba(127, 166, 139, 0.4)\",\"shape\":\"spline\",\"smoothing\":1.3,\"width\":4},\"mode\":\"lines\",\"showlegend\":false,\"x\":[100,195.51316701949486,310],\"y\":[-100,-36.53950105848458,-30],\"type\":\"scatter\"},{\"hoverinfo\":\"none\",\"line\":{\"color\":\"rgba(127, 70, 228, 0.4)\",\"shape\":\"spline\",\"smoothing\":1.3,\"width\":8},\"mode\":\"lines\",\"showlegend\":false,\"x\":[30,126.41413299766526,170],\"y\":[-30,-145.77700530894947,-290],\"type\":\"scatter\"},{\"hoverinfo\":\"none\",\"line\":{\"color\":\"rgba(127, 70, 228, 0.4)\",\"shape\":\"spline\",\"smoothing\":1.3,\"width\":4},\"mode\":\"lines\",\"showlegend\":false,\"x\":[30,126.83281572999748,170],\"y\":[-30,-156.58359213500125,-310],\"type\":\"scatter\"},{\"hoverinfo\":\"none\",\"line\":{\"color\":\"rgba(127, 70, 228, 0.4)\",\"shape\":\"spline\",\"smoothing\":1.3,\"width\":4},\"mode\":\"lines\",\"showlegend\":false,\"x\":[10,116.47058823529412,170],\"y\":[-10,-145.88235294117646,-310],\"type\":\"scatter\"},{\"hoverinfo\":\"none\",\"line\":{\"color\":\"rgba(0, 151, 120, 0.4)\",\"shape\":\"spline\",\"smoothing\":1.3,\"width\":8},\"mode\":\"lines\",\"showlegend\":false,\"x\":[170,219.27521222862367,320],\"y\":[-270,-129.5651273371742,-20],\"type\":\"scatter\"},{\"hoverinfo\":\"none\",\"line\":{\"color\":\"rgba(0, 44, 255, 0.4)\",\"shape\":\"spline\",\"smoothing\":1.3,\"width\":4},\"mode\":\"lines\",\"showlegend\":false,\"x\":[170,200.0,170],\"y\":[-270,-280.0,-290],\"type\":\"scatter\"},{\"hoverinfo\":\"none\",\"line\":{\"color\":\"rgba(0, 151, 120, 0.4)\",\"shape\":\"spline\",\"smoothing\":1.3,\"width\":8},\"mode\":\"lines\",\"showlegend\":false,\"x\":[170,230.19220493791414,340],\"y\":[-250,-108.13069935778162,0],\"type\":\"scatter\"},{\"hoverinfo\":\"none\",\"line\":{\"color\":\"rgba(0, 151, 120, 0.4)\",\"shape\":\"spline\",\"smoothing\":1.3,\"width\":1},\"mode\":\"lines\",\"showlegend\":false,\"x\":[330,276.47058823529414,170],\"y\":[-10,-174.11764705882354,-310],\"type\":\"scatter\"},{\"hoverinfo\":\"none\",\"line\":{\"color\":\"rgba(0, 151, 120, 0.4)\",\"shape\":\"spline\",\"smoothing\":1.3,\"width\":4},\"mode\":\"lines\",\"showlegend\":false,\"x\":[170,211.16926501068411,300],\"y\":[-210,-106.77649677287609,-40],\"type\":\"scatter\"},{\"hoverinfo\":\"none\",\"line\":{\"color\":\"rgba(0, 44, 255, 0.4)\",\"shape\":\"spline\",\"smoothing\":1.3,\"width\":4},\"mode\":\"lines\",\"showlegend\":false,\"x\":[170,200.0,170],\"y\":[-190,-225.0,-260],\"type\":\"scatter\"},{\"hoverinfo\":\"none\",\"line\":{\"color\":\"rgba(0, 44, 255, 0.4)\",\"shape\":\"spline\",\"smoothing\":1.3,\"width\":8},\"mode\":\"lines\",\"showlegend\":false,\"x\":[170,200.0,170],\"y\":[-170,-240.0,-310],\"type\":\"scatter\"},{\"hoverinfo\":\"none\",\"line\":{\"color\":\"rgba(0, 44, 255, 0.4)\",\"shape\":\"spline\",\"smoothing\":1.3,\"width\":4},\"mode\":\"lines\",\"showlegend\":false,\"x\":[170,200.0,170],\"y\":[-170,-225.0,-280],\"type\":\"scatter\"},{\"hoverinfo\":\"none\",\"line\":{\"color\":\"rgba(0, 151, 120, 0.4)\",\"shape\":\"spline\",\"smoothing\":1.3,\"width\":1},\"mode\":\"lines\",\"showlegend\":false,\"x\":[170,173.78679656440357,220],\"y\":[-170,-123.78679656440357,-120],\"type\":\"scatter\"},{\"hoverinfo\":\"none\",\"line\":{\"color\":\"rgba(2, 230, 2, 0.4)\",\"shape\":\"spline\",\"smoothing\":1.3,\"width\":8},\"mode\":\"lines\",\"showlegend\":false,\"x\":[230,253.78679656440357,320],\"y\":[-110,-43.78679656440357,-20],\"type\":\"scatter\"},{\"hoverinfo\":\"none\",\"line\":{\"color\":\"rgba(0, 151, 120, 0.4)\",\"shape\":\"spline\",\"smoothing\":1.3,\"width\":1},\"mode\":\"lines\",\"showlegend\":false,\"x\":[320,271.22471828364615,170],\"y\":[-20,-169.56928793535897,-290],\"type\":\"scatter\"},{\"hoverinfo\":\"none\",\"line\":{\"color\":\"rgba(127, 166, 139, 0.4)\",\"shape\":\"spline\",\"smoothing\":1.3,\"width\":4},\"mode\":\"lines\",\"showlegend\":false,\"x\":[120,220.23828229996295,350],\"y\":[-120,-28.883114838395972,10],\"type\":\"scatter\"},{\"hoverinfo\":\"none\",\"line\":{\"color\":\"rgba(127, 70, 228, 0.4)\",\"shape\":\"spline\",\"smoothing\":1.3,\"width\":8},\"mode\":\"lines\",\"showlegend\":false,\"x\":[20,120.43994912015265,170],\"y\":[-20,-124.1000317999046,-260],\"type\":\"scatter\"},{\"hoverinfo\":\"none\",\"line\":{\"color\":\"rgba(127, 70, 228, 0.4)\",\"shape\":\"spline\",\"smoothing\":1.3,\"width\":4},\"mode\":\"lines\",\"showlegend\":false,\"x\":[0,111.30437226013957,170],\"y\":[0,-140.57502166379444,-310],\"type\":\"scatter\"},{\"hoverinfo\":\"none\",\"line\":{\"color\":\"rgba(2, 230, 2, 0.4)\",\"shape\":\"spline\",\"smoothing\":1.3,\"width\":1},\"mode\":\"lines\",\"showlegend\":false,\"x\":[200,203.78679656440357,250],\"y\":[-140,-93.78679656440357,-90],\"type\":\"scatter\"},{\"hoverinfo\":\"none\",\"line\":{\"color\":\"rgba(2, 230, 2, 0.4)\",\"shape\":\"spline\",\"smoothing\":1.3,\"width\":1},\"mode\":\"lines\",\"showlegend\":false,\"x\":[200,233.78679656440357,310],\"y\":[-140,-63.78679656440357,-30],\"type\":\"scatter\"},{\"hoverinfo\":\"none\",\"line\":{\"color\":\"rgba(2, 230, 2, 0.4)\",\"shape\":\"spline\",\"smoothing\":1.3,\"width\":1},\"mode\":\"lines\",\"showlegend\":false,\"x\":[310,303.7867965644036,340],\"y\":[-30,6.213203435596423,0],\"type\":\"scatter\"},{\"hoverinfo\":\"none\",\"line\":{\"color\":\"rgba(127, 70, 228, 0.4)\",\"shape\":\"spline\",\"smoothing\":1.3,\"width\":8},\"mode\":\"lines\",\"showlegend\":false,\"x\":[70,147.69230769230768,170],\"y\":[-70,-178.46153846153845,-310],\"type\":\"scatter\"},{\"hoverinfo\":\"none\",\"line\":{\"color\":\"rgba(127, 166, 139, 0.4)\",\"shape\":\"spline\",\"smoothing\":1.3,\"width\":4},\"mode\":\"lines\",\"showlegend\":false,\"x\":[70,185.06803038083928,310],\"y\":[-70,-20.408182285035686,-30],\"type\":\"scatter\"},{\"hoverinfo\":\"none\",\"line\":{\"color\":\"rgba(2, 230, 2, 0.4)\",\"shape\":\"spline\",\"smoothing\":1.3,\"width\":1},\"mode\":\"lines\",\"showlegend\":false,\"x\":[260,268.7867965644036,320],\"y\":[-80,-28.786796564403577,-20],\"type\":\"scatter\"},{\"hoverinfo\":\"none\",\"line\":{\"color\":\"rgba(2, 230, 2, 0.4)\",\"shape\":\"spline\",\"smoothing\":1.3,\"width\":8},\"mode\":\"lines\",\"showlegend\":false,\"x\":[280,293.7867965644036,350],\"y\":[-60,-3.786796564403577,10],\"type\":\"scatter\"},{\"hoverinfo\":\"none\",\"line\":{\"color\":\"rgba(2, 230, 2, 0.4)\",\"shape\":\"spline\",\"smoothing\":1.3,\"width\":4},\"mode\":\"lines\",\"showlegend\":false,\"x\":[280,288.7867965644036,340],\"y\":[-60,-8.786796564403577,0],\"type\":\"scatter\"},{\"hoverinfo\":\"none\",\"line\":{\"color\":\"rgba(0, 151, 120, 0.4)\",\"shape\":\"spline\",\"smoothing\":1.3,\"width\":1},\"mode\":\"lines\",\"showlegend\":false,\"x\":[280,251.28647726029942,170],\"y\":[-60,-174.4575624931647,-260],\"type\":\"scatter\"},{\"hovertemplate\":\"\\u003cb\\u003e\\u003c\\u002fb\\u003e \\u003cbr\\u003e  \\u003cb\\u003eAlmonds + Yogurt  \\u003c\\u002fb\\u003e\\u003cbr\\u003e  Total protein: 25.2g  \\u003cbr\\u003e  Acceptable pairing or complementary nutrition  \\u003cbr\\u003e\\u003cb\\u003e\\u003c\\u002fb\\u003e \\u003cbr\\u003e\\u003cextra\\u003e\\u003c\\u002fextra\\u003e\",\"marker\":{\"color\":\"rgba(0, 151, 120, 0.4)\",\"opacity\":1,\"size\":3},\"mode\":\"markers\",\"showlegend\":false,\"x\":[233.1502935045133],\"y\":[-205.3711607648207],\"type\":\"scatter\"},{\"hovertemplate\":\"\\u003cb\\u003e\\u003c\\u002fb\\u003e \\u003cbr\\u003e  \\u003cb\\u003eBacon + Egg  \\u003c\\u002fb\\u003e\\u003cbr\\u003e  Total protein: 53.3g  \\u003cbr\\u003e  Strong classic combination  \\u003cbr\\u003e\\u003cb\\u003e\\u003c\\u002fb\\u003e \\u003cbr\\u003e\\u003cextra\\u003e\\u003c\\u002fextra\\u003e\",\"marker\":{\"color\":\"rgba(127, 70, 228, 0.4)\",\"opacity\":1,\"size\":3},\"mode\":\"markers\",\"showlegend\":false,\"x\":[184.10427500435995],\"y\":[-192.72393124891002],\"type\":\"scatter\"},{\"hovertemplate\":\"\\u003cb\\u003e\\u003c\\u002fb\\u003e \\u003cbr\\u003e  \\u003cb\\u003eBeans + Butter  \\u003c\\u002fb\\u003e\\u003cbr\\u003e  Total protein: 27.8g  \\u003cbr\\u003e  Strong classic combination  \\u003cbr\\u003e\\u003cb\\u003e\\u003c\\u002fb\\u003e \\u003cbr\\u003e\\u003cextra\\u003e\\u003c\\u002fextra\\u003e\",\"marker\":{\"color\":\"rgba(0, 151, 120, 0.4)\",\"opacity\":1,\"size\":3},\"mode\":\"markers\",\"showlegend\":false,\"x\":[219.28561180551858],\"y\":[-226.50791373455968],\"type\":\"scatter\"},{\"hovertemplate\":\"\\u003cb\\u003e\\u003c\\u002fb\\u003e \\u003cbr\\u003e  \\u003cb\\u003eBeans + Pork sausage  \\u003c\\u002fb\\u003e\\u003cbr\\u003e  Total protein: 45.0g  \\u003cbr\\u003e  Good synergy or common usage  \\u003cbr\\u003e\\u003cb\\u003e\\u003c\\u002fb\\u003e \\u003cbr\\u003e\\u003cextra\\u003e\\u003c\\u002fextra\\u003e\",\"marker\":{\"color\":\"rgba(127, 166, 139, 0.4)\",\"opacity\":1,\"size\":3},\"mode\":\"markers\",\"showlegend\":false,\"x\":[99.96891188374886],\"y\":[-100.9627885644338],\"type\":\"scatter\"},{\"hovertemplate\":\"\\u003cb\\u003e\\u003c\\u002fb\\u003e \\u003cbr\\u003e  \\u003cb\\u003eBeans + Chicken wing  \\u003c\\u002fb\\u003e\\u003cbr\\u003e  Total protein: 50.2g  \\u003cbr\\u003e  Acceptable pairing or complementary nutrition  \\u003cbr\\u003e\\u003cb\\u003e\\u003c\\u002fb\\u003e \\u003cbr\\u003e\\u003cextra\\u003e\\u003c\\u002fextra\\u003e\",\"marker\":{\"color\":\"rgba(127, 166, 139, 0.4)\",\"opacity\":1,\"size\":3},\"mode\":\"markers\",\"showlegend\":false,\"x\":[154.11651594585447],\"y\":[-149.4174202707276],\"type\":\"scatter\"},{\"hovertemplate\":\"\\u003cb\\u003e\\u003c\\u002fb\\u003e \\u003cbr\\u003e  \\u003cb\\u003eBeef steak + Butter  \\u003c\\u002fb\\u003e\\u003cbr\\u003e  Total protein: 19.7g  \\u003cbr\\u003e  Good synergy or common usage  \\u003cbr\\u003e\\u003cb\\u003e\\u003c\\u002fb\\u003e \\u003cbr\\u003e\\u003cextra\\u003e\\u003c\\u002fextra\\u003e\",\"marker\":{\"color\":\"rgba(127, 70, 228, 0.4)\",\"opacity\":1,\"size\":3},\"mode\":\"markers\",\"showlegend\":false,\"x\":[137.23878153501354],\"y\":[-167.4282546761476],\"type\":\"scatter\"},{\"hovertemplate\":\"\\u003cb\\u003e\\u003c\\u002fb\\u003e \\u003cbr\\u003e  \\u003cb\\u003eBlue cheese + Walnuts  \\u003c\\u002fb\\u003e\\u003cbr\\u003e  Total protein: 36.0g  \\u003cbr\\u003e  Strong classic combination  \\u003cbr\\u003e\\u003cb\\u003e\\u003c\\u002fb\\u003e \\u003cbr\\u003e\\u003cextra\\u003e\\u003c\\u002fextra\\u003e\",\"marker\":{\"color\":\"rgba(0, 151, 120, 0.4)\",\"opacity\":1,\"size\":3},\"mode\":\"markers\",\"showlegend\":false,\"x\":[210.67962314800357],\"y\":[-112.43528338466925],\"type\":\"scatter\"},{\"hovertemplate\":\"\\u003cb\\u003e\\u003c\\u002fb\\u003e \\u003cbr\\u003e  \\u003cb\\u003eBrie + Walnuts  \\u003c\\u002fb\\u003e\\u003cbr\\u003e  Total protein: 35.4g  \\u003cbr\\u003e  Strong classic combination  \\u003cbr\\u003e\\u003cb\\u003e\\u003c\\u002fb\\u003e \\u003cbr\\u003e\\u003cextra\\u003e\\u003c\\u002fextra\\u003e\",\"marker\":{\"color\":\"rgba(0, 151, 120, 0.4)\",\"opacity\":1,\"size\":3},\"mode\":\"markers\",\"showlegend\":false,\"x\":[210.24078216250504],\"y\":[-118.0594825322403],\"type\":\"scatter\"},{\"hovertemplate\":\"\\u003cb\\u003e\\u003c\\u002fb\\u003e \\u003cbr\\u003e  \\u003cb\\u003eButter + Mushroom  \\u003c\\u002fb\\u003e\\u003cbr\\u003e  Total protein: 3.8g  \\u003cbr\\u003e  Strong classic combination  \\u003cbr\\u003e\\u003cb\\u003e\\u003c\\u002fb\\u003e \\u003cbr\\u003e\\u003cextra\\u003e\\u003c\\u002fextra\\u003e\",\"marker\":{\"color\":\"rgba(0, 151, 120, 0.4)\",\"opacity\":1,\"size\":3},\"mode\":\"markers\",\"showlegend\":false,\"x\":[233.85273388626354],\"y\":[-135.29216281102322],\"type\":\"scatter\"},{\"hovertemplate\":\"\\u003cb\\u003e\\u003c\\u002fb\\u003e \\u003cbr\\u003e  \\u003cb\\u003eCamembert + Walnuts  \\u003c\\u002fb\\u003e\\u003cbr\\u003e  Total protein: 34.4g  \\u003cbr\\u003e  Good synergy or common usage  \\u003cbr\\u003e\\u003cb\\u003e\\u003c\\u002fb\\u003e \\u003cbr\\u003e\\u003cextra\\u003e\\u003c\\u002fextra\\u003e\",\"marker\":{\"color\":\"rgba(0, 151, 120, 0.4)\",\"opacity\":1,\"size\":3},\"mode\":\"markers\",\"showlegend\":false,\"x\":[209.8466915109809],\"y\":[-123.65034948213759],\"type\":\"scatter\"},{\"hovertemplate\":\"\\u003cb\\u003e\\u003c\\u002fb\\u003e \\u003cbr\\u003e  \\u003cb\\u003eCashews + Tofu  \\u003c\\u002fb\\u003e\\u003cbr\\u003e  Total protein: 34.7g  \\u003cbr\\u003e  Acceptable pairing or complementary nutrition  \\u003cbr\\u003e\\u003cb\\u003e\\u003c\\u002fb\\u003e \\u003cbr\\u003e\\u003cextra\\u003e\\u003c\\u002fextra\\u003e\",\"marker\":{\"color\":\"rgba(2, 230, 2, 0.4)\",\"opacity\":1,\"size\":3},\"mode\":\"markers\",\"showlegend\":false,\"x\":[253.78679656440357],\"y\":[-43.78679656440357],\"type\":\"scatter\"},{\"hovertemplate\":\"\\u003cb\\u003e\\u003c\\u002fb\\u003e \\u003cbr\\u003e  \\u003cb\\u003eCheddar cheese + Beef burger  \\u003c\\u002fb\\u003e\\u003cbr\\u003e  Total protein: 43.7g  \\u003cbr\\u003e  Strong classic combination  \\u003cbr\\u003e\\u003cb\\u003e\\u003c\\u002fb\\u003e \\u003cbr\\u003e\\u003cextra\\u003e\\u003c\\u002fextra\\u003e\",\"marker\":{\"color\":\"rgba(127, 70, 228, 0.4)\",\"opacity\":1,\"size\":3},\"mode\":\"markers\",\"showlegend\":false,\"x\":[101.0],\"y\":[-158.0],\"type\":\"scatter\"},{\"hovertemplate\":\"\\u003cb\\u003e\\u003c\\u002fb\\u003e \\u003cbr\\u003e  \\u003cb\\u003eCheddar cheese + Egg  \\u003c\\u002fb\\u003e\\u003cbr\\u003e  Total protein: 35.7g  \\u003cbr\\u003e  Good synergy or common usage  \\u003cbr\\u003e\\u003cb\\u003e\\u003c\\u002fb\\u003e \\u003cbr\\u003e\\u003cextra\\u003e\\u003c\\u002fextra\\u003e\",\"marker\":{\"color\":\"rgba(0, 44, 255, 0.4)\",\"opacity\":1,\"size\":3},\"mode\":\"markers\",\"showlegend\":false,\"x\":[200.0],\"y\":[-230.0],\"type\":\"scatter\"},{\"hovertemplate\":\"\\u003cb\\u003e\\u003c\\u002fb\\u003e \\u003cbr\\u003e  \\u003cb\\u003eChia seeds + Yogurt  \\u003c\\u002fb\\u003e\\u003cbr\\u003e  Total protein: 20.8g  \\u003cbr\\u003e  Acceptable pairing or complementary nutrition  \\u003cbr\\u003e\\u003cb\\u003e\\u003c\\u002fb\\u003e \\u003cbr\\u003e\\u003cextra\\u003e\\u003c\\u002fextra\\u003e\",\"marker\":{\"color\":\"rgba(0, 151, 120, 0.4)\",\"opacity\":1,\"size\":3},\"mode\":\"markers\",\"showlegend\":false,\"x\":[256.8328157299975],\"y\":[-183.41640786499875],\"type\":\"scatter\"},{\"hovertemplate\":\"\\u003cb\\u003e\\u003c\\u002fb\\u003e \\u003cbr\\u003e  \\u003cb\\u003eChicken breast + Mushroom  \\u003c\\u002fb\\u003e\\u003cbr\\u003e  Total protein: 25.2g  \\u003cbr\\u003e  Strong classic combination  \\u003cbr\\u003e\\u003cb\\u003e\\u003c\\u002fb\\u003e \\u003cbr\\u003e\\u003cextra\\u003e\\u003c\\u002fextra\\u003e\",\"marker\":{\"color\":\"rgba(127, 166, 139, 0.4)\",\"opacity\":1,\"size\":3},\"mode\":\"markers\",\"showlegend\":false,\"x\":[212.91784157201948],\"y\":[-17.540549027317034],\"type\":\"scatter\"},{\"hovertemplate\":\"\\u003cb\\u003e\\u003c\\u002fb\\u003e \\u003cbr\\u003e  \\u003cb\\u003eChicken breast + Quinoa  \\u003c\\u002fb\\u003e\\u003cbr\\u003e  Total protein: 36.6g  \\u003cbr\\u003e  Good synergy or common usage  \\u003cbr\\u003e\\u003cb\\u003e\\u003c\\u002fb\\u003e \\u003cbr\\u003e\\u003cextra\\u003e\\u003c\\u002fextra\\u003e\",\"marker\":{\"color\":\"rgba(127, 166, 139, 0.4)\",\"opacity\":1,\"size\":3},\"mode\":\"markers\",\"showlegend\":false,\"x\":[195.51316701949486],\"y\":[-36.53950105848458],\"type\":\"scatter\"},{\"hovertemplate\":\"\\u003cb\\u003e\\u003c\\u002fb\\u003e \\u003cbr\\u003e  \\u003cb\\u003eChicken thigh + Yogurt  \\u003c\\u002fb\\u003e\\u003cbr\\u003e  Total protein: 22.4g  \\u003cbr\\u003e  Strong classic combination  \\u003cbr\\u003e\\u003cb\\u003e\\u003c\\u002fb\\u003e \\u003cbr\\u003e\\u003cextra\\u003e\\u003c\\u002fextra\\u003e\",\"marker\":{\"color\":\"rgba(127, 70, 228, 0.4)\",\"opacity\":1,\"size\":3},\"mode\":\"markers\",\"showlegend\":false,\"x\":[126.41413299766526],\"y\":[-145.77700530894947],\"type\":\"scatter\"},{\"hovertemplate\":\"\\u003cb\\u003e\\u003c\\u002fb\\u003e \\u003cbr\\u003e  \\u003cb\\u003eChicken thigh + Butter  \\u003c\\u002fb\\u003e\\u003cbr\\u003e  Total protein: 19.6g  \\u003cbr\\u003e  Good synergy or common usage  \\u003cbr\\u003e\\u003cb\\u003e\\u003c\\u002fb\\u003e \\u003cbr\\u003e\\u003cextra\\u003e\\u003c\\u002fextra\\u003e\",\"marker\":{\"color\":\"rgba(127, 70, 228, 0.4)\",\"opacity\":1,\"size\":3},\"mode\":\"markers\",\"showlegend\":false,\"x\":[126.83281572999748],\"y\":[-156.58359213500125],\"type\":\"scatter\"},{\"hovertemplate\":\"\\u003cb\\u003e\\u003c\\u002fb\\u003e \\u003cbr\\u003e  \\u003cb\\u003eCod + Butter  \\u003c\\u002fb\\u003e\\u003cbr\\u003e  Total protein: 17.1g  \\u003cbr\\u003e  Good synergy or common usage  \\u003cbr\\u003e\\u003cb\\u003e\\u003c\\u002fb\\u003e \\u003cbr\\u003e\\u003cextra\\u003e\\u003c\\u002fextra\\u003e\",\"marker\":{\"color\":\"rgba(127, 70, 228, 0.4)\",\"opacity\":1,\"size\":3},\"mode\":\"markers\",\"showlegend\":false,\"x\":[116.47058823529412],\"y\":[-145.88235294117646],\"type\":\"scatter\"},{\"hovertemplate\":\"\\u003cb\\u003e\\u003c\\u002fb\\u003e \\u003cbr\\u003e  \\u003cb\\u003eCottage cheese + Popcorn  \\u003c\\u002fb\\u003e\\u003cbr\\u003e  Total protein: 24.5g  \\u003cbr\\u003e  Strong classic combination  \\u003cbr\\u003e\\u003cb\\u003e\\u003c\\u002fb\\u003e \\u003cbr\\u003e\\u003cextra\\u003e\\u003c\\u002fextra\\u003e\",\"marker\":{\"color\":\"rgba(0, 151, 120, 0.4)\",\"opacity\":1,\"size\":3},\"mode\":\"markers\",\"showlegend\":false,\"x\":[219.27521222862367],\"y\":[-129.5651273371742],\"type\":\"scatter\"},{\"hovertemplate\":\"\\u003cb\\u003e\\u003c\\u002fb\\u003e \\u003cbr\\u003e  \\u003cb\\u003eCottage cheese + Yogurt  \\u003c\\u002fb\\u003e\\u003cbr\\u003e  Total protein: 15.4g  \\u003cbr\\u003e  Good synergy or common usage  \\u003cbr\\u003e\\u003cb\\u003e\\u003c\\u002fb\\u003e \\u003cbr\\u003e\\u003cextra\\u003e\\u003c\\u002fextra\\u003e\",\"marker\":{\"color\":\"rgba(0, 44, 255, 0.4)\",\"opacity\":1,\"size\":3},\"mode\":\"markers\",\"showlegend\":false,\"x\":[200.0],\"y\":[-280.0],\"type\":\"scatter\"},{\"hovertemplate\":\"\\u003cb\\u003e\\u003c\\u002fb\\u003e \\u003cbr\\u003e  \\u003cb\\u003eFeta cheese + Kale  \\u003c\\u002fb\\u003e\\u003cbr\\u003e  Total protein: 22.6g  \\u003cbr\\u003e  Strong classic combination  \\u003cbr\\u003e\\u003cb\\u003e\\u003c\\u002fb\\u003e \\u003cbr\\u003e\\u003cextra\\u003e\\u003c\\u002fextra\\u003e\",\"marker\":{\"color\":\"rgba(0, 151, 120, 0.4)\",\"opacity\":1,\"size\":3},\"mode\":\"markers\",\"showlegend\":false,\"x\":[230.19220493791414],\"y\":[-108.13069935778162],\"type\":\"scatter\"},{\"hovertemplate\":\"\\u003cb\\u003e\\u003c\\u002fb\\u003e \\u003cbr\\u003e  \\u003cb\\u003eGarden peas + Butter  \\u003c\\u002fb\\u003e\\u003cbr\\u003e  Total protein: 5.7g  \\u003cbr\\u003e  Acceptable pairing or complementary nutrition  \\u003cbr\\u003e\\u003cb\\u003e\\u003c\\u002fb\\u003e \\u003cbr\\u003e\\u003cextra\\u003e\\u003c\\u002fextra\\u003e\",\"marker\":{\"color\":\"rgba(0, 151, 120, 0.4)\",\"opacity\":1,\"size\":3},\"mode\":\"markers\",\"showlegend\":false,\"x\":[276.47058823529414],\"y\":[-174.11764705882354],\"type\":\"scatter\"},{\"hovertemplate\":\"\\u003cb\\u003e\\u003c\\u002fb\\u003e \\u003cbr\\u003e  \\u003cb\\u003eGoat's cheese + Walnuts  \\u003c\\u002fb\\u003e\\u003cbr\\u003e  Total protein: 36.2g  \\u003cbr\\u003e  Good synergy or common usage  \\u003cbr\\u003e\\u003cb\\u003e\\u003c\\u002fb\\u003e \\u003cbr\\u003e\\u003cextra\\u003e\\u003c\\u002fextra\\u003e\",\"marker\":{\"color\":\"rgba(0, 151, 120, 0.4)\",\"opacity\":1,\"size\":3},\"mode\":\"markers\",\"showlegend\":false,\"x\":[211.16926501068411],\"y\":[-106.77649677287609],\"type\":\"scatter\"},{\"hovertemplate\":\"\\u003cb\\u003e\\u003c\\u002fb\\u003e \\u003cbr\\u003e  \\u003cb\\u003eMozzarella cheese + Egg  \\u003c\\u002fb\\u003e\\u003cbr\\u003e  Total protein: 36.1g  \\u003cbr\\u003e  Good synergy or common usage  \\u003cbr\\u003e\\u003cb\\u003e\\u003c\\u002fb\\u003e \\u003cbr\\u003e\\u003cextra\\u003e\\u003c\\u002fextra\\u003e\",\"marker\":{\"color\":\"rgba(0, 44, 255, 0.4)\",\"opacity\":1,\"size\":3},\"mode\":\"markers\",\"showlegend\":false,\"x\":[200.0],\"y\":[-225.0],\"type\":\"scatter\"},{\"hovertemplate\":\"\\u003cb\\u003e\\u003c\\u002fb\\u003e \\u003cbr\\u003e  \\u003cb\\u003eParmesan cheese + Butter  \\u003c\\u002fb\\u003e\\u003cbr\\u003e  Total protein: 30.6g  \\u003cbr\\u003e  Strong classic combination  \\u003cbr\\u003e\\u003cb\\u003e\\u003c\\u002fb\\u003e \\u003cbr\\u003e\\u003cextra\\u003e\\u003c\\u002fextra\\u003e\",\"marker\":{\"color\":\"rgba(0, 44, 255, 0.4)\",\"opacity\":1,\"size\":3},\"mode\":\"markers\",\"showlegend\":false,\"x\":[200.0],\"y\":[-240.0],\"type\":\"scatter\"},{\"hovertemplate\":\"\\u003cb\\u003e\\u003c\\u002fb\\u003e \\u003cbr\\u003e  \\u003cb\\u003eParmesan cheese + Ricotta cheese  \\u003c\\u002fb\\u003e\\u003cbr\\u003e  Total protein: 37.4g  \\u003cbr\\u003e  Good synergy or common usage  \\u003cbr\\u003e\\u003cb\\u003e\\u003c\\u002fb\\u003e \\u003cbr\\u003e\\u003cextra\\u003e\\u003c\\u002fextra\\u003e\",\"marker\":{\"color\":\"rgba(0, 44, 255, 0.4)\",\"opacity\":1,\"size\":3},\"mode\":\"markers\",\"showlegend\":false,\"x\":[200.0],\"y\":[-225.0],\"type\":\"scatter\"},{\"hovertemplate\":\"\\u003cb\\u003e\\u003c\\u002fb\\u003e \\u003cbr\\u003e  \\u003cb\\u003eParmesan cheese + Lentils  \\u003c\\u002fb\\u003e\\u003cbr\\u003e  Total protein: 53.2g  \\u003cbr\\u003e  Acceptable pairing or complementary nutrition  \\u003cbr\\u003e\\u003cb\\u003e\\u003c\\u002fb\\u003e \\u003cbr\\u003e\\u003cextra\\u003e\\u003c\\u002fextra\\u003e\",\"marker\":{\"color\":\"rgba(0, 151, 120, 0.4)\",\"opacity\":1,\"size\":3},\"mode\":\"markers\",\"showlegend\":false,\"x\":[173.78679656440357],\"y\":[-123.78679656440357],\"type\":\"scatter\"},{\"hovertemplate\":\"\\u003cb\\u003e\\u003c\\u002fb\\u003e \\u003cbr\\u003e  \\u003cb\\u003ePeanuts + Popcorn  \\u003c\\u002fb\\u003e\\u003cbr\\u003e  Total protein: 36.1g  \\u003cbr\\u003e  Strong classic combination  \\u003cbr\\u003e\\u003cb\\u003e\\u003c\\u002fb\\u003e \\u003cbr\\u003e\\u003cextra\\u003e\\u003c\\u002fextra\\u003e\",\"marker\":{\"color\":\"rgba(2, 230, 2, 0.4)\",\"opacity\":1,\"size\":3},\"mode\":\"markers\",\"showlegend\":false,\"x\":[253.78679656440357],\"y\":[-43.78679656440357],\"type\":\"scatter\"},{\"hovertemplate\":\"\\u003cb\\u003e\\u003c\\u002fb\\u003e \\u003cbr\\u003e  \\u003cb\\u003ePopcorn + Yogurt  \\u003c\\u002fb\\u003e\\u003cbr\\u003e  Total protein: 16.7g  \\u003cbr\\u003e  Acceptable pairing or complementary nutrition  \\u003cbr\\u003e\\u003cb\\u003e\\u003c\\u002fb\\u003e \\u003cbr\\u003e\\u003cextra\\u003e\\u003c\\u002fextra\\u003e\",\"marker\":{\"color\":\"rgba(0, 151, 120, 0.4)\",\"opacity\":1,\"size\":3},\"mode\":\"markers\",\"showlegend\":false,\"x\":[271.22471828364615],\"y\":[-169.56928793535897],\"type\":\"scatter\"},{\"hovertemplate\":\"\\u003cb\\u003e\\u003c\\u002fb\\u003e \\u003cbr\\u003e  \\u003cb\\u003ePork chop + Mushroom  \\u003c\\u002fb\\u003e\\u003cbr\\u003e  Total protein: 29.7g  \\u003cbr\\u003e  Good synergy or common usage  \\u003cbr\\u003e\\u003cb\\u003e\\u003c\\u002fb\\u003e \\u003cbr\\u003e\\u003cextra\\u003e\\u003c\\u002fextra\\u003e\",\"marker\":{\"color\":\"rgba(127, 166, 139, 0.4)\",\"opacity\":1,\"size\":3},\"mode\":\"markers\",\"showlegend\":false,\"x\":[220.23828229996295],\"y\":[-28.883114838395972],\"type\":\"scatter\"},{\"hovertemplate\":\"\\u003cb\\u003e\\u003c\\u002fb\\u003e \\u003cbr\\u003e  \\u003cb\\u003ePork sausage + Egg  \\u003c\\u002fb\\u003e\\u003cbr\\u003e  Total protein: 30.6g  \\u003cbr\\u003e  Strong classic combination  \\u003cbr\\u003e\\u003cb\\u003e\\u003c\\u002fb\\u003e \\u003cbr\\u003e\\u003cextra\\u003e\\u003c\\u002fextra\\u003e\",\"marker\":{\"color\":\"rgba(127, 70, 228, 0.4)\",\"opacity\":1,\"size\":3},\"mode\":\"markers\",\"showlegend\":false,\"x\":[120.43994912015265],\"y\":[-124.1000317999046],\"type\":\"scatter\"},{\"hovertemplate\":\"\\u003cb\\u003e\\u003c\\u002fb\\u003e \\u003cbr\\u003e  \\u003cb\\u003ePrawn + Butter  \\u003c\\u002fb\\u003e\\u003cbr\\u003e  Total protein: 16.6g  \\u003cbr\\u003e  Good synergy or common usage  \\u003cbr\\u003e\\u003cb\\u003e\\u003c\\u002fb\\u003e \\u003cbr\\u003e\\u003cextra\\u003e\\u003c\\u002fextra\\u003e\",\"marker\":{\"color\":\"rgba(127, 70, 228, 0.4)\",\"opacity\":1,\"size\":3},\"mode\":\"markers\",\"showlegend\":false,\"x\":[111.30437226013957],\"y\":[-140.57502166379444],\"type\":\"scatter\"},{\"hovertemplate\":\"\\u003cb\\u003e\\u003c\\u002fb\\u003e \\u003cbr\\u003e  \\u003cb\\u003ePumpkin seeds + Chickpeas  \\u003c\\u002fb\\u003e\\u003cbr\\u003e  Total protein: 51.2g  \\u003cbr\\u003e  Acceptable pairing or complementary nutrition  \\u003cbr\\u003e\\u003cb\\u003e\\u003c\\u002fb\\u003e \\u003cbr\\u003e\\u003cextra\\u003e\\u003c\\u002fextra\\u003e\",\"marker\":{\"color\":\"rgba(2, 230, 2, 0.4)\",\"opacity\":1,\"size\":3},\"mode\":\"markers\",\"showlegend\":false,\"x\":[203.78679656440357],\"y\":[-93.78679656440357],\"type\":\"scatter\"},{\"hovertemplate\":\"\\u003cb\\u003e\\u003c\\u002fb\\u003e \\u003cbr\\u003e  \\u003cb\\u003ePumpkin seeds + Quinoa  \\u003c\\u002fb\\u003e\\u003cbr\\u003e  Total protein: 44.0g  \\u003cbr\\u003e  Acceptable pairing or complementary nutrition  \\u003cbr\\u003e\\u003cb\\u003e\\u003c\\u002fb\\u003e \\u003cbr\\u003e\\u003cextra\\u003e\\u003c\\u002fextra\\u003e\",\"marker\":{\"color\":\"rgba(2, 230, 2, 0.4)\",\"opacity\":1,\"size\":3},\"mode\":\"markers\",\"showlegend\":false,\"x\":[233.78679656440357],\"y\":[-63.78679656440357],\"type\":\"scatter\"},{\"hovertemplate\":\"\\u003cb\\u003e\\u003c\\u002fb\\u003e \\u003cbr\\u003e  \\u003cb\\u003eQuinoa + Kale  \\u003c\\u002fb\\u003e\\u003cbr\\u003e  Total protein: 17.0g  \\u003cbr\\u003e  Acceptable pairing or complementary nutrition  \\u003cbr\\u003e\\u003cb\\u003e\\u003c\\u002fb\\u003e \\u003cbr\\u003e\\u003cextra\\u003e\\u003c\\u002fextra\\u003e\",\"marker\":{\"color\":\"rgba(2, 230, 2, 0.4)\",\"opacity\":1,\"size\":3},\"mode\":\"markers\",\"showlegend\":false,\"x\":[303.7867965644036],\"y\":[6.213203435596423],\"type\":\"scatter\"},{\"hovertemplate\":\"\\u003cb\\u003e\\u003c\\u002fb\\u003e \\u003cbr\\u003e  \\u003cb\\u003eSalmon + Butter  \\u003c\\u002fb\\u003e\\u003cbr\\u003e  Total protein: 21.3g  \\u003cbr\\u003e  Strong classic combination  \\u003cbr\\u003e\\u003cb\\u003e\\u003c\\u002fb\\u003e \\u003cbr\\u003e\\u003cextra\\u003e\\u003c\\u002fextra\\u003e\",\"marker\":{\"color\":\"rgba(127, 70, 228, 0.4)\",\"opacity\":1,\"size\":3},\"mode\":\"markers\",\"showlegend\":false,\"x\":[147.69230769230768],\"y\":[-178.46153846153845],\"type\":\"scatter\"},{\"hovertemplate\":\"\\u003cb\\u003e\\u003c\\u002fb\\u003e \\u003cbr\\u003e  \\u003cb\\u003eSalmon + Quinoa  \\u003c\\u002fb\\u003e\\u003cbr\\u003e  Total protein: 34.4g  \\u003cbr\\u003e  Good synergy or common usage  \\u003cbr\\u003e\\u003cb\\u003e\\u003c\\u002fb\\u003e \\u003cbr\\u003e\\u003cextra\\u003e\\u003c\\u002fextra\\u003e\",\"marker\":{\"color\":\"rgba(127, 166, 139, 0.4)\",\"opacity\":1,\"size\":3},\"mode\":\"markers\",\"showlegend\":false,\"x\":[185.06803038083928],\"y\":[-20.408182285035686],\"type\":\"scatter\"},{\"hovertemplate\":\"\\u003cb\\u003e\\u003c\\u002fb\\u003e \\u003cbr\\u003e  \\u003cb\\u003eSunflower seeds + Popcorn  \\u003c\\u002fb\\u003e\\u003cbr\\u003e  Total protein: 31.8g  \\u003cbr\\u003e  Acceptable pairing or complementary nutrition  \\u003cbr\\u003e\\u003cb\\u003e\\u003c\\u002fb\\u003e \\u003cbr\\u003e\\u003cextra\\u003e\\u003c\\u002fextra\\u003e\",\"marker\":{\"color\":\"rgba(2, 230, 2, 0.4)\",\"opacity\":1,\"size\":3},\"mode\":\"markers\",\"showlegend\":false,\"x\":[268.7867965644036],\"y\":[-28.786796564403577],\"type\":\"scatter\"},{\"hovertemplate\":\"\\u003cb\\u003e\\u003c\\u002fb\\u003e \\u003cbr\\u003e  \\u003cb\\u003eTofu + Mushroom  \\u003c\\u002fb\\u003e\\u003cbr\\u003e  Total protein: 20.0g  \\u003cbr\\u003e  Strong classic combination  \\u003cbr\\u003e\\u003cb\\u003e\\u003c\\u002fb\\u003e \\u003cbr\\u003e\\u003cextra\\u003e\\u003c\\u002fextra\\u003e\",\"marker\":{\"color\":\"rgba(2, 230, 2, 0.4)\",\"opacity\":1,\"size\":3},\"mode\":\"markers\",\"showlegend\":false,\"x\":[293.7867965644036],\"y\":[-3.786796564403577],\"type\":\"scatter\"},{\"hovertemplate\":\"\\u003cb\\u003e\\u003c\\u002fb\\u003e \\u003cbr\\u003e  \\u003cb\\u003eTofu + Kale  \\u003c\\u002fb\\u003e\\u003cbr\\u003e  Total protein: 20.2g  \\u003cbr\\u003e  Good synergy or common usage  \\u003cbr\\u003e\\u003cb\\u003e\\u003c\\u002fb\\u003e \\u003cbr\\u003e\\u003cextra\\u003e\\u003c\\u002fextra\\u003e\",\"marker\":{\"color\":\"rgba(2, 230, 2, 0.4)\",\"opacity\":1,\"size\":3},\"mode\":\"markers\",\"showlegend\":false,\"x\":[288.7867965644036],\"y\":[-8.786796564403577],\"type\":\"scatter\"},{\"hovertemplate\":\"\\u003cb\\u003e\\u003c\\u002fb\\u003e \\u003cbr\\u003e  \\u003cb\\u003eTofu + Egg  \\u003c\\u002fb\\u003e\\u003cbr\\u003e  Total protein: 29.7g  \\u003cbr\\u003e  Acceptable pairing or complementary nutrition  \\u003cbr\\u003e\\u003cb\\u003e\\u003c\\u002fb\\u003e \\u003cbr\\u003e\\u003cextra\\u003e\\u003c\\u002fextra\\u003e\",\"marker\":{\"color\":\"rgba(0, 151, 120, 0.4)\",\"opacity\":1,\"size\":3},\"mode\":\"markers\",\"showlegend\":false,\"x\":[251.28647726029942],\"y\":[-174.4575624931647],\"type\":\"scatter\"},{\"customdata\":[[\"Prawn\",\"Seafood\",15.55],[\"Cod\",\"Seafood\",16.1],[\"Pork sausage\",\"Red\",18.2],[\"Chicken thigh\",\"White\",18.6],[\"Lamb leg\",\"Red\",18.6],[\"Beef steak\",\"Red\",18.7],[\"Tuna\",\"Seafood\",19.0],[\"Salmon\",\"Seafood\",20.3],[\"Beef burger\",\"Red\",20.4],[\"Pork loin\",\"Red\",21.1],[\"Chicken breast\",\"White\",22.5],[\"Chicken wing\",\"White\",23.4],[\"Pork chop\",\"Red\",26.97],[\"Lamb chop\",\"Red\",27.36],[\"Bacon\",\"Red\",40.9],[\"Butter\",\"Cow\",1.0],[\"Cow's milk\",\"Cow\",3.27],[\"Yogurt\",\"Cow\",3.82],[\"Ricotta cheese\",\"Cheese\",7.81],[\"Cottage cheese\",\"Cheese\",11.6],[\"Egg\",\"Egg\",12.4],[\"Feta cheese\",\"Cheese\",19.7],[\"Camembert\",\"Cheese\",19.8],[\"Brie\",\"Cheese\",20.8],[\"Blue cheese\",\"Cheese\",21.4],[\"Goat's cheese\",\"Cheese\",21.58],[\"Cheddar cheese\",\"Cheese\",23.3],[\"Mozzarella cheese\",\"Cheese\",23.7],[\"Halloumi cheese\",\"Cheese\",24.0],[\"Parmesan cheese\",\"Cheese\",29.6],[\"Mushroom\",\"Vegetable\",2.75],[\"Kale\",\"Vegetable\",2.92],[\"Garden peas\",\"Vegetable\",4.71],[\"Popcorn\",\"Grain\",12.9],[\"Quinoa\",\"Grain\",14.1],[\"Walnuts\",\"Nut\",14.6],[\"Chia seeds\",\"Seed\",17.0],[\"Tofu\",\"Grain\",17.3],[\"Cashews\",\"Nut\",17.4],[\"Sunflower seeds\",\"Seed\",18.9],[\"Chickpeas\",\"Legumes\",21.3],[\"Almonds\",\"Nut\",21.4],[\"Peanuts\",\"Nut\",23.2],[\"Lentils\",\"Legumes\",23.6],[\"Beans\",\"Legumes\",26.8],[\"Pumpkin seeds\",\"Seed\",29.9]],\"hovertemplate\":\"  \\u003cb\\u003e\\u003c\\u002fb\\u003e \\u003cbr\\u003e  \\u003cb\\u003e%{customdata[0]}\\u003c\\u002fb\\u003e  \\u003cbr\\u003e  %{customdata[1]}\\u003cbr\\u003e  Protein %{customdata[2]}g  \\u003cbr\\u003e  \\u003cbr\\u003e\\u003cextra\\u003e\\u003c\\u002fextra\\u003e\",\"marker\":{\"color\":[\"rgb(255, 0, 128)\",\"rgb(255, 0, 128)\",\"rgb(255, 0, 128)\",\"rgb(255, 0, 128)\",\"rgb(255, 0, 128)\",\"rgb(255, 0, 128)\",\"rgb(255, 0, 128)\",\"rgb(255, 0, 128)\",\"rgb(255, 0, 128)\",\"rgb(255, 0, 128)\",\"rgb(255, 0, 128)\",\"rgb(255, 0, 128)\",\"rgb(255, 0, 128)\",\"rgb(255, 0, 128)\",\"rgb(255, 0, 128)\",\"rgb(0, 44, 255)\",\"rgb(0, 44, 255)\",\"rgb(0, 44, 255)\",\"rgb(0, 44, 255)\",\"rgb(0, 44, 255)\",\"rgb(0, 44, 255)\",\"rgb(0, 44, 255)\",\"rgb(0, 44, 255)\",\"rgb(0, 44, 255)\",\"rgb(0, 44, 255)\",\"rgb(0, 44, 255)\",\"rgb(0, 44, 255)\",\"rgb(0, 44, 255)\",\"rgb(0, 44, 255)\",\"rgb(0, 44, 255)\",\"rgb(2, 230, 2)\",\"rgb(2, 230, 2)\",\"rgb(2, 230, 2)\",\"rgb(2, 230, 2)\",\"rgb(2, 230, 2)\",\"rgb(2, 230, 2)\",\"rgb(2, 230, 2)\",\"rgb(2, 230, 2)\",\"rgb(2, 230, 2)\",\"rgb(2, 230, 2)\",\"rgb(2, 230, 2)\",\"rgb(2, 230, 2)\",\"rgb(2, 230, 2)\",\"rgb(2, 230, 2)\",\"rgb(2, 230, 2)\",\"rgb(2, 230, 2)\"],\"line\":{\"color\":[\"rgb(255, 0, 128)\",\"rgb(255, 0, 128)\",\"rgb(255, 0, 128)\",\"rgb(255, 0, 128)\",\"rgb(255, 0, 128)\",\"rgb(255, 0, 128)\",\"rgb(255, 0, 128)\",\"rgb(255, 0, 128)\",\"rgb(255, 0, 128)\",\"rgb(255, 0, 128)\",\"rgb(255, 0, 128)\",\"rgb(255, 0, 128)\",\"rgb(255, 0, 128)\",\"rgb(255, 0, 128)\",\"rgb(255, 0, 128)\",\"rgb(0, 44, 255)\",\"rgb(0, 44, 255)\",\"rgb(0, 44, 255)\",\"rgb(0, 44, 255)\",\"rgb(0, 44, 255)\",\"rgb(0, 44, 255)\",\"rgb(0, 44, 255)\",\"rgb(0, 44, 255)\",\"rgb(0, 44, 255)\",\"rgb(0, 44, 255)\",\"rgb(0, 44, 255)\",\"rgb(0, 44, 255)\",\"rgb(0, 44, 255)\",\"rgb(0, 44, 255)\",\"rgb(0, 44, 255)\",\"rgb(2, 230, 2)\",\"rgb(2, 230, 2)\",\"rgb(2, 230, 2)\",\"rgb(2, 230, 2)\",\"rgb(2, 230, 2)\",\"rgb(2, 230, 2)\",\"rgb(2, 230, 2)\",\"rgb(2, 230, 2)\",\"rgb(2, 230, 2)\",\"rgb(2, 230, 2)\",\"rgb(2, 230, 2)\",\"rgb(2, 230, 2)\",\"rgb(2, 230, 2)\",\"rgb(2, 230, 2)\",\"rgb(2, 230, 2)\",\"rgb(2, 230, 2)\"],\"width\":0},\"size\":0},\"mode\":\"text+markers\",\"text\":[\"\\u003cbr\\u003e\\u003cbr\\u003e\\u003cb\\u003ePrawn\\u003c\\u002fb\\u003e\",\"\\u003cbr\\u003e\\u003cbr\\u003e\\u003cb\\u003eCod\\u003c\\u002fb\\u003e\",\"\\u003cbr\\u003e\\u003cbr\\u003e\\u003cb\\u003ePork sausage\\u003c\\u002fb\\u003e\",\"\\u003cbr\\u003e\\u003cbr\\u003e\\u003cb\\u003eChicken thigh\\u003c\\u002fb\\u003e\",\"\\u003cbr\\u003e\\u003cbr\\u003e\\u003cb\\u003eLamb leg\\u003c\\u002fb\\u003e\",\"\\u003cbr\\u003e\\u003cbr\\u003e\\u003cb\\u003eBeef steak\\u003c\\u002fb\\u003e\",\"\\u003cbr\\u003e\\u003cbr\\u003e\\u003cb\\u003eTuna\\u003c\\u002fb\\u003e\",\"\\u003cbr\\u003e\\u003cbr\\u003e\\u003cb\\u003eSalmon\\u003c\\u002fb\\u003e\",\"\\u003cbr\\u003e\\u003cbr\\u003e\\u003cb\\u003eBeef burger\\u003c\\u002fb\\u003e\",\"\\u003cbr\\u003e\\u003cbr\\u003e\\u003cb\\u003ePork loin\\u003c\\u002fb\\u003e\",\"\\u003cbr\\u003e\\u003cbr\\u003e\\u003cb\\u003eChicken breast\\u003c\\u002fb\\u003e\",\"\\u003cbr\\u003e\\u003cbr\\u003e\\u003cb\\u003eChicken wing\\u003c\\u002fb\\u003e\",\"\\u003cbr\\u003e\\u003cbr\\u003e\\u003cb\\u003ePork chop\\u003c\\u002fb\\u003e\",\"\\u003cbr\\u003e\\u003cbr\\u003e\\u003cb\\u003eLamb chop\\u003c\\u002fb\\u003e\",\"\\u003cbr\\u003e\\u003cbr\\u003e\\u003cb\\u003eBacon\\u003c\\u002fb\\u003e\",\"\\u003cbr\\u003e\\u003cbr\\u003e\\u003cb\\u003eButter\\u003c\\u002fb\\u003e\",\"\\u003cbr\\u003e\\u003cbr\\u003e\\u003cb\\u003eCow's milk\\u003c\\u002fb\\u003e\",\"\\u003cbr\\u003e\\u003cbr\\u003e\\u003cb\\u003eYogurt\\u003c\\u002fb\\u003e\",\"\\u003cbr\\u003e\\u003cbr\\u003e\\u003cb\\u003eRicotta cheese\\u003c\\u002fb\\u003e\",\"\\u003cbr\\u003e\\u003cbr\\u003e\\u003cb\\u003eCottage cheese\\u003c\\u002fb\\u003e\",\"\\u003cbr\\u003e\\u003cbr\\u003e\\u003cb\\u003eEgg\\u003c\\u002fb\\u003e\",\"\\u003cbr\\u003e\\u003cbr\\u003e\\u003cb\\u003eFeta cheese\\u003c\\u002fb\\u003e\",\"\\u003cbr\\u003e\\u003cbr\\u003e\\u003cb\\u003eCamembert\\u003c\\u002fb\\u003e\",\"\\u003cbr\\u003e\\u003cbr\\u003e\\u003cb\\u003eBrie\\u003c\\u002fb\\u003e\",\"\\u003cbr\\u003e\\u003cbr\\u003e\\u003cb\\u003eBlue cheese\\u003c\\u002fb\\u003e\",\"\\u003cbr\\u003e\\u003cbr\\u003e\\u003cb\\u003eGoat's cheese\\u003c\\u002fb\\u003e\",\"\\u003cbr\\u003e\\u003cbr\\u003e\\u003cb\\u003eCheddar cheese\\u003c\\u002fb\\u003e\",\"\\u003cbr\\u003e\\u003cbr\\u003e\\u003cb\\u003eMozzarella cheese\\u003c\\u002fb\\u003e\",\"\\u003cbr\\u003e\\u003cbr\\u003e\\u003cb\\u003eHalloumi cheese\\u003c\\u002fb\\u003e\",\"\\u003cbr\\u003e\\u003cbr\\u003e\\u003cb\\u003eParmesan cheese\\u003c\\u002fb\\u003e\",\"\\u003cbr\\u003e\\u003cbr\\u003e\\u003cb\\u003eMushroom\\u003c\\u002fb\\u003e\",\"\\u003cbr\\u003e\\u003cbr\\u003e\\u003cb\\u003eKale\\u003c\\u002fb\\u003e\",\"\\u003cbr\\u003e\\u003cbr\\u003e\\u003cb\\u003eGarden peas\\u003c\\u002fb\\u003e\",\"\\u003cbr\\u003e\\u003cbr\\u003e\\u003cb\\u003ePopcorn\\u003c\\u002fb\\u003e\",\"\\u003cbr\\u003e\\u003cbr\\u003e\\u003cb\\u003eQuinoa\\u003c\\u002fb\\u003e\",\"\\u003cbr\\u003e\\u003cbr\\u003e\\u003cb\\u003eWalnuts\\u003c\\u002fb\\u003e\",\"\\u003cbr\\u003e\\u003cbr\\u003e\\u003cb\\u003eChia seeds\\u003c\\u002fb\\u003e\",\"\\u003cbr\\u003e\\u003cbr\\u003e\\u003cb\\u003eTofu\\u003c\\u002fb\\u003e\",\"\\u003cbr\\u003e\\u003cbr\\u003e\\u003cb\\u003eCashews\\u003c\\u002fb\\u003e\",\"\\u003cbr\\u003e\\u003cbr\\u003e\\u003cb\\u003eSunflower seeds\\u003c\\u002fb\\u003e\",\"\\u003cbr\\u003e\\u003cbr\\u003e\\u003cb\\u003eChickpeas\\u003c\\u002fb\\u003e\",\"\\u003cbr\\u003e\\u003cbr\\u003e\\u003cb\\u003eAlmonds\\u003c\\u002fb\\u003e\",\"\\u003cbr\\u003e\\u003cbr\\u003e\\u003cb\\u003ePeanuts\\u003c\\u002fb\\u003e\",\"\\u003cbr\\u003e\\u003cbr\\u003e\\u003cb\\u003eLentils\\u003c\\u002fb\\u003e\",\"\\u003cbr\\u003e\\u003cbr\\u003e\\u003cb\\u003eBeans\\u003c\\u002fb\\u003e\",\"\\u003cbr\\u003e\\u003cbr\\u003e\\u003cb\\u003ePumpkin seeds\\u003c\\u002fb\\u003e\"],\"textfont\":{\"color\":\"black\",\"family\":\"Courier New\",\"size\":14},\"textposition\":[\"top right\",\"top right\",\"top right\",\"top right\",\"top right\",\"top right\",\"top right\",\"top right\",\"top right\",\"top right\",\"top right\",\"top right\",\"top right\",\"top right\",\"top right\",\"top right\",\"top right\",\"top right\",\"top right\",\"top right\",\"top right\",\"top right\",\"top right\",\"top right\",\"top right\",\"top right\",\"top right\",\"top right\",\"top right\",\"top right\",\"middle right\",\"middle right\",\"middle right\",\"middle right\",\"middle right\",\"middle right\",\"middle right\",\"middle right\",\"middle right\",\"middle right\",\"middle right\",\"middle right\",\"middle right\",\"middle right\",\"middle right\",\"middle right\"],\"x\":[3,13,23,33,43,53,63,73,83,93,103,113,123,133,143,173,173,173,173,173,173,173,173,173,173,173,173,173,173,173,353,343,333,323,313,303,293,283,273,263,253,243,233,223,213,203],\"y\":[0,-10,-20,-30,-40,-50,-60,-70,-80,-90,-100,-110,-120,-130,-140,-310,-300,-290,-280,-270,-260,-250,-240,-230,-220,-210,-200,-190,-180,-170,10,0,-10,-20,-30,-40,-50,-60,-70,-80,-90,-100,-110,-120,-130,-140],\"type\":\"scatter\"}],                        {\"hovermode\":\"closest\",\"margin\":{\"b\":60,\"l\":30,\"r\":60,\"t\":30},\"plot_bgcolor\":\"white\",\"showlegend\":false,\"title\":{\"text\":\"\"},\"xaxis\":{\"showgrid\":false,\"showticklabels\":false,\"zeroline\":false},\"yaxis\":{\"showgrid\":false,\"showticklabels\":false,\"zeroline\":false},\"template\":{\"data\":{\"histogram2dcontour\":[{\"type\":\"histogram2dcontour\",\"colorbar\":{\"outlinewidth\":0,\"ticks\":\"\"},\"colorscale\":[[0.0,\"#0d0887\"],[0.1111111111111111,\"#46039f\"],[0.2222222222222222,\"#7201a8\"],[0.3333333333333333,\"#9c179e\"],[0.4444444444444444,\"#bd3786\"],[0.5555555555555556,\"#d8576b\"],[0.6666666666666666,\"#ed7953\"],[0.7777777777777778,\"#fb9f3a\"],[0.8888888888888888,\"#fdca26\"],[1.0,\"#f0f921\"]]}],\"choropleth\":[{\"type\":\"choropleth\",\"colorbar\":{\"outlinewidth\":0,\"ticks\":\"\"}}],\"histogram2d\":[{\"type\":\"histogram2d\",\"colorbar\":{\"outlinewidth\":0,\"ticks\":\"\"},\"colorscale\":[[0.0,\"#0d0887\"],[0.1111111111111111,\"#46039f\"],[0.2222222222222222,\"#7201a8\"],[0.3333333333333333,\"#9c179e\"],[0.4444444444444444,\"#bd3786\"],[0.5555555555555556,\"#d8576b\"],[0.6666666666666666,\"#ed7953\"],[0.7777777777777778,\"#fb9f3a\"],[0.8888888888888888,\"#fdca26\"],[1.0,\"#f0f921\"]]}],\"heatmap\":[{\"type\":\"heatmap\",\"colorbar\":{\"outlinewidth\":0,\"ticks\":\"\"},\"colorscale\":[[0.0,\"#0d0887\"],[0.1111111111111111,\"#46039f\"],[0.2222222222222222,\"#7201a8\"],[0.3333333333333333,\"#9c179e\"],[0.4444444444444444,\"#bd3786\"],[0.5555555555555556,\"#d8576b\"],[0.6666666666666666,\"#ed7953\"],[0.7777777777777778,\"#fb9f3a\"],[0.8888888888888888,\"#fdca26\"],[1.0,\"#f0f921\"]]}],\"heatmapgl\":[{\"type\":\"heatmapgl\",\"colorbar\":{\"outlinewidth\":0,\"ticks\":\"\"},\"colorscale\":[[0.0,\"#0d0887\"],[0.1111111111111111,\"#46039f\"],[0.2222222222222222,\"#7201a8\"],[0.3333333333333333,\"#9c179e\"],[0.4444444444444444,\"#bd3786\"],[0.5555555555555556,\"#d8576b\"],[0.6666666666666666,\"#ed7953\"],[0.7777777777777778,\"#fb9f3a\"],[0.8888888888888888,\"#fdca26\"],[1.0,\"#f0f921\"]]}],\"contourcarpet\":[{\"type\":\"contourcarpet\",\"colorbar\":{\"outlinewidth\":0,\"ticks\":\"\"}}],\"contour\":[{\"type\":\"contour\",\"colorbar\":{\"outlinewidth\":0,\"ticks\":\"\"},\"colorscale\":[[0.0,\"#0d0887\"],[0.1111111111111111,\"#46039f\"],[0.2222222222222222,\"#7201a8\"],[0.3333333333333333,\"#9c179e\"],[0.4444444444444444,\"#bd3786\"],[0.5555555555555556,\"#d8576b\"],[0.6666666666666666,\"#ed7953\"],[0.7777777777777778,\"#fb9f3a\"],[0.8888888888888888,\"#fdca26\"],[1.0,\"#f0f921\"]]}],\"surface\":[{\"type\":\"surface\",\"colorbar\":{\"outlinewidth\":0,\"ticks\":\"\"},\"colorscale\":[[0.0,\"#0d0887\"],[0.1111111111111111,\"#46039f\"],[0.2222222222222222,\"#7201a8\"],[0.3333333333333333,\"#9c179e\"],[0.4444444444444444,\"#bd3786\"],[0.5555555555555556,\"#d8576b\"],[0.6666666666666666,\"#ed7953\"],[0.7777777777777778,\"#fb9f3a\"],[0.8888888888888888,\"#fdca26\"],[1.0,\"#f0f921\"]]}],\"mesh3d\":[{\"type\":\"mesh3d\",\"colorbar\":{\"outlinewidth\":0,\"ticks\":\"\"}}],\"scatter\":[{\"fillpattern\":{\"fillmode\":\"overlay\",\"size\":10,\"solidity\":0.2},\"type\":\"scatter\"}],\"parcoords\":[{\"type\":\"parcoords\",\"line\":{\"colorbar\":{\"outlinewidth\":0,\"ticks\":\"\"}}}],\"scatterpolargl\":[{\"type\":\"scatterpolargl\",\"marker\":{\"colorbar\":{\"outlinewidth\":0,\"ticks\":\"\"}}}],\"bar\":[{\"error_x\":{\"color\":\"#2a3f5f\"},\"error_y\":{\"color\":\"#2a3f5f\"},\"marker\":{\"line\":{\"color\":\"#E5ECF6\",\"width\":0.5},\"pattern\":{\"fillmode\":\"overlay\",\"size\":10,\"solidity\":0.2}},\"type\":\"bar\"}],\"scattergeo\":[{\"type\":\"scattergeo\",\"marker\":{\"colorbar\":{\"outlinewidth\":0,\"ticks\":\"\"}}}],\"scatterpolar\":[{\"type\":\"scatterpolar\",\"marker\":{\"colorbar\":{\"outlinewidth\":0,\"ticks\":\"\"}}}],\"histogram\":[{\"marker\":{\"pattern\":{\"fillmode\":\"overlay\",\"size\":10,\"solidity\":0.2}},\"type\":\"histogram\"}],\"scattergl\":[{\"type\":\"scattergl\",\"marker\":{\"colorbar\":{\"outlinewidth\":0,\"ticks\":\"\"}}}],\"scatter3d\":[{\"type\":\"scatter3d\",\"line\":{\"colorbar\":{\"outlinewidth\":0,\"ticks\":\"\"}},\"marker\":{\"colorbar\":{\"outlinewidth\":0,\"ticks\":\"\"}}}],\"scattermapbox\":[{\"type\":\"scattermapbox\",\"marker\":{\"colorbar\":{\"outlinewidth\":0,\"ticks\":\"\"}}}],\"scatterternary\":[{\"type\":\"scatterternary\",\"marker\":{\"colorbar\":{\"outlinewidth\":0,\"ticks\":\"\"}}}],\"scattercarpet\":[{\"type\":\"scattercarpet\",\"marker\":{\"colorbar\":{\"outlinewidth\":0,\"ticks\":\"\"}}}],\"carpet\":[{\"aaxis\":{\"endlinecolor\":\"#2a3f5f\",\"gridcolor\":\"white\",\"linecolor\":\"white\",\"minorgridcolor\":\"white\",\"startlinecolor\":\"#2a3f5f\"},\"baxis\":{\"endlinecolor\":\"#2a3f5f\",\"gridcolor\":\"white\",\"linecolor\":\"white\",\"minorgridcolor\":\"white\",\"startlinecolor\":\"#2a3f5f\"},\"type\":\"carpet\"}],\"table\":[{\"cells\":{\"fill\":{\"color\":\"#EBF0F8\"},\"line\":{\"color\":\"white\"}},\"header\":{\"fill\":{\"color\":\"#C8D4E3\"},\"line\":{\"color\":\"white\"}},\"type\":\"table\"}],\"barpolar\":[{\"marker\":{\"line\":{\"color\":\"#E5ECF6\",\"width\":0.5},\"pattern\":{\"fillmode\":\"overlay\",\"size\":10,\"solidity\":0.2}},\"type\":\"barpolar\"}],\"pie\":[{\"automargin\":true,\"type\":\"pie\"}]},\"layout\":{\"autotypenumbers\":\"strict\",\"colorway\":[\"#636efa\",\"#EF553B\",\"#00cc96\",\"#ab63fa\",\"#FFA15A\",\"#19d3f3\",\"#FF6692\",\"#B6E880\",\"#FF97FF\",\"#FECB52\"],\"font\":{\"color\":\"#2a3f5f\"},\"hovermode\":\"closest\",\"hoverlabel\":{\"align\":\"left\"},\"paper_bgcolor\":\"white\",\"plot_bgcolor\":\"#E5ECF6\",\"polar\":{\"bgcolor\":\"#E5ECF6\",\"angularaxis\":{\"gridcolor\":\"white\",\"linecolor\":\"white\",\"ticks\":\"\"},\"radialaxis\":{\"gridcolor\":\"white\",\"linecolor\":\"white\",\"ticks\":\"\"}},\"ternary\":{\"bgcolor\":\"#E5ECF6\",\"aaxis\":{\"gridcolor\":\"white\",\"linecolor\":\"white\",\"ticks\":\"\"},\"baxis\":{\"gridcolor\":\"white\",\"linecolor\":\"white\",\"ticks\":\"\"},\"caxis\":{\"gridcolor\":\"white\",\"linecolor\":\"white\",\"ticks\":\"\"}},\"coloraxis\":{\"colorbar\":{\"outlinewidth\":0,\"ticks\":\"\"}},\"colorscale\":{\"sequential\":[[0.0,\"#0d0887\"],[0.1111111111111111,\"#46039f\"],[0.2222222222222222,\"#7201a8\"],[0.3333333333333333,\"#9c179e\"],[0.4444444444444444,\"#bd3786\"],[0.5555555555555556,\"#d8576b\"],[0.6666666666666666,\"#ed7953\"],[0.7777777777777778,\"#fb9f3a\"],[0.8888888888888888,\"#fdca26\"],[1.0,\"#f0f921\"]],\"sequentialminus\":[[0.0,\"#0d0887\"],[0.1111111111111111,\"#46039f\"],[0.2222222222222222,\"#7201a8\"],[0.3333333333333333,\"#9c179e\"],[0.4444444444444444,\"#bd3786\"],[0.5555555555555556,\"#d8576b\"],[0.6666666666666666,\"#ed7953\"],[0.7777777777777778,\"#fb9f3a\"],[0.8888888888888888,\"#fdca26\"],[1.0,\"#f0f921\"]],\"diverging\":[[0,\"#8e0152\"],[0.1,\"#c51b7d\"],[0.2,\"#de77ae\"],[0.3,\"#f1b6da\"],[0.4,\"#fde0ef\"],[0.5,\"#f7f7f7\"],[0.6,\"#e6f5d0\"],[0.7,\"#b8e186\"],[0.8,\"#7fbc41\"],[0.9,\"#4d9221\"],[1,\"#276419\"]]},\"xaxis\":{\"gridcolor\":\"white\",\"linecolor\":\"white\",\"ticks\":\"\",\"title\":{\"standoff\":15},\"zerolinecolor\":\"white\",\"automargin\":true,\"zerolinewidth\":2},\"yaxis\":{\"gridcolor\":\"white\",\"linecolor\":\"white\",\"ticks\":\"\",\"title\":{\"standoff\":15},\"zerolinecolor\":\"white\",\"automargin\":true,\"zerolinewidth\":2},\"scene\":{\"xaxis\":{\"backgroundcolor\":\"#E5ECF6\",\"gridcolor\":\"white\",\"linecolor\":\"white\",\"showbackground\":true,\"ticks\":\"\",\"zerolinecolor\":\"white\",\"gridwidth\":2},\"yaxis\":{\"backgroundcolor\":\"#E5ECF6\",\"gridcolor\":\"white\",\"linecolor\":\"white\",\"showbackground\":true,\"ticks\":\"\",\"zerolinecolor\":\"white\",\"gridwidth\":2},\"zaxis\":{\"backgroundcolor\":\"#E5ECF6\",\"gridcolor\":\"white\",\"linecolor\":\"white\",\"showbackground\":true,\"ticks\":\"\",\"zerolinecolor\":\"white\",\"gridwidth\":2}},\"shapedefaults\":{\"line\":{\"color\":\"#2a3f5f\"}},\"annotationdefaults\":{\"arrowcolor\":\"#2a3f5f\",\"arrowhead\":0,\"arrowwidth\":1},\"geo\":{\"bgcolor\":\"white\",\"landcolor\":\"#E5ECF6\",\"subunitcolor\":\"white\",\"showland\":true,\"showlakes\":true,\"lakecolor\":\"white\"},\"title\":{\"x\":0.05},\"mapbox\":{\"style\":\"light\"}}},\"images\":[{\"layer\":\"above\",\"sizex\":10,\"sizey\":30,\"source\":\"https:\\u002f\\u002fcdn.prod.website-files.com\\u002f6636e256dbc082950ae82258\\u002f6824a3ca524a0580e53a9d44_prawn.png\",\"x\":0,\"xanchor\":\"center\",\"xref\":\"x\",\"y\":0,\"yanchor\":\"middle\",\"yref\":\"y\"},{\"layer\":\"above\",\"sizex\":10,\"sizey\":30,\"source\":\"https:\\u002f\\u002fcdn.prod.website-files.com\\u002f6636e256dbc082950ae82258\\u002f6824a3cac5bb24e11cb47a0c_cod-raw-2.png\",\"x\":10,\"xanchor\":\"center\",\"xref\":\"x\",\"y\":-10,\"yanchor\":\"middle\",\"yref\":\"y\"},{\"layer\":\"above\",\"sizex\":10,\"sizey\":30,\"source\":\"https:\\u002f\\u002fcdn.prod.website-files.com\\u002f6636e256dbc082950ae82258\\u002f6824a3ccdaa433b7f8272375_pork-sausage-2.png\",\"x\":20,\"xanchor\":\"center\",\"xref\":\"x\",\"y\":-20,\"yanchor\":\"middle\",\"yref\":\"y\"},{\"layer\":\"above\",\"sizex\":10,\"sizey\":30,\"source\":\"https:\\u002f\\u002fcdn.prod.website-files.com\\u002f6636e256dbc082950ae82258\\u002f6824a3ca8a4466ab959d3865_chicken-thigh-2.png\",\"x\":30,\"xanchor\":\"center\",\"xref\":\"x\",\"y\":-30,\"yanchor\":\"middle\",\"yref\":\"y\"},{\"layer\":\"above\",\"sizex\":10,\"sizey\":30,\"source\":\"https:\\u002f\\u002fcdn.prod.website-files.com\\u002f6636e256dbc082950ae82258\\u002f6824a3cab1c7e172fb8a49a8_lamb-leg-1.png\",\"x\":40,\"xanchor\":\"center\",\"xref\":\"x\",\"y\":-40,\"yanchor\":\"middle\",\"yref\":\"y\"},{\"layer\":\"above\",\"sizex\":10,\"sizey\":30,\"source\":\"https:\\u002f\\u002fcdn.prod.website-files.com\\u002f6636e256dbc082950ae82258\\u002f6824a3cacd0fbfa09ab2bf2a_beefsteak-3.png\",\"x\":50,\"xanchor\":\"center\",\"xref\":\"x\",\"y\":-50,\"yanchor\":\"middle\",\"yref\":\"y\"},{\"layer\":\"above\",\"sizex\":10,\"sizey\":30,\"source\":\"https:\\u002f\\u002fcdn.prod.website-files.com\\u002f6636e256dbc082950ae82258\\u002f6824a3cab41b9f90807d3e1e_tuna-2.png\",\"x\":60,\"xanchor\":\"center\",\"xref\":\"x\",\"y\":-60,\"yanchor\":\"middle\",\"yref\":\"y\"},{\"layer\":\"above\",\"sizex\":10,\"sizey\":30,\"source\":\"https:\\u002f\\u002fcdn.prod.website-files.com\\u002f6636e256dbc082950ae82258\\u002f6824a3ca59ca7d1ee15ca810_salmon-1.png\",\"x\":70,\"xanchor\":\"center\",\"xref\":\"x\",\"y\":-70,\"yanchor\":\"middle\",\"yref\":\"y\"},{\"layer\":\"above\",\"sizex\":10,\"sizey\":30,\"source\":\"https:\\u002f\\u002fcdn.prod.website-files.com\\u002f6636e256dbc082950ae82258\\u002f6824a3cbfa6f30981b894cb8_beefburger-1.png\",\"x\":80,\"xanchor\":\"center\",\"xref\":\"x\",\"y\":-80,\"yanchor\":\"middle\",\"yref\":\"y\"},{\"layer\":\"above\",\"sizex\":10,\"sizey\":30,\"source\":\"https:\\u002f\\u002fcdn.prod.website-files.com\\u002f6636e256dbc082950ae82258\\u002f6824a3ca94aa74c6472d509d_pork-loin.png\",\"x\":90,\"xanchor\":\"center\",\"xref\":\"x\",\"y\":-90,\"yanchor\":\"middle\",\"yref\":\"y\"},{\"layer\":\"above\",\"sizex\":10,\"sizey\":30,\"source\":\"https:\\u002f\\u002fcdn.prod.website-files.com\\u002f6636e256dbc082950ae82258\\u002f6824a4456899efa87538c087_chicken-breast-3.png\",\"x\":100,\"xanchor\":\"center\",\"xref\":\"x\",\"y\":-100,\"yanchor\":\"middle\",\"yref\":\"y\"},{\"layer\":\"above\",\"sizex\":10,\"sizey\":30,\"source\":\"https:\\u002f\\u002fcdn.prod.website-files.com\\u002f6636e256dbc082950ae82258\\u002f6824a4df642775b8957440f0_chicken-wings-1.png\",\"x\":110,\"xanchor\":\"center\",\"xref\":\"x\",\"y\":-110,\"yanchor\":\"middle\",\"yref\":\"y\"},{\"layer\":\"above\",\"sizex\":10,\"sizey\":30,\"source\":\"https:\\u002f\\u002fcdn.prod.website-files.com\\u002f6636e256dbc082950ae82258\\u002f6824a3ca01111723f463b2cd_pork-chop-3.png\",\"x\":120,\"xanchor\":\"center\",\"xref\":\"x\",\"y\":-120,\"yanchor\":\"middle\",\"yref\":\"y\"},{\"layer\":\"above\",\"sizex\":10,\"sizey\":30,\"source\":\"https:\\u002f\\u002fcdn.prod.website-files.com\\u002f6636e256dbc082950ae82258\\u002f6824a3ca4f6cd4069a515195_lamb%20chop-grilled-3.png\",\"x\":130,\"xanchor\":\"center\",\"xref\":\"x\",\"y\":-130,\"yanchor\":\"middle\",\"yref\":\"y\"},{\"layer\":\"above\",\"sizex\":10,\"sizey\":30,\"source\":\"https:\\u002f\\u002fcdn.prod.website-files.com\\u002f6636e256dbc082950ae82258\\u002f6824a3ca986d04530c7adbeb_bacon-2.png\",\"x\":140,\"xanchor\":\"center\",\"xref\":\"x\",\"y\":-140,\"yanchor\":\"middle\",\"yref\":\"y\"},{\"layer\":\"above\",\"sizex\":10,\"sizey\":30,\"source\":\"https:\\u002f\\u002fcdn.prod.website-files.com\\u002f6636e256dbc082950ae82258\\u002f6824a3ca75d1b1197fc8f09f_butter-2.png\",\"x\":170,\"xanchor\":\"center\",\"xref\":\"x\",\"y\":-310,\"yanchor\":\"middle\",\"yref\":\"y\"},{\"layer\":\"above\",\"sizex\":10,\"sizey\":30,\"source\":\"https:\\u002f\\u002fcdn.prod.website-files.com\\u002f6636e256dbc082950ae82258\\u002f6824a3ca23171a6389267042_cowsmilk-6.png\",\"x\":170,\"xanchor\":\"center\",\"xref\":\"x\",\"y\":-300,\"yanchor\":\"middle\",\"yref\":\"y\"},{\"layer\":\"above\",\"sizex\":10,\"sizey\":30,\"source\":\"https:\\u002f\\u002fcdn.prod.website-files.com\\u002f6636e256dbc082950ae82258\\u002f6824a3caf528c76a329ef2e0_yogurt-1.png\",\"x\":170,\"xanchor\":\"center\",\"xref\":\"x\",\"y\":-290,\"yanchor\":\"middle\",\"yref\":\"y\"},{\"layer\":\"above\",\"sizex\":10,\"sizey\":30,\"source\":\"https:\\u002f\\u002fcdn.prod.website-files.com\\u002f6636e256dbc082950ae82258\\u002f6824a3cabaa75d0355434df0_ricotta-1.png\",\"x\":170,\"xanchor\":\"center\",\"xref\":\"x\",\"y\":-280,\"yanchor\":\"middle\",\"yref\":\"y\"},{\"layer\":\"above\",\"sizex\":10,\"sizey\":30,\"source\":\"https:\\u002f\\u002fcdn.prod.website-files.com\\u002f6636e256dbc082950ae82258\\u002f6824a49c4b578983475a0527_cottage-1.png\",\"x\":170,\"xanchor\":\"center\",\"xref\":\"x\",\"y\":-270,\"yanchor\":\"middle\",\"yref\":\"y\"},{\"layer\":\"above\",\"sizex\":10,\"sizey\":30,\"source\":\"https:\\u002f\\u002fcdn.prod.website-files.com\\u002f6636e256dbc082950ae82258\\u002f6824a3ca818ea18491dd0fd5_egg-2.png\",\"x\":170,\"xanchor\":\"center\",\"xref\":\"x\",\"y\":-260,\"yanchor\":\"middle\",\"yref\":\"y\"},{\"layer\":\"above\",\"sizex\":10,\"sizey\":30,\"source\":\"https:\\u002f\\u002fcdn.prod.website-files.com\\u002f6636e256dbc082950ae82258\\u002f6824a3cc7744a28169c851a9_feta-1.png\",\"x\":170,\"xanchor\":\"center\",\"xref\":\"x\",\"y\":-250,\"yanchor\":\"middle\",\"yref\":\"y\"},{\"layer\":\"above\",\"sizex\":10,\"sizey\":30,\"source\":\"https:\\u002f\\u002fcdn.prod.website-files.com\\u002f6636e256dbc082950ae82258\\u002f6824a3caf74f595cbcf6dc98_camembert_cheese-3.png\",\"x\":170,\"xanchor\":\"center\",\"xref\":\"x\",\"y\":-240,\"yanchor\":\"middle\",\"yref\":\"y\"},{\"layer\":\"above\",\"sizex\":10,\"sizey\":30,\"source\":\"https:\\u002f\\u002fcdn.prod.website-files.com\\u002f6636e256dbc082950ae82258\\u002f6824a3caa4eb85eea0a8f2ad_brie-2.png\",\"x\":170,\"xanchor\":\"center\",\"xref\":\"x\",\"y\":-230,\"yanchor\":\"middle\",\"yref\":\"y\"},{\"layer\":\"above\",\"sizex\":10,\"sizey\":30,\"source\":\"https:\\u002f\\u002fcdn.prod.website-files.com\\u002f6636e256dbc082950ae82258\\u002f6824a3ca777d16ca72210503_bluecheese-2.png\",\"x\":170,\"xanchor\":\"center\",\"xref\":\"x\",\"y\":-220,\"yanchor\":\"middle\",\"yref\":\"y\"},{\"layer\":\"above\",\"sizex\":10,\"sizey\":30,\"source\":\"https:\\u002f\\u002fcdn.prod.website-files.com\\u002f6636e256dbc082950ae82258\\u002f6824a3cad1b1d283d4cbeb17_goatcheese-2.png\",\"x\":170,\"xanchor\":\"center\",\"xref\":\"x\",\"y\":-210,\"yanchor\":\"middle\",\"yref\":\"y\"},{\"layer\":\"above\",\"sizex\":10,\"sizey\":30,\"source\":\"https:\\u002f\\u002fcdn.prod.website-files.com\\u002f6636e256dbc082950ae82258\\u002f6820bc60c822177c9ce0b310_cheddar-2.png\",\"x\":170,\"xanchor\":\"center\",\"xref\":\"x\",\"y\":-200,\"yanchor\":\"middle\",\"yref\":\"y\"},{\"layer\":\"above\",\"sizex\":10,\"sizey\":30,\"source\":\"https:\\u002f\\u002fcdn.prod.website-files.com\\u002f6636e256dbc082950ae82258\\u002f6824a3ca24a8cd8416881dca_mozzarella-2.png\",\"x\":170,\"xanchor\":\"center\",\"xref\":\"x\",\"y\":-190,\"yanchor\":\"middle\",\"yref\":\"y\"},{\"layer\":\"above\",\"sizex\":10,\"sizey\":30,\"source\":\"https:\\u002f\\u002fcdn.prod.website-files.com\\u002f6636e256dbc082950ae82258\\u002f6824a3caa1b4b328bc4a44cd_halloumi-1.png\",\"x\":170,\"xanchor\":\"center\",\"xref\":\"x\",\"y\":-180,\"yanchor\":\"middle\",\"yref\":\"y\"},{\"layer\":\"above\",\"sizex\":10,\"sizey\":30,\"source\":\"https:\\u002f\\u002fcdn.prod.website-files.com\\u002f6636e256dbc082950ae82258\\u002f6824a3ca4b57898347596d27_parmesan-5.png\",\"x\":170,\"xanchor\":\"center\",\"xref\":\"x\",\"y\":-170,\"yanchor\":\"middle\",\"yref\":\"y\"},{\"layer\":\"above\",\"sizex\":10,\"sizey\":30,\"source\":\"https:\\u002f\\u002fcdn.prod.website-files.com\\u002f6636e256dbc082950ae82258\\u002f6824a49ca65da89d757c39cf_mushroom-1.png\",\"x\":350,\"xanchor\":\"center\",\"xref\":\"x\",\"y\":10,\"yanchor\":\"middle\",\"yref\":\"y\"},{\"layer\":\"above\",\"sizex\":10,\"sizey\":30,\"source\":\"https:\\u002f\\u002fcdn.prod.website-files.com\\u002f6636e256dbc082950ae82258\\u002f6824a3cbb1c7e172fb8a4a2a_kale-2.png!sw800.png\",\"x\":340,\"xanchor\":\"center\",\"xref\":\"x\",\"y\":0,\"yanchor\":\"middle\",\"yref\":\"y\"},{\"layer\":\"above\",\"sizex\":10,\"sizey\":30,\"source\":\"https:\\u002f\\u002fcdn.prod.website-files.com\\u002f6636e256dbc082950ae82258\\u002f6824a57275d1b1197fca00e6_gardenpeas-1.png\",\"x\":330,\"xanchor\":\"center\",\"xref\":\"x\",\"y\":-10,\"yanchor\":\"middle\",\"yref\":\"y\"},{\"layer\":\"above\",\"sizex\":10,\"sizey\":30,\"source\":\"https:\\u002f\\u002fcdn.prod.website-files.com\\u002f6636e256dbc082950ae82258\\u002f6824a3cbff9a735b7a3a95b5_popcorn-2.png\",\"x\":320,\"xanchor\":\"center\",\"xref\":\"x\",\"y\":-20,\"yanchor\":\"middle\",\"yref\":\"y\"},{\"layer\":\"above\",\"sizex\":10,\"sizey\":30,\"source\":\"https:\\u002f\\u002fcdn.prod.website-files.com\\u002f6636e256dbc082950ae82258\\u002f6824a49c87ba29961e8ed870_quinoa-1.png\",\"x\":310,\"xanchor\":\"center\",\"xref\":\"x\",\"y\":-30,\"yanchor\":\"middle\",\"yref\":\"y\"},{\"layer\":\"above\",\"sizex\":10,\"sizey\":30,\"source\":\"https:\\u002f\\u002fcdn.prod.website-files.com\\u002f6636e256dbc082950ae82258\\u002f6824a3ca8314a2a90c24d47f_walnut-1.png\",\"x\":300,\"xanchor\":\"center\",\"xref\":\"x\",\"y\":-40,\"yanchor\":\"middle\",\"yref\":\"y\"},{\"layer\":\"above\",\"sizex\":10,\"sizey\":30,\"source\":\"https:\\u002f\\u002fcdn.prod.website-files.com\\u002f6636e256dbc082950ae82258\\u002f6824a3cad9dc1598b2ce1600_chia-1.png\",\"x\":290,\"xanchor\":\"center\",\"xref\":\"x\",\"y\":-50,\"yanchor\":\"middle\",\"yref\":\"y\"},{\"layer\":\"above\",\"sizex\":10,\"sizey\":30,\"source\":\"https:\\u002f\\u002fcdn.prod.website-files.com\\u002f6636e256dbc082950ae82258\\u002f6824a3cad57f8ad0f8df24c2_tofu-1.png\",\"x\":280,\"xanchor\":\"center\",\"xref\":\"x\",\"y\":-60,\"yanchor\":\"middle\",\"yref\":\"y\"},{\"layer\":\"above\",\"sizex\":10,\"sizey\":30,\"source\":\"https:\\u002f\\u002fcdn.prod.website-files.com\\u002f6636e256dbc082950ae82258\\u002f6824a3ca6899efa875385182_cashew-1.png\",\"x\":270,\"xanchor\":\"center\",\"xref\":\"x\",\"y\":-70,\"yanchor\":\"middle\",\"yref\":\"y\"},{\"layer\":\"above\",\"sizex\":10,\"sizey\":30,\"source\":\"https:\\u002f\\u002fcdn.prod.website-files.com\\u002f6636e256dbc082950ae82258\\u002f6824a3ccdaa433b7f8272386_sunflower-seed-1.png\",\"x\":260,\"xanchor\":\"center\",\"xref\":\"x\",\"y\":-80,\"yanchor\":\"middle\",\"yref\":\"y\"},{\"layer\":\"above\",\"sizex\":10,\"sizey\":30,\"source\":\"https:\\u002f\\u002fcdn.prod.website-files.com\\u002f6636e256dbc082950ae82258\\u002f6824a3caa42a63e22fc626e1_chickpea-1.png\",\"x\":250,\"xanchor\":\"center\",\"xref\":\"x\",\"y\":-90,\"yanchor\":\"middle\",\"yref\":\"y\"},{\"layer\":\"above\",\"sizex\":10,\"sizey\":30,\"source\":\"https:\\u002f\\u002fcdn.prod.website-files.com\\u002f6636e256dbc082950ae82258\\u002f6824a3cab2a7604978254955_almond-2.png\",\"x\":240,\"xanchor\":\"center\",\"xref\":\"x\",\"y\":-100,\"yanchor\":\"middle\",\"yref\":\"y\"},{\"layer\":\"above\",\"sizex\":10,\"sizey\":30,\"source\":\"https:\\u002f\\u002fcdn.prod.website-files.com\\u002f6636e256dbc082950ae82258\\u002f6824a3cc7744a28169c85262_peanuts.png\",\"x\":230,\"xanchor\":\"center\",\"xref\":\"x\",\"y\":-110,\"yanchor\":\"middle\",\"yref\":\"y\"},{\"layer\":\"above\",\"sizex\":10,\"sizey\":30,\"source\":\"https:\\u002f\\u002fcdn.prod.website-files.com\\u002f6636e256dbc082950ae82258\\u002f6824a3cb9a8dbf569d4487d6_lentils-2.png\",\"x\":220,\"xanchor\":\"center\",\"xref\":\"x\",\"y\":-120,\"yanchor\":\"middle\",\"yref\":\"y\"},{\"layer\":\"above\",\"sizex\":10,\"sizey\":30,\"source\":\"https:\\u002f\\u002fcdn.prod.website-files.com\\u002f6636e256dbc082950ae82258\\u002f6824a3ca37401f584e3060e5_beans-3.png\",\"x\":210,\"xanchor\":\"center\",\"xref\":\"x\",\"y\":-130,\"yanchor\":\"middle\",\"yref\":\"y\"},{\"layer\":\"above\",\"sizex\":10,\"sizey\":30,\"source\":\"https:\\u002f\\u002fcdn.prod.website-files.com\\u002f6636e256dbc082950ae82258\\u002f6824a3cad57f8ad0f8df249f_pumpikinseed-1.png\",\"x\":200,\"xanchor\":\"center\",\"xref\":\"x\",\"y\":-140,\"yanchor\":\"middle\",\"yref\":\"y\"}]},                        {\"responsive\": true}                    ).then(function(){\n",
       "                            \n",
       "var gd = document.getElementById('8108f47b-e21e-4d56-b9cc-e2985d9d8f82');\n",
       "var x = new MutationObserver(function (mutations, observer) {{\n",
       "        var display = window.getComputedStyle(gd).display;\n",
       "        if (!display || display === 'none') {{\n",
       "            console.log([gd, 'removed!']);\n",
       "            Plotly.purge(gd);\n",
       "            observer.disconnect();\n",
       "        }}\n",
       "}});\n",
       "\n",
       "// Listen for the removal of the full notebook cells\n",
       "var notebookContainer = gd.closest('#notebook-container');\n",
       "if (notebookContainer) {{\n",
       "    x.observe(notebookContainer, {childList: true});\n",
       "}}\n",
       "\n",
       "// Listen for the clearing of the current output cell\n",
       "var outputEl = gd.closest('.output');\n",
       "if (outputEl) {{\n",
       "    x.observe(outputEl, {childList: true});\n",
       "}}\n",
       "\n",
       "                        })                };                });            </script>        </div>"
      ]
     },
     "metadata": {},
     "output_type": "display_data"
    }
   ],
   "source": [
    "# printing the chart\n",
    "\n",
    "fig = go.Figure(\n",
    "    data= edge_lines + edge_labels + [node_trace], #edge_lines and labels are lists\n",
    "    layout=go.Layout(\n",
    "        title='',\n",
    "        showlegend=False,\n",
    "        hovermode='closest',\n",
    "        margin=dict(b=60, l=30, r=60, t=30),\n",
    "        xaxis=dict(showgrid=False, zeroline=False, showticklabels=False),\n",
    "        yaxis=dict(showgrid=False, zeroline=False, showticklabels=False),\n",
    "        plot_bgcolor='white'\n",
    "    )\n",
    ")\n",
    "\n",
    "# adding the image in the chart\n",
    "for _, row in df_nodes.iterrows():\n",
    "    img_url = row.get('image_url', None)\n",
    "    if isinstance(img_url, str) and img_url.startswith('http'):\n",
    "        fig.add_layout_image(\n",
    "            dict(\n",
    "                source=img_url,\n",
    "                x=row['x'],\n",
    "                y=row['y'],\n",
    "                xref=\"x\",\n",
    "                yref=\"y\",\n",
    "                sizex=10,\n",
    "                sizey=30,\n",
    "                xanchor=\"center\",\n",
    "                yanchor=\"middle\",\n",
    "                layer=\"above\"\n",
    "            )\n",
    "        )\n",
    "\n",
    "fig.show()"
   ]
  },
  {
   "cell_type": "code",
   "execution_count": 104,
   "id": "bf850ac1-3518-4b82-b461-36fc13335408",
   "metadata": {},
   "outputs": [
    {
     "data": {
      "application/vnd.plotly.v1+json": {
       "config": {
        "plotlyServerURL": "https://plot.ly"
       },
       "data": [
        {
         "hoverinfo": "none",
         "hoverlabel": {
          "bordercolor": "rgba(0, 0, 0, 0)",
          "font": {
           "color": "black",
           "family": "Courier New",
           "size": 14
          }
         },
         "line": {
          "color": "rgba(0, 151, 120, 0.4)",
          "shape": "spline",
          "smoothing": 1.3,
          "width": 1
         },
         "mode": "lines",
         "showlegend": false,
         "type": "scatter",
         "x": [
          240,
          233.1502935045133,
          170
         ],
         "y": [
          -100,
          -205.3711607648207,
          -290
         ]
        },
        {
         "hoverinfo": "none",
         "hoverlabel": {
          "bordercolor": "rgba(0, 0, 0, 0)",
          "font": {
           "color": "black",
           "family": "Courier New",
           "size": 14
          }
         },
         "line": {
          "color": "rgba(127, 70, 228, 0.4)",
          "shape": "spline",
          "smoothing": 1.3,
          "width": 8
         },
         "mode": "lines",
         "showlegend": false,
         "type": "scatter",
         "x": [
          140,
          184.10427500435995,
          170
         ],
         "y": [
          -140,
          -192.72393124891002,
          -260
         ]
        },
        {
         "hoverinfo": "none",
         "hoverlabel": {
          "bordercolor": "rgba(0, 0, 0, 0)",
          "font": {
           "color": "black",
           "family": "Courier New",
           "size": 14
          }
         },
         "line": {
          "color": "rgba(0, 151, 120, 0.4)",
          "shape": "spline",
          "smoothing": 1.3,
          "width": 8
         },
         "mode": "lines",
         "showlegend": false,
         "type": "scatter",
         "x": [
          210,
          219.28561180551858,
          170
         ],
         "y": [
          -130,
          -226.50791373455968,
          -310
         ]
        },
        {
         "hoverinfo": "none",
         "hoverlabel": {
          "bordercolor": "rgba(0, 0, 0, 0)",
          "font": {
           "color": "black",
           "family": "Courier New",
           "size": 14
          }
         },
         "line": {
          "color": "rgba(127, 166, 139, 0.4)",
          "shape": "spline",
          "smoothing": 1.3,
          "width": 4
         },
         "mode": "lines",
         "showlegend": false,
         "type": "scatter",
         "x": [
          210,
          99.96891188374886,
          20
         ],
         "y": [
          -130,
          -100.9627885644338,
          -20
         ]
        },
        {
         "hoverinfo": "none",
         "hoverlabel": {
          "bordercolor": "rgba(0, 0, 0, 0)",
          "font": {
           "color": "black",
           "family": "Courier New",
           "size": 14
          }
         },
         "line": {
          "color": "rgba(127, 166, 139, 0.4)",
          "shape": "spline",
          "smoothing": 1.3,
          "width": 1
         },
         "mode": "lines",
         "showlegend": false,
         "type": "scatter",
         "x": [
          210,
          154.11651594585447,
          110
         ],
         "y": [
          -130,
          -149.4174202707276,
          -110
         ]
        },
        {
         "hoverinfo": "none",
         "hoverlabel": {
          "bordercolor": "rgba(0, 0, 0, 0)",
          "font": {
           "color": "black",
           "family": "Courier New",
           "size": 14
          }
         },
         "line": {
          "color": "rgba(127, 70, 228, 0.4)",
          "shape": "spline",
          "smoothing": 1.3,
          "width": 4
         },
         "mode": "lines",
         "showlegend": false,
         "type": "scatter",
         "x": [
          50,
          137.23878153501354,
          170
         ],
         "y": [
          -50,
          -167.4282546761476,
          -310
         ]
        },
        {
         "hoverinfo": "none",
         "hoverlabel": {
          "bordercolor": "rgba(0, 0, 0, 0)",
          "font": {
           "color": "black",
           "family": "Courier New",
           "size": 14
          }
         },
         "line": {
          "color": "rgba(0, 151, 120, 0.4)",
          "shape": "spline",
          "smoothing": 1.3,
          "width": 8
         },
         "mode": "lines",
         "showlegend": false,
         "type": "scatter",
         "x": [
          170,
          210.67962314800357,
          300
         ],
         "y": [
          -220,
          -112.43528338466925,
          -40
         ]
        },
        {
         "hoverinfo": "none",
         "hoverlabel": {
          "bordercolor": "rgba(0, 0, 0, 0)",
          "font": {
           "color": "black",
           "family": "Courier New",
           "size": 14
          }
         },
         "line": {
          "color": "rgba(0, 151, 120, 0.4)",
          "shape": "spline",
          "smoothing": 1.3,
          "width": 8
         },
         "mode": "lines",
         "showlegend": false,
         "type": "scatter",
         "x": [
          170,
          210.24078216250504,
          300
         ],
         "y": [
          -230,
          -118.0594825322403,
          -40
         ]
        },
        {
         "hoverinfo": "none",
         "hoverlabel": {
          "bordercolor": "rgba(0, 0, 0, 0)",
          "font": {
           "color": "black",
           "family": "Courier New",
           "size": 14
          }
         },
         "line": {
          "color": "rgba(0, 151, 120, 0.4)",
          "shape": "spline",
          "smoothing": 1.3,
          "width": 8
         },
         "mode": "lines",
         "showlegend": false,
         "type": "scatter",
         "x": [
          170,
          233.85273388626354,
          350
         ],
         "y": [
          -310,
          -135.29216281102322,
          10
         ]
        },
        {
         "hoverinfo": "none",
         "hoverlabel": {
          "bordercolor": "rgba(0, 0, 0, 0)",
          "font": {
           "color": "black",
           "family": "Courier New",
           "size": 14
          }
         },
         "line": {
          "color": "rgba(0, 151, 120, 0.4)",
          "shape": "spline",
          "smoothing": 1.3,
          "width": 4
         },
         "mode": "lines",
         "showlegend": false,
         "type": "scatter",
         "x": [
          170,
          209.8466915109809,
          300
         ],
         "y": [
          -240,
          -123.65034948213759,
          -40
         ]
        },
        {
         "hoverinfo": "none",
         "hoverlabel": {
          "bordercolor": "rgba(0, 0, 0, 0)",
          "font": {
           "color": "black",
           "family": "Courier New",
           "size": 14
          }
         },
         "line": {
          "color": "rgba(2, 230, 2, 0.4)",
          "shape": "spline",
          "smoothing": 1.3,
          "width": 1
         },
         "mode": "lines",
         "showlegend": false,
         "type": "scatter",
         "x": [
          270,
          253.78679656440357,
          280
         ],
         "y": [
          -70,
          -43.78679656440357,
          -60
         ]
        },
        {
         "hoverinfo": "none",
         "hoverlabel": {
          "bordercolor": "rgba(0, 0, 0, 0)",
          "font": {
           "color": "black",
           "family": "Courier New",
           "size": 14
          }
         },
         "line": {
          "color": "rgba(127, 70, 228, 0.4)",
          "shape": "spline",
          "smoothing": 1.3,
          "width": 8
         },
         "mode": "lines",
         "showlegend": false,
         "type": "scatter",
         "x": [
          170,
          101,
          80
         ],
         "y": [
          -200,
          -158,
          -80
         ]
        },
        {
         "hoverinfo": "none",
         "hoverlabel": {
          "bordercolor": "rgba(0, 0, 0, 0)",
          "font": {
           "color": "black",
           "family": "Courier New",
           "size": 14
          }
         },
         "line": {
          "color": "rgba(0, 44, 255, 0.4)",
          "shape": "spline",
          "smoothing": 1.3,
          "width": 4
         },
         "mode": "lines",
         "showlegend": false,
         "type": "scatter",
         "x": [
          170,
          200,
          170
         ],
         "y": [
          -200,
          -230,
          -260
         ]
        },
        {
         "hoverinfo": "none",
         "hoverlabel": {
          "bordercolor": "rgba(0, 0, 0, 0)",
          "font": {
           "color": "black",
           "family": "Courier New",
           "size": 14
          }
         },
         "line": {
          "color": "rgba(0, 151, 120, 0.4)",
          "shape": "spline",
          "smoothing": 1.3,
          "width": 1
         },
         "mode": "lines",
         "showlegend": false,
         "type": "scatter",
         "x": [
          290,
          256.8328157299975,
          170
         ],
         "y": [
          -50,
          -183.41640786499875,
          -290
         ]
        },
        {
         "hoverinfo": "none",
         "hoverlabel": {
          "bordercolor": "rgba(0, 0, 0, 0)",
          "font": {
           "color": "black",
           "family": "Courier New",
           "size": 14
          }
         },
         "line": {
          "color": "rgba(127, 166, 139, 0.4)",
          "shape": "spline",
          "smoothing": 1.3,
          "width": 8
         },
         "mode": "lines",
         "showlegend": false,
         "type": "scatter",
         "x": [
          100,
          212.91784157201948,
          350
         ],
         "y": [
          -100,
          -17.540549027317034,
          10
         ]
        },
        {
         "hoverinfo": "none",
         "hoverlabel": {
          "bordercolor": "rgba(0, 0, 0, 0)",
          "font": {
           "color": "black",
           "family": "Courier New",
           "size": 14
          }
         },
         "line": {
          "color": "rgba(127, 166, 139, 0.4)",
          "shape": "spline",
          "smoothing": 1.3,
          "width": 4
         },
         "mode": "lines",
         "showlegend": false,
         "type": "scatter",
         "x": [
          100,
          195.51316701949486,
          310
         ],
         "y": [
          -100,
          -36.53950105848458,
          -30
         ]
        },
        {
         "hoverinfo": "none",
         "hoverlabel": {
          "bordercolor": "rgba(0, 0, 0, 0)",
          "font": {
           "color": "black",
           "family": "Courier New",
           "size": 14
          }
         },
         "line": {
          "color": "rgba(127, 70, 228, 0.4)",
          "shape": "spline",
          "smoothing": 1.3,
          "width": 8
         },
         "mode": "lines",
         "showlegend": false,
         "type": "scatter",
         "x": [
          30,
          126.41413299766526,
          170
         ],
         "y": [
          -30,
          -145.77700530894947,
          -290
         ]
        },
        {
         "hoverinfo": "none",
         "hoverlabel": {
          "bordercolor": "rgba(0, 0, 0, 0)",
          "font": {
           "color": "black",
           "family": "Courier New",
           "size": 14
          }
         },
         "line": {
          "color": "rgba(127, 70, 228, 0.4)",
          "shape": "spline",
          "smoothing": 1.3,
          "width": 4
         },
         "mode": "lines",
         "showlegend": false,
         "type": "scatter",
         "x": [
          30,
          126.83281572999748,
          170
         ],
         "y": [
          -30,
          -156.58359213500125,
          -310
         ]
        },
        {
         "hoverinfo": "none",
         "hoverlabel": {
          "bordercolor": "rgba(0, 0, 0, 0)",
          "font": {
           "color": "black",
           "family": "Courier New",
           "size": 14
          }
         },
         "line": {
          "color": "rgba(127, 70, 228, 0.4)",
          "shape": "spline",
          "smoothing": 1.3,
          "width": 4
         },
         "mode": "lines",
         "showlegend": false,
         "type": "scatter",
         "x": [
          10,
          116.47058823529412,
          170
         ],
         "y": [
          -10,
          -145.88235294117646,
          -310
         ]
        },
        {
         "hoverinfo": "none",
         "hoverlabel": {
          "bordercolor": "rgba(0, 0, 0, 0)",
          "font": {
           "color": "black",
           "family": "Courier New",
           "size": 14
          }
         },
         "line": {
          "color": "rgba(0, 151, 120, 0.4)",
          "shape": "spline",
          "smoothing": 1.3,
          "width": 8
         },
         "mode": "lines",
         "showlegend": false,
         "type": "scatter",
         "x": [
          170,
          219.27521222862367,
          320
         ],
         "y": [
          -270,
          -129.5651273371742,
          -20
         ]
        },
        {
         "hoverinfo": "none",
         "hoverlabel": {
          "bordercolor": "rgba(0, 0, 0, 0)",
          "font": {
           "color": "black",
           "family": "Courier New",
           "size": 14
          }
         },
         "line": {
          "color": "rgba(0, 44, 255, 0.4)",
          "shape": "spline",
          "smoothing": 1.3,
          "width": 4
         },
         "mode": "lines",
         "showlegend": false,
         "type": "scatter",
         "x": [
          170,
          200,
          170
         ],
         "y": [
          -270,
          -280,
          -290
         ]
        },
        {
         "hoverinfo": "none",
         "hoverlabel": {
          "bordercolor": "rgba(0, 0, 0, 0)",
          "font": {
           "color": "black",
           "family": "Courier New",
           "size": 14
          }
         },
         "line": {
          "color": "rgba(0, 151, 120, 0.4)",
          "shape": "spline",
          "smoothing": 1.3,
          "width": 8
         },
         "mode": "lines",
         "showlegend": false,
         "type": "scatter",
         "x": [
          170,
          230.19220493791414,
          340
         ],
         "y": [
          -250,
          -108.13069935778162,
          0
         ]
        },
        {
         "hoverinfo": "none",
         "hoverlabel": {
          "bordercolor": "rgba(0, 0, 0, 0)",
          "font": {
           "color": "black",
           "family": "Courier New",
           "size": 14
          }
         },
         "line": {
          "color": "rgba(0, 151, 120, 0.4)",
          "shape": "spline",
          "smoothing": 1.3,
          "width": 1
         },
         "mode": "lines",
         "showlegend": false,
         "type": "scatter",
         "x": [
          330,
          276.47058823529414,
          170
         ],
         "y": [
          -10,
          -174.11764705882354,
          -310
         ]
        },
        {
         "hoverinfo": "none",
         "hoverlabel": {
          "bordercolor": "rgba(0, 0, 0, 0)",
          "font": {
           "color": "black",
           "family": "Courier New",
           "size": 14
          }
         },
         "line": {
          "color": "rgba(0, 151, 120, 0.4)",
          "shape": "spline",
          "smoothing": 1.3,
          "width": 4
         },
         "mode": "lines",
         "showlegend": false,
         "type": "scatter",
         "x": [
          170,
          211.16926501068411,
          300
         ],
         "y": [
          -210,
          -106.77649677287609,
          -40
         ]
        },
        {
         "hoverinfo": "none",
         "hoverlabel": {
          "bordercolor": "rgba(0, 0, 0, 0)",
          "font": {
           "color": "black",
           "family": "Courier New",
           "size": 14
          }
         },
         "line": {
          "color": "rgba(0, 44, 255, 0.4)",
          "shape": "spline",
          "smoothing": 1.3,
          "width": 4
         },
         "mode": "lines",
         "showlegend": false,
         "type": "scatter",
         "x": [
          170,
          200,
          170
         ],
         "y": [
          -190,
          -225,
          -260
         ]
        },
        {
         "hoverinfo": "none",
         "hoverlabel": {
          "bordercolor": "rgba(0, 0, 0, 0)",
          "font": {
           "color": "black",
           "family": "Courier New",
           "size": 14
          }
         },
         "line": {
          "color": "rgba(0, 44, 255, 0.4)",
          "shape": "spline",
          "smoothing": 1.3,
          "width": 8
         },
         "mode": "lines",
         "showlegend": false,
         "type": "scatter",
         "x": [
          170,
          200,
          170
         ],
         "y": [
          -170,
          -240,
          -310
         ]
        },
        {
         "hoverinfo": "none",
         "hoverlabel": {
          "bordercolor": "rgba(0, 0, 0, 0)",
          "font": {
           "color": "black",
           "family": "Courier New",
           "size": 14
          }
         },
         "line": {
          "color": "rgba(0, 44, 255, 0.4)",
          "shape": "spline",
          "smoothing": 1.3,
          "width": 4
         },
         "mode": "lines",
         "showlegend": false,
         "type": "scatter",
         "x": [
          170,
          200,
          170
         ],
         "y": [
          -170,
          -225,
          -280
         ]
        },
        {
         "hoverinfo": "none",
         "hoverlabel": {
          "bordercolor": "rgba(0, 0, 0, 0)",
          "font": {
           "color": "black",
           "family": "Courier New",
           "size": 14
          }
         },
         "line": {
          "color": "rgba(0, 151, 120, 0.4)",
          "shape": "spline",
          "smoothing": 1.3,
          "width": 1
         },
         "mode": "lines",
         "showlegend": false,
         "type": "scatter",
         "x": [
          170,
          173.78679656440357,
          220
         ],
         "y": [
          -170,
          -123.78679656440357,
          -120
         ]
        },
        {
         "hoverinfo": "none",
         "hoverlabel": {
          "bordercolor": "rgba(0, 0, 0, 0)",
          "font": {
           "color": "black",
           "family": "Courier New",
           "size": 14
          }
         },
         "line": {
          "color": "rgba(2, 230, 2, 0.4)",
          "shape": "spline",
          "smoothing": 1.3,
          "width": 8
         },
         "mode": "lines",
         "showlegend": false,
         "type": "scatter",
         "x": [
          230,
          253.78679656440357,
          320
         ],
         "y": [
          -110,
          -43.78679656440357,
          -20
         ]
        },
        {
         "hoverinfo": "none",
         "hoverlabel": {
          "bordercolor": "rgba(0, 0, 0, 0)",
          "font": {
           "color": "black",
           "family": "Courier New",
           "size": 14
          }
         },
         "line": {
          "color": "rgba(0, 151, 120, 0.4)",
          "shape": "spline",
          "smoothing": 1.3,
          "width": 1
         },
         "mode": "lines",
         "showlegend": false,
         "type": "scatter",
         "x": [
          320,
          271.22471828364615,
          170
         ],
         "y": [
          -20,
          -169.56928793535897,
          -290
         ]
        },
        {
         "hoverinfo": "none",
         "hoverlabel": {
          "bordercolor": "rgba(0, 0, 0, 0)",
          "font": {
           "color": "black",
           "family": "Courier New",
           "size": 14
          }
         },
         "line": {
          "color": "rgba(127, 166, 139, 0.4)",
          "shape": "spline",
          "smoothing": 1.3,
          "width": 4
         },
         "mode": "lines",
         "showlegend": false,
         "type": "scatter",
         "x": [
          120,
          220.23828229996295,
          350
         ],
         "y": [
          -120,
          -28.883114838395972,
          10
         ]
        },
        {
         "hoverinfo": "none",
         "hoverlabel": {
          "bordercolor": "rgba(0, 0, 0, 0)",
          "font": {
           "color": "black",
           "family": "Courier New",
           "size": 14
          }
         },
         "line": {
          "color": "rgba(127, 70, 228, 0.4)",
          "shape": "spline",
          "smoothing": 1.3,
          "width": 8
         },
         "mode": "lines",
         "showlegend": false,
         "type": "scatter",
         "x": [
          20,
          120.43994912015265,
          170
         ],
         "y": [
          -20,
          -124.1000317999046,
          -260
         ]
        },
        {
         "hoverinfo": "none",
         "hoverlabel": {
          "bordercolor": "rgba(0, 0, 0, 0)",
          "font": {
           "color": "black",
           "family": "Courier New",
           "size": 14
          }
         },
         "line": {
          "color": "rgba(127, 70, 228, 0.4)",
          "shape": "spline",
          "smoothing": 1.3,
          "width": 4
         },
         "mode": "lines",
         "showlegend": false,
         "type": "scatter",
         "x": [
          0,
          111.30437226013957,
          170
         ],
         "y": [
          0,
          -140.57502166379444,
          -310
         ]
        },
        {
         "hoverinfo": "none",
         "hoverlabel": {
          "bordercolor": "rgba(0, 0, 0, 0)",
          "font": {
           "color": "black",
           "family": "Courier New",
           "size": 14
          }
         },
         "line": {
          "color": "rgba(2, 230, 2, 0.4)",
          "shape": "spline",
          "smoothing": 1.3,
          "width": 1
         },
         "mode": "lines",
         "showlegend": false,
         "type": "scatter",
         "x": [
          200,
          203.78679656440357,
          250
         ],
         "y": [
          -140,
          -93.78679656440357,
          -90
         ]
        },
        {
         "hoverinfo": "none",
         "hoverlabel": {
          "bordercolor": "rgba(0, 0, 0, 0)",
          "font": {
           "color": "black",
           "family": "Courier New",
           "size": 14
          }
         },
         "line": {
          "color": "rgba(2, 230, 2, 0.4)",
          "shape": "spline",
          "smoothing": 1.3,
          "width": 1
         },
         "mode": "lines",
         "showlegend": false,
         "type": "scatter",
         "x": [
          200,
          233.78679656440357,
          310
         ],
         "y": [
          -140,
          -63.78679656440357,
          -30
         ]
        },
        {
         "hoverinfo": "none",
         "hoverlabel": {
          "bordercolor": "rgba(0, 0, 0, 0)",
          "font": {
           "color": "black",
           "family": "Courier New",
           "size": 14
          }
         },
         "line": {
          "color": "rgba(2, 230, 2, 0.4)",
          "shape": "spline",
          "smoothing": 1.3,
          "width": 1
         },
         "mode": "lines",
         "showlegend": false,
         "type": "scatter",
         "x": [
          310,
          303.7867965644036,
          340
         ],
         "y": [
          -30,
          6.213203435596423,
          0
         ]
        },
        {
         "hoverinfo": "none",
         "hoverlabel": {
          "bordercolor": "rgba(0, 0, 0, 0)",
          "font": {
           "color": "black",
           "family": "Courier New",
           "size": 14
          }
         },
         "line": {
          "color": "rgba(127, 70, 228, 0.4)",
          "shape": "spline",
          "smoothing": 1.3,
          "width": 8
         },
         "mode": "lines",
         "showlegend": false,
         "type": "scatter",
         "x": [
          70,
          147.69230769230768,
          170
         ],
         "y": [
          -70,
          -178.46153846153845,
          -310
         ]
        },
        {
         "hoverinfo": "none",
         "hoverlabel": {
          "bordercolor": "rgba(0, 0, 0, 0)",
          "font": {
           "color": "black",
           "family": "Courier New",
           "size": 14
          }
         },
         "line": {
          "color": "rgba(127, 166, 139, 0.4)",
          "shape": "spline",
          "smoothing": 1.3,
          "width": 4
         },
         "mode": "lines",
         "showlegend": false,
         "type": "scatter",
         "x": [
          70,
          185.06803038083928,
          310
         ],
         "y": [
          -70,
          -20.408182285035686,
          -30
         ]
        },
        {
         "hoverinfo": "none",
         "hoverlabel": {
          "bordercolor": "rgba(0, 0, 0, 0)",
          "font": {
           "color": "black",
           "family": "Courier New",
           "size": 14
          }
         },
         "line": {
          "color": "rgba(2, 230, 2, 0.4)",
          "shape": "spline",
          "smoothing": 1.3,
          "width": 1
         },
         "mode": "lines",
         "showlegend": false,
         "type": "scatter",
         "x": [
          260,
          268.7867965644036,
          320
         ],
         "y": [
          -80,
          -28.786796564403577,
          -20
         ]
        },
        {
         "hoverinfo": "none",
         "hoverlabel": {
          "bordercolor": "rgba(0, 0, 0, 0)",
          "font": {
           "color": "black",
           "family": "Courier New",
           "size": 14
          }
         },
         "line": {
          "color": "rgba(2, 230, 2, 0.4)",
          "shape": "spline",
          "smoothing": 1.3,
          "width": 8
         },
         "mode": "lines",
         "showlegend": false,
         "type": "scatter",
         "x": [
          280,
          293.7867965644036,
          350
         ],
         "y": [
          -60,
          -3.786796564403577,
          10
         ]
        },
        {
         "hoverinfo": "none",
         "hoverlabel": {
          "bordercolor": "rgba(0, 0, 0, 0)",
          "font": {
           "color": "black",
           "family": "Courier New",
           "size": 14
          }
         },
         "line": {
          "color": "rgba(2, 230, 2, 0.4)",
          "shape": "spline",
          "smoothing": 1.3,
          "width": 4
         },
         "mode": "lines",
         "showlegend": false,
         "type": "scatter",
         "x": [
          280,
          288.7867965644036,
          340
         ],
         "y": [
          -60,
          -8.786796564403577,
          0
         ]
        },
        {
         "hoverinfo": "none",
         "hoverlabel": {
          "bordercolor": "rgba(0, 0, 0, 0)",
          "font": {
           "color": "black",
           "family": "Courier New",
           "size": 14
          }
         },
         "line": {
          "color": "rgba(0, 151, 120, 0.4)",
          "shape": "spline",
          "smoothing": 1.3,
          "width": 1
         },
         "mode": "lines",
         "showlegend": false,
         "type": "scatter",
         "x": [
          280,
          251.28647726029942,
          170
         ],
         "y": [
          -60,
          -174.4575624931647,
          -260
         ]
        },
        {
         "hoverlabel": {
          "bordercolor": "rgba(0, 0, 0, 0)",
          "font": {
           "color": "black",
           "family": "Courier New",
           "size": 14
          }
         },
         "hovertemplate": "<b></b> <br>  <b>Almonds + Yogurt  </b><br>  Total protein: 25.2g  <br>  Acceptable pairing or complementary nutrition  <br><b></b> <br><extra></extra>",
         "marker": {
          "color": "rgba(0, 151, 120, 0.4)",
          "opacity": 1,
          "size": 3
         },
         "mode": "markers",
         "showlegend": false,
         "type": "scatter",
         "x": [
          233.1502935045133
         ],
         "y": [
          -205.3711607648207
         ]
        },
        {
         "hoverlabel": {
          "bordercolor": "rgba(0, 0, 0, 0)",
          "font": {
           "color": "black",
           "family": "Courier New",
           "size": 14
          }
         },
         "hovertemplate": "<b></b> <br>  <b>Bacon + Egg  </b><br>  Total protein: 53.3g  <br>  Strong classic combination  <br><b></b> <br><extra></extra>",
         "marker": {
          "color": "rgba(127, 70, 228, 0.4)",
          "opacity": 1,
          "size": 3
         },
         "mode": "markers",
         "showlegend": false,
         "type": "scatter",
         "x": [
          184.10427500435995
         ],
         "y": [
          -192.72393124891002
         ]
        },
        {
         "hoverlabel": {
          "bordercolor": "rgba(0, 0, 0, 0)",
          "font": {
           "color": "black",
           "family": "Courier New",
           "size": 14
          }
         },
         "hovertemplate": "<b></b> <br>  <b>Beans + Butter  </b><br>  Total protein: 27.8g  <br>  Strong classic combination  <br><b></b> <br><extra></extra>",
         "marker": {
          "color": "rgba(0, 151, 120, 0.4)",
          "opacity": 1,
          "size": 3
         },
         "mode": "markers",
         "showlegend": false,
         "type": "scatter",
         "x": [
          219.28561180551858
         ],
         "y": [
          -226.50791373455968
         ]
        },
        {
         "hoverlabel": {
          "bordercolor": "rgba(0, 0, 0, 0)",
          "font": {
           "color": "black",
           "family": "Courier New",
           "size": 14
          }
         },
         "hovertemplate": "<b></b> <br>  <b>Beans + Pork sausage  </b><br>  Total protein: 45.0g  <br>  Good synergy or common usage  <br><b></b> <br><extra></extra>",
         "marker": {
          "color": "rgba(127, 166, 139, 0.4)",
          "opacity": 1,
          "size": 3
         },
         "mode": "markers",
         "showlegend": false,
         "type": "scatter",
         "x": [
          99.96891188374886
         ],
         "y": [
          -100.9627885644338
         ]
        },
        {
         "hoverlabel": {
          "bordercolor": "rgba(0, 0, 0, 0)",
          "font": {
           "color": "black",
           "family": "Courier New",
           "size": 14
          }
         },
         "hovertemplate": "<b></b> <br>  <b>Beans + Chicken wing  </b><br>  Total protein: 50.2g  <br>  Acceptable pairing or complementary nutrition  <br><b></b> <br><extra></extra>",
         "marker": {
          "color": "rgba(127, 166, 139, 0.4)",
          "opacity": 1,
          "size": 3
         },
         "mode": "markers",
         "showlegend": false,
         "type": "scatter",
         "x": [
          154.11651594585447
         ],
         "y": [
          -149.4174202707276
         ]
        },
        {
         "hoverlabel": {
          "bordercolor": "rgba(0, 0, 0, 0)",
          "font": {
           "color": "black",
           "family": "Courier New",
           "size": 14
          }
         },
         "hovertemplate": "<b></b> <br>  <b>Beef steak + Butter  </b><br>  Total protein: 19.7g  <br>  Good synergy or common usage  <br><b></b> <br><extra></extra>",
         "marker": {
          "color": "rgba(127, 70, 228, 0.4)",
          "opacity": 1,
          "size": 3
         },
         "mode": "markers",
         "showlegend": false,
         "type": "scatter",
         "x": [
          137.23878153501354
         ],
         "y": [
          -167.4282546761476
         ]
        },
        {
         "hoverlabel": {
          "bordercolor": "rgba(0, 0, 0, 0)",
          "font": {
           "color": "black",
           "family": "Courier New",
           "size": 14
          }
         },
         "hovertemplate": "<b></b> <br>  <b>Blue cheese + Walnuts  </b><br>  Total protein: 36.0g  <br>  Strong classic combination  <br><b></b> <br><extra></extra>",
         "marker": {
          "color": "rgba(0, 151, 120, 0.4)",
          "opacity": 1,
          "size": 3
         },
         "mode": "markers",
         "showlegend": false,
         "type": "scatter",
         "x": [
          210.67962314800357
         ],
         "y": [
          -112.43528338466925
         ]
        },
        {
         "hoverlabel": {
          "bordercolor": "rgba(0, 0, 0, 0)",
          "font": {
           "color": "black",
           "family": "Courier New",
           "size": 14
          }
         },
         "hovertemplate": "<b></b> <br>  <b>Brie + Walnuts  </b><br>  Total protein: 35.4g  <br>  Strong classic combination  <br><b></b> <br><extra></extra>",
         "marker": {
          "color": "rgba(0, 151, 120, 0.4)",
          "opacity": 1,
          "size": 3
         },
         "mode": "markers",
         "showlegend": false,
         "type": "scatter",
         "x": [
          210.24078216250504
         ],
         "y": [
          -118.0594825322403
         ]
        },
        {
         "hoverlabel": {
          "bordercolor": "rgba(0, 0, 0, 0)",
          "font": {
           "color": "black",
           "family": "Courier New",
           "size": 14
          }
         },
         "hovertemplate": "<b></b> <br>  <b>Butter + Mushroom  </b><br>  Total protein: 3.8g  <br>  Strong classic combination  <br><b></b> <br><extra></extra>",
         "marker": {
          "color": "rgba(0, 151, 120, 0.4)",
          "opacity": 1,
          "size": 3
         },
         "mode": "markers",
         "showlegend": false,
         "type": "scatter",
         "x": [
          233.85273388626354
         ],
         "y": [
          -135.29216281102322
         ]
        },
        {
         "hoverlabel": {
          "bordercolor": "rgba(0, 0, 0, 0)",
          "font": {
           "color": "black",
           "family": "Courier New",
           "size": 14
          }
         },
         "hovertemplate": "<b></b> <br>  <b>Camembert + Walnuts  </b><br>  Total protein: 34.4g  <br>  Good synergy or common usage  <br><b></b> <br><extra></extra>",
         "marker": {
          "color": "rgba(0, 151, 120, 0.4)",
          "opacity": 1,
          "size": 3
         },
         "mode": "markers",
         "showlegend": false,
         "type": "scatter",
         "x": [
          209.8466915109809
         ],
         "y": [
          -123.65034948213759
         ]
        },
        {
         "hoverlabel": {
          "bordercolor": "rgba(0, 0, 0, 0)",
          "font": {
           "color": "black",
           "family": "Courier New",
           "size": 14
          }
         },
         "hovertemplate": "<b></b> <br>  <b>Cashews + Tofu  </b><br>  Total protein: 34.7g  <br>  Acceptable pairing or complementary nutrition  <br><b></b> <br><extra></extra>",
         "marker": {
          "color": "rgba(2, 230, 2, 0.4)",
          "opacity": 1,
          "size": 3
         },
         "mode": "markers",
         "showlegend": false,
         "type": "scatter",
         "x": [
          253.78679656440357
         ],
         "y": [
          -43.78679656440357
         ]
        },
        {
         "hoverlabel": {
          "bordercolor": "rgba(0, 0, 0, 0)",
          "font": {
           "color": "black",
           "family": "Courier New",
           "size": 14
          }
         },
         "hovertemplate": "<b></b> <br>  <b>Cheddar cheese + Beef burger  </b><br>  Total protein: 43.7g  <br>  Strong classic combination  <br><b></b> <br><extra></extra>",
         "marker": {
          "color": "rgba(127, 70, 228, 0.4)",
          "opacity": 1,
          "size": 3
         },
         "mode": "markers",
         "showlegend": false,
         "type": "scatter",
         "x": [
          101
         ],
         "y": [
          -158
         ]
        },
        {
         "hoverlabel": {
          "bordercolor": "rgba(0, 0, 0, 0)",
          "font": {
           "color": "black",
           "family": "Courier New",
           "size": 14
          }
         },
         "hovertemplate": "<b></b> <br>  <b>Cheddar cheese + Egg  </b><br>  Total protein: 35.7g  <br>  Good synergy or common usage  <br><b></b> <br><extra></extra>",
         "marker": {
          "color": "rgba(0, 44, 255, 0.4)",
          "opacity": 1,
          "size": 3
         },
         "mode": "markers",
         "showlegend": false,
         "type": "scatter",
         "x": [
          200
         ],
         "y": [
          -230
         ]
        },
        {
         "hoverlabel": {
          "bordercolor": "rgba(0, 0, 0, 0)",
          "font": {
           "color": "black",
           "family": "Courier New",
           "size": 14
          }
         },
         "hovertemplate": "<b></b> <br>  <b>Chia seeds + Yogurt  </b><br>  Total protein: 20.8g  <br>  Acceptable pairing or complementary nutrition  <br><b></b> <br><extra></extra>",
         "marker": {
          "color": "rgba(0, 151, 120, 0.4)",
          "opacity": 1,
          "size": 3
         },
         "mode": "markers",
         "showlegend": false,
         "type": "scatter",
         "x": [
          256.8328157299975
         ],
         "y": [
          -183.41640786499875
         ]
        },
        {
         "hoverlabel": {
          "bordercolor": "rgba(0, 0, 0, 0)",
          "font": {
           "color": "black",
           "family": "Courier New",
           "size": 14
          }
         },
         "hovertemplate": "<b></b> <br>  <b>Chicken breast + Mushroom  </b><br>  Total protein: 25.2g  <br>  Strong classic combination  <br><b></b> <br><extra></extra>",
         "marker": {
          "color": "rgba(127, 166, 139, 0.4)",
          "opacity": 1,
          "size": 3
         },
         "mode": "markers",
         "showlegend": false,
         "type": "scatter",
         "x": [
          212.91784157201948
         ],
         "y": [
          -17.540549027317034
         ]
        },
        {
         "hoverlabel": {
          "bordercolor": "rgba(0, 0, 0, 0)",
          "font": {
           "color": "black",
           "family": "Courier New",
           "size": 14
          }
         },
         "hovertemplate": "<b></b> <br>  <b>Chicken breast + Quinoa  </b><br>  Total protein: 36.6g  <br>  Good synergy or common usage  <br><b></b> <br><extra></extra>",
         "marker": {
          "color": "rgba(127, 166, 139, 0.4)",
          "opacity": 1,
          "size": 3
         },
         "mode": "markers",
         "showlegend": false,
         "type": "scatter",
         "x": [
          195.51316701949486
         ],
         "y": [
          -36.53950105848458
         ]
        },
        {
         "hoverlabel": {
          "bordercolor": "rgba(0, 0, 0, 0)",
          "font": {
           "color": "black",
           "family": "Courier New",
           "size": 14
          }
         },
         "hovertemplate": "<b></b> <br>  <b>Chicken thigh + Yogurt  </b><br>  Total protein: 22.4g  <br>  Strong classic combination  <br><b></b> <br><extra></extra>",
         "marker": {
          "color": "rgba(127, 70, 228, 0.4)",
          "opacity": 1,
          "size": 3
         },
         "mode": "markers",
         "showlegend": false,
         "type": "scatter",
         "x": [
          126.41413299766526
         ],
         "y": [
          -145.77700530894947
         ]
        },
        {
         "hoverlabel": {
          "bordercolor": "rgba(0, 0, 0, 0)",
          "font": {
           "color": "black",
           "family": "Courier New",
           "size": 14
          }
         },
         "hovertemplate": "<b></b> <br>  <b>Chicken thigh + Butter  </b><br>  Total protein: 19.6g  <br>  Good synergy or common usage  <br><b></b> <br><extra></extra>",
         "marker": {
          "color": "rgba(127, 70, 228, 0.4)",
          "opacity": 1,
          "size": 3
         },
         "mode": "markers",
         "showlegend": false,
         "type": "scatter",
         "x": [
          126.83281572999748
         ],
         "y": [
          -156.58359213500125
         ]
        },
        {
         "hoverlabel": {
          "bordercolor": "rgba(0, 0, 0, 0)",
          "font": {
           "color": "black",
           "family": "Courier New",
           "size": 14
          }
         },
         "hovertemplate": "<b></b> <br>  <b>Cod + Butter  </b><br>  Total protein: 17.1g  <br>  Good synergy or common usage  <br><b></b> <br><extra></extra>",
         "marker": {
          "color": "rgba(127, 70, 228, 0.4)",
          "opacity": 1,
          "size": 3
         },
         "mode": "markers",
         "showlegend": false,
         "type": "scatter",
         "x": [
          116.47058823529412
         ],
         "y": [
          -145.88235294117646
         ]
        },
        {
         "hoverlabel": {
          "bordercolor": "rgba(0, 0, 0, 0)",
          "font": {
           "color": "black",
           "family": "Courier New",
           "size": 14
          }
         },
         "hovertemplate": "<b></b> <br>  <b>Cottage cheese + Popcorn  </b><br>  Total protein: 24.5g  <br>  Strong classic combination  <br><b></b> <br><extra></extra>",
         "marker": {
          "color": "rgba(0, 151, 120, 0.4)",
          "opacity": 1,
          "size": 3
         },
         "mode": "markers",
         "showlegend": false,
         "type": "scatter",
         "x": [
          219.27521222862367
         ],
         "y": [
          -129.5651273371742
         ]
        },
        {
         "hoverlabel": {
          "bordercolor": "rgba(0, 0, 0, 0)",
          "font": {
           "color": "black",
           "family": "Courier New",
           "size": 14
          }
         },
         "hovertemplate": "<b></b> <br>  <b>Cottage cheese + Yogurt  </b><br>  Total protein: 15.4g  <br>  Good synergy or common usage  <br><b></b> <br><extra></extra>",
         "marker": {
          "color": "rgba(0, 44, 255, 0.4)",
          "opacity": 1,
          "size": 3
         },
         "mode": "markers",
         "showlegend": false,
         "type": "scatter",
         "x": [
          200
         ],
         "y": [
          -280
         ]
        },
        {
         "hoverlabel": {
          "bordercolor": "rgba(0, 0, 0, 0)",
          "font": {
           "color": "black",
           "family": "Courier New",
           "size": 14
          }
         },
         "hovertemplate": "<b></b> <br>  <b>Feta cheese + Kale  </b><br>  Total protein: 22.6g  <br>  Strong classic combination  <br><b></b> <br><extra></extra>",
         "marker": {
          "color": "rgba(0, 151, 120, 0.4)",
          "opacity": 1,
          "size": 3
         },
         "mode": "markers",
         "showlegend": false,
         "type": "scatter",
         "x": [
          230.19220493791414
         ],
         "y": [
          -108.13069935778162
         ]
        },
        {
         "hoverlabel": {
          "bordercolor": "rgba(0, 0, 0, 0)",
          "font": {
           "color": "black",
           "family": "Courier New",
           "size": 14
          }
         },
         "hovertemplate": "<b></b> <br>  <b>Garden peas + Butter  </b><br>  Total protein: 5.7g  <br>  Acceptable pairing or complementary nutrition  <br><b></b> <br><extra></extra>",
         "marker": {
          "color": "rgba(0, 151, 120, 0.4)",
          "opacity": 1,
          "size": 3
         },
         "mode": "markers",
         "showlegend": false,
         "type": "scatter",
         "x": [
          276.47058823529414
         ],
         "y": [
          -174.11764705882354
         ]
        },
        {
         "hoverlabel": {
          "bordercolor": "rgba(0, 0, 0, 0)",
          "font": {
           "color": "black",
           "family": "Courier New",
           "size": 14
          }
         },
         "hovertemplate": "<b></b> <br>  <b>Goat's cheese + Walnuts  </b><br>  Total protein: 36.2g  <br>  Good synergy or common usage  <br><b></b> <br><extra></extra>",
         "marker": {
          "color": "rgba(0, 151, 120, 0.4)",
          "opacity": 1,
          "size": 3
         },
         "mode": "markers",
         "showlegend": false,
         "type": "scatter",
         "x": [
          211.16926501068411
         ],
         "y": [
          -106.77649677287609
         ]
        },
        {
         "hoverlabel": {
          "bordercolor": "rgba(0, 0, 0, 0)",
          "font": {
           "color": "black",
           "family": "Courier New",
           "size": 14
          }
         },
         "hovertemplate": "<b></b> <br>  <b>Mozzarella cheese + Egg  </b><br>  Total protein: 36.1g  <br>  Good synergy or common usage  <br><b></b> <br><extra></extra>",
         "marker": {
          "color": "rgba(0, 44, 255, 0.4)",
          "opacity": 1,
          "size": 3
         },
         "mode": "markers",
         "showlegend": false,
         "type": "scatter",
         "x": [
          200
         ],
         "y": [
          -225
         ]
        },
        {
         "hoverlabel": {
          "bordercolor": "rgba(0, 0, 0, 0)",
          "font": {
           "color": "black",
           "family": "Courier New",
           "size": 14
          }
         },
         "hovertemplate": "<b></b> <br>  <b>Parmesan cheese + Butter  </b><br>  Total protein: 30.6g  <br>  Strong classic combination  <br><b></b> <br><extra></extra>",
         "marker": {
          "color": "rgba(0, 44, 255, 0.4)",
          "opacity": 1,
          "size": 3
         },
         "mode": "markers",
         "showlegend": false,
         "type": "scatter",
         "x": [
          200
         ],
         "y": [
          -240
         ]
        },
        {
         "hoverlabel": {
          "bordercolor": "rgba(0, 0, 0, 0)",
          "font": {
           "color": "black",
           "family": "Courier New",
           "size": 14
          }
         },
         "hovertemplate": "<b></b> <br>  <b>Parmesan cheese + Ricotta cheese  </b><br>  Total protein: 37.4g  <br>  Good synergy or common usage  <br><b></b> <br><extra></extra>",
         "marker": {
          "color": "rgba(0, 44, 255, 0.4)",
          "opacity": 1,
          "size": 3
         },
         "mode": "markers",
         "showlegend": false,
         "type": "scatter",
         "x": [
          200
         ],
         "y": [
          -225
         ]
        },
        {
         "hoverlabel": {
          "bordercolor": "rgba(0, 0, 0, 0)",
          "font": {
           "color": "black",
           "family": "Courier New",
           "size": 14
          }
         },
         "hovertemplate": "<b></b> <br>  <b>Parmesan cheese + Lentils  </b><br>  Total protein: 53.2g  <br>  Acceptable pairing or complementary nutrition  <br><b></b> <br><extra></extra>",
         "marker": {
          "color": "rgba(0, 151, 120, 0.4)",
          "opacity": 1,
          "size": 3
         },
         "mode": "markers",
         "showlegend": false,
         "type": "scatter",
         "x": [
          173.78679656440357
         ],
         "y": [
          -123.78679656440357
         ]
        },
        {
         "hoverlabel": {
          "bordercolor": "rgba(0, 0, 0, 0)",
          "font": {
           "color": "black",
           "family": "Courier New",
           "size": 14
          }
         },
         "hovertemplate": "<b></b> <br>  <b>Peanuts + Popcorn  </b><br>  Total protein: 36.1g  <br>  Strong classic combination  <br><b></b> <br><extra></extra>",
         "marker": {
          "color": "rgba(2, 230, 2, 0.4)",
          "opacity": 1,
          "size": 3
         },
         "mode": "markers",
         "showlegend": false,
         "type": "scatter",
         "x": [
          253.78679656440357
         ],
         "y": [
          -43.78679656440357
         ]
        },
        {
         "hoverlabel": {
          "bordercolor": "rgba(0, 0, 0, 0)",
          "font": {
           "color": "black",
           "family": "Courier New",
           "size": 14
          }
         },
         "hovertemplate": "<b></b> <br>  <b>Popcorn + Yogurt  </b><br>  Total protein: 16.7g  <br>  Acceptable pairing or complementary nutrition  <br><b></b> <br><extra></extra>",
         "marker": {
          "color": "rgba(0, 151, 120, 0.4)",
          "opacity": 1,
          "size": 3
         },
         "mode": "markers",
         "showlegend": false,
         "type": "scatter",
         "x": [
          271.22471828364615
         ],
         "y": [
          -169.56928793535897
         ]
        },
        {
         "hoverlabel": {
          "bordercolor": "rgba(0, 0, 0, 0)",
          "font": {
           "color": "black",
           "family": "Courier New",
           "size": 14
          }
         },
         "hovertemplate": "<b></b> <br>  <b>Pork chop + Mushroom  </b><br>  Total protein: 29.7g  <br>  Good synergy or common usage  <br><b></b> <br><extra></extra>",
         "marker": {
          "color": "rgba(127, 166, 139, 0.4)",
          "opacity": 1,
          "size": 3
         },
         "mode": "markers",
         "showlegend": false,
         "type": "scatter",
         "x": [
          220.23828229996295
         ],
         "y": [
          -28.883114838395972
         ]
        },
        {
         "hoverlabel": {
          "bordercolor": "rgba(0, 0, 0, 0)",
          "font": {
           "color": "black",
           "family": "Courier New",
           "size": 14
          }
         },
         "hovertemplate": "<b></b> <br>  <b>Pork sausage + Egg  </b><br>  Total protein: 30.6g  <br>  Strong classic combination  <br><b></b> <br><extra></extra>",
         "marker": {
          "color": "rgba(127, 70, 228, 0.4)",
          "opacity": 1,
          "size": 3
         },
         "mode": "markers",
         "showlegend": false,
         "type": "scatter",
         "x": [
          120.43994912015265
         ],
         "y": [
          -124.1000317999046
         ]
        },
        {
         "hoverlabel": {
          "bordercolor": "rgba(0, 0, 0, 0)",
          "font": {
           "color": "black",
           "family": "Courier New",
           "size": 14
          }
         },
         "hovertemplate": "<b></b> <br>  <b>Prawn + Butter  </b><br>  Total protein: 16.6g  <br>  Good synergy or common usage  <br><b></b> <br><extra></extra>",
         "marker": {
          "color": "rgba(127, 70, 228, 0.4)",
          "opacity": 1,
          "size": 3
         },
         "mode": "markers",
         "showlegend": false,
         "type": "scatter",
         "x": [
          111.30437226013957
         ],
         "y": [
          -140.57502166379444
         ]
        },
        {
         "hoverlabel": {
          "bordercolor": "rgba(0, 0, 0, 0)",
          "font": {
           "color": "black",
           "family": "Courier New",
           "size": 14
          }
         },
         "hovertemplate": "<b></b> <br>  <b>Pumpkin seeds + Chickpeas  </b><br>  Total protein: 51.2g  <br>  Acceptable pairing or complementary nutrition  <br><b></b> <br><extra></extra>",
         "marker": {
          "color": "rgba(2, 230, 2, 0.4)",
          "opacity": 1,
          "size": 3
         },
         "mode": "markers",
         "showlegend": false,
         "type": "scatter",
         "x": [
          203.78679656440357
         ],
         "y": [
          -93.78679656440357
         ]
        },
        {
         "hoverlabel": {
          "bordercolor": "rgba(0, 0, 0, 0)",
          "font": {
           "color": "black",
           "family": "Courier New",
           "size": 14
          }
         },
         "hovertemplate": "<b></b> <br>  <b>Pumpkin seeds + Quinoa  </b><br>  Total protein: 44.0g  <br>  Acceptable pairing or complementary nutrition  <br><b></b> <br><extra></extra>",
         "marker": {
          "color": "rgba(2, 230, 2, 0.4)",
          "opacity": 1,
          "size": 3
         },
         "mode": "markers",
         "showlegend": false,
         "type": "scatter",
         "x": [
          233.78679656440357
         ],
         "y": [
          -63.78679656440357
         ]
        },
        {
         "hoverlabel": {
          "bordercolor": "rgba(0, 0, 0, 0)",
          "font": {
           "color": "black",
           "family": "Courier New",
           "size": 14
          }
         },
         "hovertemplate": "<b></b> <br>  <b>Quinoa + Kale  </b><br>  Total protein: 17.0g  <br>  Acceptable pairing or complementary nutrition  <br><b></b> <br><extra></extra>",
         "marker": {
          "color": "rgba(2, 230, 2, 0.4)",
          "opacity": 1,
          "size": 3
         },
         "mode": "markers",
         "showlegend": false,
         "type": "scatter",
         "x": [
          303.7867965644036
         ],
         "y": [
          6.213203435596423
         ]
        },
        {
         "hoverlabel": {
          "bordercolor": "rgba(0, 0, 0, 0)",
          "font": {
           "color": "black",
           "family": "Courier New",
           "size": 14
          }
         },
         "hovertemplate": "<b></b> <br>  <b>Salmon + Butter  </b><br>  Total protein: 21.3g  <br>  Strong classic combination  <br><b></b> <br><extra></extra>",
         "marker": {
          "color": "rgba(127, 70, 228, 0.4)",
          "opacity": 1,
          "size": 3
         },
         "mode": "markers",
         "showlegend": false,
         "type": "scatter",
         "x": [
          147.69230769230768
         ],
         "y": [
          -178.46153846153845
         ]
        },
        {
         "hoverlabel": {
          "bordercolor": "rgba(0, 0, 0, 0)",
          "font": {
           "color": "black",
           "family": "Courier New",
           "size": 14
          }
         },
         "hovertemplate": "<b></b> <br>  <b>Salmon + Quinoa  </b><br>  Total protein: 34.4g  <br>  Good synergy or common usage  <br><b></b> <br><extra></extra>",
         "marker": {
          "color": "rgba(127, 166, 139, 0.4)",
          "opacity": 1,
          "size": 3
         },
         "mode": "markers",
         "showlegend": false,
         "type": "scatter",
         "x": [
          185.06803038083928
         ],
         "y": [
          -20.408182285035686
         ]
        },
        {
         "hoverlabel": {
          "bordercolor": "rgba(0, 0, 0, 0)",
          "font": {
           "color": "black",
           "family": "Courier New",
           "size": 14
          }
         },
         "hovertemplate": "<b></b> <br>  <b>Sunflower seeds + Popcorn  </b><br>  Total protein: 31.8g  <br>  Acceptable pairing or complementary nutrition  <br><b></b> <br><extra></extra>",
         "marker": {
          "color": "rgba(2, 230, 2, 0.4)",
          "opacity": 1,
          "size": 3
         },
         "mode": "markers",
         "showlegend": false,
         "type": "scatter",
         "x": [
          268.7867965644036
         ],
         "y": [
          -28.786796564403577
         ]
        },
        {
         "hoverlabel": {
          "bordercolor": "rgba(0, 0, 0, 0)",
          "font": {
           "color": "black",
           "family": "Courier New",
           "size": 14
          }
         },
         "hovertemplate": "<b></b> <br>  <b>Tofu + Mushroom  </b><br>  Total protein: 20.0g  <br>  Strong classic combination  <br><b></b> <br><extra></extra>",
         "marker": {
          "color": "rgba(2, 230, 2, 0.4)",
          "opacity": 1,
          "size": 3
         },
         "mode": "markers",
         "showlegend": false,
         "type": "scatter",
         "x": [
          293.7867965644036
         ],
         "y": [
          -3.786796564403577
         ]
        },
        {
         "hoverlabel": {
          "bordercolor": "rgba(0, 0, 0, 0)",
          "font": {
           "color": "black",
           "family": "Courier New",
           "size": 14
          }
         },
         "hovertemplate": "<b></b> <br>  <b>Tofu + Kale  </b><br>  Total protein: 20.2g  <br>  Good synergy or common usage  <br><b></b> <br><extra></extra>",
         "marker": {
          "color": "rgba(2, 230, 2, 0.4)",
          "opacity": 1,
          "size": 3
         },
         "mode": "markers",
         "showlegend": false,
         "type": "scatter",
         "x": [
          288.7867965644036
         ],
         "y": [
          -8.786796564403577
         ]
        },
        {
         "hoverlabel": {
          "bordercolor": "rgba(0, 0, 0, 0)",
          "font": {
           "color": "black",
           "family": "Courier New",
           "size": 14
          }
         },
         "hovertemplate": "<b></b> <br>  <b>Tofu + Egg  </b><br>  Total protein: 29.7g  <br>  Acceptable pairing or complementary nutrition  <br><b></b> <br><extra></extra>",
         "marker": {
          "color": "rgba(0, 151, 120, 0.4)",
          "opacity": 1,
          "size": 3
         },
         "mode": "markers",
         "showlegend": false,
         "type": "scatter",
         "x": [
          251.28647726029942
         ],
         "y": [
          -174.4575624931647
         ]
        },
        {
         "customdata": [
          [
           "Prawn",
           "Seafood",
           15.55
          ],
          [
           "Cod",
           "Seafood",
           16.1
          ],
          [
           "Pork sausage",
           "Red",
           18.2
          ],
          [
           "Chicken thigh",
           "White",
           18.6
          ],
          [
           "Lamb leg",
           "Red",
           18.6
          ],
          [
           "Beef steak",
           "Red",
           18.7
          ],
          [
           "Tuna",
           "Seafood",
           19
          ],
          [
           "Salmon",
           "Seafood",
           20.3
          ],
          [
           "Beef burger",
           "Red",
           20.4
          ],
          [
           "Pork loin",
           "Red",
           21.1
          ],
          [
           "Chicken breast",
           "White",
           22.5
          ],
          [
           "Chicken wing",
           "White",
           23.4
          ],
          [
           "Pork chop",
           "Red",
           26.97
          ],
          [
           "Lamb chop",
           "Red",
           27.36
          ],
          [
           "Bacon",
           "Red",
           40.9
          ],
          [
           "Butter",
           "Cow",
           1
          ],
          [
           "Cow's milk",
           "Cow",
           3.27
          ],
          [
           "Yogurt",
           "Cow",
           3.82
          ],
          [
           "Ricotta cheese",
           "Cheese",
           7.81
          ],
          [
           "Cottage cheese",
           "Cheese",
           11.6
          ],
          [
           "Egg",
           "Egg",
           12.4
          ],
          [
           "Feta cheese",
           "Cheese",
           19.7
          ],
          [
           "Camembert",
           "Cheese",
           19.8
          ],
          [
           "Brie",
           "Cheese",
           20.8
          ],
          [
           "Blue cheese",
           "Cheese",
           21.4
          ],
          [
           "Goat's cheese",
           "Cheese",
           21.58
          ],
          [
           "Cheddar cheese",
           "Cheese",
           23.3
          ],
          [
           "Mozzarella cheese",
           "Cheese",
           23.7
          ],
          [
           "Halloumi cheese",
           "Cheese",
           24
          ],
          [
           "Parmesan cheese",
           "Cheese",
           29.6
          ],
          [
           "Mushroom",
           "Vegetable",
           2.75
          ],
          [
           "Kale",
           "Vegetable",
           2.92
          ],
          [
           "Garden peas",
           "Vegetable",
           4.71
          ],
          [
           "Popcorn",
           "Grain",
           12.9
          ],
          [
           "Quinoa",
           "Grain",
           14.1
          ],
          [
           "Walnuts",
           "Nut",
           14.6
          ],
          [
           "Chia seeds",
           "Seed",
           17
          ],
          [
           "Tofu",
           "Grain",
           17.3
          ],
          [
           "Cashews",
           "Nut",
           17.4
          ],
          [
           "Sunflower seeds",
           "Seed",
           18.9
          ],
          [
           "Chickpeas",
           "Legumes",
           21.3
          ],
          [
           "Almonds",
           "Nut",
           21.4
          ],
          [
           "Peanuts",
           "Nut",
           23.2
          ],
          [
           "Lentils",
           "Legumes",
           23.6
          ],
          [
           "Beans",
           "Legumes",
           26.8
          ],
          [
           "Pumpkin seeds",
           "Seed",
           29.9
          ]
         ],
         "hoverlabel": {
          "bordercolor": "rgba(0, 0, 0, 0)",
          "font": {
           "color": "black",
           "family": "Courier New",
           "size": 14
          }
         },
         "hovertemplate": "  <b></b> <br>  <b>%{customdata[0]}</b>  <br>  %{customdata[1]}<br>  Protein %{customdata[2]}g  <br>  <br><extra></extra>",
         "marker": {
          "color": [
           "rgb(255, 0, 128)",
           "rgb(255, 0, 128)",
           "rgb(255, 0, 128)",
           "rgb(255, 0, 128)",
           "rgb(255, 0, 128)",
           "rgb(255, 0, 128)",
           "rgb(255, 0, 128)",
           "rgb(255, 0, 128)",
           "rgb(255, 0, 128)",
           "rgb(255, 0, 128)",
           "rgb(255, 0, 128)",
           "rgb(255, 0, 128)",
           "rgb(255, 0, 128)",
           "rgb(255, 0, 128)",
           "rgb(255, 0, 128)",
           "rgb(0, 44, 255)",
           "rgb(0, 44, 255)",
           "rgb(0, 44, 255)",
           "rgb(0, 44, 255)",
           "rgb(0, 44, 255)",
           "rgb(0, 44, 255)",
           "rgb(0, 44, 255)",
           "rgb(0, 44, 255)",
           "rgb(0, 44, 255)",
           "rgb(0, 44, 255)",
           "rgb(0, 44, 255)",
           "rgb(0, 44, 255)",
           "rgb(0, 44, 255)",
           "rgb(0, 44, 255)",
           "rgb(0, 44, 255)",
           "rgb(2, 230, 2)",
           "rgb(2, 230, 2)",
           "rgb(2, 230, 2)",
           "rgb(2, 230, 2)",
           "rgb(2, 230, 2)",
           "rgb(2, 230, 2)",
           "rgb(2, 230, 2)",
           "rgb(2, 230, 2)",
           "rgb(2, 230, 2)",
           "rgb(2, 230, 2)",
           "rgb(2, 230, 2)",
           "rgb(2, 230, 2)",
           "rgb(2, 230, 2)",
           "rgb(2, 230, 2)",
           "rgb(2, 230, 2)",
           "rgb(2, 230, 2)"
          ],
          "line": {
           "color": [
            "rgb(255, 0, 128)",
            "rgb(255, 0, 128)",
            "rgb(255, 0, 128)",
            "rgb(255, 0, 128)",
            "rgb(255, 0, 128)",
            "rgb(255, 0, 128)",
            "rgb(255, 0, 128)",
            "rgb(255, 0, 128)",
            "rgb(255, 0, 128)",
            "rgb(255, 0, 128)",
            "rgb(255, 0, 128)",
            "rgb(255, 0, 128)",
            "rgb(255, 0, 128)",
            "rgb(255, 0, 128)",
            "rgb(255, 0, 128)",
            "rgb(0, 44, 255)",
            "rgb(0, 44, 255)",
            "rgb(0, 44, 255)",
            "rgb(0, 44, 255)",
            "rgb(0, 44, 255)",
            "rgb(0, 44, 255)",
            "rgb(0, 44, 255)",
            "rgb(0, 44, 255)",
            "rgb(0, 44, 255)",
            "rgb(0, 44, 255)",
            "rgb(0, 44, 255)",
            "rgb(0, 44, 255)",
            "rgb(0, 44, 255)",
            "rgb(0, 44, 255)",
            "rgb(0, 44, 255)",
            "rgb(2, 230, 2)",
            "rgb(2, 230, 2)",
            "rgb(2, 230, 2)",
            "rgb(2, 230, 2)",
            "rgb(2, 230, 2)",
            "rgb(2, 230, 2)",
            "rgb(2, 230, 2)",
            "rgb(2, 230, 2)",
            "rgb(2, 230, 2)",
            "rgb(2, 230, 2)",
            "rgb(2, 230, 2)",
            "rgb(2, 230, 2)",
            "rgb(2, 230, 2)",
            "rgb(2, 230, 2)",
            "rgb(2, 230, 2)",
            "rgb(2, 230, 2)"
           ],
           "width": 0
          },
          "size": 0
         },
         "mode": "text+markers",
         "text": [
          "<br><br><b>Prawn</b>",
          "<br><br><b>Cod</b>",
          "<br><br><b>Pork sausage</b>",
          "<br><br><b>Chicken thigh</b>",
          "<br><br><b>Lamb leg</b>",
          "<br><br><b>Beef steak</b>",
          "<br><br><b>Tuna</b>",
          "<br><br><b>Salmon</b>",
          "<br><br><b>Beef burger</b>",
          "<br><br><b>Pork loin</b>",
          "<br><br><b>Chicken breast</b>",
          "<br><br><b>Chicken wing</b>",
          "<br><br><b>Pork chop</b>",
          "<br><br><b>Lamb chop</b>",
          "<br><br><b>Bacon</b>",
          "<br><br><b>Butter</b>",
          "<br><br><b>Cow's milk</b>",
          "<br><br><b>Yogurt</b>",
          "<br><br><b>Ricotta cheese</b>",
          "<br><br><b>Cottage cheese</b>",
          "<br><br><b>Egg</b>",
          "<br><br><b>Feta cheese</b>",
          "<br><br><b>Camembert</b>",
          "<br><br><b>Brie</b>",
          "<br><br><b>Blue cheese</b>",
          "<br><br><b>Goat's cheese</b>",
          "<br><br><b>Cheddar cheese</b>",
          "<br><br><b>Mozzarella cheese</b>",
          "<br><br><b>Halloumi cheese</b>",
          "<br><br><b>Parmesan cheese</b>",
          "<br><br><b>Mushroom</b>",
          "<br><br><b>Kale</b>",
          "<br><br><b>Garden peas</b>",
          "<br><br><b>Popcorn</b>",
          "<br><br><b>Quinoa</b>",
          "<br><br><b>Walnuts</b>",
          "<br><br><b>Chia seeds</b>",
          "<br><br><b>Tofu</b>",
          "<br><br><b>Cashews</b>",
          "<br><br><b>Sunflower seeds</b>",
          "<br><br><b>Chickpeas</b>",
          "<br><br><b>Almonds</b>",
          "<br><br><b>Peanuts</b>",
          "<br><br><b>Lentils</b>",
          "<br><br><b>Beans</b>",
          "<br><br><b>Pumpkin seeds</b>"
         ],
         "textfont": {
          "color": "black",
          "family": "Courier New",
          "size": 14
         },
         "textposition": [
          "top right",
          "top right",
          "top right",
          "top right",
          "top right",
          "top right",
          "top right",
          "top right",
          "top right",
          "top right",
          "top right",
          "top right",
          "top right",
          "top right",
          "top right",
          "top right",
          "top right",
          "top right",
          "top right",
          "top right",
          "top right",
          "top right",
          "top right",
          "top right",
          "top right",
          "top right",
          "top right",
          "top right",
          "top right",
          "top right",
          "middle right",
          "middle right",
          "middle right",
          "middle right",
          "middle right",
          "middle right",
          "middle right",
          "middle right",
          "middle right",
          "middle right",
          "middle right",
          "middle right",
          "middle right",
          "middle right",
          "middle right",
          "middle right"
         ],
         "type": "scatter",
         "x": [
          3,
          13,
          23,
          33,
          43,
          53,
          63,
          73,
          83,
          93,
          103,
          113,
          123,
          133,
          143,
          173,
          173,
          173,
          173,
          173,
          173,
          173,
          173,
          173,
          173,
          173,
          173,
          173,
          173,
          173,
          353,
          343,
          333,
          323,
          313,
          303,
          293,
          283,
          273,
          263,
          253,
          243,
          233,
          223,
          213,
          203
         ],
         "y": [
          0,
          -10,
          -20,
          -30,
          -40,
          -50,
          -60,
          -70,
          -80,
          -90,
          -100,
          -110,
          -120,
          -130,
          -140,
          -310,
          -300,
          -290,
          -280,
          -270,
          -260,
          -250,
          -240,
          -230,
          -220,
          -210,
          -200,
          -190,
          -180,
          -170,
          10,
          0,
          -10,
          -20,
          -30,
          -40,
          -50,
          -60,
          -70,
          -80,
          -90,
          -100,
          -110,
          -120,
          -130,
          -140
         ]
        }
       ],
       "layout": {
        "autosize": true,
        "hovermode": "closest",
        "images": [
         {
          "layer": "above",
          "sizex": 10,
          "sizey": 30,
          "source": "https://cdn.prod.website-files.com/6636e256dbc082950ae82258/6824a3ca524a0580e53a9d44_prawn.png",
          "x": 0,
          "xanchor": "center",
          "xref": "x",
          "y": 0,
          "yanchor": "middle",
          "yref": "y"
         },
         {
          "layer": "above",
          "sizex": 10,
          "sizey": 30,
          "source": "https://cdn.prod.website-files.com/6636e256dbc082950ae82258/6824a3cac5bb24e11cb47a0c_cod-raw-2.png",
          "x": 10,
          "xanchor": "center",
          "xref": "x",
          "y": -10,
          "yanchor": "middle",
          "yref": "y"
         },
         {
          "layer": "above",
          "sizex": 10,
          "sizey": 30,
          "source": "https://cdn.prod.website-files.com/6636e256dbc082950ae82258/6824a3ccdaa433b7f8272375_pork-sausage-2.png",
          "x": 20,
          "xanchor": "center",
          "xref": "x",
          "y": -20,
          "yanchor": "middle",
          "yref": "y"
         },
         {
          "layer": "above",
          "sizex": 10,
          "sizey": 30,
          "source": "https://cdn.prod.website-files.com/6636e256dbc082950ae82258/6824a3ca8a4466ab959d3865_chicken-thigh-2.png",
          "x": 30,
          "xanchor": "center",
          "xref": "x",
          "y": -30,
          "yanchor": "middle",
          "yref": "y"
         },
         {
          "layer": "above",
          "sizex": 10,
          "sizey": 30,
          "source": "https://cdn.prod.website-files.com/6636e256dbc082950ae82258/6824a3cab1c7e172fb8a49a8_lamb-leg-1.png",
          "x": 40,
          "xanchor": "center",
          "xref": "x",
          "y": -40,
          "yanchor": "middle",
          "yref": "y"
         },
         {
          "layer": "above",
          "sizex": 10,
          "sizey": 30,
          "source": "https://cdn.prod.website-files.com/6636e256dbc082950ae82258/6824a3cacd0fbfa09ab2bf2a_beefsteak-3.png",
          "x": 50,
          "xanchor": "center",
          "xref": "x",
          "y": -50,
          "yanchor": "middle",
          "yref": "y"
         },
         {
          "layer": "above",
          "sizex": 10,
          "sizey": 30,
          "source": "https://cdn.prod.website-files.com/6636e256dbc082950ae82258/6824a3cab41b9f90807d3e1e_tuna-2.png",
          "x": 60,
          "xanchor": "center",
          "xref": "x",
          "y": -60,
          "yanchor": "middle",
          "yref": "y"
         },
         {
          "layer": "above",
          "sizex": 10,
          "sizey": 30,
          "source": "https://cdn.prod.website-files.com/6636e256dbc082950ae82258/6824a3ca59ca7d1ee15ca810_salmon-1.png",
          "x": 70,
          "xanchor": "center",
          "xref": "x",
          "y": -70,
          "yanchor": "middle",
          "yref": "y"
         },
         {
          "layer": "above",
          "sizex": 10,
          "sizey": 30,
          "source": "https://cdn.prod.website-files.com/6636e256dbc082950ae82258/6824a3cbfa6f30981b894cb8_beefburger-1.png",
          "x": 80,
          "xanchor": "center",
          "xref": "x",
          "y": -80,
          "yanchor": "middle",
          "yref": "y"
         },
         {
          "layer": "above",
          "sizex": 10,
          "sizey": 30,
          "source": "https://cdn.prod.website-files.com/6636e256dbc082950ae82258/6824a3ca94aa74c6472d509d_pork-loin.png",
          "x": 90,
          "xanchor": "center",
          "xref": "x",
          "y": -90,
          "yanchor": "middle",
          "yref": "y"
         },
         {
          "layer": "above",
          "sizex": 10,
          "sizey": 30,
          "source": "https://cdn.prod.website-files.com/6636e256dbc082950ae82258/6824a4456899efa87538c087_chicken-breast-3.png",
          "x": 100,
          "xanchor": "center",
          "xref": "x",
          "y": -100,
          "yanchor": "middle",
          "yref": "y"
         },
         {
          "layer": "above",
          "sizex": 10,
          "sizey": 30,
          "source": "https://cdn.prod.website-files.com/6636e256dbc082950ae82258/6824a4df642775b8957440f0_chicken-wings-1.png",
          "x": 110,
          "xanchor": "center",
          "xref": "x",
          "y": -110,
          "yanchor": "middle",
          "yref": "y"
         },
         {
          "layer": "above",
          "sizex": 10,
          "sizey": 30,
          "source": "https://cdn.prod.website-files.com/6636e256dbc082950ae82258/6824a3ca01111723f463b2cd_pork-chop-3.png",
          "x": 120,
          "xanchor": "center",
          "xref": "x",
          "y": -120,
          "yanchor": "middle",
          "yref": "y"
         },
         {
          "layer": "above",
          "sizex": 10,
          "sizey": 30,
          "source": "https://cdn.prod.website-files.com/6636e256dbc082950ae82258/6824a3ca4f6cd4069a515195_lamb%20chop-grilled-3.png",
          "x": 130,
          "xanchor": "center",
          "xref": "x",
          "y": -130,
          "yanchor": "middle",
          "yref": "y"
         },
         {
          "layer": "above",
          "sizex": 10,
          "sizey": 30,
          "source": "https://cdn.prod.website-files.com/6636e256dbc082950ae82258/6824a3ca986d04530c7adbeb_bacon-2.png",
          "x": 140,
          "xanchor": "center",
          "xref": "x",
          "y": -140,
          "yanchor": "middle",
          "yref": "y"
         },
         {
          "layer": "above",
          "sizex": 10,
          "sizey": 30,
          "source": "https://cdn.prod.website-files.com/6636e256dbc082950ae82258/6824a3ca75d1b1197fc8f09f_butter-2.png",
          "x": 170,
          "xanchor": "center",
          "xref": "x",
          "y": -310,
          "yanchor": "middle",
          "yref": "y"
         },
         {
          "layer": "above",
          "sizex": 10,
          "sizey": 30,
          "source": "https://cdn.prod.website-files.com/6636e256dbc082950ae82258/6824a3ca23171a6389267042_cowsmilk-6.png",
          "x": 170,
          "xanchor": "center",
          "xref": "x",
          "y": -300,
          "yanchor": "middle",
          "yref": "y"
         },
         {
          "layer": "above",
          "sizex": 10,
          "sizey": 30,
          "source": "https://cdn.prod.website-files.com/6636e256dbc082950ae82258/6824a3caf528c76a329ef2e0_yogurt-1.png",
          "x": 170,
          "xanchor": "center",
          "xref": "x",
          "y": -290,
          "yanchor": "middle",
          "yref": "y"
         },
         {
          "layer": "above",
          "sizex": 10,
          "sizey": 30,
          "source": "https://cdn.prod.website-files.com/6636e256dbc082950ae82258/6824a3cabaa75d0355434df0_ricotta-1.png",
          "x": 170,
          "xanchor": "center",
          "xref": "x",
          "y": -280,
          "yanchor": "middle",
          "yref": "y"
         },
         {
          "layer": "above",
          "sizex": 10,
          "sizey": 30,
          "source": "https://cdn.prod.website-files.com/6636e256dbc082950ae82258/6824a49c4b578983475a0527_cottage-1.png",
          "x": 170,
          "xanchor": "center",
          "xref": "x",
          "y": -270,
          "yanchor": "middle",
          "yref": "y"
         },
         {
          "layer": "above",
          "sizex": 10,
          "sizey": 30,
          "source": "https://cdn.prod.website-files.com/6636e256dbc082950ae82258/6824a3ca818ea18491dd0fd5_egg-2.png",
          "x": 170,
          "xanchor": "center",
          "xref": "x",
          "y": -260,
          "yanchor": "middle",
          "yref": "y"
         },
         {
          "layer": "above",
          "sizex": 10,
          "sizey": 30,
          "source": "https://cdn.prod.website-files.com/6636e256dbc082950ae82258/6824a3cc7744a28169c851a9_feta-1.png",
          "x": 170,
          "xanchor": "center",
          "xref": "x",
          "y": -250,
          "yanchor": "middle",
          "yref": "y"
         },
         {
          "layer": "above",
          "sizex": 10,
          "sizey": 30,
          "source": "https://cdn.prod.website-files.com/6636e256dbc082950ae82258/6824a3caf74f595cbcf6dc98_camembert_cheese-3.png",
          "x": 170,
          "xanchor": "center",
          "xref": "x",
          "y": -240,
          "yanchor": "middle",
          "yref": "y"
         },
         {
          "layer": "above",
          "sizex": 10,
          "sizey": 30,
          "source": "https://cdn.prod.website-files.com/6636e256dbc082950ae82258/6824a3caa4eb85eea0a8f2ad_brie-2.png",
          "x": 170,
          "xanchor": "center",
          "xref": "x",
          "y": -230,
          "yanchor": "middle",
          "yref": "y"
         },
         {
          "layer": "above",
          "sizex": 10,
          "sizey": 30,
          "source": "https://cdn.prod.website-files.com/6636e256dbc082950ae82258/6824a3ca777d16ca72210503_bluecheese-2.png",
          "x": 170,
          "xanchor": "center",
          "xref": "x",
          "y": -220,
          "yanchor": "middle",
          "yref": "y"
         },
         {
          "layer": "above",
          "sizex": 10,
          "sizey": 30,
          "source": "https://cdn.prod.website-files.com/6636e256dbc082950ae82258/6824a3cad1b1d283d4cbeb17_goatcheese-2.png",
          "x": 170,
          "xanchor": "center",
          "xref": "x",
          "y": -210,
          "yanchor": "middle",
          "yref": "y"
         },
         {
          "layer": "above",
          "sizex": 10,
          "sizey": 30,
          "source": "https://cdn.prod.website-files.com/6636e256dbc082950ae82258/6820bc60c822177c9ce0b310_cheddar-2.png",
          "x": 170,
          "xanchor": "center",
          "xref": "x",
          "y": -200,
          "yanchor": "middle",
          "yref": "y"
         },
         {
          "layer": "above",
          "sizex": 10,
          "sizey": 30,
          "source": "https://cdn.prod.website-files.com/6636e256dbc082950ae82258/6824a3ca24a8cd8416881dca_mozzarella-2.png",
          "x": 170,
          "xanchor": "center",
          "xref": "x",
          "y": -190,
          "yanchor": "middle",
          "yref": "y"
         },
         {
          "layer": "above",
          "sizex": 10,
          "sizey": 30,
          "source": "https://cdn.prod.website-files.com/6636e256dbc082950ae82258/6824a3caa1b4b328bc4a44cd_halloumi-1.png",
          "x": 170,
          "xanchor": "center",
          "xref": "x",
          "y": -180,
          "yanchor": "middle",
          "yref": "y"
         },
         {
          "layer": "above",
          "sizex": 10,
          "sizey": 30,
          "source": "https://cdn.prod.website-files.com/6636e256dbc082950ae82258/6824a3ca4b57898347596d27_parmesan-5.png",
          "x": 170,
          "xanchor": "center",
          "xref": "x",
          "y": -170,
          "yanchor": "middle",
          "yref": "y"
         },
         {
          "layer": "above",
          "sizex": 10,
          "sizey": 30,
          "source": "https://cdn.prod.website-files.com/6636e256dbc082950ae82258/6824a49ca65da89d757c39cf_mushroom-1.png",
          "x": 350,
          "xanchor": "center",
          "xref": "x",
          "y": 10,
          "yanchor": "middle",
          "yref": "y"
         },
         {
          "layer": "above",
          "sizex": 10,
          "sizey": 30,
          "source": "https://cdn.prod.website-files.com/6636e256dbc082950ae82258/6824a3cbb1c7e172fb8a4a2a_kale-2.png!sw800.png",
          "x": 340,
          "xanchor": "center",
          "xref": "x",
          "y": 0,
          "yanchor": "middle",
          "yref": "y"
         },
         {
          "layer": "above",
          "sizex": 10,
          "sizey": 30,
          "source": "https://cdn.prod.website-files.com/6636e256dbc082950ae82258/6824a57275d1b1197fca00e6_gardenpeas-1.png",
          "x": 330,
          "xanchor": "center",
          "xref": "x",
          "y": -10,
          "yanchor": "middle",
          "yref": "y"
         },
         {
          "layer": "above",
          "sizex": 10,
          "sizey": 30,
          "source": "https://cdn.prod.website-files.com/6636e256dbc082950ae82258/6824a3cbff9a735b7a3a95b5_popcorn-2.png",
          "x": 320,
          "xanchor": "center",
          "xref": "x",
          "y": -20,
          "yanchor": "middle",
          "yref": "y"
         },
         {
          "layer": "above",
          "sizex": 10,
          "sizey": 30,
          "source": "https://cdn.prod.website-files.com/6636e256dbc082950ae82258/6824a49c87ba29961e8ed870_quinoa-1.png",
          "x": 310,
          "xanchor": "center",
          "xref": "x",
          "y": -30,
          "yanchor": "middle",
          "yref": "y"
         },
         {
          "layer": "above",
          "sizex": 10,
          "sizey": 30,
          "source": "https://cdn.prod.website-files.com/6636e256dbc082950ae82258/6824a3ca8314a2a90c24d47f_walnut-1.png",
          "x": 300,
          "xanchor": "center",
          "xref": "x",
          "y": -40,
          "yanchor": "middle",
          "yref": "y"
         },
         {
          "layer": "above",
          "sizex": 10,
          "sizey": 30,
          "source": "https://cdn.prod.website-files.com/6636e256dbc082950ae82258/6824a3cad9dc1598b2ce1600_chia-1.png",
          "x": 290,
          "xanchor": "center",
          "xref": "x",
          "y": -50,
          "yanchor": "middle",
          "yref": "y"
         },
         {
          "layer": "above",
          "sizex": 10,
          "sizey": 30,
          "source": "https://cdn.prod.website-files.com/6636e256dbc082950ae82258/6824a3cad57f8ad0f8df24c2_tofu-1.png",
          "x": 280,
          "xanchor": "center",
          "xref": "x",
          "y": -60,
          "yanchor": "middle",
          "yref": "y"
         },
         {
          "layer": "above",
          "sizex": 10,
          "sizey": 30,
          "source": "https://cdn.prod.website-files.com/6636e256dbc082950ae82258/6824a3ca6899efa875385182_cashew-1.png",
          "x": 270,
          "xanchor": "center",
          "xref": "x",
          "y": -70,
          "yanchor": "middle",
          "yref": "y"
         },
         {
          "layer": "above",
          "sizex": 10,
          "sizey": 30,
          "source": "https://cdn.prod.website-files.com/6636e256dbc082950ae82258/6824a3ccdaa433b7f8272386_sunflower-seed-1.png",
          "x": 260,
          "xanchor": "center",
          "xref": "x",
          "y": -80,
          "yanchor": "middle",
          "yref": "y"
         },
         {
          "layer": "above",
          "sizex": 10,
          "sizey": 30,
          "source": "https://cdn.prod.website-files.com/6636e256dbc082950ae82258/6824a3caa42a63e22fc626e1_chickpea-1.png",
          "x": 250,
          "xanchor": "center",
          "xref": "x",
          "y": -90,
          "yanchor": "middle",
          "yref": "y"
         },
         {
          "layer": "above",
          "sizex": 10,
          "sizey": 30,
          "source": "https://cdn.prod.website-files.com/6636e256dbc082950ae82258/6824a3cab2a7604978254955_almond-2.png",
          "x": 240,
          "xanchor": "center",
          "xref": "x",
          "y": -100,
          "yanchor": "middle",
          "yref": "y"
         },
         {
          "layer": "above",
          "sizex": 10,
          "sizey": 30,
          "source": "https://cdn.prod.website-files.com/6636e256dbc082950ae82258/6824a3cc7744a28169c85262_peanuts.png",
          "x": 230,
          "xanchor": "center",
          "xref": "x",
          "y": -110,
          "yanchor": "middle",
          "yref": "y"
         },
         {
          "layer": "above",
          "sizex": 10,
          "sizey": 30,
          "source": "https://cdn.prod.website-files.com/6636e256dbc082950ae82258/6824a3cb9a8dbf569d4487d6_lentils-2.png",
          "x": 220,
          "xanchor": "center",
          "xref": "x",
          "y": -120,
          "yanchor": "middle",
          "yref": "y"
         },
         {
          "layer": "above",
          "sizex": 10,
          "sizey": 30,
          "source": "https://cdn.prod.website-files.com/6636e256dbc082950ae82258/6824a3ca37401f584e3060e5_beans-3.png",
          "x": 210,
          "xanchor": "center",
          "xref": "x",
          "y": -130,
          "yanchor": "middle",
          "yref": "y"
         },
         {
          "layer": "above",
          "sizex": 10,
          "sizey": 30,
          "source": "https://cdn.prod.website-files.com/6636e256dbc082950ae82258/6824a3cad57f8ad0f8df249f_pumpikinseed-1.png",
          "x": 200,
          "xanchor": "center",
          "xref": "x",
          "y": -140,
          "yanchor": "middle",
          "yref": "y"
         }
        ],
        "margin": {
         "b": 60,
         "l": 30,
         "r": 60,
         "t": 30
        },
        "plot_bgcolor": "white",
        "showlegend": false,
        "template": {
         "data": {
          "bar": [
           {
            "error_x": {
             "color": "#2a3f5f"
            },
            "error_y": {
             "color": "#2a3f5f"
            },
            "marker": {
             "line": {
              "color": "#E5ECF6",
              "width": 0.5
             },
             "pattern": {
              "fillmode": "overlay",
              "size": 10,
              "solidity": 0.2
             }
            },
            "type": "bar"
           }
          ],
          "barpolar": [
           {
            "marker": {
             "line": {
              "color": "#E5ECF6",
              "width": 0.5
             },
             "pattern": {
              "fillmode": "overlay",
              "size": 10,
              "solidity": 0.2
             }
            },
            "type": "barpolar"
           }
          ],
          "carpet": [
           {
            "aaxis": {
             "endlinecolor": "#2a3f5f",
             "gridcolor": "white",
             "linecolor": "white",
             "minorgridcolor": "white",
             "startlinecolor": "#2a3f5f"
            },
            "baxis": {
             "endlinecolor": "#2a3f5f",
             "gridcolor": "white",
             "linecolor": "white",
             "minorgridcolor": "white",
             "startlinecolor": "#2a3f5f"
            },
            "type": "carpet"
           }
          ],
          "choropleth": [
           {
            "colorbar": {
             "outlinewidth": 0,
             "ticks": ""
            },
            "type": "choropleth"
           }
          ],
          "contour": [
           {
            "colorbar": {
             "outlinewidth": 0,
             "ticks": ""
            },
            "colorscale": [
             [
              0,
              "#0d0887"
             ],
             [
              0.1111111111111111,
              "#46039f"
             ],
             [
              0.2222222222222222,
              "#7201a8"
             ],
             [
              0.3333333333333333,
              "#9c179e"
             ],
             [
              0.4444444444444444,
              "#bd3786"
             ],
             [
              0.5555555555555556,
              "#d8576b"
             ],
             [
              0.6666666666666666,
              "#ed7953"
             ],
             [
              0.7777777777777778,
              "#fb9f3a"
             ],
             [
              0.8888888888888888,
              "#fdca26"
             ],
             [
              1,
              "#f0f921"
             ]
            ],
            "type": "contour"
           }
          ],
          "contourcarpet": [
           {
            "colorbar": {
             "outlinewidth": 0,
             "ticks": ""
            },
            "type": "contourcarpet"
           }
          ],
          "heatmap": [
           {
            "colorbar": {
             "outlinewidth": 0,
             "ticks": ""
            },
            "colorscale": [
             [
              0,
              "#0d0887"
             ],
             [
              0.1111111111111111,
              "#46039f"
             ],
             [
              0.2222222222222222,
              "#7201a8"
             ],
             [
              0.3333333333333333,
              "#9c179e"
             ],
             [
              0.4444444444444444,
              "#bd3786"
             ],
             [
              0.5555555555555556,
              "#d8576b"
             ],
             [
              0.6666666666666666,
              "#ed7953"
             ],
             [
              0.7777777777777778,
              "#fb9f3a"
             ],
             [
              0.8888888888888888,
              "#fdca26"
             ],
             [
              1,
              "#f0f921"
             ]
            ],
            "type": "heatmap"
           }
          ],
          "heatmapgl": [
           {
            "colorbar": {
             "outlinewidth": 0,
             "ticks": ""
            },
            "colorscale": [
             [
              0,
              "#0d0887"
             ],
             [
              0.1111111111111111,
              "#46039f"
             ],
             [
              0.2222222222222222,
              "#7201a8"
             ],
             [
              0.3333333333333333,
              "#9c179e"
             ],
             [
              0.4444444444444444,
              "#bd3786"
             ],
             [
              0.5555555555555556,
              "#d8576b"
             ],
             [
              0.6666666666666666,
              "#ed7953"
             ],
             [
              0.7777777777777778,
              "#fb9f3a"
             ],
             [
              0.8888888888888888,
              "#fdca26"
             ],
             [
              1,
              "#f0f921"
             ]
            ],
            "type": "heatmapgl"
           }
          ],
          "histogram": [
           {
            "marker": {
             "pattern": {
              "fillmode": "overlay",
              "size": 10,
              "solidity": 0.2
             }
            },
            "type": "histogram"
           }
          ],
          "histogram2d": [
           {
            "colorbar": {
             "outlinewidth": 0,
             "ticks": ""
            },
            "colorscale": [
             [
              0,
              "#0d0887"
             ],
             [
              0.1111111111111111,
              "#46039f"
             ],
             [
              0.2222222222222222,
              "#7201a8"
             ],
             [
              0.3333333333333333,
              "#9c179e"
             ],
             [
              0.4444444444444444,
              "#bd3786"
             ],
             [
              0.5555555555555556,
              "#d8576b"
             ],
             [
              0.6666666666666666,
              "#ed7953"
             ],
             [
              0.7777777777777778,
              "#fb9f3a"
             ],
             [
              0.8888888888888888,
              "#fdca26"
             ],
             [
              1,
              "#f0f921"
             ]
            ],
            "type": "histogram2d"
           }
          ],
          "histogram2dcontour": [
           {
            "colorbar": {
             "outlinewidth": 0,
             "ticks": ""
            },
            "colorscale": [
             [
              0,
              "#0d0887"
             ],
             [
              0.1111111111111111,
              "#46039f"
             ],
             [
              0.2222222222222222,
              "#7201a8"
             ],
             [
              0.3333333333333333,
              "#9c179e"
             ],
             [
              0.4444444444444444,
              "#bd3786"
             ],
             [
              0.5555555555555556,
              "#d8576b"
             ],
             [
              0.6666666666666666,
              "#ed7953"
             ],
             [
              0.7777777777777778,
              "#fb9f3a"
             ],
             [
              0.8888888888888888,
              "#fdca26"
             ],
             [
              1,
              "#f0f921"
             ]
            ],
            "type": "histogram2dcontour"
           }
          ],
          "mesh3d": [
           {
            "colorbar": {
             "outlinewidth": 0,
             "ticks": ""
            },
            "type": "mesh3d"
           }
          ],
          "parcoords": [
           {
            "line": {
             "colorbar": {
              "outlinewidth": 0,
              "ticks": ""
             }
            },
            "type": "parcoords"
           }
          ],
          "pie": [
           {
            "automargin": true,
            "type": "pie"
           }
          ],
          "scatter": [
           {
            "fillpattern": {
             "fillmode": "overlay",
             "size": 10,
             "solidity": 0.2
            },
            "type": "scatter"
           }
          ],
          "scatter3d": [
           {
            "line": {
             "colorbar": {
              "outlinewidth": 0,
              "ticks": ""
             }
            },
            "marker": {
             "colorbar": {
              "outlinewidth": 0,
              "ticks": ""
             }
            },
            "type": "scatter3d"
           }
          ],
          "scattercarpet": [
           {
            "marker": {
             "colorbar": {
              "outlinewidth": 0,
              "ticks": ""
             }
            },
            "type": "scattercarpet"
           }
          ],
          "scattergeo": [
           {
            "marker": {
             "colorbar": {
              "outlinewidth": 0,
              "ticks": ""
             }
            },
            "type": "scattergeo"
           }
          ],
          "scattergl": [
           {
            "marker": {
             "colorbar": {
              "outlinewidth": 0,
              "ticks": ""
             }
            },
            "type": "scattergl"
           }
          ],
          "scattermapbox": [
           {
            "marker": {
             "colorbar": {
              "outlinewidth": 0,
              "ticks": ""
             }
            },
            "type": "scattermapbox"
           }
          ],
          "scatterpolar": [
           {
            "marker": {
             "colorbar": {
              "outlinewidth": 0,
              "ticks": ""
             }
            },
            "type": "scatterpolar"
           }
          ],
          "scatterpolargl": [
           {
            "marker": {
             "colorbar": {
              "outlinewidth": 0,
              "ticks": ""
             }
            },
            "type": "scatterpolargl"
           }
          ],
          "scatterternary": [
           {
            "marker": {
             "colorbar": {
              "outlinewidth": 0,
              "ticks": ""
             }
            },
            "type": "scatterternary"
           }
          ],
          "surface": [
           {
            "colorbar": {
             "outlinewidth": 0,
             "ticks": ""
            },
            "colorscale": [
             [
              0,
              "#0d0887"
             ],
             [
              0.1111111111111111,
              "#46039f"
             ],
             [
              0.2222222222222222,
              "#7201a8"
             ],
             [
              0.3333333333333333,
              "#9c179e"
             ],
             [
              0.4444444444444444,
              "#bd3786"
             ],
             [
              0.5555555555555556,
              "#d8576b"
             ],
             [
              0.6666666666666666,
              "#ed7953"
             ],
             [
              0.7777777777777778,
              "#fb9f3a"
             ],
             [
              0.8888888888888888,
              "#fdca26"
             ],
             [
              1,
              "#f0f921"
             ]
            ],
            "type": "surface"
           }
          ],
          "table": [
           {
            "cells": {
             "fill": {
              "color": "#EBF0F8"
             },
             "line": {
              "color": "white"
             }
            },
            "header": {
             "fill": {
              "color": "#C8D4E3"
             },
             "line": {
              "color": "white"
             }
            },
            "type": "table"
           }
          ]
         },
         "layout": {
          "annotationdefaults": {
           "arrowcolor": "#2a3f5f",
           "arrowhead": 0,
           "arrowwidth": 1
          },
          "autotypenumbers": "strict",
          "coloraxis": {
           "colorbar": {
            "outlinewidth": 0,
            "ticks": ""
           }
          },
          "colorscale": {
           "diverging": [
            [
             0,
             "#8e0152"
            ],
            [
             0.1,
             "#c51b7d"
            ],
            [
             0.2,
             "#de77ae"
            ],
            [
             0.3,
             "#f1b6da"
            ],
            [
             0.4,
             "#fde0ef"
            ],
            [
             0.5,
             "#f7f7f7"
            ],
            [
             0.6,
             "#e6f5d0"
            ],
            [
             0.7,
             "#b8e186"
            ],
            [
             0.8,
             "#7fbc41"
            ],
            [
             0.9,
             "#4d9221"
            ],
            [
             1,
             "#276419"
            ]
           ],
           "sequential": [
            [
             0,
             "#0d0887"
            ],
            [
             0.1111111111111111,
             "#46039f"
            ],
            [
             0.2222222222222222,
             "#7201a8"
            ],
            [
             0.3333333333333333,
             "#9c179e"
            ],
            [
             0.4444444444444444,
             "#bd3786"
            ],
            [
             0.5555555555555556,
             "#d8576b"
            ],
            [
             0.6666666666666666,
             "#ed7953"
            ],
            [
             0.7777777777777778,
             "#fb9f3a"
            ],
            [
             0.8888888888888888,
             "#fdca26"
            ],
            [
             1,
             "#f0f921"
            ]
           ],
           "sequentialminus": [
            [
             0,
             "#0d0887"
            ],
            [
             0.1111111111111111,
             "#46039f"
            ],
            [
             0.2222222222222222,
             "#7201a8"
            ],
            [
             0.3333333333333333,
             "#9c179e"
            ],
            [
             0.4444444444444444,
             "#bd3786"
            ],
            [
             0.5555555555555556,
             "#d8576b"
            ],
            [
             0.6666666666666666,
             "#ed7953"
            ],
            [
             0.7777777777777778,
             "#fb9f3a"
            ],
            [
             0.8888888888888888,
             "#fdca26"
            ],
            [
             1,
             "#f0f921"
            ]
           ]
          },
          "colorway": [
           "#636efa",
           "#EF553B",
           "#00cc96",
           "#ab63fa",
           "#FFA15A",
           "#19d3f3",
           "#FF6692",
           "#B6E880",
           "#FF97FF",
           "#FECB52"
          ],
          "font": {
           "color": "#2a3f5f"
          },
          "geo": {
           "bgcolor": "white",
           "lakecolor": "white",
           "landcolor": "#E5ECF6",
           "showlakes": true,
           "showland": true,
           "subunitcolor": "white"
          },
          "hoverlabel": {
           "align": "left"
          },
          "hovermode": "closest",
          "mapbox": {
           "style": "light"
          },
          "paper_bgcolor": "white",
          "plot_bgcolor": "#E5ECF6",
          "polar": {
           "angularaxis": {
            "gridcolor": "white",
            "linecolor": "white",
            "ticks": ""
           },
           "bgcolor": "#E5ECF6",
           "radialaxis": {
            "gridcolor": "white",
            "linecolor": "white",
            "ticks": ""
           }
          },
          "scene": {
           "xaxis": {
            "backgroundcolor": "#E5ECF6",
            "gridcolor": "white",
            "gridwidth": 2,
            "linecolor": "white",
            "showbackground": true,
            "ticks": "",
            "zerolinecolor": "white"
           },
           "yaxis": {
            "backgroundcolor": "#E5ECF6",
            "gridcolor": "white",
            "gridwidth": 2,
            "linecolor": "white",
            "showbackground": true,
            "ticks": "",
            "zerolinecolor": "white"
           },
           "zaxis": {
            "backgroundcolor": "#E5ECF6",
            "gridcolor": "white",
            "gridwidth": 2,
            "linecolor": "white",
            "showbackground": true,
            "ticks": "",
            "zerolinecolor": "white"
           }
          },
          "shapedefaults": {
           "line": {
            "color": "#2a3f5f"
           }
          },
          "ternary": {
           "aaxis": {
            "gridcolor": "white",
            "linecolor": "white",
            "ticks": ""
           },
           "baxis": {
            "gridcolor": "white",
            "linecolor": "white",
            "ticks": ""
           },
           "bgcolor": "#E5ECF6",
           "caxis": {
            "gridcolor": "white",
            "linecolor": "white",
            "ticks": ""
           }
          },
          "title": {
           "x": 0.05
          },
          "xaxis": {
           "automargin": true,
           "gridcolor": "white",
           "linecolor": "white",
           "ticks": "",
           "title": {
            "standoff": 15
           },
           "zerolinecolor": "white",
           "zerolinewidth": 2
          },
          "yaxis": {
           "automargin": true,
           "gridcolor": "white",
           "linecolor": "white",
           "ticks": "",
           "title": {
            "standoff": 15
           },
           "zerolinecolor": "white",
           "zerolinewidth": 2
          }
         }
        },
        "title": {
         "text": ""
        },
        "xaxis": {
         "autorange": true,
         "range": [
          -17.71366405570061,
          373.71366405570063
         ],
         "showgrid": false,
         "showticklabels": false,
         "type": "linear",
         "zeroline": false
        },
        "yaxis": {
         "autorange": true,
         "range": [
          -332.27848101265823,
          32.278481012658226
         ],
         "showgrid": false,
         "showticklabels": false,
         "type": "linear",
         "zeroline": false
        }
       }
      },
      "image/png": "[encoded data removed]",
      "text/html": [
       "<div>                            <div id=\"b4d04997-6025-4304-92a6-d3d4609ad81f\" class=\"plotly-graph-div\" style=\"height:525px; width:100%;\"></div>            <script type=\"text/javascript\">                require([\"plotly\"], function(Plotly) {                    window.PLOTLYENV=window.PLOTLYENV || {};                                    if (document.getElementById(\"b4d04997-6025-4304-92a6-d3d4609ad81f\")) {                    Plotly.newPlot(                        \"b4d04997-6025-4304-92a6-d3d4609ad81f\",                        [{\"hoverinfo\":\"none\",\"line\":{\"color\":\"rgba(0, 151, 120, 0.4)\",\"shape\":\"spline\",\"smoothing\":1.3,\"width\":1},\"mode\":\"lines\",\"showlegend\":false,\"x\":[240,233.1502935045133,170],\"y\":[-100,-205.3711607648207,-290],\"type\":\"scatter\",\"hoverlabel\":{\"font\":{\"color\":\"black\",\"family\":\"Courier New\",\"size\":14},\"bordercolor\":\"rgba(0,0,0,0)\"}},{\"hoverinfo\":\"none\",\"line\":{\"color\":\"rgba(127, 70, 228, 0.4)\",\"shape\":\"spline\",\"smoothing\":1.3,\"width\":8},\"mode\":\"lines\",\"showlegend\":false,\"x\":[140,184.10427500435995,170],\"y\":[-140,-192.72393124891002,-260],\"type\":\"scatter\",\"hoverlabel\":{\"font\":{\"color\":\"black\",\"family\":\"Courier New\",\"size\":14},\"bordercolor\":\"rgba(0,0,0,0)\"}},{\"hoverinfo\":\"none\",\"line\":{\"color\":\"rgba(0, 151, 120, 0.4)\",\"shape\":\"spline\",\"smoothing\":1.3,\"width\":8},\"mode\":\"lines\",\"showlegend\":false,\"x\":[210,219.28561180551858,170],\"y\":[-130,-226.50791373455968,-310],\"type\":\"scatter\",\"hoverlabel\":{\"font\":{\"color\":\"black\",\"family\":\"Courier New\",\"size\":14},\"bordercolor\":\"rgba(0,0,0,0)\"}},{\"hoverinfo\":\"none\",\"line\":{\"color\":\"rgba(127, 166, 139, 0.4)\",\"shape\":\"spline\",\"smoothing\":1.3,\"width\":4},\"mode\":\"lines\",\"showlegend\":false,\"x\":[210,99.96891188374886,20],\"y\":[-130,-100.9627885644338,-20],\"type\":\"scatter\",\"hoverlabel\":{\"font\":{\"color\":\"black\",\"family\":\"Courier New\",\"size\":14},\"bordercolor\":\"rgba(0,0,0,0)\"}},{\"hoverinfo\":\"none\",\"line\":{\"color\":\"rgba(127, 166, 139, 0.4)\",\"shape\":\"spline\",\"smoothing\":1.3,\"width\":1},\"mode\":\"lines\",\"showlegend\":false,\"x\":[210,154.11651594585447,110],\"y\":[-130,-149.4174202707276,-110],\"type\":\"scatter\",\"hoverlabel\":{\"font\":{\"color\":\"black\",\"family\":\"Courier New\",\"size\":14},\"bordercolor\":\"rgba(0,0,0,0)\"}},{\"hoverinfo\":\"none\",\"line\":{\"color\":\"rgba(127, 70, 228, 0.4)\",\"shape\":\"spline\",\"smoothing\":1.3,\"width\":4},\"mode\":\"lines\",\"showlegend\":false,\"x\":[50,137.23878153501354,170],\"y\":[-50,-167.4282546761476,-310],\"type\":\"scatter\",\"hoverlabel\":{\"font\":{\"color\":\"black\",\"family\":\"Courier New\",\"size\":14},\"bordercolor\":\"rgba(0,0,0,0)\"}},{\"hoverinfo\":\"none\",\"line\":{\"color\":\"rgba(0, 151, 120, 0.4)\",\"shape\":\"spline\",\"smoothing\":1.3,\"width\":8},\"mode\":\"lines\",\"showlegend\":false,\"x\":[170,210.67962314800357,300],\"y\":[-220,-112.43528338466925,-40],\"type\":\"scatter\",\"hoverlabel\":{\"font\":{\"color\":\"black\",\"family\":\"Courier New\",\"size\":14},\"bordercolor\":\"rgba(0,0,0,0)\"}},{\"hoverinfo\":\"none\",\"line\":{\"color\":\"rgba(0, 151, 120, 0.4)\",\"shape\":\"spline\",\"smoothing\":1.3,\"width\":8},\"mode\":\"lines\",\"showlegend\":false,\"x\":[170,210.24078216250504,300],\"y\":[-230,-118.0594825322403,-40],\"type\":\"scatter\",\"hoverlabel\":{\"font\":{\"color\":\"black\",\"family\":\"Courier New\",\"size\":14},\"bordercolor\":\"rgba(0,0,0,0)\"}},{\"hoverinfo\":\"none\",\"line\":{\"color\":\"rgba(0, 151, 120, 0.4)\",\"shape\":\"spline\",\"smoothing\":1.3,\"width\":8},\"mode\":\"lines\",\"showlegend\":false,\"x\":[170,233.85273388626354,350],\"y\":[-310,-135.29216281102322,10],\"type\":\"scatter\",\"hoverlabel\":{\"font\":{\"color\":\"black\",\"family\":\"Courier New\",\"size\":14},\"bordercolor\":\"rgba(0,0,0,0)\"}},{\"hoverinfo\":\"none\",\"line\":{\"color\":\"rgba(0, 151, 120, 0.4)\",\"shape\":\"spline\",\"smoothing\":1.3,\"width\":4},\"mode\":\"lines\",\"showlegend\":false,\"x\":[170,209.8466915109809,300],\"y\":[-240,-123.65034948213759,-40],\"type\":\"scatter\",\"hoverlabel\":{\"font\":{\"color\":\"black\",\"family\":\"Courier New\",\"size\":14},\"bordercolor\":\"rgba(0,0,0,0)\"}},{\"hoverinfo\":\"none\",\"line\":{\"color\":\"rgba(2, 230, 2, 0.4)\",\"shape\":\"spline\",\"smoothing\":1.3,\"width\":1},\"mode\":\"lines\",\"showlegend\":false,\"x\":[270,253.78679656440357,280],\"y\":[-70,-43.78679656440357,-60],\"type\":\"scatter\",\"hoverlabel\":{\"font\":{\"color\":\"black\",\"family\":\"Courier New\",\"size\":14},\"bordercolor\":\"rgba(0,0,0,0)\"}},{\"hoverinfo\":\"none\",\"line\":{\"color\":\"rgba(127, 70, 228, 0.4)\",\"shape\":\"spline\",\"smoothing\":1.3,\"width\":8},\"mode\":\"lines\",\"showlegend\":false,\"x\":[170,101.0,80],\"y\":[-200,-158.0,-80],\"type\":\"scatter\",\"hoverlabel\":{\"font\":{\"color\":\"black\",\"family\":\"Courier New\",\"size\":14},\"bordercolor\":\"rgba(0,0,0,0)\"}},{\"hoverinfo\":\"none\",\"line\":{\"color\":\"rgba(0, 44, 255, 0.4)\",\"shape\":\"spline\",\"smoothing\":1.3,\"width\":4},\"mode\":\"lines\",\"showlegend\":false,\"x\":[170,200.0,170],\"y\":[-200,-230.0,-260],\"type\":\"scatter\",\"hoverlabel\":{\"font\":{\"color\":\"black\",\"family\":\"Courier New\",\"size\":14},\"bordercolor\":\"rgba(0,0,0,0)\"}},{\"hoverinfo\":\"none\",\"line\":{\"color\":\"rgba(0, 151, 120, 0.4)\",\"shape\":\"spline\",\"smoothing\":1.3,\"width\":1},\"mode\":\"lines\",\"showlegend\":false,\"x\":[290,256.8328157299975,170],\"y\":[-50,-183.41640786499875,-290],\"type\":\"scatter\",\"hoverlabel\":{\"font\":{\"color\":\"black\",\"family\":\"Courier New\",\"size\":14},\"bordercolor\":\"rgba(0,0,0,0)\"}},{\"hoverinfo\":\"none\",\"line\":{\"color\":\"rgba(127, 166, 139, 0.4)\",\"shape\":\"spline\",\"smoothing\":1.3,\"width\":8},\"mode\":\"lines\",\"showlegend\":false,\"x\":[100,212.91784157201948,350],\"y\":[-100,-17.540549027317034,10],\"type\":\"scatter\",\"hoverlabel\":{\"font\":{\"color\":\"black\",\"family\":\"Courier New\",\"size\":14},\"bordercolor\":\"rgba(0,0,0,0)\"}},{\"hoverinfo\":\"none\",\"line\":{\"color\":\"rgba(127, 166, 139, 0.4)\",\"shape\":\"spline\",\"smoothing\":1.3,\"width\":4},\"mode\":\"lines\",\"showlegend\":false,\"x\":[100,195.51316701949486,310],\"y\":[-100,-36.53950105848458,-30],\"type\":\"scatter\",\"hoverlabel\":{\"font\":{\"color\":\"black\",\"family\":\"Courier New\",\"size\":14},\"bordercolor\":\"rgba(0,0,0,0)\"}},{\"hoverinfo\":\"none\",\"line\":{\"color\":\"rgba(127, 70, 228, 0.4)\",\"shape\":\"spline\",\"smoothing\":1.3,\"width\":8},\"mode\":\"lines\",\"showlegend\":false,\"x\":[30,126.41413299766526,170],\"y\":[-30,-145.77700530894947,-290],\"type\":\"scatter\",\"hoverlabel\":{\"font\":{\"color\":\"black\",\"family\":\"Courier New\",\"size\":14},\"bordercolor\":\"rgba(0,0,0,0)\"}},{\"hoverinfo\":\"none\",\"line\":{\"color\":\"rgba(127, 70, 228, 0.4)\",\"shape\":\"spline\",\"smoothing\":1.3,\"width\":4},\"mode\":\"lines\",\"showlegend\":false,\"x\":[30,126.83281572999748,170],\"y\":[-30,-156.58359213500125,-310],\"type\":\"scatter\",\"hoverlabel\":{\"font\":{\"color\":\"black\",\"family\":\"Courier New\",\"size\":14},\"bordercolor\":\"rgba(0,0,0,0)\"}},{\"hoverinfo\":\"none\",\"line\":{\"color\":\"rgba(127, 70, 228, 0.4)\",\"shape\":\"spline\",\"smoothing\":1.3,\"width\":4},\"mode\":\"lines\",\"showlegend\":false,\"x\":[10,116.47058823529412,170],\"y\":[-10,-145.88235294117646,-310],\"type\":\"scatter\",\"hoverlabel\":{\"font\":{\"color\":\"black\",\"family\":\"Courier New\",\"size\":14},\"bordercolor\":\"rgba(0,0,0,0)\"}},{\"hoverinfo\":\"none\",\"line\":{\"color\":\"rgba(0, 151, 120, 0.4)\",\"shape\":\"spline\",\"smoothing\":1.3,\"width\":8},\"mode\":\"lines\",\"showlegend\":false,\"x\":[170,219.27521222862367,320],\"y\":[-270,-129.5651273371742,-20],\"type\":\"scatter\",\"hoverlabel\":{\"font\":{\"color\":\"black\",\"family\":\"Courier New\",\"size\":14},\"bordercolor\":\"rgba(0,0,0,0)\"}},{\"hoverinfo\":\"none\",\"line\":{\"color\":\"rgba(0, 44, 255, 0.4)\",\"shape\":\"spline\",\"smoothing\":1.3,\"width\":4},\"mode\":\"lines\",\"showlegend\":false,\"x\":[170,200.0,170],\"y\":[-270,-280.0,-290],\"type\":\"scatter\",\"hoverlabel\":{\"font\":{\"color\":\"black\",\"family\":\"Courier New\",\"size\":14},\"bordercolor\":\"rgba(0,0,0,0)\"}},{\"hoverinfo\":\"none\",\"line\":{\"color\":\"rgba(0, 151, 120, 0.4)\",\"shape\":\"spline\",\"smoothing\":1.3,\"width\":8},\"mode\":\"lines\",\"showlegend\":false,\"x\":[170,230.19220493791414,340],\"y\":[-250,-108.13069935778162,0],\"type\":\"scatter\",\"hoverlabel\":{\"font\":{\"color\":\"black\",\"family\":\"Courier New\",\"size\":14},\"bordercolor\":\"rgba(0,0,0,0)\"}},{\"hoverinfo\":\"none\",\"line\":{\"color\":\"rgba(0, 151, 120, 0.4)\",\"shape\":\"spline\",\"smoothing\":1.3,\"width\":1},\"mode\":\"lines\",\"showlegend\":false,\"x\":[330,276.47058823529414,170],\"y\":[-10,-174.11764705882354,-310],\"type\":\"scatter\",\"hoverlabel\":{\"font\":{\"color\":\"black\",\"family\":\"Courier New\",\"size\":14},\"bordercolor\":\"rgba(0,0,0,0)\"}},{\"hoverinfo\":\"none\",\"line\":{\"color\":\"rgba(0, 151, 120, 0.4)\",\"shape\":\"spline\",\"smoothing\":1.3,\"width\":4},\"mode\":\"lines\",\"showlegend\":false,\"x\":[170,211.16926501068411,300],\"y\":[-210,-106.77649677287609,-40],\"type\":\"scatter\",\"hoverlabel\":{\"font\":{\"color\":\"black\",\"family\":\"Courier New\",\"size\":14},\"bordercolor\":\"rgba(0,0,0,0)\"}},{\"hoverinfo\":\"none\",\"line\":{\"color\":\"rgba(0, 44, 255, 0.4)\",\"shape\":\"spline\",\"smoothing\":1.3,\"width\":4},\"mode\":\"lines\",\"showlegend\":false,\"x\":[170,200.0,170],\"y\":[-190,-225.0,-260],\"type\":\"scatter\",\"hoverlabel\":{\"font\":{\"color\":\"black\",\"family\":\"Courier New\",\"size\":14},\"bordercolor\":\"rgba(0,0,0,0)\"}},{\"hoverinfo\":\"none\",\"line\":{\"color\":\"rgba(0, 44, 255, 0.4)\",\"shape\":\"spline\",\"smoothing\":1.3,\"width\":8},\"mode\":\"lines\",\"showlegend\":false,\"x\":[170,200.0,170],\"y\":[-170,-240.0,-310],\"type\":\"scatter\",\"hoverlabel\":{\"font\":{\"color\":\"black\",\"family\":\"Courier New\",\"size\":14},\"bordercolor\":\"rgba(0,0,0,0)\"}},{\"hoverinfo\":\"none\",\"line\":{\"color\":\"rgba(0, 44, 255, 0.4)\",\"shape\":\"spline\",\"smoothing\":1.3,\"width\":4},\"mode\":\"lines\",\"showlegend\":false,\"x\":[170,200.0,170],\"y\":[-170,-225.0,-280],\"type\":\"scatter\",\"hoverlabel\":{\"font\":{\"color\":\"black\",\"family\":\"Courier New\",\"size\":14},\"bordercolor\":\"rgba(0,0,0,0)\"}},{\"hoverinfo\":\"none\",\"line\":{\"color\":\"rgba(0, 151, 120, 0.4)\",\"shape\":\"spline\",\"smoothing\":1.3,\"width\":1},\"mode\":\"lines\",\"showlegend\":false,\"x\":[170,173.78679656440357,220],\"y\":[-170,-123.78679656440357,-120],\"type\":\"scatter\",\"hoverlabel\":{\"font\":{\"color\":\"black\",\"family\":\"Courier New\",\"size\":14},\"bordercolor\":\"rgba(0,0,0,0)\"}},{\"hoverinfo\":\"none\",\"line\":{\"color\":\"rgba(2, 230, 2, 0.4)\",\"shape\":\"spline\",\"smoothing\":1.3,\"width\":8},\"mode\":\"lines\",\"showlegend\":false,\"x\":[230,253.78679656440357,320],\"y\":[-110,-43.78679656440357,-20],\"type\":\"scatter\",\"hoverlabel\":{\"font\":{\"color\":\"black\",\"family\":\"Courier New\",\"size\":14},\"bordercolor\":\"rgba(0,0,0,0)\"}},{\"hoverinfo\":\"none\",\"line\":{\"color\":\"rgba(0, 151, 120, 0.4)\",\"shape\":\"spline\",\"smoothing\":1.3,\"width\":1},\"mode\":\"lines\",\"showlegend\":false,\"x\":[320,271.22471828364615,170],\"y\":[-20,-169.56928793535897,-290],\"type\":\"scatter\",\"hoverlabel\":{\"font\":{\"color\":\"black\",\"family\":\"Courier New\",\"size\":14},\"bordercolor\":\"rgba(0,0,0,0)\"}},{\"hoverinfo\":\"none\",\"line\":{\"color\":\"rgba(127, 166, 139, 0.4)\",\"shape\":\"spline\",\"smoothing\":1.3,\"width\":4},\"mode\":\"lines\",\"showlegend\":false,\"x\":[120,220.23828229996295,350],\"y\":[-120,-28.883114838395972,10],\"type\":\"scatter\",\"hoverlabel\":{\"font\":{\"color\":\"black\",\"family\":\"Courier New\",\"size\":14},\"bordercolor\":\"rgba(0,0,0,0)\"}},{\"hoverinfo\":\"none\",\"line\":{\"color\":\"rgba(127, 70, 228, 0.4)\",\"shape\":\"spline\",\"smoothing\":1.3,\"width\":8},\"mode\":\"lines\",\"showlegend\":false,\"x\":[20,120.43994912015265,170],\"y\":[-20,-124.1000317999046,-260],\"type\":\"scatter\",\"hoverlabel\":{\"font\":{\"color\":\"black\",\"family\":\"Courier New\",\"size\":14},\"bordercolor\":\"rgba(0,0,0,0)\"}},{\"hoverinfo\":\"none\",\"line\":{\"color\":\"rgba(127, 70, 228, 0.4)\",\"shape\":\"spline\",\"smoothing\":1.3,\"width\":4},\"mode\":\"lines\",\"showlegend\":false,\"x\":[0,111.30437226013957,170],\"y\":[0,-140.57502166379444,-310],\"type\":\"scatter\",\"hoverlabel\":{\"font\":{\"color\":\"black\",\"family\":\"Courier New\",\"size\":14},\"bordercolor\":\"rgba(0,0,0,0)\"}},{\"hoverinfo\":\"none\",\"line\":{\"color\":\"rgba(2, 230, 2, 0.4)\",\"shape\":\"spline\",\"smoothing\":1.3,\"width\":1},\"mode\":\"lines\",\"showlegend\":false,\"x\":[200,203.78679656440357,250],\"y\":[-140,-93.78679656440357,-90],\"type\":\"scatter\",\"hoverlabel\":{\"font\":{\"color\":\"black\",\"family\":\"Courier New\",\"size\":14},\"bordercolor\":\"rgba(0,0,0,0)\"}},{\"hoverinfo\":\"none\",\"line\":{\"color\":\"rgba(2, 230, 2, 0.4)\",\"shape\":\"spline\",\"smoothing\":1.3,\"width\":1},\"mode\":\"lines\",\"showlegend\":false,\"x\":[200,233.78679656440357,310],\"y\":[-140,-63.78679656440357,-30],\"type\":\"scatter\",\"hoverlabel\":{\"font\":{\"color\":\"black\",\"family\":\"Courier New\",\"size\":14},\"bordercolor\":\"rgba(0,0,0,0)\"}},{\"hoverinfo\":\"none\",\"line\":{\"color\":\"rgba(2, 230, 2, 0.4)\",\"shape\":\"spline\",\"smoothing\":1.3,\"width\":1},\"mode\":\"lines\",\"showlegend\":false,\"x\":[310,303.7867965644036,340],\"y\":[-30,6.213203435596423,0],\"type\":\"scatter\",\"hoverlabel\":{\"font\":{\"color\":\"black\",\"family\":\"Courier New\",\"size\":14},\"bordercolor\":\"rgba(0,0,0,0)\"}},{\"hoverinfo\":\"none\",\"line\":{\"color\":\"rgba(127, 70, 228, 0.4)\",\"shape\":\"spline\",\"smoothing\":1.3,\"width\":8},\"mode\":\"lines\",\"showlegend\":false,\"x\":[70,147.69230769230768,170],\"y\":[-70,-178.46153846153845,-310],\"type\":\"scatter\",\"hoverlabel\":{\"font\":{\"color\":\"black\",\"family\":\"Courier New\",\"size\":14},\"bordercolor\":\"rgba(0,0,0,0)\"}},{\"hoverinfo\":\"none\",\"line\":{\"color\":\"rgba(127, 166, 139, 0.4)\",\"shape\":\"spline\",\"smoothing\":1.3,\"width\":4},\"mode\":\"lines\",\"showlegend\":false,\"x\":[70,185.06803038083928,310],\"y\":[-70,-20.408182285035686,-30],\"type\":\"scatter\",\"hoverlabel\":{\"font\":{\"color\":\"black\",\"family\":\"Courier New\",\"size\":14},\"bordercolor\":\"rgba(0,0,0,0)\"}},{\"hoverinfo\":\"none\",\"line\":{\"color\":\"rgba(2, 230, 2, 0.4)\",\"shape\":\"spline\",\"smoothing\":1.3,\"width\":1},\"mode\":\"lines\",\"showlegend\":false,\"x\":[260,268.7867965644036,320],\"y\":[-80,-28.786796564403577,-20],\"type\":\"scatter\",\"hoverlabel\":{\"font\":{\"color\":\"black\",\"family\":\"Courier New\",\"size\":14},\"bordercolor\":\"rgba(0,0,0,0)\"}},{\"hoverinfo\":\"none\",\"line\":{\"color\":\"rgba(2, 230, 2, 0.4)\",\"shape\":\"spline\",\"smoothing\":1.3,\"width\":8},\"mode\":\"lines\",\"showlegend\":false,\"x\":[280,293.7867965644036,350],\"y\":[-60,-3.786796564403577,10],\"type\":\"scatter\",\"hoverlabel\":{\"font\":{\"color\":\"black\",\"family\":\"Courier New\",\"size\":14},\"bordercolor\":\"rgba(0,0,0,0)\"}},{\"hoverinfo\":\"none\",\"line\":{\"color\":\"rgba(2, 230, 2, 0.4)\",\"shape\":\"spline\",\"smoothing\":1.3,\"width\":4},\"mode\":\"lines\",\"showlegend\":false,\"x\":[280,288.7867965644036,340],\"y\":[-60,-8.786796564403577,0],\"type\":\"scatter\",\"hoverlabel\":{\"font\":{\"color\":\"black\",\"family\":\"Courier New\",\"size\":14},\"bordercolor\":\"rgba(0,0,0,0)\"}},{\"hoverinfo\":\"none\",\"line\":{\"color\":\"rgba(0, 151, 120, 0.4)\",\"shape\":\"spline\",\"smoothing\":1.3,\"width\":1},\"mode\":\"lines\",\"showlegend\":false,\"x\":[280,251.28647726029942,170],\"y\":[-60,-174.4575624931647,-260],\"type\":\"scatter\",\"hoverlabel\":{\"font\":{\"color\":\"black\",\"family\":\"Courier New\",\"size\":14},\"bordercolor\":\"rgba(0,0,0,0)\"}},{\"hovertemplate\":\"\\u003cb\\u003e\\u003c\\u002fb\\u003e \\u003cbr\\u003e  \\u003cb\\u003eAlmonds + Yogurt  \\u003c\\u002fb\\u003e\\u003cbr\\u003e  Total protein: 25.2g  \\u003cbr\\u003e  Acceptable pairing or complementary nutrition  \\u003cbr\\u003e\\u003cb\\u003e\\u003c\\u002fb\\u003e \\u003cbr\\u003e\\u003cextra\\u003e\\u003c\\u002fextra\\u003e\",\"marker\":{\"color\":\"rgba(0, 151, 120, 0.4)\",\"opacity\":1,\"size\":3},\"mode\":\"markers\",\"showlegend\":false,\"x\":[233.1502935045133],\"y\":[-205.3711607648207],\"type\":\"scatter\",\"hoverlabel\":{\"font\":{\"color\":\"black\",\"family\":\"Courier New\",\"size\":14},\"bordercolor\":\"rgba(0,0,0,0)\"}},{\"hovertemplate\":\"\\u003cb\\u003e\\u003c\\u002fb\\u003e \\u003cbr\\u003e  \\u003cb\\u003eBacon + Egg  \\u003c\\u002fb\\u003e\\u003cbr\\u003e  Total protein: 53.3g  \\u003cbr\\u003e  Strong classic combination  \\u003cbr\\u003e\\u003cb\\u003e\\u003c\\u002fb\\u003e \\u003cbr\\u003e\\u003cextra\\u003e\\u003c\\u002fextra\\u003e\",\"marker\":{\"color\":\"rgba(127, 70, 228, 0.4)\",\"opacity\":1,\"size\":3},\"mode\":\"markers\",\"showlegend\":false,\"x\":[184.10427500435995],\"y\":[-192.72393124891002],\"type\":\"scatter\",\"hoverlabel\":{\"font\":{\"color\":\"black\",\"family\":\"Courier New\",\"size\":14},\"bordercolor\":\"rgba(0,0,0,0)\"}},{\"hovertemplate\":\"\\u003cb\\u003e\\u003c\\u002fb\\u003e \\u003cbr\\u003e  \\u003cb\\u003eBeans + Butter  \\u003c\\u002fb\\u003e\\u003cbr\\u003e  Total protein: 27.8g  \\u003cbr\\u003e  Strong classic combination  \\u003cbr\\u003e\\u003cb\\u003e\\u003c\\u002fb\\u003e \\u003cbr\\u003e\\u003cextra\\u003e\\u003c\\u002fextra\\u003e\",\"marker\":{\"color\":\"rgba(0, 151, 120, 0.4)\",\"opacity\":1,\"size\":3},\"mode\":\"markers\",\"showlegend\":false,\"x\":[219.28561180551858],\"y\":[-226.50791373455968],\"type\":\"scatter\",\"hoverlabel\":{\"font\":{\"color\":\"black\",\"family\":\"Courier New\",\"size\":14},\"bordercolor\":\"rgba(0,0,0,0)\"}},{\"hovertemplate\":\"\\u003cb\\u003e\\u003c\\u002fb\\u003e \\u003cbr\\u003e  \\u003cb\\u003eBeans + Pork sausage  \\u003c\\u002fb\\u003e\\u003cbr\\u003e  Total protein: 45.0g  \\u003cbr\\u003e  Good synergy or common usage  \\u003cbr\\u003e\\u003cb\\u003e\\u003c\\u002fb\\u003e \\u003cbr\\u003e\\u003cextra\\u003e\\u003c\\u002fextra\\u003e\",\"marker\":{\"color\":\"rgba(127, 166, 139, 0.4)\",\"opacity\":1,\"size\":3},\"mode\":\"markers\",\"showlegend\":false,\"x\":[99.96891188374886],\"y\":[-100.9627885644338],\"type\":\"scatter\",\"hoverlabel\":{\"font\":{\"color\":\"black\",\"family\":\"Courier New\",\"size\":14},\"bordercolor\":\"rgba(0,0,0,0)\"}},{\"hovertemplate\":\"\\u003cb\\u003e\\u003c\\u002fb\\u003e \\u003cbr\\u003e  \\u003cb\\u003eBeans + Chicken wing  \\u003c\\u002fb\\u003e\\u003cbr\\u003e  Total protein: 50.2g  \\u003cbr\\u003e  Acceptable pairing or complementary nutrition  \\u003cbr\\u003e\\u003cb\\u003e\\u003c\\u002fb\\u003e \\u003cbr\\u003e\\u003cextra\\u003e\\u003c\\u002fextra\\u003e\",\"marker\":{\"color\":\"rgba(127, 166, 139, 0.4)\",\"opacity\":1,\"size\":3},\"mode\":\"markers\",\"showlegend\":false,\"x\":[154.11651594585447],\"y\":[-149.4174202707276],\"type\":\"scatter\",\"hoverlabel\":{\"font\":{\"color\":\"black\",\"family\":\"Courier New\",\"size\":14},\"bordercolor\":\"rgba(0,0,0,0)\"}},{\"hovertemplate\":\"\\u003cb\\u003e\\u003c\\u002fb\\u003e \\u003cbr\\u003e  \\u003cb\\u003eBeef steak + Butter  \\u003c\\u002fb\\u003e\\u003cbr\\u003e  Total protein: 19.7g  \\u003cbr\\u003e  Good synergy or common usage  \\u003cbr\\u003e\\u003cb\\u003e\\u003c\\u002fb\\u003e \\u003cbr\\u003e\\u003cextra\\u003e\\u003c\\u002fextra\\u003e\",\"marker\":{\"color\":\"rgba(127, 70, 228, 0.4)\",\"opacity\":1,\"size\":3},\"mode\":\"markers\",\"showlegend\":false,\"x\":[137.23878153501354],\"y\":[-167.4282546761476],\"type\":\"scatter\",\"hoverlabel\":{\"font\":{\"color\":\"black\",\"family\":\"Courier New\",\"size\":14},\"bordercolor\":\"rgba(0,0,0,0)\"}},{\"hovertemplate\":\"\\u003cb\\u003e\\u003c\\u002fb\\u003e \\u003cbr\\u003e  \\u003cb\\u003eBlue cheese + Walnuts  \\u003c\\u002fb\\u003e\\u003cbr\\u003e  Total protein: 36.0g  \\u003cbr\\u003e  Strong classic combination  \\u003cbr\\u003e\\u003cb\\u003e\\u003c\\u002fb\\u003e \\u003cbr\\u003e\\u003cextra\\u003e\\u003c\\u002fextra\\u003e\",\"marker\":{\"color\":\"rgba(0, 151, 120, 0.4)\",\"opacity\":1,\"size\":3},\"mode\":\"markers\",\"showlegend\":false,\"x\":[210.67962314800357],\"y\":[-112.43528338466925],\"type\":\"scatter\",\"hoverlabel\":{\"font\":{\"color\":\"black\",\"family\":\"Courier New\",\"size\":14},\"bordercolor\":\"rgba(0,0,0,0)\"}},{\"hovertemplate\":\"\\u003cb\\u003e\\u003c\\u002fb\\u003e \\u003cbr\\u003e  \\u003cb\\u003eBrie + Walnuts  \\u003c\\u002fb\\u003e\\u003cbr\\u003e  Total protein: 35.4g  \\u003cbr\\u003e  Strong classic combination  \\u003cbr\\u003e\\u003cb\\u003e\\u003c\\u002fb\\u003e \\u003cbr\\u003e\\u003cextra\\u003e\\u003c\\u002fextra\\u003e\",\"marker\":{\"color\":\"rgba(0, 151, 120, 0.4)\",\"opacity\":1,\"size\":3},\"mode\":\"markers\",\"showlegend\":false,\"x\":[210.24078216250504],\"y\":[-118.0594825322403],\"type\":\"scatter\",\"hoverlabel\":{\"font\":{\"color\":\"black\",\"family\":\"Courier New\",\"size\":14},\"bordercolor\":\"rgba(0,0,0,0)\"}},{\"hovertemplate\":\"\\u003cb\\u003e\\u003c\\u002fb\\u003e \\u003cbr\\u003e  \\u003cb\\u003eButter + Mushroom  \\u003c\\u002fb\\u003e\\u003cbr\\u003e  Total protein: 3.8g  \\u003cbr\\u003e  Strong classic combination  \\u003cbr\\u003e\\u003cb\\u003e\\u003c\\u002fb\\u003e \\u003cbr\\u003e\\u003cextra\\u003e\\u003c\\u002fextra\\u003e\",\"marker\":{\"color\":\"rgba(0, 151, 120, 0.4)\",\"opacity\":1,\"size\":3},\"mode\":\"markers\",\"showlegend\":false,\"x\":[233.85273388626354],\"y\":[-135.29216281102322],\"type\":\"scatter\",\"hoverlabel\":{\"font\":{\"color\":\"black\",\"family\":\"Courier New\",\"size\":14},\"bordercolor\":\"rgba(0,0,0,0)\"}},{\"hovertemplate\":\"\\u003cb\\u003e\\u003c\\u002fb\\u003e \\u003cbr\\u003e  \\u003cb\\u003eCamembert + Walnuts  \\u003c\\u002fb\\u003e\\u003cbr\\u003e  Total protein: 34.4g  \\u003cbr\\u003e  Good synergy or common usage  \\u003cbr\\u003e\\u003cb\\u003e\\u003c\\u002fb\\u003e \\u003cbr\\u003e\\u003cextra\\u003e\\u003c\\u002fextra\\u003e\",\"marker\":{\"color\":\"rgba(0, 151, 120, 0.4)\",\"opacity\":1,\"size\":3},\"mode\":\"markers\",\"showlegend\":false,\"x\":[209.8466915109809],\"y\":[-123.65034948213759],\"type\":\"scatter\",\"hoverlabel\":{\"font\":{\"color\":\"black\",\"family\":\"Courier New\",\"size\":14},\"bordercolor\":\"rgba(0,0,0,0)\"}},{\"hovertemplate\":\"\\u003cb\\u003e\\u003c\\u002fb\\u003e \\u003cbr\\u003e  \\u003cb\\u003eCashews + Tofu  \\u003c\\u002fb\\u003e\\u003cbr\\u003e  Total protein: 34.7g  \\u003cbr\\u003e  Acceptable pairing or complementary nutrition  \\u003cbr\\u003e\\u003cb\\u003e\\u003c\\u002fb\\u003e \\u003cbr\\u003e\\u003cextra\\u003e\\u003c\\u002fextra\\u003e\",\"marker\":{\"color\":\"rgba(2, 230, 2, 0.4)\",\"opacity\":1,\"size\":3},\"mode\":\"markers\",\"showlegend\":false,\"x\":[253.78679656440357],\"y\":[-43.78679656440357],\"type\":\"scatter\",\"hoverlabel\":{\"font\":{\"color\":\"black\",\"family\":\"Courier New\",\"size\":14},\"bordercolor\":\"rgba(0,0,0,0)\"}},{\"hovertemplate\":\"\\u003cb\\u003e\\u003c\\u002fb\\u003e \\u003cbr\\u003e  \\u003cb\\u003eCheddar cheese + Beef burger  \\u003c\\u002fb\\u003e\\u003cbr\\u003e  Total protein: 43.7g  \\u003cbr\\u003e  Strong classic combination  \\u003cbr\\u003e\\u003cb\\u003e\\u003c\\u002fb\\u003e \\u003cbr\\u003e\\u003cextra\\u003e\\u003c\\u002fextra\\u003e\",\"marker\":{\"color\":\"rgba(127, 70, 228, 0.4)\",\"opacity\":1,\"size\":3},\"mode\":\"markers\",\"showlegend\":false,\"x\":[101.0],\"y\":[-158.0],\"type\":\"scatter\",\"hoverlabel\":{\"font\":{\"color\":\"black\",\"family\":\"Courier New\",\"size\":14},\"bordercolor\":\"rgba(0,0,0,0)\"}},{\"hovertemplate\":\"\\u003cb\\u003e\\u003c\\u002fb\\u003e \\u003cbr\\u003e  \\u003cb\\u003eCheddar cheese + Egg  \\u003c\\u002fb\\u003e\\u003cbr\\u003e  Total protein: 35.7g  \\u003cbr\\u003e  Good synergy or common usage  \\u003cbr\\u003e\\u003cb\\u003e\\u003c\\u002fb\\u003e \\u003cbr\\u003e\\u003cextra\\u003e\\u003c\\u002fextra\\u003e\",\"marker\":{\"color\":\"rgba(0, 44, 255, 0.4)\",\"opacity\":1,\"size\":3},\"mode\":\"markers\",\"showlegend\":false,\"x\":[200.0],\"y\":[-230.0],\"type\":\"scatter\",\"hoverlabel\":{\"font\":{\"color\":\"black\",\"family\":\"Courier New\",\"size\":14},\"bordercolor\":\"rgba(0,0,0,0)\"}},{\"hovertemplate\":\"\\u003cb\\u003e\\u003c\\u002fb\\u003e \\u003cbr\\u003e  \\u003cb\\u003eChia seeds + Yogurt  \\u003c\\u002fb\\u003e\\u003cbr\\u003e  Total protein: 20.8g  \\u003cbr\\u003e  Acceptable pairing or complementary nutrition  \\u003cbr\\u003e\\u003cb\\u003e\\u003c\\u002fb\\u003e \\u003cbr\\u003e\\u003cextra\\u003e\\u003c\\u002fextra\\u003e\",\"marker\":{\"color\":\"rgba(0, 151, 120, 0.4)\",\"opacity\":1,\"size\":3},\"mode\":\"markers\",\"showlegend\":false,\"x\":[256.8328157299975],\"y\":[-183.41640786499875],\"type\":\"scatter\",\"hoverlabel\":{\"font\":{\"color\":\"black\",\"family\":\"Courier New\",\"size\":14},\"bordercolor\":\"rgba(0,0,0,0)\"}},{\"hovertemplate\":\"\\u003cb\\u003e\\u003c\\u002fb\\u003e \\u003cbr\\u003e  \\u003cb\\u003eChicken breast + Mushroom  \\u003c\\u002fb\\u003e\\u003cbr\\u003e  Total protein: 25.2g  \\u003cbr\\u003e  Strong classic combination  \\u003cbr\\u003e\\u003cb\\u003e\\u003c\\u002fb\\u003e \\u003cbr\\u003e\\u003cextra\\u003e\\u003c\\u002fextra\\u003e\",\"marker\":{\"color\":\"rgba(127, 166, 139, 0.4)\",\"opacity\":1,\"size\":3},\"mode\":\"markers\",\"showlegend\":false,\"x\":[212.91784157201948],\"y\":[-17.540549027317034],\"type\":\"scatter\",\"hoverlabel\":{\"font\":{\"color\":\"black\",\"family\":\"Courier New\",\"size\":14},\"bordercolor\":\"rgba(0,0,0,0)\"}},{\"hovertemplate\":\"\\u003cb\\u003e\\u003c\\u002fb\\u003e \\u003cbr\\u003e  \\u003cb\\u003eChicken breast + Quinoa  \\u003c\\u002fb\\u003e\\u003cbr\\u003e  Total protein: 36.6g  \\u003cbr\\u003e  Good synergy or common usage  \\u003cbr\\u003e\\u003cb\\u003e\\u003c\\u002fb\\u003e \\u003cbr\\u003e\\u003cextra\\u003e\\u003c\\u002fextra\\u003e\",\"marker\":{\"color\":\"rgba(127, 166, 139, 0.4)\",\"opacity\":1,\"size\":3},\"mode\":\"markers\",\"showlegend\":false,\"x\":[195.51316701949486],\"y\":[-36.53950105848458],\"type\":\"scatter\",\"hoverlabel\":{\"font\":{\"color\":\"black\",\"family\":\"Courier New\",\"size\":14},\"bordercolor\":\"rgba(0,0,0,0)\"}},{\"hovertemplate\":\"\\u003cb\\u003e\\u003c\\u002fb\\u003e \\u003cbr\\u003e  \\u003cb\\u003eChicken thigh + Yogurt  \\u003c\\u002fb\\u003e\\u003cbr\\u003e  Total protein: 22.4g  \\u003cbr\\u003e  Strong classic combination  \\u003cbr\\u003e\\u003cb\\u003e\\u003c\\u002fb\\u003e \\u003cbr\\u003e\\u003cextra\\u003e\\u003c\\u002fextra\\u003e\",\"marker\":{\"color\":\"rgba(127, 70, 228, 0.4)\",\"opacity\":1,\"size\":3},\"mode\":\"markers\",\"showlegend\":false,\"x\":[126.41413299766526],\"y\":[-145.77700530894947],\"type\":\"scatter\",\"hoverlabel\":{\"font\":{\"color\":\"black\",\"family\":\"Courier New\",\"size\":14},\"bordercolor\":\"rgba(0,0,0,0)\"}},{\"hovertemplate\":\"\\u003cb\\u003e\\u003c\\u002fb\\u003e \\u003cbr\\u003e  \\u003cb\\u003eChicken thigh + Butter  \\u003c\\u002fb\\u003e\\u003cbr\\u003e  Total protein: 19.6g  \\u003cbr\\u003e  Good synergy or common usage  \\u003cbr\\u003e\\u003cb\\u003e\\u003c\\u002fb\\u003e \\u003cbr\\u003e\\u003cextra\\u003e\\u003c\\u002fextra\\u003e\",\"marker\":{\"color\":\"rgba(127, 70, 228, 0.4)\",\"opacity\":1,\"size\":3},\"mode\":\"markers\",\"showlegend\":false,\"x\":[126.83281572999748],\"y\":[-156.58359213500125],\"type\":\"scatter\",\"hoverlabel\":{\"font\":{\"color\":\"black\",\"family\":\"Courier New\",\"size\":14},\"bordercolor\":\"rgba(0,0,0,0)\"}},{\"hovertemplate\":\"\\u003cb\\u003e\\u003c\\u002fb\\u003e \\u003cbr\\u003e  \\u003cb\\u003eCod + Butter  \\u003c\\u002fb\\u003e\\u003cbr\\u003e  Total protein: 17.1g  \\u003cbr\\u003e  Good synergy or common usage  \\u003cbr\\u003e\\u003cb\\u003e\\u003c\\u002fb\\u003e \\u003cbr\\u003e\\u003cextra\\u003e\\u003c\\u002fextra\\u003e\",\"marker\":{\"color\":\"rgba(127, 70, 228, 0.4)\",\"opacity\":1,\"size\":3},\"mode\":\"markers\",\"showlegend\":false,\"x\":[116.47058823529412],\"y\":[-145.88235294117646],\"type\":\"scatter\",\"hoverlabel\":{\"font\":{\"color\":\"black\",\"family\":\"Courier New\",\"size\":14},\"bordercolor\":\"rgba(0,0,0,0)\"}},{\"hovertemplate\":\"\\u003cb\\u003e\\u003c\\u002fb\\u003e \\u003cbr\\u003e  \\u003cb\\u003eCottage cheese + Popcorn  \\u003c\\u002fb\\u003e\\u003cbr\\u003e  Total protein: 24.5g  \\u003cbr\\u003e  Strong classic combination  \\u003cbr\\u003e\\u003cb\\u003e\\u003c\\u002fb\\u003e \\u003cbr\\u003e\\u003cextra\\u003e\\u003c\\u002fextra\\u003e\",\"marker\":{\"color\":\"rgba(0, 151, 120, 0.4)\",\"opacity\":1,\"size\":3},\"mode\":\"markers\",\"showlegend\":false,\"x\":[219.27521222862367],\"y\":[-129.5651273371742],\"type\":\"scatter\",\"hoverlabel\":{\"font\":{\"color\":\"black\",\"family\":\"Courier New\",\"size\":14},\"bordercolor\":\"rgba(0,0,0,0)\"}},{\"hovertemplate\":\"\\u003cb\\u003e\\u003c\\u002fb\\u003e \\u003cbr\\u003e  \\u003cb\\u003eCottage cheese + Yogurt  \\u003c\\u002fb\\u003e\\u003cbr\\u003e  Total protein: 15.4g  \\u003cbr\\u003e  Good synergy or common usage  \\u003cbr\\u003e\\u003cb\\u003e\\u003c\\u002fb\\u003e \\u003cbr\\u003e\\u003cextra\\u003e\\u003c\\u002fextra\\u003e\",\"marker\":{\"color\":\"rgba(0, 44, 255, 0.4)\",\"opacity\":1,\"size\":3},\"mode\":\"markers\",\"showlegend\":false,\"x\":[200.0],\"y\":[-280.0],\"type\":\"scatter\",\"hoverlabel\":{\"font\":{\"color\":\"black\",\"family\":\"Courier New\",\"size\":14},\"bordercolor\":\"rgba(0,0,0,0)\"}},{\"hovertemplate\":\"\\u003cb\\u003e\\u003c\\u002fb\\u003e \\u003cbr\\u003e  \\u003cb\\u003eFeta cheese + Kale  \\u003c\\u002fb\\u003e\\u003cbr\\u003e  Total protein: 22.6g  \\u003cbr\\u003e  Strong classic combination  \\u003cbr\\u003e\\u003cb\\u003e\\u003c\\u002fb\\u003e \\u003cbr\\u003e\\u003cextra\\u003e\\u003c\\u002fextra\\u003e\",\"marker\":{\"color\":\"rgba(0, 151, 120, 0.4)\",\"opacity\":1,\"size\":3},\"mode\":\"markers\",\"showlegend\":false,\"x\":[230.19220493791414],\"y\":[-108.13069935778162],\"type\":\"scatter\",\"hoverlabel\":{\"font\":{\"color\":\"black\",\"family\":\"Courier New\",\"size\":14},\"bordercolor\":\"rgba(0,0,0,0)\"}},{\"hovertemplate\":\"\\u003cb\\u003e\\u003c\\u002fb\\u003e \\u003cbr\\u003e  \\u003cb\\u003eGarden peas + Butter  \\u003c\\u002fb\\u003e\\u003cbr\\u003e  Total protein: 5.7g  \\u003cbr\\u003e  Acceptable pairing or complementary nutrition  \\u003cbr\\u003e\\u003cb\\u003e\\u003c\\u002fb\\u003e \\u003cbr\\u003e\\u003cextra\\u003e\\u003c\\u002fextra\\u003e\",\"marker\":{\"color\":\"rgba(0, 151, 120, 0.4)\",\"opacity\":1,\"size\":3},\"mode\":\"markers\",\"showlegend\":false,\"x\":[276.47058823529414],\"y\":[-174.11764705882354],\"type\":\"scatter\",\"hoverlabel\":{\"font\":{\"color\":\"black\",\"family\":\"Courier New\",\"size\":14},\"bordercolor\":\"rgba(0,0,0,0)\"}},{\"hovertemplate\":\"\\u003cb\\u003e\\u003c\\u002fb\\u003e \\u003cbr\\u003e  \\u003cb\\u003eGoat's cheese + Walnuts  \\u003c\\u002fb\\u003e\\u003cbr\\u003e  Total protein: 36.2g  \\u003cbr\\u003e  Good synergy or common usage  \\u003cbr\\u003e\\u003cb\\u003e\\u003c\\u002fb\\u003e \\u003cbr\\u003e\\u003cextra\\u003e\\u003c\\u002fextra\\u003e\",\"marker\":{\"color\":\"rgba(0, 151, 120, 0.4)\",\"opacity\":1,\"size\":3},\"mode\":\"markers\",\"showlegend\":false,\"x\":[211.16926501068411],\"y\":[-106.77649677287609],\"type\":\"scatter\",\"hoverlabel\":{\"font\":{\"color\":\"black\",\"family\":\"Courier New\",\"size\":14},\"bordercolor\":\"rgba(0,0,0,0)\"}},{\"hovertemplate\":\"\\u003cb\\u003e\\u003c\\u002fb\\u003e \\u003cbr\\u003e  \\u003cb\\u003eMozzarella cheese + Egg  \\u003c\\u002fb\\u003e\\u003cbr\\u003e  Total protein: 36.1g  \\u003cbr\\u003e  Good synergy or common usage  \\u003cbr\\u003e\\u003cb\\u003e\\u003c\\u002fb\\u003e \\u003cbr\\u003e\\u003cextra\\u003e\\u003c\\u002fextra\\u003e\",\"marker\":{\"color\":\"rgba(0, 44, 255, 0.4)\",\"opacity\":1,\"size\":3},\"mode\":\"markers\",\"showlegend\":false,\"x\":[200.0],\"y\":[-225.0],\"type\":\"scatter\",\"hoverlabel\":{\"font\":{\"color\":\"black\",\"family\":\"Courier New\",\"size\":14},\"bordercolor\":\"rgba(0,0,0,0)\"}},{\"hovertemplate\":\"\\u003cb\\u003e\\u003c\\u002fb\\u003e \\u003cbr\\u003e  \\u003cb\\u003eParmesan cheese + Butter  \\u003c\\u002fb\\u003e\\u003cbr\\u003e  Total protein: 30.6g  \\u003cbr\\u003e  Strong classic combination  \\u003cbr\\u003e\\u003cb\\u003e\\u003c\\u002fb\\u003e \\u003cbr\\u003e\\u003cextra\\u003e\\u003c\\u002fextra\\u003e\",\"marker\":{\"color\":\"rgba(0, 44, 255, 0.4)\",\"opacity\":1,\"size\":3},\"mode\":\"markers\",\"showlegend\":false,\"x\":[200.0],\"y\":[-240.0],\"type\":\"scatter\",\"hoverlabel\":{\"font\":{\"color\":\"black\",\"family\":\"Courier New\",\"size\":14},\"bordercolor\":\"rgba(0,0,0,0)\"}},{\"hovertemplate\":\"\\u003cb\\u003e\\u003c\\u002fb\\u003e \\u003cbr\\u003e  \\u003cb\\u003eParmesan cheese + Ricotta cheese  \\u003c\\u002fb\\u003e\\u003cbr\\u003e  Total protein: 37.4g  \\u003cbr\\u003e  Good synergy or common usage  \\u003cbr\\u003e\\u003cb\\u003e\\u003c\\u002fb\\u003e \\u003cbr\\u003e\\u003cextra\\u003e\\u003c\\u002fextra\\u003e\",\"marker\":{\"color\":\"rgba(0, 44, 255, 0.4)\",\"opacity\":1,\"size\":3},\"mode\":\"markers\",\"showlegend\":false,\"x\":[200.0],\"y\":[-225.0],\"type\":\"scatter\",\"hoverlabel\":{\"font\":{\"color\":\"black\",\"family\":\"Courier New\",\"size\":14},\"bordercolor\":\"rgba(0,0,0,0)\"}},{\"hovertemplate\":\"\\u003cb\\u003e\\u003c\\u002fb\\u003e \\u003cbr\\u003e  \\u003cb\\u003eParmesan cheese + Lentils  \\u003c\\u002fb\\u003e\\u003cbr\\u003e  Total protein: 53.2g  \\u003cbr\\u003e  Acceptable pairing or complementary nutrition  \\u003cbr\\u003e\\u003cb\\u003e\\u003c\\u002fb\\u003e \\u003cbr\\u003e\\u003cextra\\u003e\\u003c\\u002fextra\\u003e\",\"marker\":{\"color\":\"rgba(0, 151, 120, 0.4)\",\"opacity\":1,\"size\":3},\"mode\":\"markers\",\"showlegend\":false,\"x\":[173.78679656440357],\"y\":[-123.78679656440357],\"type\":\"scatter\",\"hoverlabel\":{\"font\":{\"color\":\"black\",\"family\":\"Courier New\",\"size\":14},\"bordercolor\":\"rgba(0,0,0,0)\"}},{\"hovertemplate\":\"\\u003cb\\u003e\\u003c\\u002fb\\u003e \\u003cbr\\u003e  \\u003cb\\u003ePeanuts + Popcorn  \\u003c\\u002fb\\u003e\\u003cbr\\u003e  Total protein: 36.1g  \\u003cbr\\u003e  Strong classic combination  \\u003cbr\\u003e\\u003cb\\u003e\\u003c\\u002fb\\u003e \\u003cbr\\u003e\\u003cextra\\u003e\\u003c\\u002fextra\\u003e\",\"marker\":{\"color\":\"rgba(2, 230, 2, 0.4)\",\"opacity\":1,\"size\":3},\"mode\":\"markers\",\"showlegend\":false,\"x\":[253.78679656440357],\"y\":[-43.78679656440357],\"type\":\"scatter\",\"hoverlabel\":{\"font\":{\"color\":\"black\",\"family\":\"Courier New\",\"size\":14},\"bordercolor\":\"rgba(0,0,0,0)\"}},{\"hovertemplate\":\"\\u003cb\\u003e\\u003c\\u002fb\\u003e \\u003cbr\\u003e  \\u003cb\\u003ePopcorn + Yogurt  \\u003c\\u002fb\\u003e\\u003cbr\\u003e  Total protein: 16.7g  \\u003cbr\\u003e  Acceptable pairing or complementary nutrition  \\u003cbr\\u003e\\u003cb\\u003e\\u003c\\u002fb\\u003e \\u003cbr\\u003e\\u003cextra\\u003e\\u003c\\u002fextra\\u003e\",\"marker\":{\"color\":\"rgba(0, 151, 120, 0.4)\",\"opacity\":1,\"size\":3},\"mode\":\"markers\",\"showlegend\":false,\"x\":[271.22471828364615],\"y\":[-169.56928793535897],\"type\":\"scatter\",\"hoverlabel\":{\"font\":{\"color\":\"black\",\"family\":\"Courier New\",\"size\":14},\"bordercolor\":\"rgba(0,0,0,0)\"}},{\"hovertemplate\":\"\\u003cb\\u003e\\u003c\\u002fb\\u003e \\u003cbr\\u003e  \\u003cb\\u003ePork chop + Mushroom  \\u003c\\u002fb\\u003e\\u003cbr\\u003e  Total protein: 29.7g  \\u003cbr\\u003e  Good synergy or common usage  \\u003cbr\\u003e\\u003cb\\u003e\\u003c\\u002fb\\u003e \\u003cbr\\u003e\\u003cextra\\u003e\\u003c\\u002fextra\\u003e\",\"marker\":{\"color\":\"rgba(127, 166, 139, 0.4)\",\"opacity\":1,\"size\":3},\"mode\":\"markers\",\"showlegend\":false,\"x\":[220.23828229996295],\"y\":[-28.883114838395972],\"type\":\"scatter\",\"hoverlabel\":{\"font\":{\"color\":\"black\",\"family\":\"Courier New\",\"size\":14},\"bordercolor\":\"rgba(0,0,0,0)\"}},{\"hovertemplate\":\"\\u003cb\\u003e\\u003c\\u002fb\\u003e \\u003cbr\\u003e  \\u003cb\\u003ePork sausage + Egg  \\u003c\\u002fb\\u003e\\u003cbr\\u003e  Total protein: 30.6g  \\u003cbr\\u003e  Strong classic combination  \\u003cbr\\u003e\\u003cb\\u003e\\u003c\\u002fb\\u003e \\u003cbr\\u003e\\u003cextra\\u003e\\u003c\\u002fextra\\u003e\",\"marker\":{\"color\":\"rgba(127, 70, 228, 0.4)\",\"opacity\":1,\"size\":3},\"mode\":\"markers\",\"showlegend\":false,\"x\":[120.43994912015265],\"y\":[-124.1000317999046],\"type\":\"scatter\",\"hoverlabel\":{\"font\":{\"color\":\"black\",\"family\":\"Courier New\",\"size\":14},\"bordercolor\":\"rgba(0,0,0,0)\"}},{\"hovertemplate\":\"\\u003cb\\u003e\\u003c\\u002fb\\u003e \\u003cbr\\u003e  \\u003cb\\u003ePrawn + Butter  \\u003c\\u002fb\\u003e\\u003cbr\\u003e  Total protein: 16.6g  \\u003cbr\\u003e  Good synergy or common usage  \\u003cbr\\u003e\\u003cb\\u003e\\u003c\\u002fb\\u003e \\u003cbr\\u003e\\u003cextra\\u003e\\u003c\\u002fextra\\u003e\",\"marker\":{\"color\":\"rgba(127, 70, 228, 0.4)\",\"opacity\":1,\"size\":3},\"mode\":\"markers\",\"showlegend\":false,\"x\":[111.30437226013957],\"y\":[-140.57502166379444],\"type\":\"scatter\",\"hoverlabel\":{\"font\":{\"color\":\"black\",\"family\":\"Courier New\",\"size\":14},\"bordercolor\":\"rgba(0,0,0,0)\"}},{\"hovertemplate\":\"\\u003cb\\u003e\\u003c\\u002fb\\u003e \\u003cbr\\u003e  \\u003cb\\u003ePumpkin seeds + Chickpeas  \\u003c\\u002fb\\u003e\\u003cbr\\u003e  Total protein: 51.2g  \\u003cbr\\u003e  Acceptable pairing or complementary nutrition  \\u003cbr\\u003e\\u003cb\\u003e\\u003c\\u002fb\\u003e \\u003cbr\\u003e\\u003cextra\\u003e\\u003c\\u002fextra\\u003e\",\"marker\":{\"color\":\"rgba(2, 230, 2, 0.4)\",\"opacity\":1,\"size\":3},\"mode\":\"markers\",\"showlegend\":false,\"x\":[203.78679656440357],\"y\":[-93.78679656440357],\"type\":\"scatter\",\"hoverlabel\":{\"font\":{\"color\":\"black\",\"family\":\"Courier New\",\"size\":14},\"bordercolor\":\"rgba(0,0,0,0)\"}},{\"hovertemplate\":\"\\u003cb\\u003e\\u003c\\u002fb\\u003e \\u003cbr\\u003e  \\u003cb\\u003ePumpkin seeds + Quinoa  \\u003c\\u002fb\\u003e\\u003cbr\\u003e  Total protein: 44.0g  \\u003cbr\\u003e  Acceptable pairing or complementary nutrition  \\u003cbr\\u003e\\u003cb\\u003e\\u003c\\u002fb\\u003e \\u003cbr\\u003e\\u003cextra\\u003e\\u003c\\u002fextra\\u003e\",\"marker\":{\"color\":\"rgba(2, 230, 2, 0.4)\",\"opacity\":1,\"size\":3},\"mode\":\"markers\",\"showlegend\":false,\"x\":[233.78679656440357],\"y\":[-63.78679656440357],\"type\":\"scatter\",\"hoverlabel\":{\"font\":{\"color\":\"black\",\"family\":\"Courier New\",\"size\":14},\"bordercolor\":\"rgba(0,0,0,0)\"}},{\"hovertemplate\":\"\\u003cb\\u003e\\u003c\\u002fb\\u003e \\u003cbr\\u003e  \\u003cb\\u003eQuinoa + Kale  \\u003c\\u002fb\\u003e\\u003cbr\\u003e  Total protein: 17.0g  \\u003cbr\\u003e  Acceptable pairing or complementary nutrition  \\u003cbr\\u003e\\u003cb\\u003e\\u003c\\u002fb\\u003e \\u003cbr\\u003e\\u003cextra\\u003e\\u003c\\u002fextra\\u003e\",\"marker\":{\"color\":\"rgba(2, 230, 2, 0.4)\",\"opacity\":1,\"size\":3},\"mode\":\"markers\",\"showlegend\":false,\"x\":[303.7867965644036],\"y\":[6.213203435596423],\"type\":\"scatter\",\"hoverlabel\":{\"font\":{\"color\":\"black\",\"family\":\"Courier New\",\"size\":14},\"bordercolor\":\"rgba(0,0,0,0)\"}},{\"hovertemplate\":\"\\u003cb\\u003e\\u003c\\u002fb\\u003e \\u003cbr\\u003e  \\u003cb\\u003eSalmon + Butter  \\u003c\\u002fb\\u003e\\u003cbr\\u003e  Total protein: 21.3g  \\u003cbr\\u003e  Strong classic combination  \\u003cbr\\u003e\\u003cb\\u003e\\u003c\\u002fb\\u003e \\u003cbr\\u003e\\u003cextra\\u003e\\u003c\\u002fextra\\u003e\",\"marker\":{\"color\":\"rgba(127, 70, 228, 0.4)\",\"opacity\":1,\"size\":3},\"mode\":\"markers\",\"showlegend\":false,\"x\":[147.69230769230768],\"y\":[-178.46153846153845],\"type\":\"scatter\",\"hoverlabel\":{\"font\":{\"color\":\"black\",\"family\":\"Courier New\",\"size\":14},\"bordercolor\":\"rgba(0,0,0,0)\"}},{\"hovertemplate\":\"\\u003cb\\u003e\\u003c\\u002fb\\u003e \\u003cbr\\u003e  \\u003cb\\u003eSalmon + Quinoa  \\u003c\\u002fb\\u003e\\u003cbr\\u003e  Total protein: 34.4g  \\u003cbr\\u003e  Good synergy or common usage  \\u003cbr\\u003e\\u003cb\\u003e\\u003c\\u002fb\\u003e \\u003cbr\\u003e\\u003cextra\\u003e\\u003c\\u002fextra\\u003e\",\"marker\":{\"color\":\"rgba(127, 166, 139, 0.4)\",\"opacity\":1,\"size\":3},\"mode\":\"markers\",\"showlegend\":false,\"x\":[185.06803038083928],\"y\":[-20.408182285035686],\"type\":\"scatter\",\"hoverlabel\":{\"font\":{\"color\":\"black\",\"family\":\"Courier New\",\"size\":14},\"bordercolor\":\"rgba(0,0,0,0)\"}},{\"hovertemplate\":\"\\u003cb\\u003e\\u003c\\u002fb\\u003e \\u003cbr\\u003e  \\u003cb\\u003eSunflower seeds + Popcorn  \\u003c\\u002fb\\u003e\\u003cbr\\u003e  Total protein: 31.8g  \\u003cbr\\u003e  Acceptable pairing or complementary nutrition  \\u003cbr\\u003e\\u003cb\\u003e\\u003c\\u002fb\\u003e \\u003cbr\\u003e\\u003cextra\\u003e\\u003c\\u002fextra\\u003e\",\"marker\":{\"color\":\"rgba(2, 230, 2, 0.4)\",\"opacity\":1,\"size\":3},\"mode\":\"markers\",\"showlegend\":false,\"x\":[268.7867965644036],\"y\":[-28.786796564403577],\"type\":\"scatter\",\"hoverlabel\":{\"font\":{\"color\":\"black\",\"family\":\"Courier New\",\"size\":14},\"bordercolor\":\"rgba(0,0,0,0)\"}},{\"hovertemplate\":\"\\u003cb\\u003e\\u003c\\u002fb\\u003e \\u003cbr\\u003e  \\u003cb\\u003eTofu + Mushroom  \\u003c\\u002fb\\u003e\\u003cbr\\u003e  Total protein: 20.0g  \\u003cbr\\u003e  Strong classic combination  \\u003cbr\\u003e\\u003cb\\u003e\\u003c\\u002fb\\u003e \\u003cbr\\u003e\\u003cextra\\u003e\\u003c\\u002fextra\\u003e\",\"marker\":{\"color\":\"rgba(2, 230, 2, 0.4)\",\"opacity\":1,\"size\":3},\"mode\":\"markers\",\"showlegend\":false,\"x\":[293.7867965644036],\"y\":[-3.786796564403577],\"type\":\"scatter\",\"hoverlabel\":{\"font\":{\"color\":\"black\",\"family\":\"Courier New\",\"size\":14},\"bordercolor\":\"rgba(0,0,0,0)\"}},{\"hovertemplate\":\"\\u003cb\\u003e\\u003c\\u002fb\\u003e \\u003cbr\\u003e  \\u003cb\\u003eTofu + Kale  \\u003c\\u002fb\\u003e\\u003cbr\\u003e  Total protein: 20.2g  \\u003cbr\\u003e  Good synergy or common usage  \\u003cbr\\u003e\\u003cb\\u003e\\u003c\\u002fb\\u003e \\u003cbr\\u003e\\u003cextra\\u003e\\u003c\\u002fextra\\u003e\",\"marker\":{\"color\":\"rgba(2, 230, 2, 0.4)\",\"opacity\":1,\"size\":3},\"mode\":\"markers\",\"showlegend\":false,\"x\":[288.7867965644036],\"y\":[-8.786796564403577],\"type\":\"scatter\",\"hoverlabel\":{\"font\":{\"color\":\"black\",\"family\":\"Courier New\",\"size\":14},\"bordercolor\":\"rgba(0,0,0,0)\"}},{\"hovertemplate\":\"\\u003cb\\u003e\\u003c\\u002fb\\u003e \\u003cbr\\u003e  \\u003cb\\u003eTofu + Egg  \\u003c\\u002fb\\u003e\\u003cbr\\u003e  Total protein: 29.7g  \\u003cbr\\u003e  Acceptable pairing or complementary nutrition  \\u003cbr\\u003e\\u003cb\\u003e\\u003c\\u002fb\\u003e \\u003cbr\\u003e\\u003cextra\\u003e\\u003c\\u002fextra\\u003e\",\"marker\":{\"color\":\"rgba(0, 151, 120, 0.4)\",\"opacity\":1,\"size\":3},\"mode\":\"markers\",\"showlegend\":false,\"x\":[251.28647726029942],\"y\":[-174.4575624931647],\"type\":\"scatter\",\"hoverlabel\":{\"font\":{\"color\":\"black\",\"family\":\"Courier New\",\"size\":14},\"bordercolor\":\"rgba(0,0,0,0)\"}},{\"customdata\":[[\"Prawn\",\"Seafood\",15.55],[\"Cod\",\"Seafood\",16.1],[\"Pork sausage\",\"Red\",18.2],[\"Chicken thigh\",\"White\",18.6],[\"Lamb leg\",\"Red\",18.6],[\"Beef steak\",\"Red\",18.7],[\"Tuna\",\"Seafood\",19.0],[\"Salmon\",\"Seafood\",20.3],[\"Beef burger\",\"Red\",20.4],[\"Pork loin\",\"Red\",21.1],[\"Chicken breast\",\"White\",22.5],[\"Chicken wing\",\"White\",23.4],[\"Pork chop\",\"Red\",26.97],[\"Lamb chop\",\"Red\",27.36],[\"Bacon\",\"Red\",40.9],[\"Butter\",\"Cow\",1.0],[\"Cow's milk\",\"Cow\",3.27],[\"Yogurt\",\"Cow\",3.82],[\"Ricotta cheese\",\"Cheese\",7.81],[\"Cottage cheese\",\"Cheese\",11.6],[\"Egg\",\"Egg\",12.4],[\"Feta cheese\",\"Cheese\",19.7],[\"Camembert\",\"Cheese\",19.8],[\"Brie\",\"Cheese\",20.8],[\"Blue cheese\",\"Cheese\",21.4],[\"Goat's cheese\",\"Cheese\",21.58],[\"Cheddar cheese\",\"Cheese\",23.3],[\"Mozzarella cheese\",\"Cheese\",23.7],[\"Halloumi cheese\",\"Cheese\",24.0],[\"Parmesan cheese\",\"Cheese\",29.6],[\"Mushroom\",\"Vegetable\",2.75],[\"Kale\",\"Vegetable\",2.92],[\"Garden peas\",\"Vegetable\",4.71],[\"Popcorn\",\"Grain\",12.9],[\"Quinoa\",\"Grain\",14.1],[\"Walnuts\",\"Nut\",14.6],[\"Chia seeds\",\"Seed\",17.0],[\"Tofu\",\"Grain\",17.3],[\"Cashews\",\"Nut\",17.4],[\"Sunflower seeds\",\"Seed\",18.9],[\"Chickpeas\",\"Legumes\",21.3],[\"Almonds\",\"Nut\",21.4],[\"Peanuts\",\"Nut\",23.2],[\"Lentils\",\"Legumes\",23.6],[\"Beans\",\"Legumes\",26.8],[\"Pumpkin seeds\",\"Seed\",29.9]],\"hovertemplate\":\"  \\u003cb\\u003e\\u003c\\u002fb\\u003e \\u003cbr\\u003e  \\u003cb\\u003e%{customdata[0]}\\u003c\\u002fb\\u003e  \\u003cbr\\u003e  %{customdata[1]}\\u003cbr\\u003e  Protein %{customdata[2]}g  \\u003cbr\\u003e  \\u003cbr\\u003e\\u003cextra\\u003e\\u003c\\u002fextra\\u003e\",\"marker\":{\"color\":[\"rgb(255, 0, 128)\",\"rgb(255, 0, 128)\",\"rgb(255, 0, 128)\",\"rgb(255, 0, 128)\",\"rgb(255, 0, 128)\",\"rgb(255, 0, 128)\",\"rgb(255, 0, 128)\",\"rgb(255, 0, 128)\",\"rgb(255, 0, 128)\",\"rgb(255, 0, 128)\",\"rgb(255, 0, 128)\",\"rgb(255, 0, 128)\",\"rgb(255, 0, 128)\",\"rgb(255, 0, 128)\",\"rgb(255, 0, 128)\",\"rgb(0, 44, 255)\",\"rgb(0, 44, 255)\",\"rgb(0, 44, 255)\",\"rgb(0, 44, 255)\",\"rgb(0, 44, 255)\",\"rgb(0, 44, 255)\",\"rgb(0, 44, 255)\",\"rgb(0, 44, 255)\",\"rgb(0, 44, 255)\",\"rgb(0, 44, 255)\",\"rgb(0, 44, 255)\",\"rgb(0, 44, 255)\",\"rgb(0, 44, 255)\",\"rgb(0, 44, 255)\",\"rgb(0, 44, 255)\",\"rgb(2, 230, 2)\",\"rgb(2, 230, 2)\",\"rgb(2, 230, 2)\",\"rgb(2, 230, 2)\",\"rgb(2, 230, 2)\",\"rgb(2, 230, 2)\",\"rgb(2, 230, 2)\",\"rgb(2, 230, 2)\",\"rgb(2, 230, 2)\",\"rgb(2, 230, 2)\",\"rgb(2, 230, 2)\",\"rgb(2, 230, 2)\",\"rgb(2, 230, 2)\",\"rgb(2, 230, 2)\",\"rgb(2, 230, 2)\",\"rgb(2, 230, 2)\"],\"line\":{\"color\":[\"rgb(255, 0, 128)\",\"rgb(255, 0, 128)\",\"rgb(255, 0, 128)\",\"rgb(255, 0, 128)\",\"rgb(255, 0, 128)\",\"rgb(255, 0, 128)\",\"rgb(255, 0, 128)\",\"rgb(255, 0, 128)\",\"rgb(255, 0, 128)\",\"rgb(255, 0, 128)\",\"rgb(255, 0, 128)\",\"rgb(255, 0, 128)\",\"rgb(255, 0, 128)\",\"rgb(255, 0, 128)\",\"rgb(255, 0, 128)\",\"rgb(0, 44, 255)\",\"rgb(0, 44, 255)\",\"rgb(0, 44, 255)\",\"rgb(0, 44, 255)\",\"rgb(0, 44, 255)\",\"rgb(0, 44, 255)\",\"rgb(0, 44, 255)\",\"rgb(0, 44, 255)\",\"rgb(0, 44, 255)\",\"rgb(0, 44, 255)\",\"rgb(0, 44, 255)\",\"rgb(0, 44, 255)\",\"rgb(0, 44, 255)\",\"rgb(0, 44, 255)\",\"rgb(0, 44, 255)\",\"rgb(2, 230, 2)\",\"rgb(2, 230, 2)\",\"rgb(2, 230, 2)\",\"rgb(2, 230, 2)\",\"rgb(2, 230, 2)\",\"rgb(2, 230, 2)\",\"rgb(2, 230, 2)\",\"rgb(2, 230, 2)\",\"rgb(2, 230, 2)\",\"rgb(2, 230, 2)\",\"rgb(2, 230, 2)\",\"rgb(2, 230, 2)\",\"rgb(2, 230, 2)\",\"rgb(2, 230, 2)\",\"rgb(2, 230, 2)\",\"rgb(2, 230, 2)\"],\"width\":0},\"size\":0},\"mode\":\"text+markers\",\"text\":[\"\\u003cbr\\u003e\\u003cbr\\u003e\\u003cb\\u003ePrawn\\u003c\\u002fb\\u003e\",\"\\u003cbr\\u003e\\u003cbr\\u003e\\u003cb\\u003eCod\\u003c\\u002fb\\u003e\",\"\\u003cbr\\u003e\\u003cbr\\u003e\\u003cb\\u003ePork sausage\\u003c\\u002fb\\u003e\",\"\\u003cbr\\u003e\\u003cbr\\u003e\\u003cb\\u003eChicken thigh\\u003c\\u002fb\\u003e\",\"\\u003cbr\\u003e\\u003cbr\\u003e\\u003cb\\u003eLamb leg\\u003c\\u002fb\\u003e\",\"\\u003cbr\\u003e\\u003cbr\\u003e\\u003cb\\u003eBeef steak\\u003c\\u002fb\\u003e\",\"\\u003cbr\\u003e\\u003cbr\\u003e\\u003cb\\u003eTuna\\u003c\\u002fb\\u003e\",\"\\u003cbr\\u003e\\u003cbr\\u003e\\u003cb\\u003eSalmon\\u003c\\u002fb\\u003e\",\"\\u003cbr\\u003e\\u003cbr\\u003e\\u003cb\\u003eBeef burger\\u003c\\u002fb\\u003e\",\"\\u003cbr\\u003e\\u003cbr\\u003e\\u003cb\\u003ePork loin\\u003c\\u002fb\\u003e\",\"\\u003cbr\\u003e\\u003cbr\\u003e\\u003cb\\u003eChicken breast\\u003c\\u002fb\\u003e\",\"\\u003cbr\\u003e\\u003cbr\\u003e\\u003cb\\u003eChicken wing\\u003c\\u002fb\\u003e\",\"\\u003cbr\\u003e\\u003cbr\\u003e\\u003cb\\u003ePork chop\\u003c\\u002fb\\u003e\",\"\\u003cbr\\u003e\\u003cbr\\u003e\\u003cb\\u003eLamb chop\\u003c\\u002fb\\u003e\",\"\\u003cbr\\u003e\\u003cbr\\u003e\\u003cb\\u003eBacon\\u003c\\u002fb\\u003e\",\"\\u003cbr\\u003e\\u003cbr\\u003e\\u003cb\\u003eButter\\u003c\\u002fb\\u003e\",\"\\u003cbr\\u003e\\u003cbr\\u003e\\u003cb\\u003eCow's milk\\u003c\\u002fb\\u003e\",\"\\u003cbr\\u003e\\u003cbr\\u003e\\u003cb\\u003eYogurt\\u003c\\u002fb\\u003e\",\"\\u003cbr\\u003e\\u003cbr\\u003e\\u003cb\\u003eRicotta cheese\\u003c\\u002fb\\u003e\",\"\\u003cbr\\u003e\\u003cbr\\u003e\\u003cb\\u003eCottage cheese\\u003c\\u002fb\\u003e\",\"\\u003cbr\\u003e\\u003cbr\\u003e\\u003cb\\u003eEgg\\u003c\\u002fb\\u003e\",\"\\u003cbr\\u003e\\u003cbr\\u003e\\u003cb\\u003eFeta cheese\\u003c\\u002fb\\u003e\",\"\\u003cbr\\u003e\\u003cbr\\u003e\\u003cb\\u003eCamembert\\u003c\\u002fb\\u003e\",\"\\u003cbr\\u003e\\u003cbr\\u003e\\u003cb\\u003eBrie\\u003c\\u002fb\\u003e\",\"\\u003cbr\\u003e\\u003cbr\\u003e\\u003cb\\u003eBlue cheese\\u003c\\u002fb\\u003e\",\"\\u003cbr\\u003e\\u003cbr\\u003e\\u003cb\\u003eGoat's cheese\\u003c\\u002fb\\u003e\",\"\\u003cbr\\u003e\\u003cbr\\u003e\\u003cb\\u003eCheddar cheese\\u003c\\u002fb\\u003e\",\"\\u003cbr\\u003e\\u003cbr\\u003e\\u003cb\\u003eMozzarella cheese\\u003c\\u002fb\\u003e\",\"\\u003cbr\\u003e\\u003cbr\\u003e\\u003cb\\u003eHalloumi cheese\\u003c\\u002fb\\u003e\",\"\\u003cbr\\u003e\\u003cbr\\u003e\\u003cb\\u003eParmesan cheese\\u003c\\u002fb\\u003e\",\"\\u003cbr\\u003e\\u003cbr\\u003e\\u003cb\\u003eMushroom\\u003c\\u002fb\\u003e\",\"\\u003cbr\\u003e\\u003cbr\\u003e\\u003cb\\u003eKale\\u003c\\u002fb\\u003e\",\"\\u003cbr\\u003e\\u003cbr\\u003e\\u003cb\\u003eGarden peas\\u003c\\u002fb\\u003e\",\"\\u003cbr\\u003e\\u003cbr\\u003e\\u003cb\\u003ePopcorn\\u003c\\u002fb\\u003e\",\"\\u003cbr\\u003e\\u003cbr\\u003e\\u003cb\\u003eQuinoa\\u003c\\u002fb\\u003e\",\"\\u003cbr\\u003e\\u003cbr\\u003e\\u003cb\\u003eWalnuts\\u003c\\u002fb\\u003e\",\"\\u003cbr\\u003e\\u003cbr\\u003e\\u003cb\\u003eChia seeds\\u003c\\u002fb\\u003e\",\"\\u003cbr\\u003e\\u003cbr\\u003e\\u003cb\\u003eTofu\\u003c\\u002fb\\u003e\",\"\\u003cbr\\u003e\\u003cbr\\u003e\\u003cb\\u003eCashews\\u003c\\u002fb\\u003e\",\"\\u003cbr\\u003e\\u003cbr\\u003e\\u003cb\\u003eSunflower seeds\\u003c\\u002fb\\u003e\",\"\\u003cbr\\u003e\\u003cbr\\u003e\\u003cb\\u003eChickpeas\\u003c\\u002fb\\u003e\",\"\\u003cbr\\u003e\\u003cbr\\u003e\\u003cb\\u003eAlmonds\\u003c\\u002fb\\u003e\",\"\\u003cbr\\u003e\\u003cbr\\u003e\\u003cb\\u003ePeanuts\\u003c\\u002fb\\u003e\",\"\\u003cbr\\u003e\\u003cbr\\u003e\\u003cb\\u003eLentils\\u003c\\u002fb\\u003e\",\"\\u003cbr\\u003e\\u003cbr\\u003e\\u003cb\\u003eBeans\\u003c\\u002fb\\u003e\",\"\\u003cbr\\u003e\\u003cbr\\u003e\\u003cb\\u003ePumpkin seeds\\u003c\\u002fb\\u003e\"],\"textfont\":{\"color\":\"black\",\"family\":\"Courier New\",\"size\":14},\"textposition\":[\"top right\",\"top right\",\"top right\",\"top right\",\"top right\",\"top right\",\"top right\",\"top right\",\"top right\",\"top right\",\"top right\",\"top right\",\"top right\",\"top right\",\"top right\",\"top right\",\"top right\",\"top right\",\"top right\",\"top right\",\"top right\",\"top right\",\"top right\",\"top right\",\"top right\",\"top right\",\"top right\",\"top right\",\"top right\",\"top right\",\"middle right\",\"middle right\",\"middle right\",\"middle right\",\"middle right\",\"middle right\",\"middle right\",\"middle right\",\"middle right\",\"middle right\",\"middle right\",\"middle right\",\"middle right\",\"middle right\",\"middle right\",\"middle right\"],\"x\":[3,13,23,33,43,53,63,73,83,93,103,113,123,133,143,173,173,173,173,173,173,173,173,173,173,173,173,173,173,173,353,343,333,323,313,303,293,283,273,263,253,243,233,223,213,203],\"y\":[0,-10,-20,-30,-40,-50,-60,-70,-80,-90,-100,-110,-120,-130,-140,-310,-300,-290,-280,-270,-260,-250,-240,-230,-220,-210,-200,-190,-180,-170,10,0,-10,-20,-30,-40,-50,-60,-70,-80,-90,-100,-110,-120,-130,-140],\"type\":\"scatter\",\"hoverlabel\":{\"font\":{\"color\":\"black\",\"family\":\"Courier New\",\"size\":14},\"bordercolor\":\"rgba(0,0,0,0)\"}}],                        {\"hovermode\":\"closest\",\"margin\":{\"b\":60,\"l\":30,\"r\":60,\"t\":30},\"plot_bgcolor\":\"white\",\"showlegend\":false,\"title\":{\"text\":\"\"},\"xaxis\":{\"showgrid\":false,\"showticklabels\":false,\"zeroline\":false},\"yaxis\":{\"showgrid\":false,\"showticklabels\":false,\"zeroline\":false},\"template\":{\"data\":{\"histogram2dcontour\":[{\"type\":\"histogram2dcontour\",\"colorbar\":{\"outlinewidth\":0,\"ticks\":\"\"},\"colorscale\":[[0.0,\"#0d0887\"],[0.1111111111111111,\"#46039f\"],[0.2222222222222222,\"#7201a8\"],[0.3333333333333333,\"#9c179e\"],[0.4444444444444444,\"#bd3786\"],[0.5555555555555556,\"#d8576b\"],[0.6666666666666666,\"#ed7953\"],[0.7777777777777778,\"#fb9f3a\"],[0.8888888888888888,\"#fdca26\"],[1.0,\"#f0f921\"]]}],\"choropleth\":[{\"type\":\"choropleth\",\"colorbar\":{\"outlinewidth\":0,\"ticks\":\"\"}}],\"histogram2d\":[{\"type\":\"histogram2d\",\"colorbar\":{\"outlinewidth\":0,\"ticks\":\"\"},\"colorscale\":[[0.0,\"#0d0887\"],[0.1111111111111111,\"#46039f\"],[0.2222222222222222,\"#7201a8\"],[0.3333333333333333,\"#9c179e\"],[0.4444444444444444,\"#bd3786\"],[0.5555555555555556,\"#d8576b\"],[0.6666666666666666,\"#ed7953\"],[0.7777777777777778,\"#fb9f3a\"],[0.8888888888888888,\"#fdca26\"],[1.0,\"#f0f921\"]]}],\"heatmap\":[{\"type\":\"heatmap\",\"colorbar\":{\"outlinewidth\":0,\"ticks\":\"\"},\"colorscale\":[[0.0,\"#0d0887\"],[0.1111111111111111,\"#46039f\"],[0.2222222222222222,\"#7201a8\"],[0.3333333333333333,\"#9c179e\"],[0.4444444444444444,\"#bd3786\"],[0.5555555555555556,\"#d8576b\"],[0.6666666666666666,\"#ed7953\"],[0.7777777777777778,\"#fb9f3a\"],[0.8888888888888888,\"#fdca26\"],[1.0,\"#f0f921\"]]}],\"heatmapgl\":[{\"type\":\"heatmapgl\",\"colorbar\":{\"outlinewidth\":0,\"ticks\":\"\"},\"colorscale\":[[0.0,\"#0d0887\"],[0.1111111111111111,\"#46039f\"],[0.2222222222222222,\"#7201a8\"],[0.3333333333333333,\"#9c179e\"],[0.4444444444444444,\"#bd3786\"],[0.5555555555555556,\"#d8576b\"],[0.6666666666666666,\"#ed7953\"],[0.7777777777777778,\"#fb9f3a\"],[0.8888888888888888,\"#fdca26\"],[1.0,\"#f0f921\"]]}],\"contourcarpet\":[{\"type\":\"contourcarpet\",\"colorbar\":{\"outlinewidth\":0,\"ticks\":\"\"}}],\"contour\":[{\"type\":\"contour\",\"colorbar\":{\"outlinewidth\":0,\"ticks\":\"\"},\"colorscale\":[[0.0,\"#0d0887\"],[0.1111111111111111,\"#46039f\"],[0.2222222222222222,\"#7201a8\"],[0.3333333333333333,\"#9c179e\"],[0.4444444444444444,\"#bd3786\"],[0.5555555555555556,\"#d8576b\"],[0.6666666666666666,\"#ed7953\"],[0.7777777777777778,\"#fb9f3a\"],[0.8888888888888888,\"#fdca26\"],[1.0,\"#f0f921\"]]}],\"surface\":[{\"type\":\"surface\",\"colorbar\":{\"outlinewidth\":0,\"ticks\":\"\"},\"colorscale\":[[0.0,\"#0d0887\"],[0.1111111111111111,\"#46039f\"],[0.2222222222222222,\"#7201a8\"],[0.3333333333333333,\"#9c179e\"],[0.4444444444444444,\"#bd3786\"],[0.5555555555555556,\"#d8576b\"],[0.6666666666666666,\"#ed7953\"],[0.7777777777777778,\"#fb9f3a\"],[0.8888888888888888,\"#fdca26\"],[1.0,\"#f0f921\"]]}],\"mesh3d\":[{\"type\":\"mesh3d\",\"colorbar\":{\"outlinewidth\":0,\"ticks\":\"\"}}],\"scatter\":[{\"fillpattern\":{\"fillmode\":\"overlay\",\"size\":10,\"solidity\":0.2},\"type\":\"scatter\"}],\"parcoords\":[{\"type\":\"parcoords\",\"line\":{\"colorbar\":{\"outlinewidth\":0,\"ticks\":\"\"}}}],\"scatterpolargl\":[{\"type\":\"scatterpolargl\",\"marker\":{\"colorbar\":{\"outlinewidth\":0,\"ticks\":\"\"}}}],\"bar\":[{\"error_x\":{\"color\":\"#2a3f5f\"},\"error_y\":{\"color\":\"#2a3f5f\"},\"marker\":{\"line\":{\"color\":\"#E5ECF6\",\"width\":0.5},\"pattern\":{\"fillmode\":\"overlay\",\"size\":10,\"solidity\":0.2}},\"type\":\"bar\"}],\"scattergeo\":[{\"type\":\"scattergeo\",\"marker\":{\"colorbar\":{\"outlinewidth\":0,\"ticks\":\"\"}}}],\"scatterpolar\":[{\"type\":\"scatterpolar\",\"marker\":{\"colorbar\":{\"outlinewidth\":0,\"ticks\":\"\"}}}],\"histogram\":[{\"marker\":{\"pattern\":{\"fillmode\":\"overlay\",\"size\":10,\"solidity\":0.2}},\"type\":\"histogram\"}],\"scattergl\":[{\"type\":\"scattergl\",\"marker\":{\"colorbar\":{\"outlinewidth\":0,\"ticks\":\"\"}}}],\"scatter3d\":[{\"type\":\"scatter3d\",\"line\":{\"colorbar\":{\"outlinewidth\":0,\"ticks\":\"\"}},\"marker\":{\"colorbar\":{\"outlinewidth\":0,\"ticks\":\"\"}}}],\"scattermapbox\":[{\"type\":\"scattermapbox\",\"marker\":{\"colorbar\":{\"outlinewidth\":0,\"ticks\":\"\"}}}],\"scatterternary\":[{\"type\":\"scatterternary\",\"marker\":{\"colorbar\":{\"outlinewidth\":0,\"ticks\":\"\"}}}],\"scattercarpet\":[{\"type\":\"scattercarpet\",\"marker\":{\"colorbar\":{\"outlinewidth\":0,\"ticks\":\"\"}}}],\"carpet\":[{\"aaxis\":{\"endlinecolor\":\"#2a3f5f\",\"gridcolor\":\"white\",\"linecolor\":\"white\",\"minorgridcolor\":\"white\",\"startlinecolor\":\"#2a3f5f\"},\"baxis\":{\"endlinecolor\":\"#2a3f5f\",\"gridcolor\":\"white\",\"linecolor\":\"white\",\"minorgridcolor\":\"white\",\"startlinecolor\":\"#2a3f5f\"},\"type\":\"carpet\"}],\"table\":[{\"cells\":{\"fill\":{\"color\":\"#EBF0F8\"},\"line\":{\"color\":\"white\"}},\"header\":{\"fill\":{\"color\":\"#C8D4E3\"},\"line\":{\"color\":\"white\"}},\"type\":\"table\"}],\"barpolar\":[{\"marker\":{\"line\":{\"color\":\"#E5ECF6\",\"width\":0.5},\"pattern\":{\"fillmode\":\"overlay\",\"size\":10,\"solidity\":0.2}},\"type\":\"barpolar\"}],\"pie\":[{\"automargin\":true,\"type\":\"pie\"}]},\"layout\":{\"autotypenumbers\":\"strict\",\"colorway\":[\"#636efa\",\"#EF553B\",\"#00cc96\",\"#ab63fa\",\"#FFA15A\",\"#19d3f3\",\"#FF6692\",\"#B6E880\",\"#FF97FF\",\"#FECB52\"],\"font\":{\"color\":\"#2a3f5f\"},\"hovermode\":\"closest\",\"hoverlabel\":{\"align\":\"left\"},\"paper_bgcolor\":\"white\",\"plot_bgcolor\":\"#E5ECF6\",\"polar\":{\"bgcolor\":\"#E5ECF6\",\"angularaxis\":{\"gridcolor\":\"white\",\"linecolor\":\"white\",\"ticks\":\"\"},\"radialaxis\":{\"gridcolor\":\"white\",\"linecolor\":\"white\",\"ticks\":\"\"}},\"ternary\":{\"bgcolor\":\"#E5ECF6\",\"aaxis\":{\"gridcolor\":\"white\",\"linecolor\":\"white\",\"ticks\":\"\"},\"baxis\":{\"gridcolor\":\"white\",\"linecolor\":\"white\",\"ticks\":\"\"},\"caxis\":{\"gridcolor\":\"white\",\"linecolor\":\"white\",\"ticks\":\"\"}},\"coloraxis\":{\"colorbar\":{\"outlinewidth\":0,\"ticks\":\"\"}},\"colorscale\":{\"sequential\":[[0.0,\"#0d0887\"],[0.1111111111111111,\"#46039f\"],[0.2222222222222222,\"#7201a8\"],[0.3333333333333333,\"#9c179e\"],[0.4444444444444444,\"#bd3786\"],[0.5555555555555556,\"#d8576b\"],[0.6666666666666666,\"#ed7953\"],[0.7777777777777778,\"#fb9f3a\"],[0.8888888888888888,\"#fdca26\"],[1.0,\"#f0f921\"]],\"sequentialminus\":[[0.0,\"#0d0887\"],[0.1111111111111111,\"#46039f\"],[0.2222222222222222,\"#7201a8\"],[0.3333333333333333,\"#9c179e\"],[0.4444444444444444,\"#bd3786\"],[0.5555555555555556,\"#d8576b\"],[0.6666666666666666,\"#ed7953\"],[0.7777777777777778,\"#fb9f3a\"],[0.8888888888888888,\"#fdca26\"],[1.0,\"#f0f921\"]],\"diverging\":[[0,\"#8e0152\"],[0.1,\"#c51b7d\"],[0.2,\"#de77ae\"],[0.3,\"#f1b6da\"],[0.4,\"#fde0ef\"],[0.5,\"#f7f7f7\"],[0.6,\"#e6f5d0\"],[0.7,\"#b8e186\"],[0.8,\"#7fbc41\"],[0.9,\"#4d9221\"],[1,\"#276419\"]]},\"xaxis\":{\"gridcolor\":\"white\",\"linecolor\":\"white\",\"ticks\":\"\",\"title\":{\"standoff\":15},\"zerolinecolor\":\"white\",\"automargin\":true,\"zerolinewidth\":2},\"yaxis\":{\"gridcolor\":\"white\",\"linecolor\":\"white\",\"ticks\":\"\",\"title\":{\"standoff\":15},\"zerolinecolor\":\"white\",\"automargin\":true,\"zerolinewidth\":2},\"scene\":{\"xaxis\":{\"backgroundcolor\":\"#E5ECF6\",\"gridcolor\":\"white\",\"linecolor\":\"white\",\"showbackground\":true,\"ticks\":\"\",\"zerolinecolor\":\"white\",\"gridwidth\":2},\"yaxis\":{\"backgroundcolor\":\"#E5ECF6\",\"gridcolor\":\"white\",\"linecolor\":\"white\",\"showbackground\":true,\"ticks\":\"\",\"zerolinecolor\":\"white\",\"gridwidth\":2},\"zaxis\":{\"backgroundcolor\":\"#E5ECF6\",\"gridcolor\":\"white\",\"linecolor\":\"white\",\"showbackground\":true,\"ticks\":\"\",\"zerolinecolor\":\"white\",\"gridwidth\":2}},\"shapedefaults\":{\"line\":{\"color\":\"#2a3f5f\"}},\"annotationdefaults\":{\"arrowcolor\":\"#2a3f5f\",\"arrowhead\":0,\"arrowwidth\":1},\"geo\":{\"bgcolor\":\"white\",\"landcolor\":\"#E5ECF6\",\"subunitcolor\":\"white\",\"showland\":true,\"showlakes\":true,\"lakecolor\":\"white\"},\"title\":{\"x\":0.05},\"mapbox\":{\"style\":\"light\"}}},\"images\":[{\"layer\":\"above\",\"sizex\":10,\"sizey\":30,\"source\":\"https:\\u002f\\u002fcdn.prod.website-files.com\\u002f6636e256dbc082950ae82258\\u002f6824a3ca524a0580e53a9d44_prawn.png\",\"x\":0,\"xanchor\":\"center\",\"xref\":\"x\",\"y\":0,\"yanchor\":\"middle\",\"yref\":\"y\"},{\"layer\":\"above\",\"sizex\":10,\"sizey\":30,\"source\":\"https:\\u002f\\u002fcdn.prod.website-files.com\\u002f6636e256dbc082950ae82258\\u002f6824a3cac5bb24e11cb47a0c_cod-raw-2.png\",\"x\":10,\"xanchor\":\"center\",\"xref\":\"x\",\"y\":-10,\"yanchor\":\"middle\",\"yref\":\"y\"},{\"layer\":\"above\",\"sizex\":10,\"sizey\":30,\"source\":\"https:\\u002f\\u002fcdn.prod.website-files.com\\u002f6636e256dbc082950ae82258\\u002f6824a3ccdaa433b7f8272375_pork-sausage-2.png\",\"x\":20,\"xanchor\":\"center\",\"xref\":\"x\",\"y\":-20,\"yanchor\":\"middle\",\"yref\":\"y\"},{\"layer\":\"above\",\"sizex\":10,\"sizey\":30,\"source\":\"https:\\u002f\\u002fcdn.prod.website-files.com\\u002f6636e256dbc082950ae82258\\u002f6824a3ca8a4466ab959d3865_chicken-thigh-2.png\",\"x\":30,\"xanchor\":\"center\",\"xref\":\"x\",\"y\":-30,\"yanchor\":\"middle\",\"yref\":\"y\"},{\"layer\":\"above\",\"sizex\":10,\"sizey\":30,\"source\":\"https:\\u002f\\u002fcdn.prod.website-files.com\\u002f6636e256dbc082950ae82258\\u002f6824a3cab1c7e172fb8a49a8_lamb-leg-1.png\",\"x\":40,\"xanchor\":\"center\",\"xref\":\"x\",\"y\":-40,\"yanchor\":\"middle\",\"yref\":\"y\"},{\"layer\":\"above\",\"sizex\":10,\"sizey\":30,\"source\":\"https:\\u002f\\u002fcdn.prod.website-files.com\\u002f6636e256dbc082950ae82258\\u002f6824a3cacd0fbfa09ab2bf2a_beefsteak-3.png\",\"x\":50,\"xanchor\":\"center\",\"xref\":\"x\",\"y\":-50,\"yanchor\":\"middle\",\"yref\":\"y\"},{\"layer\":\"above\",\"sizex\":10,\"sizey\":30,\"source\":\"https:\\u002f\\u002fcdn.prod.website-files.com\\u002f6636e256dbc082950ae82258\\u002f6824a3cab41b9f90807d3e1e_tuna-2.png\",\"x\":60,\"xanchor\":\"center\",\"xref\":\"x\",\"y\":-60,\"yanchor\":\"middle\",\"yref\":\"y\"},{\"layer\":\"above\",\"sizex\":10,\"sizey\":30,\"source\":\"https:\\u002f\\u002fcdn.prod.website-files.com\\u002f6636e256dbc082950ae82258\\u002f6824a3ca59ca7d1ee15ca810_salmon-1.png\",\"x\":70,\"xanchor\":\"center\",\"xref\":\"x\",\"y\":-70,\"yanchor\":\"middle\",\"yref\":\"y\"},{\"layer\":\"above\",\"sizex\":10,\"sizey\":30,\"source\":\"https:\\u002f\\u002fcdn.prod.website-files.com\\u002f6636e256dbc082950ae82258\\u002f6824a3cbfa6f30981b894cb8_beefburger-1.png\",\"x\":80,\"xanchor\":\"center\",\"xref\":\"x\",\"y\":-80,\"yanchor\":\"middle\",\"yref\":\"y\"},{\"layer\":\"above\",\"sizex\":10,\"sizey\":30,\"source\":\"https:\\u002f\\u002fcdn.prod.website-files.com\\u002f6636e256dbc082950ae82258\\u002f6824a3ca94aa74c6472d509d_pork-loin.png\",\"x\":90,\"xanchor\":\"center\",\"xref\":\"x\",\"y\":-90,\"yanchor\":\"middle\",\"yref\":\"y\"},{\"layer\":\"above\",\"sizex\":10,\"sizey\":30,\"source\":\"https:\\u002f\\u002fcdn.prod.website-files.com\\u002f6636e256dbc082950ae82258\\u002f6824a4456899efa87538c087_chicken-breast-3.png\",\"x\":100,\"xanchor\":\"center\",\"xref\":\"x\",\"y\":-100,\"yanchor\":\"middle\",\"yref\":\"y\"},{\"layer\":\"above\",\"sizex\":10,\"sizey\":30,\"source\":\"https:\\u002f\\u002fcdn.prod.website-files.com\\u002f6636e256dbc082950ae82258\\u002f6824a4df642775b8957440f0_chicken-wings-1.png\",\"x\":110,\"xanchor\":\"center\",\"xref\":\"x\",\"y\":-110,\"yanchor\":\"middle\",\"yref\":\"y\"},{\"layer\":\"above\",\"sizex\":10,\"sizey\":30,\"source\":\"https:\\u002f\\u002fcdn.prod.website-files.com\\u002f6636e256dbc082950ae82258\\u002f6824a3ca01111723f463b2cd_pork-chop-3.png\",\"x\":120,\"xanchor\":\"center\",\"xref\":\"x\",\"y\":-120,\"yanchor\":\"middle\",\"yref\":\"y\"},{\"layer\":\"above\",\"sizex\":10,\"sizey\":30,\"source\":\"https:\\u002f\\u002fcdn.prod.website-files.com\\u002f6636e256dbc082950ae82258\\u002f6824a3ca4f6cd4069a515195_lamb%20chop-grilled-3.png\",\"x\":130,\"xanchor\":\"center\",\"xref\":\"x\",\"y\":-130,\"yanchor\":\"middle\",\"yref\":\"y\"},{\"layer\":\"above\",\"sizex\":10,\"sizey\":30,\"source\":\"https:\\u002f\\u002fcdn.prod.website-files.com\\u002f6636e256dbc082950ae82258\\u002f6824a3ca986d04530c7adbeb_bacon-2.png\",\"x\":140,\"xanchor\":\"center\",\"xref\":\"x\",\"y\":-140,\"yanchor\":\"middle\",\"yref\":\"y\"},{\"layer\":\"above\",\"sizex\":10,\"sizey\":30,\"source\":\"https:\\u002f\\u002fcdn.prod.website-files.com\\u002f6636e256dbc082950ae82258\\u002f6824a3ca75d1b1197fc8f09f_butter-2.png\",\"x\":170,\"xanchor\":\"center\",\"xref\":\"x\",\"y\":-310,\"yanchor\":\"middle\",\"yref\":\"y\"},{\"layer\":\"above\",\"sizex\":10,\"sizey\":30,\"source\":\"https:\\u002f\\u002fcdn.prod.website-files.com\\u002f6636e256dbc082950ae82258\\u002f6824a3ca23171a6389267042_cowsmilk-6.png\",\"x\":170,\"xanchor\":\"center\",\"xref\":\"x\",\"y\":-300,\"yanchor\":\"middle\",\"yref\":\"y\"},{\"layer\":\"above\",\"sizex\":10,\"sizey\":30,\"source\":\"https:\\u002f\\u002fcdn.prod.website-files.com\\u002f6636e256dbc082950ae82258\\u002f6824a3caf528c76a329ef2e0_yogurt-1.png\",\"x\":170,\"xanchor\":\"center\",\"xref\":\"x\",\"y\":-290,\"yanchor\":\"middle\",\"yref\":\"y\"},{\"layer\":\"above\",\"sizex\":10,\"sizey\":30,\"source\":\"https:\\u002f\\u002fcdn.prod.website-files.com\\u002f6636e256dbc082950ae82258\\u002f6824a3cabaa75d0355434df0_ricotta-1.png\",\"x\":170,\"xanchor\":\"center\",\"xref\":\"x\",\"y\":-280,\"yanchor\":\"middle\",\"yref\":\"y\"},{\"layer\":\"above\",\"sizex\":10,\"sizey\":30,\"source\":\"https:\\u002f\\u002fcdn.prod.website-files.com\\u002f6636e256dbc082950ae82258\\u002f6824a49c4b578983475a0527_cottage-1.png\",\"x\":170,\"xanchor\":\"center\",\"xref\":\"x\",\"y\":-270,\"yanchor\":\"middle\",\"yref\":\"y\"},{\"layer\":\"above\",\"sizex\":10,\"sizey\":30,\"source\":\"https:\\u002f\\u002fcdn.prod.website-files.com\\u002f6636e256dbc082950ae82258\\u002f6824a3ca818ea18491dd0fd5_egg-2.png\",\"x\":170,\"xanchor\":\"center\",\"xref\":\"x\",\"y\":-260,\"yanchor\":\"middle\",\"yref\":\"y\"},{\"layer\":\"above\",\"sizex\":10,\"sizey\":30,\"source\":\"https:\\u002f\\u002fcdn.prod.website-files.com\\u002f6636e256dbc082950ae82258\\u002f6824a3cc7744a28169c851a9_feta-1.png\",\"x\":170,\"xanchor\":\"center\",\"xref\":\"x\",\"y\":-250,\"yanchor\":\"middle\",\"yref\":\"y\"},{\"layer\":\"above\",\"sizex\":10,\"sizey\":30,\"source\":\"https:\\u002f\\u002fcdn.prod.website-files.com\\u002f6636e256dbc082950ae82258\\u002f6824a3caf74f595cbcf6dc98_camembert_cheese-3.png\",\"x\":170,\"xanchor\":\"center\",\"xref\":\"x\",\"y\":-240,\"yanchor\":\"middle\",\"yref\":\"y\"},{\"layer\":\"above\",\"sizex\":10,\"sizey\":30,\"source\":\"https:\\u002f\\u002fcdn.prod.website-files.com\\u002f6636e256dbc082950ae82258\\u002f6824a3caa4eb85eea0a8f2ad_brie-2.png\",\"x\":170,\"xanchor\":\"center\",\"xref\":\"x\",\"y\":-230,\"yanchor\":\"middle\",\"yref\":\"y\"},{\"layer\":\"above\",\"sizex\":10,\"sizey\":30,\"source\":\"https:\\u002f\\u002fcdn.prod.website-files.com\\u002f6636e256dbc082950ae82258\\u002f6824a3ca777d16ca72210503_bluecheese-2.png\",\"x\":170,\"xanchor\":\"center\",\"xref\":\"x\",\"y\":-220,\"yanchor\":\"middle\",\"yref\":\"y\"},{\"layer\":\"above\",\"sizex\":10,\"sizey\":30,\"source\":\"https:\\u002f\\u002fcdn.prod.website-files.com\\u002f6636e256dbc082950ae82258\\u002f6824a3cad1b1d283d4cbeb17_goatcheese-2.png\",\"x\":170,\"xanchor\":\"center\",\"xref\":\"x\",\"y\":-210,\"yanchor\":\"middle\",\"yref\":\"y\"},{\"layer\":\"above\",\"sizex\":10,\"sizey\":30,\"source\":\"https:\\u002f\\u002fcdn.prod.website-files.com\\u002f6636e256dbc082950ae82258\\u002f6820bc60c822177c9ce0b310_cheddar-2.png\",\"x\":170,\"xanchor\":\"center\",\"xref\":\"x\",\"y\":-200,\"yanchor\":\"middle\",\"yref\":\"y\"},{\"layer\":\"above\",\"sizex\":10,\"sizey\":30,\"source\":\"https:\\u002f\\u002fcdn.prod.website-files.com\\u002f6636e256dbc082950ae82258\\u002f6824a3ca24a8cd8416881dca_mozzarella-2.png\",\"x\":170,\"xanchor\":\"center\",\"xref\":\"x\",\"y\":-190,\"yanchor\":\"middle\",\"yref\":\"y\"},{\"layer\":\"above\",\"sizex\":10,\"sizey\":30,\"source\":\"https:\\u002f\\u002fcdn.prod.website-files.com\\u002f6636e256dbc082950ae82258\\u002f6824a3caa1b4b328bc4a44cd_halloumi-1.png\",\"x\":170,\"xanchor\":\"center\",\"xref\":\"x\",\"y\":-180,\"yanchor\":\"middle\",\"yref\":\"y\"},{\"layer\":\"above\",\"sizex\":10,\"sizey\":30,\"source\":\"https:\\u002f\\u002fcdn.prod.website-files.com\\u002f6636e256dbc082950ae82258\\u002f6824a3ca4b57898347596d27_parmesan-5.png\",\"x\":170,\"xanchor\":\"center\",\"xref\":\"x\",\"y\":-170,\"yanchor\":\"middle\",\"yref\":\"y\"},{\"layer\":\"above\",\"sizex\":10,\"sizey\":30,\"source\":\"https:\\u002f\\u002fcdn.prod.website-files.com\\u002f6636e256dbc082950ae82258\\u002f6824a49ca65da89d757c39cf_mushroom-1.png\",\"x\":350,\"xanchor\":\"center\",\"xref\":\"x\",\"y\":10,\"yanchor\":\"middle\",\"yref\":\"y\"},{\"layer\":\"above\",\"sizex\":10,\"sizey\":30,\"source\":\"https:\\u002f\\u002fcdn.prod.website-files.com\\u002f6636e256dbc082950ae82258\\u002f6824a3cbb1c7e172fb8a4a2a_kale-2.png!sw800.png\",\"x\":340,\"xanchor\":\"center\",\"xref\":\"x\",\"y\":0,\"yanchor\":\"middle\",\"yref\":\"y\"},{\"layer\":\"above\",\"sizex\":10,\"sizey\":30,\"source\":\"https:\\u002f\\u002fcdn.prod.website-files.com\\u002f6636e256dbc082950ae82258\\u002f6824a57275d1b1197fca00e6_gardenpeas-1.png\",\"x\":330,\"xanchor\":\"center\",\"xref\":\"x\",\"y\":-10,\"yanchor\":\"middle\",\"yref\":\"y\"},{\"layer\":\"above\",\"sizex\":10,\"sizey\":30,\"source\":\"https:\\u002f\\u002fcdn.prod.website-files.com\\u002f6636e256dbc082950ae82258\\u002f6824a3cbff9a735b7a3a95b5_popcorn-2.png\",\"x\":320,\"xanchor\":\"center\",\"xref\":\"x\",\"y\":-20,\"yanchor\":\"middle\",\"yref\":\"y\"},{\"layer\":\"above\",\"sizex\":10,\"sizey\":30,\"source\":\"https:\\u002f\\u002fcdn.prod.website-files.com\\u002f6636e256dbc082950ae82258\\u002f6824a49c87ba29961e8ed870_quinoa-1.png\",\"x\":310,\"xanchor\":\"center\",\"xref\":\"x\",\"y\":-30,\"yanchor\":\"middle\",\"yref\":\"y\"},{\"layer\":\"above\",\"sizex\":10,\"sizey\":30,\"source\":\"https:\\u002f\\u002fcdn.prod.website-files.com\\u002f6636e256dbc082950ae82258\\u002f6824a3ca8314a2a90c24d47f_walnut-1.png\",\"x\":300,\"xanchor\":\"center\",\"xref\":\"x\",\"y\":-40,\"yanchor\":\"middle\",\"yref\":\"y\"},{\"layer\":\"above\",\"sizex\":10,\"sizey\":30,\"source\":\"https:\\u002f\\u002fcdn.prod.website-files.com\\u002f6636e256dbc082950ae82258\\u002f6824a3cad9dc1598b2ce1600_chia-1.png\",\"x\":290,\"xanchor\":\"center\",\"xref\":\"x\",\"y\":-50,\"yanchor\":\"middle\",\"yref\":\"y\"},{\"layer\":\"above\",\"sizex\":10,\"sizey\":30,\"source\":\"https:\\u002f\\u002fcdn.prod.website-files.com\\u002f6636e256dbc082950ae82258\\u002f6824a3cad57f8ad0f8df24c2_tofu-1.png\",\"x\":280,\"xanchor\":\"center\",\"xref\":\"x\",\"y\":-60,\"yanchor\":\"middle\",\"yref\":\"y\"},{\"layer\":\"above\",\"sizex\":10,\"sizey\":30,\"source\":\"https:\\u002f\\u002fcdn.prod.website-files.com\\u002f6636e256dbc082950ae82258\\u002f6824a3ca6899efa875385182_cashew-1.png\",\"x\":270,\"xanchor\":\"center\",\"xref\":\"x\",\"y\":-70,\"yanchor\":\"middle\",\"yref\":\"y\"},{\"layer\":\"above\",\"sizex\":10,\"sizey\":30,\"source\":\"https:\\u002f\\u002fcdn.prod.website-files.com\\u002f6636e256dbc082950ae82258\\u002f6824a3ccdaa433b7f8272386_sunflower-seed-1.png\",\"x\":260,\"xanchor\":\"center\",\"xref\":\"x\",\"y\":-80,\"yanchor\":\"middle\",\"yref\":\"y\"},{\"layer\":\"above\",\"sizex\":10,\"sizey\":30,\"source\":\"https:\\u002f\\u002fcdn.prod.website-files.com\\u002f6636e256dbc082950ae82258\\u002f6824a3caa42a63e22fc626e1_chickpea-1.png\",\"x\":250,\"xanchor\":\"center\",\"xref\":\"x\",\"y\":-90,\"yanchor\":\"middle\",\"yref\":\"y\"},{\"layer\":\"above\",\"sizex\":10,\"sizey\":30,\"source\":\"https:\\u002f\\u002fcdn.prod.website-files.com\\u002f6636e256dbc082950ae82258\\u002f6824a3cab2a7604978254955_almond-2.png\",\"x\":240,\"xanchor\":\"center\",\"xref\":\"x\",\"y\":-100,\"yanchor\":\"middle\",\"yref\":\"y\"},{\"layer\":\"above\",\"sizex\":10,\"sizey\":30,\"source\":\"https:\\u002f\\u002fcdn.prod.website-files.com\\u002f6636e256dbc082950ae82258\\u002f6824a3cc7744a28169c85262_peanuts.png\",\"x\":230,\"xanchor\":\"center\",\"xref\":\"x\",\"y\":-110,\"yanchor\":\"middle\",\"yref\":\"y\"},{\"layer\":\"above\",\"sizex\":10,\"sizey\":30,\"source\":\"https:\\u002f\\u002fcdn.prod.website-files.com\\u002f6636e256dbc082950ae82258\\u002f6824a3cb9a8dbf569d4487d6_lentils-2.png\",\"x\":220,\"xanchor\":\"center\",\"xref\":\"x\",\"y\":-120,\"yanchor\":\"middle\",\"yref\":\"y\"},{\"layer\":\"above\",\"sizex\":10,\"sizey\":30,\"source\":\"https:\\u002f\\u002fcdn.prod.website-files.com\\u002f6636e256dbc082950ae82258\\u002f6824a3ca37401f584e3060e5_beans-3.png\",\"x\":210,\"xanchor\":\"center\",\"xref\":\"x\",\"y\":-130,\"yanchor\":\"middle\",\"yref\":\"y\"},{\"layer\":\"above\",\"sizex\":10,\"sizey\":30,\"source\":\"https:\\u002f\\u002fcdn.prod.website-files.com\\u002f6636e256dbc082950ae82258\\u002f6824a3cad57f8ad0f8df249f_pumpikinseed-1.png\",\"x\":200,\"xanchor\":\"center\",\"xref\":\"x\",\"y\":-140,\"yanchor\":\"middle\",\"yref\":\"y\"}]},                        {\"responsive\": true}                    ).then(function(){\n",
       "                            \n",
       "var gd = document.getElementById('b4d04997-6025-4304-92a6-d3d4609ad81f');\n",
       "var x = new MutationObserver(function (mutations, observer) {{\n",
       "        var display = window.getComputedStyle(gd).display;\n",
       "        if (!display || display === 'none') {{\n",
       "            console.log([gd, 'removed!']);\n",
       "            Plotly.purge(gd);\n",
       "            observer.disconnect();\n",
       "        }}\n",
       "}});\n",
       "\n",
       "// Listen for the removal of the full notebook cells\n",
       "var notebookContainer = gd.closest('#notebook-container');\n",
       "if (notebookContainer) {{\n",
       "    x.observe(notebookContainer, {childList: true});\n",
       "}}\n",
       "\n",
       "// Listen for the clearing of the current output cell\n",
       "var outputEl = gd.closest('.output');\n",
       "if (outputEl) {{\n",
       "    x.observe(outputEl, {childList: true});\n",
       "}}\n",
       "\n",
       "                        })                };                });            </script>        </div>"
      ]
     },
     "metadata": {},
     "output_type": "display_data"
    }
   ],
   "source": [
    "# hover layout\n",
    "\n",
    "fig.for_each_trace(\n",
    "    lambda trace: trace.update(\n",
    "        hoverlabel=dict(\n",
    "        font_size=14,\n",
    "        font_family='Courier New',\n",
    "        font_color='black',\n",
    "        bordercolor='rgba(0,0,0,0)'\n",
    "        )\n",
    "    )\n",
    ")"
   ]
  },
  {
   "cell_type": "code",
   "execution_count": 106,
   "id": "6011b427-1f7f-4e8a-a34f-52a6d3b89f69",
   "metadata": {},
   "outputs": [],
   "source": [
    "fig.write_html(\"food_network_5.html\", include_plotlyjs='cdn')"
   ]
  },
  {
   "cell_type": "code",
   "execution_count": 108,
   "id": "f8ec9656-a69a-413f-a407-749615992295",
   "metadata": {},
   "outputs": [],
   "source": [
    "fig.write_image(\"food_network_2.svg\")"
   ]
  }
 ],
 "metadata": {
  "kernelspec": {
   "display_name": "Python [conda env:base] *",
   "language": "python",
   "name": "conda-base-py"
  },
  "language_info": {
   "codemirror_mode": {
    "name": "ipython",
    "version": 3
   },
   "file_extension": ".py",
   "mimetype": "text/x-python",
   "name": "python",
   "nbconvert_exporter": "python",
   "pygments_lexer": "ipython3",
   "version": "3.12.2"
  }
 },
 "nbformat": 4,
 "nbformat_minor": 5
}
